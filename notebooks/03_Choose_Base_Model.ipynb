{
 "cells": [
  {
   "cell_type": "markdown",
   "id": "bfab044d",
   "metadata": {
    "papermill": {
     "duration": 0.008189,
     "end_time": "2024-01-24T07:34:46.791287",
     "exception": false,
     "start_time": "2024-01-24T07:34:46.783098",
     "status": "completed"
    },
    "tags": []
   },
   "source": [
    "<a href=\"https://www.kaggle.com/code/pratimascripts/03-choose-base-model?scriptVersionId=157932054\" target=\"_blank\"><img align=\"left\" alt=\"Kaggle\" title=\"Open in Kaggle\" src=\"https://kaggle.com/static/images/open-in-kaggle.svg\"></a>"
   ]
  },
  {
   "cell_type": "code",
   "execution_count": 1,
   "id": "f62e154e",
   "metadata": {
    "execution": {
     "iopub.execute_input": "2024-01-24T07:34:46.807784Z",
     "iopub.status.busy": "2024-01-24T07:34:46.807448Z",
     "iopub.status.idle": "2024-01-24T07:34:52.569847Z",
     "shell.execute_reply": "2024-01-24T07:34:52.568731Z"
    },
    "papermill": {
     "duration": 5.77352,
     "end_time": "2024-01-24T07:34:52.572317",
     "exception": false,
     "start_time": "2024-01-24T07:34:46.798797",
     "status": "completed"
    },
    "tags": []
   },
   "outputs": [
    {
     "name": "stderr",
     "output_type": "stream",
     "text": [
      "/opt/conda/lib/python3.10/site-packages/scipy/__init__.py:146: UserWarning: A NumPy version >=1.16.5 and <1.23.0 is required for this version of SciPy (detected version 1.24.3\n",
      "  warnings.warn(f\"A NumPy version >={np_minversion} and <{np_maxversion}\"\n",
      "/opt/conda/lib/python3.10/site-packages/dask/dataframe/_pyarrow_compat.py:23: UserWarning: You are using pyarrow version 11.0.0 which is known to be insecure. See https://www.cve.org/CVERecord?id=CVE-2023-47248 for further details. Please upgrade to pyarrow>=14.0.1 or install pyarrow-hotfix to patch your current version.\n",
      "  warnings.warn(\n"
     ]
    }
   ],
   "source": [
    "import numpy as np\n",
    "import pandas as pd\n",
    "import seaborn as sns\n",
    "import matplotlib.pyplot as plt\n",
    "from sklearn.metrics import accuracy_score\n",
    "from sklearn.model_selection import train_test_split,cross_val_score,GridSearchCV,cross_validate\n",
    "from sklearn.ensemble import RandomForestClassifier,RandomForestRegressor,VotingClassifier\n",
    "from sklearn.preprocessing import MinMaxScaler,LabelEncoder, StandardScaler, RobustScaler\n",
    "from sklearn.impute import KNNImputer\n",
    "from sklearn.naive_bayes import GaussianNB\n",
    "from sklearn.linear_model import LogisticRegression,LinearRegression, Ridge, Lasso, ElasticNet\n",
    "import numpy as np\n",
    "from sklearn.metrics import mean_squared_error, mean_absolute_error\n",
    "import warnings\n",
    "from sklearn.exceptions import ConvergenceWarning\n",
    "from sklearn.neighbors import KNeighborsRegressor\n",
    "from sklearn.tree import DecisionTreeRegressor\n",
    "from sklearn.svm import SVR\n",
    "from sklearn.ensemble import RandomForestRegressor, GradientBoostingRegressor,VotingRegressor\n",
    "from sklearn.metrics import accuracy_score,recall_score,precision_score,f1_score,roc_auc_score\n",
    "from sklearn.metrics import r2_score, mean_squared_error\n",
    "from sklearn.neighbors import KNeighborsClassifier\n",
    "from sklearn.tree import DecisionTreeClassifier\n",
    "from xgboost import XGBClassifier\n",
    "from lightgbm import LGBMClassifier\n",
    "from catboost import CatBoostClassifier\n",
    "from sklearn.ensemble import RandomForestClassifier, GradientBoostingClassifier, VotingClassifier, AdaBoostClassifier\n",
    "from sklearn.model_selection import cross_validate, GridSearchCV\n",
    "from sklearn.neighbors import KNeighborsClassifier\n",
    "from sklearn.svm import SVC\n",
    "from sklearn.neighbors import LocalOutlierFactor\n",
    "from sklearn.metrics import classification_report"
   ]
  },
  {
   "cell_type": "code",
   "execution_count": 2,
   "id": "906b077e",
   "metadata": {
    "execution": {
     "iopub.execute_input": "2024-01-24T07:34:52.589298Z",
     "iopub.status.busy": "2024-01-24T07:34:52.588933Z",
     "iopub.status.idle": "2024-01-24T07:34:52.593335Z",
     "shell.execute_reply": "2024-01-24T07:34:52.592447Z"
    },
    "papermill": {
     "duration": 0.015023,
     "end_time": "2024-01-24T07:34:52.595134",
     "exception": false,
     "start_time": "2024-01-24T07:34:52.580111",
     "status": "completed"
    },
    "tags": []
   },
   "outputs": [],
   "source": [
    "warnings.simplefilter(\"ignore\")\n",
    "pd.set_option('display.max_columns', None)\n",
    "pd.set_option('display.max_rows', None)"
   ]
  },
  {
   "cell_type": "code",
   "execution_count": 3,
   "id": "6f607a19",
   "metadata": {
    "execution": {
     "iopub.execute_input": "2024-01-24T07:34:52.611070Z",
     "iopub.status.busy": "2024-01-24T07:34:52.610755Z",
     "iopub.status.idle": "2024-01-24T07:35:51.925380Z",
     "shell.execute_reply": "2024-01-24T07:35:51.924480Z"
    },
    "papermill": {
     "duration": 59.325423,
     "end_time": "2024-01-24T07:35:51.927904",
     "exception": false,
     "start_time": "2024-01-24T07:34:52.602481",
     "status": "completed"
    },
    "tags": []
   },
   "outputs": [],
   "source": [
    "train_transaction=pd.read_csv('../input/ieee-fraud-detection/train_transaction.csv')\n",
    "train_identity=pd.read_csv('../input/ieee-fraud-detection/train_identity.csv')\n",
    "test_transaction=pd.read_csv('../input/ieee-fraud-detection/test_transaction.csv')\n",
    "test_identity=pd.read_csv('../input/ieee-fraud-detection/test_identity.csv')\n",
    "sample_submission=pd.read_csv('../input/ieee-fraud-detection/sample_submission.csv')"
   ]
  },
  {
   "cell_type": "code",
   "execution_count": 4,
   "id": "69858deb",
   "metadata": {
    "execution": {
     "iopub.execute_input": "2024-01-24T07:35:51.944692Z",
     "iopub.status.busy": "2024-01-24T07:35:51.944373Z",
     "iopub.status.idle": "2024-01-24T07:35:53.888782Z",
     "shell.execute_reply": "2024-01-24T07:35:53.888006Z"
    },
    "papermill": {
     "duration": 1.955074,
     "end_time": "2024-01-24T07:35:53.891064",
     "exception": false,
     "start_time": "2024-01-24T07:35:51.935990",
     "status": "completed"
    },
    "tags": []
   },
   "outputs": [],
   "source": [
    "train_df = train_transaction.merge(train_identity, how=\"left\", on=\"TransactionID\")\n",
    "\n",
    "test_df = test_transaction.merge(test_identity, how=\"left\", on=\"TransactionID\")"
   ]
  },
  {
   "cell_type": "code",
   "execution_count": 5,
   "id": "22751e4c",
   "metadata": {
    "execution": {
     "iopub.execute_input": "2024-01-24T07:35:53.908005Z",
     "iopub.status.busy": "2024-01-24T07:35:53.907696Z",
     "iopub.status.idle": "2024-01-24T07:35:56.116972Z",
     "shell.execute_reply": "2024-01-24T07:35:56.116010Z"
    },
    "papermill": {
     "duration": 2.220261,
     "end_time": "2024-01-24T07:35:56.119319",
     "exception": false,
     "start_time": "2024-01-24T07:35:53.899058",
     "status": "completed"
    },
    "tags": []
   },
   "outputs": [],
   "source": [
    "test_df= test_df.rename(columns=lambda x:\"_\".join(x.split(\"-\")))"
   ]
  },
  {
   "cell_type": "markdown",
   "id": "f1703855",
   "metadata": {
    "papermill": {
     "duration": 0.007296,
     "end_time": "2024-01-24T07:35:56.135536",
     "exception": false,
     "start_time": "2024-01-24T07:35:56.128240",
     "status": "completed"
    },
    "tags": []
   },
   "source": [
    "## Reduce Memory"
   ]
  },
  {
   "cell_type": "code",
   "execution_count": 6,
   "id": "23e792a3",
   "metadata": {
    "execution": {
     "iopub.execute_input": "2024-01-24T07:35:56.152988Z",
     "iopub.status.busy": "2024-01-24T07:35:56.152073Z",
     "iopub.status.idle": "2024-01-24T07:35:56.168925Z",
     "shell.execute_reply": "2024-01-24T07:35:56.168024Z"
    },
    "papermill": {
     "duration": 0.027906,
     "end_time": "2024-01-24T07:35:56.170962",
     "exception": false,
     "start_time": "2024-01-24T07:35:56.143056",
     "status": "completed"
    },
    "tags": []
   },
   "outputs": [],
   "source": [
    "def reduce_mem_usage(df, verbose=True):\n",
    "    numerics = ['int16', 'int32', 'int64', 'float16', 'float32', 'float64']\n",
    "    start_mem = df.memory_usage().sum() / 1024**2    \n",
    "    for col in df.columns:\n",
    "        col_type = df[col].dtypes\n",
    "        if col_type in numerics:\n",
    "            c_min = df[col].min()\n",
    "            c_max = df[col].max()\n",
    "            if str(col_type)[:3] == 'int':\n",
    "                if c_min > np.iinfo(np.int8).min and c_max < np.iinfo(np.int8).max:\n",
    "                    df[col] = df[col].astype(np.int8)\n",
    "                elif c_min > np.iinfo(np.int16).min and c_max < np.iinfo(np.int16).max:\n",
    "                    df[col] = df[col].astype(np.int16)\n",
    "                elif c_min > np.iinfo(np.int32).min and c_max < np.iinfo(np.int32).max:\n",
    "                    df[col] = df[col].astype(np.int32)\n",
    "                elif c_min > np.iinfo(np.int64).min and c_max < np.iinfo(np.int64).max:\n",
    "                    df[col] = df[col].astype(np.int64)  \n",
    "            else:\n",
    "                if c_min > np.finfo(np.float16).min and c_max < np.finfo(np.float16).max:\n",
    "                    df[col] = df[col].astype(np.float16)\n",
    "                elif c_min > np.finfo(np.float32).min and c_max < np.finfo(np.float32).max:\n",
    "                    df[col] = df[col].astype(np.float32)\n",
    "                else:\n",
    "                    df[col] = df[col].astype(np.float64)    \n",
    "    end_mem = df.memory_usage().sum() / 1024**2\n",
    "    if verbose: print('Mem. usage decreased to {:5.2f} Mb ({:.1f}% reduction)'.format(end_mem, 100 * (start_mem - end_mem) / start_mem))\n",
    "    return df"
   ]
  },
  {
   "cell_type": "code",
   "execution_count": 7,
   "id": "1b10602d",
   "metadata": {
    "execution": {
     "iopub.execute_input": "2024-01-24T07:35:56.188218Z",
     "iopub.status.busy": "2024-01-24T07:35:56.187563Z",
     "iopub.status.idle": "2024-01-24T07:36:03.209217Z",
     "shell.execute_reply": "2024-01-24T07:36:03.207969Z"
    },
    "papermill": {
     "duration": 7.032474,
     "end_time": "2024-01-24T07:36:03.211358",
     "exception": false,
     "start_time": "2024-01-24T07:35:56.178884",
     "status": "completed"
    },
    "tags": []
   },
   "outputs": [
    {
     "name": "stdout",
     "output_type": "stream",
     "text": [
      "Mem. usage decreased to 645.97 Mb (67.0% reduction)\n",
      "Mem. usage decreased to 561.50 Mb (66.5% reduction)\n"
     ]
    }
   ],
   "source": [
    "train_df = reduce_mem_usage(train_df)\n",
    "test_df  = reduce_mem_usage(test_df)"
   ]
  },
  {
   "cell_type": "markdown",
   "id": "12b1b2dd",
   "metadata": {
    "papermill": {
     "duration": 0.00761,
     "end_time": "2024-01-24T07:36:03.227515",
     "exception": false,
     "start_time": "2024-01-24T07:36:03.219905",
     "status": "completed"
    },
    "tags": []
   },
   "source": [
    "# Filling Missing Values\n"
   ]
  },
  {
   "cell_type": "code",
   "execution_count": 8,
   "id": "cf33b601",
   "metadata": {
    "execution": {
     "iopub.execute_input": "2024-01-24T07:36:03.244653Z",
     "iopub.status.busy": "2024-01-24T07:36:03.244298Z",
     "iopub.status.idle": "2024-01-24T07:36:09.164094Z",
     "shell.execute_reply": "2024-01-24T07:36:09.162968Z"
    },
    "papermill": {
     "duration": 5.931376,
     "end_time": "2024-01-24T07:36:09.166606",
     "exception": false,
     "start_time": "2024-01-24T07:36:03.235230",
     "status": "completed"
    },
    "tags": []
   },
   "outputs": [],
   "source": [
    "train_df = train_df.fillna(-999)\n",
    "test_df = test_df.fillna(-999)"
   ]
  },
  {
   "cell_type": "markdown",
   "id": "2a71edf9",
   "metadata": {
    "papermill": {
     "duration": 0.00751,
     "end_time": "2024-01-24T07:36:09.182241",
     "exception": false,
     "start_time": "2024-01-24T07:36:09.174731",
     "status": "completed"
    },
    "tags": []
   },
   "source": [
    "# Label Encoder"
   ]
  },
  {
   "cell_type": "code",
   "execution_count": 9,
   "id": "cd43a716",
   "metadata": {
    "execution": {
     "iopub.execute_input": "2024-01-24T07:36:09.199542Z",
     "iopub.status.busy": "2024-01-24T07:36:09.198570Z",
     "iopub.status.idle": "2024-01-24T07:36:40.264719Z",
     "shell.execute_reply": "2024-01-24T07:36:40.263904Z"
    },
    "papermill": {
     "duration": 31.077024,
     "end_time": "2024-01-24T07:36:40.266892",
     "exception": false,
     "start_time": "2024-01-24T07:36:09.189868",
     "status": "completed"
    },
    "tags": []
   },
   "outputs": [],
   "source": [
    "for f in train_df.columns:\n",
    "    if train_df[f].dtype=='object': \n",
    "        lbl = LabelEncoder()\n",
    "        lbl.fit(list(train_df[f].values))\n",
    "        train_df[f] = lbl.transform(list(train_df[f].values)) "
   ]
  },
  {
   "cell_type": "code",
   "execution_count": 10,
   "id": "c860cb5c",
   "metadata": {
    "execution": {
     "iopub.execute_input": "2024-01-24T07:36:40.293835Z",
     "iopub.status.busy": "2024-01-24T07:36:40.293338Z",
     "iopub.status.idle": "2024-01-24T07:37:06.676849Z",
     "shell.execute_reply": "2024-01-24T07:37:06.675514Z"
    },
    "papermill": {
     "duration": 26.399248,
     "end_time": "2024-01-24T07:37:06.679438",
     "exception": false,
     "start_time": "2024-01-24T07:36:40.280190",
     "status": "completed"
    },
    "tags": []
   },
   "outputs": [],
   "source": [
    "for f in test_df.columns:\n",
    "    if test_df[f].dtype=='object': \n",
    "        lbl = LabelEncoder()\n",
    "        lbl.fit(list(test_df[f].values))\n",
    "        test_df[f] = lbl.transform(list(test_df[f].values))"
   ]
  },
  {
   "cell_type": "markdown",
   "id": "106a389e",
   "metadata": {
    "papermill": {
     "duration": 0.008804,
     "end_time": "2024-01-24T07:37:06.697144",
     "exception": false,
     "start_time": "2024-01-24T07:37:06.688340",
     "status": "completed"
    },
    "tags": []
   },
   "source": [
    "# Model"
   ]
  },
  {
   "cell_type": "code",
   "execution_count": 11,
   "id": "3554eb4d",
   "metadata": {
    "execution": {
     "iopub.execute_input": "2024-01-24T07:37:06.714388Z",
     "iopub.status.busy": "2024-01-24T07:37:06.714071Z",
     "iopub.status.idle": "2024-01-24T07:37:08.328168Z",
     "shell.execute_reply": "2024-01-24T07:37:08.327376Z"
    },
    "papermill": {
     "duration": 1.625286,
     "end_time": "2024-01-24T07:37:08.330525",
     "exception": false,
     "start_time": "2024-01-24T07:37:06.705239",
     "status": "completed"
    },
    "tags": []
   },
   "outputs": [],
   "source": [
    "y = train_df[\"isFraud\"]\n",
    "X = train_df.drop([\"isFraud\"], axis=1)"
   ]
  },
  {
   "cell_type": "code",
   "execution_count": 12,
   "id": "aa7d3da6",
   "metadata": {
    "execution": {
     "iopub.execute_input": "2024-01-24T07:37:08.347295Z",
     "iopub.status.busy": "2024-01-24T07:37:08.346941Z",
     "iopub.status.idle": "2024-01-24T07:37:11.597852Z",
     "shell.execute_reply": "2024-01-24T07:37:11.596795Z"
    },
    "papermill": {
     "duration": 3.262037,
     "end_time": "2024-01-24T07:37:11.600499",
     "exception": false,
     "start_time": "2024-01-24T07:37:08.338462",
     "status": "completed"
    },
    "tags": []
   },
   "outputs": [],
   "source": [
    "X_train, X_test, y_train, y_test = train_test_split(X, y, test_size=0.3, random_state=0, stratify=y)"
   ]
  },
  {
   "cell_type": "code",
   "execution_count": 13,
   "id": "3e6ca2a1",
   "metadata": {
    "execution": {
     "iopub.execute_input": "2024-01-24T07:37:11.619461Z",
     "iopub.status.busy": "2024-01-24T07:37:11.619188Z",
     "iopub.status.idle": "2024-01-24T08:03:01.004307Z",
     "shell.execute_reply": "2024-01-24T08:03:01.003161Z"
    },
    "papermill": {
     "duration": 1549.397037,
     "end_time": "2024-01-24T08:03:01.006520",
     "exception": false,
     "start_time": "2024-01-24T07:37:11.609483",
     "status": "completed"
    },
    "tags": []
   },
   "outputs": [
    {
     "name": "stdout",
     "output_type": "stream",
     "text": [
      " NaiveBayes for train\n",
      "              precision    recall  f1-score   support\n",
      "\n",
      "           0       0.98      0.79      0.87    398914\n",
      "           1       0.08      0.54      0.15     14464\n",
      "\n",
      "    accuracy                           0.78    413378\n",
      "   macro avg       0.53      0.66      0.51    413378\n",
      "weighted avg       0.95      0.78      0.85    413378\n",
      "\n",
      " AUC: 0.6694321286662759\n",
      "-----------------------------------------------------\n",
      " NaiveBayes for test\n",
      "              precision    recall  f1-score   support\n",
      "\n",
      "           0       0.98      0.79      0.87    170963\n",
      "           1       0.08      0.54      0.14      6199\n",
      "\n",
      "    accuracy                           0.78    177162\n",
      "   macro avg       0.53      0.66      0.51    177162\n",
      "weighted avg       0.95      0.78      0.85    177162\n",
      "\n",
      " AUC: 0.6686806140130808\n",
      "######################################################\n",
      " LogisticRegression for train\n",
      "              precision    recall  f1-score   support\n",
      "\n",
      "           0       0.97      1.00      0.98    398914\n",
      "           1       0.00      0.00      0.00     14464\n",
      "\n",
      "    accuracy                           0.97    413378\n",
      "   macro avg       0.48      0.50      0.49    413378\n",
      "weighted avg       0.93      0.97      0.95    413378\n",
      "\n",
      " AUC: 0.6916792878616772\n",
      "-----------------------------------------------------\n",
      " LogisticRegression for test\n",
      "              precision    recall  f1-score   support\n",
      "\n",
      "           0       0.97      1.00      0.98    170963\n",
      "           1       0.00      0.00      0.00      6199\n",
      "\n",
      "    accuracy                           0.96    177162\n",
      "   macro avg       0.48      0.50      0.49    177162\n",
      "weighted avg       0.93      0.96      0.95    177162\n",
      "\n",
      " AUC: 0.6883116482894209\n",
      "######################################################\n",
      " CART for train\n",
      "              precision    recall  f1-score   support\n",
      "\n",
      "           0       1.00      1.00      1.00    398914\n",
      "           1       1.00      1.00      1.00     14464\n",
      "\n",
      "    accuracy                           1.00    413378\n",
      "   macro avg       1.00      1.00      1.00    413378\n",
      "weighted avg       1.00      1.00      1.00    413378\n",
      "\n",
      " AUC: 1.0\n",
      "-----------------------------------------------------\n",
      " CART for test\n",
      "              precision    recall  f1-score   support\n",
      "\n",
      "           0       0.98      0.98      0.98    170963\n",
      "           1       0.54      0.58      0.56      6199\n",
      "\n",
      "    accuracy                           0.97    177162\n",
      "   macro avg       0.76      0.78      0.77    177162\n",
      "weighted avg       0.97      0.97      0.97    177162\n",
      "\n",
      " AUC: 0.7824645103176234\n",
      "######################################################\n",
      " RF for train\n",
      "              precision    recall  f1-score   support\n",
      "\n",
      "           0       1.00      1.00      1.00    398914\n",
      "           1       1.00      1.00      1.00     14464\n",
      "\n",
      "    accuracy                           1.00    413378\n",
      "   macro avg       1.00      1.00      1.00    413378\n",
      "weighted avg       1.00      1.00      1.00    413378\n",
      "\n",
      " AUC: 1.0\n",
      "-----------------------------------------------------\n",
      " RF for test\n",
      "              precision    recall  f1-score   support\n",
      "\n",
      "           0       0.98      1.00      0.99    170963\n",
      "           1       0.94      0.44      0.60      6199\n",
      "\n",
      "    accuracy                           0.98    177162\n",
      "   macro avg       0.96      0.72      0.80    177162\n",
      "weighted avg       0.98      0.98      0.98    177162\n",
      "\n",
      " AUC: 0.9279774366444702\n",
      "######################################################\n",
      " Adaboost for train\n",
      "              precision    recall  f1-score   support\n",
      "\n",
      "           0       0.97      1.00      0.99    398914\n",
      "           1       0.82      0.26      0.39     14464\n",
      "\n",
      "    accuracy                           0.97    413378\n",
      "   macro avg       0.89      0.63      0.69    413378\n",
      "weighted avg       0.97      0.97      0.96    413378\n",
      "\n",
      " AUC: 0.8745688317981328\n",
      "-----------------------------------------------------\n",
      " Adaboost for test\n",
      "              precision    recall  f1-score   support\n",
      "\n",
      "           0       0.97      1.00      0.99    170963\n",
      "           1       0.81      0.27      0.40      6199\n",
      "\n",
      "    accuracy                           0.97    177162\n",
      "   macro avg       0.89      0.63      0.69    177162\n",
      "weighted avg       0.97      0.97      0.97    177162\n",
      "\n",
      " AUC: 0.8729177640773244\n",
      "######################################################\n",
      " GBM for train\n",
      "              precision    recall  f1-score   support\n",
      "\n",
      "           0       0.98      1.00      0.99    398914\n",
      "           1       0.88      0.31      0.46     14464\n",
      "\n",
      "    accuracy                           0.97    413378\n",
      "   macro avg       0.93      0.65      0.72    413378\n",
      "weighted avg       0.97      0.97      0.97    413378\n",
      "\n",
      " AUC: 0.8799446523479666\n",
      "-----------------------------------------------------\n",
      " GBM for test\n",
      "              precision    recall  f1-score   support\n",
      "\n",
      "           0       0.98      1.00      0.99    170963\n",
      "           1       0.87      0.31      0.45      6199\n",
      "\n",
      "    accuracy                           0.97    177162\n",
      "   macro avg       0.92      0.65      0.72    177162\n",
      "weighted avg       0.97      0.97      0.97    177162\n",
      "\n",
      " AUC: 0.8777130723814355\n",
      "######################################################\n",
      " XGBoost for train\n",
      "              precision    recall  f1-score   support\n",
      "\n",
      "           0       0.98      1.00      0.99    398914\n",
      "           1       0.96      0.56      0.70     14464\n",
      "\n",
      "    accuracy                           0.98    413378\n",
      "   macro avg       0.97      0.78      0.85    413378\n",
      "weighted avg       0.98      0.98      0.98    413378\n",
      "\n",
      " AUC: 0.9609319655810771\n",
      "-----------------------------------------------------\n",
      " XGBoost for test\n",
      "              precision    recall  f1-score   support\n",
      "\n",
      "           0       0.98      1.00      0.99    170963\n",
      "           1       0.92      0.49      0.64      6199\n",
      "\n",
      "    accuracy                           0.98    177162\n",
      "   macro avg       0.95      0.75      0.82    177162\n",
      "weighted avg       0.98      0.98      0.98    177162\n",
      "\n",
      " AUC: 0.9411879138999932\n",
      "######################################################\n",
      " LightGBM for train\n",
      "              precision    recall  f1-score   support\n",
      "\n",
      "           0       0.98      1.00      0.99    398914\n",
      "           1       0.91      0.46      0.61     14464\n",
      "\n",
      "    accuracy                           0.98    413378\n",
      "   macro avg       0.95      0.73      0.80    413378\n",
      "weighted avg       0.98      0.98      0.98    413378\n",
      "\n",
      " AUC: 0.9430446657351146\n",
      "-----------------------------------------------------\n",
      " LightGBM for test\n",
      "              precision    recall  f1-score   support\n",
      "\n",
      "           0       0.98      1.00      0.99    170963\n",
      "           1       0.90      0.44      0.59      6199\n",
      "\n",
      "    accuracy                           0.98    177162\n",
      "   macro avg       0.94      0.72      0.79    177162\n",
      "weighted avg       0.98      0.98      0.98    177162\n",
      "\n",
      " AUC: 0.9274101709283753\n",
      "######################################################\n"
     ]
    }
   ],
   "source": [
    "classifiers = [(\"NaiveBayes\", GaussianNB()),\n",
    "               (\"LogisticRegression\", LogisticRegression()),\n",
    "               (\"CART\", DecisionTreeClassifier()),\n",
    "               (\"RF\", RandomForestClassifier()),\n",
    "               ('Adaboost', AdaBoostClassifier()),\n",
    "               ('GBM', GradientBoostingClassifier()),\n",
    "               ('XGBoost', XGBClassifier()),\n",
    "               ('LightGBM', LGBMClassifier()),\n",
    "               ]\n",
    "\n",
    "for name, classifier in classifiers:\n",
    "    print(f\" {name} for train\")\n",
    "    model = classifier.fit(X_train, y_train)\n",
    "    y_pred = model.predict(X_train)\n",
    "    y_prob = model.predict_proba(X_train)[:, 1]\n",
    "    print(classification_report(y_train, y_pred))\n",
    "    print(f\" AUC: {roc_auc_score(y_train, y_prob)}\")\n",
    "    print(\"-----------------------------------------------------\")\n",
    "    print(f\" {name} for test\")\n",
    "    y_pred = model.predict(X_test)\n",
    "    y_prob = model.predict_proba(X_test)[:, 1]\n",
    "    print(classification_report(y_test, y_pred))\n",
    "    print(f\" AUC: {roc_auc_score(y_test, y_prob)}\")\n",
    "    print(\"######################################################\")"
   ]
  },
  {
   "cell_type": "markdown",
   "id": "542584ca",
   "metadata": {
    "papermill": {
     "duration": 0.009839,
     "end_time": "2024-01-24T08:03:01.025544",
     "exception": false,
     "start_time": "2024-01-24T08:03:01.015705",
     "status": "completed"
    },
    "tags": []
   },
   "source": [
    "## Choosing LightGBM and XGBoost"
   ]
  },
  {
   "cell_type": "markdown",
   "id": "df31f7e5",
   "metadata": {
    "papermill": {
     "duration": 0.008792,
     "end_time": "2024-01-24T08:03:01.043174",
     "exception": false,
     "start_time": "2024-01-24T08:03:01.034382",
     "status": "completed"
    },
    "tags": []
   },
   "source": [
    "# XGBoost Submission"
   ]
  },
  {
   "cell_type": "code",
   "execution_count": 14,
   "id": "c472922c",
   "metadata": {
    "execution": {
     "iopub.execute_input": "2024-01-24T08:03:01.062320Z",
     "iopub.status.busy": "2024-01-24T08:03:01.062013Z",
     "iopub.status.idle": "2024-01-24T08:03:38.765219Z",
     "shell.execute_reply": "2024-01-24T08:03:38.764380Z"
    },
    "papermill": {
     "duration": 37.72468,
     "end_time": "2024-01-24T08:03:38.776708",
     "exception": false,
     "start_time": "2024-01-24T08:03:01.052028",
     "status": "completed"
    },
    "tags": []
   },
   "outputs": [
    {
     "name": "stdout",
     "output_type": "stream",
     "text": [
      "              precision    recall  f1-score   support\n",
      "\n",
      "           0       0.98      1.00      0.99    170963\n",
      "           1       0.92      0.49      0.64      6199\n",
      "\n",
      "    accuracy                           0.98    177162\n",
      "   macro avg       0.95      0.75      0.82    177162\n",
      "weighted avg       0.98      0.98      0.98    177162\n",
      "\n"
     ]
    },
    {
     "data": {
      "text/plain": [
       "0.9411879138999932"
      ]
     },
     "execution_count": 14,
     "metadata": {},
     "output_type": "execute_result"
    }
   ],
   "source": [
    "xgboost_model = XGBClassifier(random_state=17).fit(X_train, y_train)\n",
    "y_pred = xgboost_model.predict(X_test)\n",
    "y_prob = xgboost_model.predict_proba(X_test)[:, 1]\n",
    "print(classification_report(y_test, y_pred))\n",
    "roc_auc_score(y_test, y_prob)"
   ]
  },
  {
   "cell_type": "code",
   "execution_count": 15,
   "id": "1bda817a",
   "metadata": {
    "execution": {
     "iopub.execute_input": "2024-01-24T08:03:38.796345Z",
     "iopub.status.busy": "2024-01-24T08:03:38.796061Z",
     "iopub.status.idle": "2024-01-24T08:03:41.533503Z",
     "shell.execute_reply": "2024-01-24T08:03:41.532574Z"
    },
    "papermill": {
     "duration": 2.749891,
     "end_time": "2024-01-24T08:03:41.535730",
     "exception": false,
     "start_time": "2024-01-24T08:03:38.785839",
     "status": "completed"
    },
    "tags": []
   },
   "outputs": [
    {
     "data": {
      "text/html": [
       "<div>\n",
       "<style scoped>\n",
       "    .dataframe tbody tr th:only-of-type {\n",
       "        vertical-align: middle;\n",
       "    }\n",
       "\n",
       "    .dataframe tbody tr th {\n",
       "        vertical-align: top;\n",
       "    }\n",
       "\n",
       "    .dataframe thead th {\n",
       "        text-align: right;\n",
       "    }\n",
       "</style>\n",
       "<table border=\"1\" class=\"dataframe\">\n",
       "  <thead>\n",
       "    <tr style=\"text-align: right;\">\n",
       "      <th></th>\n",
       "      <th>TransactionID</th>\n",
       "      <th>isFraud</th>\n",
       "    </tr>\n",
       "  </thead>\n",
       "  <tbody>\n",
       "    <tr>\n",
       "      <th>0</th>\n",
       "      <td>3663549</td>\n",
       "      <td>0.002376</td>\n",
       "    </tr>\n",
       "    <tr>\n",
       "      <th>1</th>\n",
       "      <td>3663550</td>\n",
       "      <td>0.001131</td>\n",
       "    </tr>\n",
       "    <tr>\n",
       "      <th>2</th>\n",
       "      <td>3663551</td>\n",
       "      <td>0.008657</td>\n",
       "    </tr>\n",
       "    <tr>\n",
       "      <th>3</th>\n",
       "      <td>3663552</td>\n",
       "      <td>0.001729</td>\n",
       "    </tr>\n",
       "    <tr>\n",
       "      <th>4</th>\n",
       "      <td>3663553</td>\n",
       "      <td>0.002027</td>\n",
       "    </tr>\n",
       "  </tbody>\n",
       "</table>\n",
       "</div>"
      ],
      "text/plain": [
       "   TransactionID   isFraud\n",
       "0        3663549  0.002376\n",
       "1        3663550  0.001131\n",
       "2        3663551  0.008657\n",
       "3        3663552  0.001729\n",
       "4        3663553  0.002027"
      ]
     },
     "execution_count": 15,
     "metadata": {},
     "output_type": "execute_result"
    }
   ],
   "source": [
    "predictions_xgboost = xgboost_model.predict_proba(test_df)[:,1]\n",
    "submission = pd.DataFrame({'TransactionID':test_transaction['TransactionID'],'isFraud':predictions_xgboost})\n",
    "submission[\"TransactionID\"]=submission[\"TransactionID\"].astype(int)\n",
    "submission.head()"
   ]
  },
  {
   "cell_type": "code",
   "execution_count": 16,
   "id": "2c4b7d68",
   "metadata": {
    "execution": {
     "iopub.execute_input": "2024-01-24T08:03:41.556927Z",
     "iopub.status.busy": "2024-01-24T08:03:41.556643Z",
     "iopub.status.idle": "2024-01-24T08:03:43.123650Z",
     "shell.execute_reply": "2024-01-24T08:03:43.122489Z"
    },
    "papermill": {
     "duration": 1.57999,
     "end_time": "2024-01-24T08:03:43.125858",
     "exception": false,
     "start_time": "2024-01-24T08:03:41.545868",
     "status": "completed"
    },
    "tags": []
   },
   "outputs": [
    {
     "name": "stdout",
     "output_type": "stream",
     "text": [
      "Saved file: CIS Fraud Detection base model xgboost.csv\n"
     ]
    }
   ],
   "source": [
    "filename = 'CIS Fraud Detection base model xgboost.csv'\n",
    "\n",
    "submission.to_csv(filename,index=False)\n",
    "\n",
    "print('Saved file: ' + filename)"
   ]
  },
  {
   "cell_type": "code",
   "execution_count": 17,
   "id": "e1b4260f",
   "metadata": {
    "execution": {
     "iopub.execute_input": "2024-01-24T08:03:43.147646Z",
     "iopub.status.busy": "2024-01-24T08:03:43.147351Z",
     "iopub.status.idle": "2024-01-24T08:03:43.151177Z",
     "shell.execute_reply": "2024-01-24T08:03:43.150318Z"
    },
    "papermill": {
     "duration": 0.017084,
     "end_time": "2024-01-24T08:03:43.153255",
     "exception": false,
     "start_time": "2024-01-24T08:03:43.136171",
     "status": "completed"
    },
    "tags": []
   },
   "outputs": [],
   "source": [
    "# Predict_proba\n",
    "# Score: 0.891545\n",
    "# Public score: 0.916079"
   ]
  },
  {
   "cell_type": "markdown",
   "id": "ccc50b71",
   "metadata": {
    "papermill": {
     "duration": 0.00965,
     "end_time": "2024-01-24T08:03:43.172334",
     "exception": false,
     "start_time": "2024-01-24T08:03:43.162684",
     "status": "completed"
    },
    "tags": []
   },
   "source": [
    "# LightGBM submission"
   ]
  },
  {
   "cell_type": "code",
   "execution_count": 18,
   "id": "fccc9166",
   "metadata": {
    "execution": {
     "iopub.execute_input": "2024-01-24T08:03:43.193344Z",
     "iopub.status.busy": "2024-01-24T08:03:43.193062Z",
     "iopub.status.idle": "2024-01-24T08:04:10.040391Z",
     "shell.execute_reply": "2024-01-24T08:04:10.039406Z"
    },
    "papermill": {
     "duration": 26.860079,
     "end_time": "2024-01-24T08:04:10.042380",
     "exception": false,
     "start_time": "2024-01-24T08:03:43.182301",
     "status": "completed"
    },
    "tags": []
   },
   "outputs": [
    {
     "name": "stdout",
     "output_type": "stream",
     "text": [
      "              precision    recall  f1-score   support\n",
      "\n",
      "           0       0.98      1.00      0.99    170963\n",
      "           1       0.89      0.44      0.59      6199\n",
      "\n",
      "    accuracy                           0.98    177162\n",
      "   macro avg       0.94      0.72      0.79    177162\n",
      "weighted avg       0.98      0.98      0.97    177162\n",
      "\n"
     ]
    },
    {
     "data": {
      "text/plain": [
       "0.927581425940798"
      ]
     },
     "execution_count": 18,
     "metadata": {},
     "output_type": "execute_result"
    }
   ],
   "source": [
    "lgbm_model = LGBMClassifier(random_state=17).fit(X_train, y_train)\n",
    "y_pred = lgbm_model.predict(X_test)\n",
    "y_prob = lgbm_model.predict_proba(X_test)[:, 1]\n",
    "print(classification_report(y_test, y_pred))\n",
    "roc_auc_score(y_test, y_prob)"
   ]
  },
  {
   "cell_type": "code",
   "execution_count": 19,
   "id": "f07aa121",
   "metadata": {
    "execution": {
     "iopub.execute_input": "2024-01-24T08:04:10.063347Z",
     "iopub.status.busy": "2024-01-24T08:04:10.063041Z",
     "iopub.status.idle": "2024-01-24T08:04:13.915856Z",
     "shell.execute_reply": "2024-01-24T08:04:13.914722Z"
    },
    "papermill": {
     "duration": 3.86543,
     "end_time": "2024-01-24T08:04:13.917841",
     "exception": false,
     "start_time": "2024-01-24T08:04:10.052411",
     "status": "completed"
    },
    "tags": []
   },
   "outputs": [
    {
     "data": {
      "text/html": [
       "<div>\n",
       "<style scoped>\n",
       "    .dataframe tbody tr th:only-of-type {\n",
       "        vertical-align: middle;\n",
       "    }\n",
       "\n",
       "    .dataframe tbody tr th {\n",
       "        vertical-align: top;\n",
       "    }\n",
       "\n",
       "    .dataframe thead th {\n",
       "        text-align: right;\n",
       "    }\n",
       "</style>\n",
       "<table border=\"1\" class=\"dataframe\">\n",
       "  <thead>\n",
       "    <tr style=\"text-align: right;\">\n",
       "      <th></th>\n",
       "      <th>TransactionID</th>\n",
       "      <th>isFraud</th>\n",
       "    </tr>\n",
       "  </thead>\n",
       "  <tbody>\n",
       "    <tr>\n",
       "      <th>0</th>\n",
       "      <td>3663549</td>\n",
       "      <td>0.002412</td>\n",
       "    </tr>\n",
       "    <tr>\n",
       "      <th>1</th>\n",
       "      <td>3663550</td>\n",
       "      <td>0.005560</td>\n",
       "    </tr>\n",
       "    <tr>\n",
       "      <th>2</th>\n",
       "      <td>3663551</td>\n",
       "      <td>0.015577</td>\n",
       "    </tr>\n",
       "    <tr>\n",
       "      <th>3</th>\n",
       "      <td>3663552</td>\n",
       "      <td>0.002708</td>\n",
       "    </tr>\n",
       "    <tr>\n",
       "      <th>4</th>\n",
       "      <td>3663553</td>\n",
       "      <td>0.002984</td>\n",
       "    </tr>\n",
       "  </tbody>\n",
       "</table>\n",
       "</div>"
      ],
      "text/plain": [
       "   TransactionID   isFraud\n",
       "0        3663549  0.002412\n",
       "1        3663550  0.005560\n",
       "2        3663551  0.015577\n",
       "3        3663552  0.002708\n",
       "4        3663553  0.002984"
      ]
     },
     "execution_count": 19,
     "metadata": {},
     "output_type": "execute_result"
    }
   ],
   "source": [
    "predictions_lgbm = lgbm_model.predict_proba(test_df)[:,1]\n",
    "submission = pd.DataFrame({'TransactionID':test_transaction['TransactionID'],'isFraud':predictions_lgbm})\n",
    "submission[\"TransactionID\"]=submission[\"TransactionID\"].astype(int)\n",
    "submission.head()"
   ]
  },
  {
   "cell_type": "code",
   "execution_count": 20,
   "id": "708766ea",
   "metadata": {
    "execution": {
     "iopub.execute_input": "2024-01-24T08:04:13.939358Z",
     "iopub.status.busy": "2024-01-24T08:04:13.939062Z",
     "iopub.status.idle": "2024-01-24T08:04:15.848098Z",
     "shell.execute_reply": "2024-01-24T08:04:15.847014Z"
    },
    "papermill": {
     "duration": 1.922426,
     "end_time": "2024-01-24T08:04:15.850280",
     "exception": false,
     "start_time": "2024-01-24T08:04:13.927854",
     "status": "completed"
    },
    "tags": []
   },
   "outputs": [
    {
     "name": "stdout",
     "output_type": "stream",
     "text": [
      "Saved file: CIS Fraud Detection base model lgbm.csv\n"
     ]
    }
   ],
   "source": [
    "filename = 'CIS Fraud Detection base model lgbm.csv'\n",
    "\n",
    "submission.to_csv(filename,index=False)\n",
    "\n",
    "print('Saved file: ' + filename)"
   ]
  },
  {
   "cell_type": "code",
   "execution_count": 21,
   "id": "baf806ad",
   "metadata": {
    "execution": {
     "iopub.execute_input": "2024-01-24T08:04:15.872292Z",
     "iopub.status.busy": "2024-01-24T08:04:15.871965Z",
     "iopub.status.idle": "2024-01-24T08:04:15.875604Z",
     "shell.execute_reply": "2024-01-24T08:04:15.874775Z"
    },
    "papermill": {
     "duration": 0.016331,
     "end_time": "2024-01-24T08:04:15.877526",
     "exception": false,
     "start_time": "2024-01-24T08:04:15.861195",
     "status": "completed"
    },
    "tags": []
   },
   "outputs": [],
   "source": [
    "# Predict_proba\n",
    "# Private Score: 0.894476\n",
    "# Public score: 0.920603"
   ]
  }
 ],
 "metadata": {
  "kaggle": {
   "accelerator": "gpu",
   "dataSources": [
    {
     "databundleVersionId": 568274,
     "sourceId": 14242,
     "sourceType": "competition"
    }
   ],
   "isGpuEnabled": true,
   "isInternetEnabled": true,
   "language": "python",
   "sourceType": "notebook"
  },
  "kernelspec": {
   "display_name": "Python 3",
   "language": "python",
   "name": "python3"
  },
  "language_info": {
   "codemirror_mode": {
    "name": "ipython",
    "version": 3
   },
   "file_extension": ".py",
   "mimetype": "text/x-python",
   "name": "python",
   "nbconvert_exporter": "python",
   "pygments_lexer": "ipython3",
   "version": "3.10.12"
  },
  "papermill": {
   "default_parameters": {},
   "duration": 1773.904552,
   "end_time": "2024-01-24T08:04:17.212047",
   "environment_variables": {},
   "exception": null,
   "input_path": "__notebook__.ipynb",
   "output_path": "__notebook__.ipynb",
   "parameters": {},
   "start_time": "2024-01-24T07:34:43.307495",
   "version": "2.3.3"
  }
 },
 "nbformat": 4,
 "nbformat_minor": 5
}
