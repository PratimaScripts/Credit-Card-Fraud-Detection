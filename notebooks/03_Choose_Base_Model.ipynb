{
 "cells": [
  {
   "cell_type": "markdown",
   "id": "3ca82daf",
   "metadata": {
    "papermill": {
     "duration": 0.008025,
     "end_time": "2024-01-06T15:22:03.783486",
     "exception": false,
     "start_time": "2024-01-06T15:22:03.775461",
     "status": "completed"
    },
    "tags": []
   },
   "source": [
    "<a href=\"https://www.kaggle.com/pratimascripts/3-choose-base-model?scriptVersionId=89861004\" target=\"_blank\"><img align=\"left\" alt=\"Kaggle\" title=\"Open in Kaggle\" src=\"https://kaggle.com/static/images/open-in-kaggle.svg\"></a>"
   ]
  },
  {
   "cell_type": "code",
   "execution_count": 1,
   "id": "0eb68d66",
   "metadata": {
    "execution": {
     "iopub.execute_input": "2024-01-06T15:22:03.800883Z",
     "iopub.status.busy": "2024-01-06T15:22:03.800114Z",
     "iopub.status.idle": "2024-01-06T15:22:09.371680Z",
     "shell.execute_reply": "2024-01-06T15:22:09.370617Z"
    },
    "papermill": {
     "duration": 5.582869,
     "end_time": "2024-01-06T15:22:09.374034",
     "exception": false,
     "start_time": "2024-01-06T15:22:03.791165",
     "status": "completed"
    },
    "tags": []
   },
   "outputs": [
    {
     "name": "stderr",
     "output_type": "stream",
     "text": [
      "/opt/conda/lib/python3.10/site-packages/scipy/__init__.py:146: UserWarning: A NumPy version >=1.16.5 and <1.23.0 is required for this version of SciPy (detected version 1.24.3\n",
      "  warnings.warn(f\"A NumPy version >={np_minversion} and <{np_maxversion}\"\n",
      "/opt/conda/lib/python3.10/site-packages/dask/dataframe/_pyarrow_compat.py:23: UserWarning: You are using pyarrow version 11.0.0 which is known to be insecure. See https://www.cve.org/CVERecord?id=CVE-2023-47248 for further details. Please upgrade to pyarrow>=14.0.1 or install pyarrow-hotfix to patch your current version.\n",
      "  warnings.warn(\n"
     ]
    }
   ],
   "source": [
    "import numpy as np\n",
    "import pandas as pd\n",
    "import seaborn as sns\n",
    "import matplotlib.pyplot as plt\n",
    "from sklearn.metrics import accuracy_score\n",
    "from sklearn.model_selection import train_test_split,cross_val_score,GridSearchCV,cross_validate\n",
    "from sklearn.ensemble import RandomForestClassifier,RandomForestRegressor,VotingClassifier\n",
    "from sklearn.preprocessing import MinMaxScaler,LabelEncoder, StandardScaler, RobustScaler\n",
    "from sklearn.impute import KNNImputer\n",
    "from sklearn.linear_model import LogisticRegression,LinearRegression, Ridge, Lasso, ElasticNet\n",
    "import numpy as np\n",
    "from sklearn.metrics import mean_squared_error, mean_absolute_error\n",
    "import warnings\n",
    "from sklearn.exceptions import ConvergenceWarning\n",
    "from sklearn.neighbors import KNeighborsRegressor\n",
    "from sklearn.tree import DecisionTreeRegressor\n",
    "from sklearn.svm import SVR\n",
    "from sklearn.ensemble import RandomForestRegressor, GradientBoostingRegressor,VotingRegressor\n",
    "from sklearn.metrics import accuracy_score,recall_score,precision_score,f1_score,roc_auc_score\n",
    "from sklearn.metrics import r2_score, mean_squared_error\n",
    "from sklearn.neighbors import KNeighborsClassifier\n",
    "from sklearn.tree import DecisionTreeClassifier\n",
    "from xgboost import XGBClassifier\n",
    "from lightgbm import LGBMClassifier\n",
    "from catboost import CatBoostClassifier\n",
    "from sklearn.ensemble import RandomForestClassifier, GradientBoostingClassifier, VotingClassifier, AdaBoostClassifier\n",
    "from sklearn.model_selection import cross_validate, GridSearchCV\n",
    "from sklearn.neighbors import KNeighborsClassifier\n",
    "from sklearn.svm import SVC\n",
    "from sklearn.neighbors import LocalOutlierFactor\n",
    "from sklearn.metrics import classification_report"
   ]
  },
  {
   "cell_type": "code",
   "execution_count": 2,
   "id": "86472589",
   "metadata": {
    "execution": {
     "iopub.execute_input": "2024-01-06T15:22:09.392372Z",
     "iopub.status.busy": "2024-01-06T15:22:09.391680Z",
     "iopub.status.idle": "2024-01-06T15:22:09.396733Z",
     "shell.execute_reply": "2024-01-06T15:22:09.395822Z"
    },
    "papermill": {
     "duration": 0.016292,
     "end_time": "2024-01-06T15:22:09.398627",
     "exception": false,
     "start_time": "2024-01-06T15:22:09.382335",
     "status": "completed"
    },
    "tags": []
   },
   "outputs": [],
   "source": [
    "warnings.simplefilter(\"ignore\")\n",
    "pd.set_option('display.max_columns', None)\n",
    "pd.set_option('display.max_rows', None)"
   ]
  },
  {
   "cell_type": "code",
   "execution_count": 3,
   "id": "b21679a3",
   "metadata": {
    "execution": {
     "iopub.execute_input": "2024-01-06T15:22:09.415743Z",
     "iopub.status.busy": "2024-01-06T15:22:09.415424Z",
     "iopub.status.idle": "2024-01-06T15:23:12.665721Z",
     "shell.execute_reply": "2024-01-06T15:23:12.664861Z"
    },
    "papermill": {
     "duration": 63.261717,
     "end_time": "2024-01-06T15:23:12.668183",
     "exception": false,
     "start_time": "2024-01-06T15:22:09.406466",
     "status": "completed"
    },
    "tags": []
   },
   "outputs": [],
   "source": [
    "train_transaction=pd.read_csv('../input/ieee-fraud-detection/train_transaction.csv')\n",
    "train_identity=pd.read_csv('../input/ieee-fraud-detection/train_identity.csv')\n",
    "test_transaction=pd.read_csv('../input/ieee-fraud-detection/test_transaction.csv')\n",
    "test_identity=pd.read_csv('../input/ieee-fraud-detection/test_identity.csv')\n",
    "sample_submission=pd.read_csv('../input/ieee-fraud-detection/sample_submission.csv')"
   ]
  },
  {
   "cell_type": "code",
   "execution_count": 4,
   "id": "9850da7a",
   "metadata": {
    "execution": {
     "iopub.execute_input": "2024-01-06T15:23:12.685689Z",
     "iopub.status.busy": "2024-01-06T15:23:12.685370Z",
     "iopub.status.idle": "2024-01-06T15:23:14.695289Z",
     "shell.execute_reply": "2024-01-06T15:23:14.694494Z"
    },
    "papermill": {
     "duration": 2.021016,
     "end_time": "2024-01-06T15:23:14.697551",
     "exception": false,
     "start_time": "2024-01-06T15:23:12.676535",
     "status": "completed"
    },
    "tags": []
   },
   "outputs": [],
   "source": [
    "train_df = train_transaction.merge(train_identity, how=\"left\", on=\"TransactionID\")\n",
    "\n",
    "test_df = test_transaction.merge(test_identity, how=\"left\", on=\"TransactionID\")"
   ]
  },
  {
   "cell_type": "code",
   "execution_count": 5,
   "id": "41bfca7c",
   "metadata": {
    "execution": {
     "iopub.execute_input": "2024-01-06T15:23:14.715155Z",
     "iopub.status.busy": "2024-01-06T15:23:14.714571Z",
     "iopub.status.idle": "2024-01-06T15:23:16.899631Z",
     "shell.execute_reply": "2024-01-06T15:23:16.898817Z"
    },
    "papermill": {
     "duration": 2.196399,
     "end_time": "2024-01-06T15:23:16.901996",
     "exception": false,
     "start_time": "2024-01-06T15:23:14.705597",
     "status": "completed"
    },
    "tags": []
   },
   "outputs": [],
   "source": [
    "test_df= test_df.rename(columns=lambda x:\"_\".join(x.split(\"-\")))"
   ]
  },
  {
   "cell_type": "markdown",
   "id": "b9902bb8",
   "metadata": {
    "papermill": {
     "duration": 0.007415,
     "end_time": "2024-01-06T15:23:16.917316",
     "exception": false,
     "start_time": "2024-01-06T15:23:16.909901",
     "status": "completed"
    },
    "tags": []
   },
   "source": [
    "#### reduce memory"
   ]
  },
  {
   "cell_type": "code",
   "execution_count": 6,
   "id": "6de583fd",
   "metadata": {
    "execution": {
     "iopub.execute_input": "2024-01-06T15:23:16.933861Z",
     "iopub.status.busy": "2024-01-06T15:23:16.933547Z",
     "iopub.status.idle": "2024-01-06T15:23:16.945363Z",
     "shell.execute_reply": "2024-01-06T15:23:16.944618Z"
    },
    "papermill": {
     "duration": 0.022382,
     "end_time": "2024-01-06T15:23:16.947210",
     "exception": false,
     "start_time": "2024-01-06T15:23:16.924828",
     "status": "completed"
    },
    "tags": []
   },
   "outputs": [],
   "source": [
    "def reduce_mem_usage(df, verbose=True):\n",
    "    numerics = ['int16', 'int32', 'int64', 'float16', 'float32', 'float64']\n",
    "    start_mem = df.memory_usage().sum() / 1024**2    \n",
    "    for col in df.columns:\n",
    "        col_type = df[col].dtypes\n",
    "        if col_type in numerics:\n",
    "            c_min = df[col].min()\n",
    "            c_max = df[col].max()\n",
    "            if str(col_type)[:3] == 'int':\n",
    "                if c_min > np.iinfo(np.int8).min and c_max < np.iinfo(np.int8).max:\n",
    "                    df[col] = df[col].astype(np.int8)\n",
    "                elif c_min > np.iinfo(np.int16).min and c_max < np.iinfo(np.int16).max:\n",
    "                    df[col] = df[col].astype(np.int16)\n",
    "                elif c_min > np.iinfo(np.int32).min and c_max < np.iinfo(np.int32).max:\n",
    "                    df[col] = df[col].astype(np.int32)\n",
    "                elif c_min > np.iinfo(np.int64).min and c_max < np.iinfo(np.int64).max:\n",
    "                    df[col] = df[col].astype(np.int64)  \n",
    "            else:\n",
    "                if c_min > np.finfo(np.float16).min and c_max < np.finfo(np.float16).max:\n",
    "                    df[col] = df[col].astype(np.float16)\n",
    "                elif c_min > np.finfo(np.float32).min and c_max < np.finfo(np.float32).max:\n",
    "                    df[col] = df[col].astype(np.float32)\n",
    "                else:\n",
    "                    df[col] = df[col].astype(np.float64)    \n",
    "    end_mem = df.memory_usage().sum() / 1024**2\n",
    "    if verbose: print('Mem. usage decreased to {:5.2f} Mb ({:.1f}% reduction)'.format(end_mem, 100 * (start_mem - end_mem) / start_mem))\n",
    "    return df"
   ]
  },
  {
   "cell_type": "code",
   "execution_count": 7,
   "id": "464a4836",
   "metadata": {
    "execution": {
     "iopub.execute_input": "2024-01-06T15:23:16.963341Z",
     "iopub.status.busy": "2024-01-06T15:23:16.963046Z",
     "iopub.status.idle": "2024-01-06T15:23:24.215196Z",
     "shell.execute_reply": "2024-01-06T15:23:24.214167Z"
    },
    "papermill": {
     "duration": 7.262672,
     "end_time": "2024-01-06T15:23:24.217399",
     "exception": false,
     "start_time": "2024-01-06T15:23:16.954727",
     "status": "completed"
    },
    "tags": []
   },
   "outputs": [
    {
     "name": "stdout",
     "output_type": "stream",
     "text": [
      "Mem. usage decreased to 645.97 Mb (67.0% reduction)\n",
      "Mem. usage decreased to 561.50 Mb (66.5% reduction)\n"
     ]
    }
   ],
   "source": [
    "train_df = reduce_mem_usage(train_df)\n",
    "test_df  = reduce_mem_usage(test_df)"
   ]
  },
  {
   "cell_type": "markdown",
   "id": "b40b34cf",
   "metadata": {
    "papermill": {
     "duration": 0.008022,
     "end_time": "2024-01-06T15:23:24.234523",
     "exception": false,
     "start_time": "2024-01-06T15:23:24.226501",
     "status": "completed"
    },
    "tags": []
   },
   "source": [
    "# Filling Missing Values\n"
   ]
  },
  {
   "cell_type": "code",
   "execution_count": 8,
   "id": "ff6f0f0a",
   "metadata": {
    "execution": {
     "iopub.execute_input": "2024-01-06T15:23:24.252676Z",
     "iopub.status.busy": "2024-01-06T15:23:24.251806Z",
     "iopub.status.idle": "2024-01-06T15:23:30.174554Z",
     "shell.execute_reply": "2024-01-06T15:23:30.173601Z"
    },
    "papermill": {
     "duration": 5.934262,
     "end_time": "2024-01-06T15:23:30.176923",
     "exception": false,
     "start_time": "2024-01-06T15:23:24.242661",
     "status": "completed"
    },
    "tags": []
   },
   "outputs": [],
   "source": [
    "train_df = train_df.fillna(-999)\n",
    "test_df = test_df.fillna(-999)"
   ]
  },
  {
   "cell_type": "markdown",
   "id": "df87acbc",
   "metadata": {
    "papermill": {
     "duration": 0.007758,
     "end_time": "2024-01-06T15:23:30.192926",
     "exception": false,
     "start_time": "2024-01-06T15:23:30.185168",
     "status": "completed"
    },
    "tags": []
   },
   "source": [
    "# Label Encoder"
   ]
  },
  {
   "cell_type": "code",
   "execution_count": 9,
   "id": "2fd2a541",
   "metadata": {
    "execution": {
     "iopub.execute_input": "2024-01-06T15:23:30.210044Z",
     "iopub.status.busy": "2024-01-06T15:23:30.209689Z",
     "iopub.status.idle": "2024-01-06T15:24:01.140287Z",
     "shell.execute_reply": "2024-01-06T15:24:01.139520Z"
    },
    "papermill": {
     "duration": 30.941829,
     "end_time": "2024-01-06T15:24:01.142594",
     "exception": false,
     "start_time": "2024-01-06T15:23:30.200765",
     "status": "completed"
    },
    "tags": []
   },
   "outputs": [],
   "source": [
    "for f in train_df.columns:\n",
    "    if train_df[f].dtype=='object': \n",
    "        lbl = LabelEncoder()\n",
    "        lbl.fit(list(train_df[f].values))\n",
    "        train_df[f] = lbl.transform(list(train_df[f].values)) "
   ]
  },
  {
   "cell_type": "code",
   "execution_count": 10,
   "id": "524b0ba4",
   "metadata": {
    "execution": {
     "iopub.execute_input": "2024-01-06T15:24:01.160522Z",
     "iopub.status.busy": "2024-01-06T15:24:01.159839Z",
     "iopub.status.idle": "2024-01-06T15:24:27.019449Z",
     "shell.execute_reply": "2024-01-06T15:24:27.018656Z"
    },
    "papermill": {
     "duration": 25.871015,
     "end_time": "2024-01-06T15:24:27.021860",
     "exception": false,
     "start_time": "2024-01-06T15:24:01.150845",
     "status": "completed"
    },
    "tags": []
   },
   "outputs": [],
   "source": [
    "for f in test_df.columns:\n",
    "    if test_df[f].dtype=='object': \n",
    "        lbl = LabelEncoder()\n",
    "        lbl.fit(list(test_df[f].values))\n",
    "        test_df[f] = lbl.transform(list(test_df[f].values))"
   ]
  },
  {
   "cell_type": "markdown",
   "id": "0fc62dbb",
   "metadata": {
    "papermill": {
     "duration": 0.007611,
     "end_time": "2024-01-06T15:24:27.037675",
     "exception": false,
     "start_time": "2024-01-06T15:24:27.030064",
     "status": "completed"
    },
    "tags": []
   },
   "source": [
    "# Model"
   ]
  },
  {
   "cell_type": "code",
   "execution_count": 11,
   "id": "f0923444",
   "metadata": {
    "execution": {
     "iopub.execute_input": "2024-01-06T15:24:27.055163Z",
     "iopub.status.busy": "2024-01-06T15:24:27.054471Z",
     "iopub.status.idle": "2024-01-06T15:24:28.815101Z",
     "shell.execute_reply": "2024-01-06T15:24:28.814287Z"
    },
    "papermill": {
     "duration": 1.772032,
     "end_time": "2024-01-06T15:24:28.817494",
     "exception": false,
     "start_time": "2024-01-06T15:24:27.045462",
     "status": "completed"
    },
    "tags": []
   },
   "outputs": [],
   "source": [
    "y = train_df[\"isFraud\"]\n",
    "X = train_df.drop([\"isFraud\"], axis=1)"
   ]
  },
  {
   "cell_type": "code",
   "execution_count": 12,
   "id": "30a3543e",
   "metadata": {
    "execution": {
     "iopub.execute_input": "2024-01-06T15:24:28.835215Z",
     "iopub.status.busy": "2024-01-06T15:24:28.834526Z",
     "iopub.status.idle": "2024-01-06T15:24:32.075165Z",
     "shell.execute_reply": "2024-01-06T15:24:32.073952Z"
    },
    "papermill": {
     "duration": 3.251964,
     "end_time": "2024-01-06T15:24:32.077659",
     "exception": false,
     "start_time": "2024-01-06T15:24:28.825695",
     "status": "completed"
    },
    "tags": []
   },
   "outputs": [],
   "source": [
    "X_train, X_test, y_train, y_test = train_test_split(X, y, test_size=0.3, random_state=0, stratify=y)"
   ]
  },
  {
   "cell_type": "code",
   "execution_count": 13,
   "id": "924576d3",
   "metadata": {
    "execution": {
     "iopub.execute_input": "2024-01-06T15:24:32.095487Z",
     "iopub.status.busy": "2024-01-06T15:24:32.095105Z",
     "iopub.status.idle": "2024-01-06T15:50:39.872737Z",
     "shell.execute_reply": "2024-01-06T15:50:39.871811Z"
    },
    "papermill": {
     "duration": 1567.788976,
     "end_time": "2024-01-06T15:50:39.874917",
     "exception": false,
     "start_time": "2024-01-06T15:24:32.085941",
     "status": "completed"
    },
    "tags": []
   },
   "outputs": [
    {
     "name": "stdout",
     "output_type": "stream",
     "text": [
      " CART for train\n",
      "              precision    recall  f1-score   support\n",
      "\n",
      "           0       1.00      1.00      1.00    398914\n",
      "           1       1.00      1.00      1.00     14464\n",
      "\n",
      "    accuracy                           1.00    413378\n",
      "   macro avg       1.00      1.00      1.00    413378\n",
      "weighted avg       1.00      1.00      1.00    413378\n",
      "\n",
      " AUC: 1.0\n",
      "-----------------------------------------------------\n",
      " CART for test\n",
      "              precision    recall  f1-score   support\n",
      "\n",
      "           0       0.98      0.98      0.98    170963\n",
      "           1       0.53      0.58      0.56      6199\n",
      "\n",
      "    accuracy                           0.97    177162\n",
      "   macro avg       0.76      0.78      0.77    177162\n",
      "weighted avg       0.97      0.97      0.97    177162\n",
      "\n",
      " AUC: 0.7829652389284598\n",
      "######################################################\n",
      " RF for train\n",
      "              precision    recall  f1-score   support\n",
      "\n",
      "           0       1.00      1.00      1.00    398914\n",
      "           1       1.00      1.00      1.00     14464\n",
      "\n",
      "    accuracy                           1.00    413378\n",
      "   macro avg       1.00      1.00      1.00    413378\n",
      "weighted avg       1.00      1.00      1.00    413378\n",
      "\n",
      " AUC: 1.0\n",
      "-----------------------------------------------------\n",
      " RF for test\n",
      "              precision    recall  f1-score   support\n",
      "\n",
      "           0       0.98      1.00      0.99    170963\n",
      "           1       0.94      0.44      0.60      6199\n",
      "\n",
      "    accuracy                           0.98    177162\n",
      "   macro avg       0.96      0.72      0.80    177162\n",
      "weighted avg       0.98      0.98      0.98    177162\n",
      "\n",
      " AUC: 0.9271994570422748\n",
      "######################################################\n",
      " Adaboost for train\n",
      "              precision    recall  f1-score   support\n",
      "\n",
      "           0       0.97      1.00      0.99    398914\n",
      "           1       0.82      0.26      0.39     14464\n",
      "\n",
      "    accuracy                           0.97    413378\n",
      "   macro avg       0.89      0.63      0.69    413378\n",
      "weighted avg       0.97      0.97      0.96    413378\n",
      "\n",
      " AUC: 0.8745688317981328\n",
      "-----------------------------------------------------\n",
      " Adaboost for test\n",
      "              precision    recall  f1-score   support\n",
      "\n",
      "           0       0.97      1.00      0.99    170963\n",
      "           1       0.81      0.27      0.40      6199\n",
      "\n",
      "    accuracy                           0.97    177162\n",
      "   macro avg       0.89      0.63      0.69    177162\n",
      "weighted avg       0.97      0.97      0.97    177162\n",
      "\n",
      " AUC: 0.8729177640773244\n",
      "######################################################\n",
      " GBM for train\n",
      "              precision    recall  f1-score   support\n",
      "\n",
      "           0       0.98      1.00      0.99    398914\n",
      "           1       0.88      0.31      0.46     14464\n",
      "\n",
      "    accuracy                           0.97    413378\n",
      "   macro avg       0.93      0.65      0.72    413378\n",
      "weighted avg       0.97      0.97      0.97    413378\n",
      "\n",
      " AUC: 0.8804548868464662\n",
      "-----------------------------------------------------\n",
      " GBM for test\n",
      "              precision    recall  f1-score   support\n",
      "\n",
      "           0       0.98      1.00      0.99    170963\n",
      "           1       0.87      0.31      0.45      6199\n",
      "\n",
      "    accuracy                           0.97    177162\n",
      "   macro avg       0.92      0.65      0.72    177162\n",
      "weighted avg       0.97      0.97      0.97    177162\n",
      "\n",
      " AUC: 0.8781748318338025\n",
      "######################################################\n",
      " XGBoost for train\n",
      "              precision    recall  f1-score   support\n",
      "\n",
      "           0       0.98      1.00      0.99    398914\n",
      "           1       0.96      0.56      0.70     14464\n",
      "\n",
      "    accuracy                           0.98    413378\n",
      "   macro avg       0.97      0.78      0.85    413378\n",
      "weighted avg       0.98      0.98      0.98    413378\n",
      "\n",
      " AUC: 0.9609319655810771\n",
      "-----------------------------------------------------\n",
      " XGBoost for test\n",
      "              precision    recall  f1-score   support\n",
      "\n",
      "           0       0.98      1.00      0.99    170963\n",
      "           1       0.92      0.49      0.64      6199\n",
      "\n",
      "    accuracy                           0.98    177162\n",
      "   macro avg       0.95      0.75      0.82    177162\n",
      "weighted avg       0.98      0.98      0.98    177162\n",
      "\n",
      " AUC: 0.9411879138999932\n",
      "######################################################\n",
      " LightGBM for train\n",
      "              precision    recall  f1-score   support\n",
      "\n",
      "           0       0.98      1.00      0.99    398914\n",
      "           1       0.91      0.46      0.61     14464\n",
      "\n",
      "    accuracy                           0.98    413378\n",
      "   macro avg       0.95      0.73      0.80    413378\n",
      "weighted avg       0.98      0.98      0.98    413378\n",
      "\n",
      " AUC: 0.9430446657351146\n",
      "-----------------------------------------------------\n",
      " LightGBM for test\n",
      "              precision    recall  f1-score   support\n",
      "\n",
      "           0       0.98      1.00      0.99    170963\n",
      "           1       0.90      0.44      0.59      6199\n",
      "\n",
      "    accuracy                           0.98    177162\n",
      "   macro avg       0.94      0.72      0.79    177162\n",
      "weighted avg       0.98      0.98      0.98    177162\n",
      "\n",
      " AUC: 0.9274101709283753\n",
      "######################################################\n"
     ]
    }
   ],
   "source": [
    "classifiers = [(\"CART\", DecisionTreeClassifier()),\n",
    "               (\"RF\", RandomForestClassifier()),\n",
    "               ('Adaboost', AdaBoostClassifier()),\n",
    "               ('GBM', GradientBoostingClassifier()),\n",
    "               ('XGBoost', XGBClassifier()),\n",
    "               ('LightGBM', LGBMClassifier()),\n",
    "               ]\n",
    "\n",
    "    \n",
    "for name, classifier in classifiers:\n",
    "    print(f\" {name} for train\")\n",
    "    model = classifier.fit(X_train, y_train)\n",
    "    y_pred = model.predict(X_train)\n",
    "    y_prob = model.predict_proba(X_train)[:, 1]\n",
    "    print(classification_report(y_train, y_pred))\n",
    "    print(f\" AUC: {roc_auc_score(y_train, y_prob)}\")\n",
    "    print(\"-----------------------------------------------------\")\n",
    "    print(f\" {name} for test\")\n",
    "    y_pred = model.predict(X_test)\n",
    "    y_prob = model.predict_proba(X_test)[:, 1]\n",
    "    print(classification_report(y_test, y_pred))\n",
    "    print(f\" AUC: {roc_auc_score(y_test, y_prob)}\")\n",
    "    print(\"######################################################\")"
   ]
  },
  {
   "cell_type": "markdown",
   "id": "19f3128e",
   "metadata": {
    "papermill": {
     "duration": 0.008831,
     "end_time": "2024-01-06T15:50:39.892891",
     "exception": false,
     "start_time": "2024-01-06T15:50:39.884060",
     "status": "completed"
    },
    "tags": []
   },
   "source": [
    "## we choose lightgbm and xgboost"
   ]
  },
  {
   "cell_type": "markdown",
   "id": "93ae99b5",
   "metadata": {
    "papermill": {
     "duration": 0.008579,
     "end_time": "2024-01-06T15:50:39.910353",
     "exception": false,
     "start_time": "2024-01-06T15:50:39.901774",
     "status": "completed"
    },
    "tags": []
   },
   "source": [
    "# xgboost submission"
   ]
  },
  {
   "cell_type": "code",
   "execution_count": 14,
   "id": "e1a99e37",
   "metadata": {
    "execution": {
     "iopub.execute_input": "2024-01-06T15:50:39.929715Z",
     "iopub.status.busy": "2024-01-06T15:50:39.928884Z",
     "iopub.status.idle": "2024-01-06T15:51:18.018382Z",
     "shell.execute_reply": "2024-01-06T15:51:18.017461Z"
    },
    "papermill": {
     "duration": 38.1112,
     "end_time": "2024-01-06T15:51:18.030231",
     "exception": false,
     "start_time": "2024-01-06T15:50:39.919031",
     "status": "completed"
    },
    "tags": []
   },
   "outputs": [
    {
     "name": "stdout",
     "output_type": "stream",
     "text": [
      "              precision    recall  f1-score   support\n",
      "\n",
      "           0       0.98      1.00      0.99    170963\n",
      "           1       0.92      0.49      0.64      6199\n",
      "\n",
      "    accuracy                           0.98    177162\n",
      "   macro avg       0.95      0.75      0.82    177162\n",
      "weighted avg       0.98      0.98      0.98    177162\n",
      "\n"
     ]
    },
    {
     "data": {
      "text/plain": [
       "0.9411879138999932"
      ]
     },
     "execution_count": 14,
     "metadata": {},
     "output_type": "execute_result"
    }
   ],
   "source": [
    "xgboost_model = XGBClassifier(random_state=17).fit(X_train, y_train)\n",
    "y_pred = xgboost_model.predict(X_test)\n",
    "y_prob = xgboost_model.predict_proba(X_test)[:, 1]\n",
    "print(classification_report(y_test, y_pred))\n",
    "roc_auc_score(y_test, y_prob)"
   ]
  },
  {
   "cell_type": "code",
   "execution_count": 15,
   "id": "86ba34cb",
   "metadata": {
    "execution": {
     "iopub.execute_input": "2024-01-06T15:51:18.049984Z",
     "iopub.status.busy": "2024-01-06T15:51:18.049257Z",
     "iopub.status.idle": "2024-01-06T15:51:20.720612Z",
     "shell.execute_reply": "2024-01-06T15:51:20.719612Z"
    },
    "papermill": {
     "duration": 2.683296,
     "end_time": "2024-01-06T15:51:20.722666",
     "exception": false,
     "start_time": "2024-01-06T15:51:18.039370",
     "status": "completed"
    },
    "tags": []
   },
   "outputs": [
    {
     "data": {
      "text/html": [
       "<div>\n",
       "<style scoped>\n",
       "    .dataframe tbody tr th:only-of-type {\n",
       "        vertical-align: middle;\n",
       "    }\n",
       "\n",
       "    .dataframe tbody tr th {\n",
       "        vertical-align: top;\n",
       "    }\n",
       "\n",
       "    .dataframe thead th {\n",
       "        text-align: right;\n",
       "    }\n",
       "</style>\n",
       "<table border=\"1\" class=\"dataframe\">\n",
       "  <thead>\n",
       "    <tr style=\"text-align: right;\">\n",
       "      <th></th>\n",
       "      <th>TransactionID</th>\n",
       "      <th>isFraud</th>\n",
       "    </tr>\n",
       "  </thead>\n",
       "  <tbody>\n",
       "    <tr>\n",
       "      <th>0</th>\n",
       "      <td>3663549</td>\n",
       "      <td>0.002376</td>\n",
       "    </tr>\n",
       "    <tr>\n",
       "      <th>1</th>\n",
       "      <td>3663550</td>\n",
       "      <td>0.001131</td>\n",
       "    </tr>\n",
       "    <tr>\n",
       "      <th>2</th>\n",
       "      <td>3663551</td>\n",
       "      <td>0.008657</td>\n",
       "    </tr>\n",
       "    <tr>\n",
       "      <th>3</th>\n",
       "      <td>3663552</td>\n",
       "      <td>0.001729</td>\n",
       "    </tr>\n",
       "    <tr>\n",
       "      <th>4</th>\n",
       "      <td>3663553</td>\n",
       "      <td>0.002027</td>\n",
       "    </tr>\n",
       "  </tbody>\n",
       "</table>\n",
       "</div>"
      ],
      "text/plain": [
       "   TransactionID   isFraud\n",
       "0        3663549  0.002376\n",
       "1        3663550  0.001131\n",
       "2        3663551  0.008657\n",
       "3        3663552  0.001729\n",
       "4        3663553  0.002027"
      ]
     },
     "execution_count": 15,
     "metadata": {},
     "output_type": "execute_result"
    }
   ],
   "source": [
    "predictions_xgboost = xgboost_model.predict_proba(test_df)[:,1]\n",
    "submission = pd.DataFrame({'TransactionID':test_transaction['TransactionID'],'isFraud':predictions_xgboost})\n",
    "submission[\"TransactionID\"]=submission[\"TransactionID\"].astype(int)\n",
    "submission.head()"
   ]
  },
  {
   "cell_type": "code",
   "execution_count": 16,
   "id": "5f994b61",
   "metadata": {
    "execution": {
     "iopub.execute_input": "2024-01-06T15:51:20.743126Z",
     "iopub.status.busy": "2024-01-06T15:51:20.742835Z",
     "iopub.status.idle": "2024-01-06T15:51:22.329882Z",
     "shell.execute_reply": "2024-01-06T15:51:22.328775Z"
    },
    "papermill": {
     "duration": 1.599524,
     "end_time": "2024-01-06T15:51:22.332051",
     "exception": false,
     "start_time": "2024-01-06T15:51:20.732527",
     "status": "completed"
    },
    "tags": []
   },
   "outputs": [
    {
     "name": "stdout",
     "output_type": "stream",
     "text": [
      "Saved file: CIS Fraud Detection base model xgboost.csv\n"
     ]
    }
   ],
   "source": [
    "filename = 'CIS Fraud Detection base model xgboost.csv'\n",
    "\n",
    "submission.to_csv(filename,index=False)\n",
    "\n",
    "print('Saved file: ' + filename)"
   ]
  },
  {
   "cell_type": "code",
   "execution_count": 17,
   "id": "4ea7dfb8",
   "metadata": {
    "execution": {
     "iopub.execute_input": "2024-01-06T15:51:22.352518Z",
     "iopub.status.busy": "2024-01-06T15:51:22.352184Z",
     "iopub.status.idle": "2024-01-06T15:51:22.356062Z",
     "shell.execute_reply": "2024-01-06T15:51:22.355162Z"
    },
    "papermill": {
     "duration": 0.016097,
     "end_time": "2024-01-06T15:51:22.357931",
     "exception": false,
     "start_time": "2024-01-06T15:51:22.341834",
     "status": "completed"
    },
    "tags": []
   },
   "outputs": [],
   "source": [
    "# Predict_proba\n",
    "# Score: 0.891545\n",
    "# Public score: 0.916079"
   ]
  },
  {
   "cell_type": "markdown",
   "id": "53cab4c9",
   "metadata": {
    "papermill": {
     "duration": 0.009472,
     "end_time": "2024-01-06T15:51:22.376671",
     "exception": false,
     "start_time": "2024-01-06T15:51:22.367199",
     "status": "completed"
    },
    "tags": []
   },
   "source": [
    "# lightgbm submission"
   ]
  },
  {
   "cell_type": "code",
   "execution_count": 18,
   "id": "e3dac21f",
   "metadata": {
    "execution": {
     "iopub.execute_input": "2024-01-06T15:51:22.397100Z",
     "iopub.status.busy": "2024-01-06T15:51:22.396788Z",
     "iopub.status.idle": "2024-01-06T15:51:49.109772Z",
     "shell.execute_reply": "2024-01-06T15:51:49.108731Z"
    },
    "papermill": {
     "duration": 26.725792,
     "end_time": "2024-01-06T15:51:49.111769",
     "exception": false,
     "start_time": "2024-01-06T15:51:22.385977",
     "status": "completed"
    },
    "tags": []
   },
   "outputs": [
    {
     "name": "stdout",
     "output_type": "stream",
     "text": [
      "              precision    recall  f1-score   support\n",
      "\n",
      "           0       0.98      1.00      0.99    170963\n",
      "           1       0.89      0.44      0.59      6199\n",
      "\n",
      "    accuracy                           0.98    177162\n",
      "   macro avg       0.94      0.72      0.79    177162\n",
      "weighted avg       0.98      0.98      0.97    177162\n",
      "\n"
     ]
    },
    {
     "data": {
      "text/plain": [
       "0.927581425940798"
      ]
     },
     "execution_count": 18,
     "metadata": {},
     "output_type": "execute_result"
    }
   ],
   "source": [
    "lgbm_model = LGBMClassifier(random_state=17).fit(X_train, y_train)\n",
    "y_pred = lgbm_model.predict(X_test)\n",
    "y_prob = lgbm_model.predict_proba(X_test)[:, 1]\n",
    "print(classification_report(y_test, y_pred))\n",
    "roc_auc_score(y_test, y_prob)"
   ]
  },
  {
   "cell_type": "code",
   "execution_count": 19,
   "id": "1af8350d",
   "metadata": {
    "execution": {
     "iopub.execute_input": "2024-01-06T15:51:49.132903Z",
     "iopub.status.busy": "2024-01-06T15:51:49.132598Z",
     "iopub.status.idle": "2024-01-06T15:51:52.947896Z",
     "shell.execute_reply": "2024-01-06T15:51:52.946992Z"
    },
    "papermill": {
     "duration": 3.827978,
     "end_time": "2024-01-06T15:51:52.950011",
     "exception": false,
     "start_time": "2024-01-06T15:51:49.122033",
     "status": "completed"
    },
    "tags": []
   },
   "outputs": [
    {
     "data": {
      "text/html": [
       "<div>\n",
       "<style scoped>\n",
       "    .dataframe tbody tr th:only-of-type {\n",
       "        vertical-align: middle;\n",
       "    }\n",
       "\n",
       "    .dataframe tbody tr th {\n",
       "        vertical-align: top;\n",
       "    }\n",
       "\n",
       "    .dataframe thead th {\n",
       "        text-align: right;\n",
       "    }\n",
       "</style>\n",
       "<table border=\"1\" class=\"dataframe\">\n",
       "  <thead>\n",
       "    <tr style=\"text-align: right;\">\n",
       "      <th></th>\n",
       "      <th>TransactionID</th>\n",
       "      <th>isFraud</th>\n",
       "    </tr>\n",
       "  </thead>\n",
       "  <tbody>\n",
       "    <tr>\n",
       "      <th>0</th>\n",
       "      <td>3663549</td>\n",
       "      <td>0.002412</td>\n",
       "    </tr>\n",
       "    <tr>\n",
       "      <th>1</th>\n",
       "      <td>3663550</td>\n",
       "      <td>0.005560</td>\n",
       "    </tr>\n",
       "    <tr>\n",
       "      <th>2</th>\n",
       "      <td>3663551</td>\n",
       "      <td>0.015577</td>\n",
       "    </tr>\n",
       "    <tr>\n",
       "      <th>3</th>\n",
       "      <td>3663552</td>\n",
       "      <td>0.002708</td>\n",
       "    </tr>\n",
       "    <tr>\n",
       "      <th>4</th>\n",
       "      <td>3663553</td>\n",
       "      <td>0.002984</td>\n",
       "    </tr>\n",
       "  </tbody>\n",
       "</table>\n",
       "</div>"
      ],
      "text/plain": [
       "   TransactionID   isFraud\n",
       "0        3663549  0.002412\n",
       "1        3663550  0.005560\n",
       "2        3663551  0.015577\n",
       "3        3663552  0.002708\n",
       "4        3663553  0.002984"
      ]
     },
     "execution_count": 19,
     "metadata": {},
     "output_type": "execute_result"
    }
   ],
   "source": [
    "predictions_lgbm = lgbm_model.predict_proba(test_df)[:,1]\n",
    "submission = pd.DataFrame({'TransactionID':test_transaction['TransactionID'],'isFraud':predictions_lgbm})\n",
    "submission[\"TransactionID\"]=submission[\"TransactionID\"].astype(int)\n",
    "submission.head()"
   ]
  },
  {
   "cell_type": "code",
   "execution_count": 20,
   "id": "8efd0dff",
   "metadata": {
    "execution": {
     "iopub.execute_input": "2024-01-06T15:51:52.972113Z",
     "iopub.status.busy": "2024-01-06T15:51:52.971290Z",
     "iopub.status.idle": "2024-01-06T15:51:54.870813Z",
     "shell.execute_reply": "2024-01-06T15:51:54.869582Z"
    },
    "papermill": {
     "duration": 1.912727,
     "end_time": "2024-01-06T15:51:54.872859",
     "exception": false,
     "start_time": "2024-01-06T15:51:52.960132",
     "status": "completed"
    },
    "tags": []
   },
   "outputs": [
    {
     "name": "stdout",
     "output_type": "stream",
     "text": [
      "Saved file: CIS Fraud Detection base model lgbm.csv\n"
     ]
    }
   ],
   "source": [
    "filename = 'CIS Fraud Detection base model lgbm.csv'\n",
    "\n",
    "submission.to_csv(filename,index=False)\n",
    "\n",
    "print('Saved file: ' + filename)"
   ]
  },
  {
   "cell_type": "code",
   "execution_count": 21,
   "id": "7b440ef5",
   "metadata": {
    "execution": {
     "iopub.execute_input": "2024-01-06T15:51:54.894208Z",
     "iopub.status.busy": "2024-01-06T15:51:54.893915Z",
     "iopub.status.idle": "2024-01-06T15:51:54.897688Z",
     "shell.execute_reply": "2024-01-06T15:51:54.896844Z"
    },
    "papermill": {
     "duration": 0.016564,
     "end_time": "2024-01-06T15:51:54.899650",
     "exception": false,
     "start_time": "2024-01-06T15:51:54.883086",
     "status": "completed"
    },
    "tags": []
   },
   "outputs": [],
   "source": [
    "# Predict_proba\n",
    "# Private Score: 0.894476\n",
    "# Public score: 0.920603"
   ]
  },
  {
   "cell_type": "code",
   "execution_count": null,
   "id": "32a67848",
   "metadata": {
    "papermill": {
     "duration": 0.00975,
     "end_time": "2024-01-06T15:51:54.919223",
     "exception": false,
     "start_time": "2024-01-06T15:51:54.909473",
     "status": "completed"
    },
    "tags": []
   },
   "outputs": [],
   "source": []
  }
 ],
 "metadata": {
  "kaggle": {
   "accelerator": "gpu",
   "dataSources": [
    {
     "databundleVersionId": 568274,
     "sourceId": 14242,
     "sourceType": "competition"
    }
   ],
   "isGpuEnabled": true,
   "isInternetEnabled": true,
   "language": "python",
   "sourceType": "notebook"
  },
  "kernelspec": {
   "display_name": "Python 3",
   "language": "python",
   "name": "python3"
  },
  "language_info": {
   "codemirror_mode": {
    "name": "ipython",
    "version": 3
   },
   "file_extension": ".py",
   "mimetype": "text/x-python",
   "name": "python",
   "nbconvert_exporter": "python",
   "pygments_lexer": "ipython3",
   "version": "3.10.12"
  },
  "papermill": {
   "default_parameters": {},
   "duration": 1796.02986,
   "end_time": "2024-01-06T15:51:56.354497",
   "environment_variables": {},
   "exception": null,
   "input_path": "__notebook__.ipynb",
   "output_path": "__notebook__.ipynb",
   "parameters": {},
   "start_time": "2024-01-06T15:22:00.324637",
   "version": "2.3.3"
  }
 },
 "nbformat": 4,
 "nbformat_minor": 5
}
