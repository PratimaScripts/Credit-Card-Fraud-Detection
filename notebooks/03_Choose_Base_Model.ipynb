{
 "cells": [
  {
   "cell_type": "markdown",
   "id": "af1af119",
   "metadata": {
    "papermill": {
     "duration": 0.007654,
     "end_time": "2024-01-06T17:45:22.507614",
     "exception": false,
     "start_time": "2024-01-06T17:45:22.499960",
     "status": "completed"
    },
    "tags": []
   },
   "source": [
    "<a href=\"https://www.kaggle.com/code/pratimascripts/03-choose-base-model?scriptVersionId=157946587\" target=\"_blank\"><img align=\"left\" alt=\"Kaggle\" title=\"Open in Kaggle\" src=\"https://kaggle.com/static/images/open-in-kaggle.svg\"></a>"
   ]
  },
  {
   "cell_type": "code",
   "execution_count": 1,
   "id": "3a47b4cd",
   "metadata": {
    "execution": {
     "iopub.execute_input": "2024-01-06T17:45:22.523521Z",
     "iopub.status.busy": "2024-01-06T17:45:22.522918Z",
     "iopub.status.idle": "2024-01-06T17:45:28.150367Z",
     "shell.execute_reply": "2024-01-06T17:45:28.149641Z"
    },
    "papermill": {
     "duration": 5.637883,
     "end_time": "2024-01-06T17:45:28.152705",
     "exception": false,
     "start_time": "2024-01-06T17:45:22.514822",
     "status": "completed"
    },
    "tags": []
   },
   "outputs": [
    {
     "name": "stderr",
     "output_type": "stream",
     "text": [
      "/opt/conda/lib/python3.10/site-packages/scipy/__init__.py:146: UserWarning: A NumPy version >=1.16.5 and <1.23.0 is required for this version of SciPy (detected version 1.24.3\n",
      "  warnings.warn(f\"A NumPy version >={np_minversion} and <{np_maxversion}\"\n",
      "/opt/conda/lib/python3.10/site-packages/dask/dataframe/_pyarrow_compat.py:23: UserWarning: You are using pyarrow version 11.0.0 which is known to be insecure. See https://www.cve.org/CVERecord?id=CVE-2023-47248 for further details. Please upgrade to pyarrow>=14.0.1 or install pyarrow-hotfix to patch your current version.\n",
      "  warnings.warn(\n"
     ]
    }
   ],
   "source": [
    "import numpy as np\n",
    "import pandas as pd\n",
    "import seaborn as sns\n",
    "import matplotlib.pyplot as plt\n",
    "from sklearn.metrics import accuracy_score\n",
    "from sklearn.model_selection import train_test_split,cross_val_score,GridSearchCV,cross_validate\n",
    "from sklearn.ensemble import RandomForestClassifier,RandomForestRegressor,VotingClassifier\n",
    "from sklearn.preprocessing import MinMaxScaler,LabelEncoder, StandardScaler, RobustScaler\n",
    "from sklearn.impute import KNNImputer\n",
    "from sklearn.linear_model import LogisticRegression,LinearRegression, Ridge, Lasso, ElasticNet\n",
    "import numpy as np\n",
    "from sklearn.metrics import mean_squared_error, mean_absolute_error\n",
    "import warnings\n",
    "from sklearn.exceptions import ConvergenceWarning\n",
    "from sklearn.neighbors import KNeighborsRegressor\n",
    "from sklearn.tree import DecisionTreeRegressor\n",
    "from sklearn.svm import SVR\n",
    "from sklearn.ensemble import RandomForestRegressor, GradientBoostingRegressor,VotingRegressor\n",
    "from sklearn.metrics import accuracy_score,recall_score,precision_score,f1_score,roc_auc_score\n",
    "from sklearn.metrics import r2_score, mean_squared_error\n",
    "from sklearn.neighbors import KNeighborsClassifier\n",
    "from sklearn.tree import DecisionTreeClassifier\n",
    "from xgboost import XGBClassifier\n",
    "from lightgbm import LGBMClassifier\n",
    "from catboost import CatBoostClassifier\n",
    "from sklearn.ensemble import RandomForestClassifier, GradientBoostingClassifier, VotingClassifier, AdaBoostClassifier\n",
    "from sklearn.model_selection import cross_validate, GridSearchCV\n",
    "from sklearn.neighbors import KNeighborsClassifier\n",
    "from sklearn.svm import SVC\n",
    "from sklearn.neighbors import LocalOutlierFactor\n",
    "from sklearn.metrics import classification_report"
   ]
  },
  {
   "cell_type": "code",
   "execution_count": 2,
   "id": "990b6ab2",
   "metadata": {
    "execution": {
     "iopub.execute_input": "2024-01-06T17:45:28.169197Z",
     "iopub.status.busy": "2024-01-06T17:45:28.168921Z",
     "iopub.status.idle": "2024-01-06T17:45:28.173105Z",
     "shell.execute_reply": "2024-01-06T17:45:28.172292Z"
    },
    "papermill": {
     "duration": 0.014404,
     "end_time": "2024-01-06T17:45:28.174936",
     "exception": false,
     "start_time": "2024-01-06T17:45:28.160532",
     "status": "completed"
    },
    "tags": []
   },
   "outputs": [],
   "source": [
    "warnings.simplefilter(\"ignore\")\n",
    "pd.set_option('display.max_columns', None)\n",
    "pd.set_option('display.max_rows', None)"
   ]
  },
  {
   "cell_type": "code",
   "execution_count": 3,
   "id": "44e9a76d",
   "metadata": {
    "execution": {
     "iopub.execute_input": "2024-01-06T17:45:28.190896Z",
     "iopub.status.busy": "2024-01-06T17:45:28.190464Z",
     "iopub.status.idle": "2024-01-06T17:46:21.918499Z",
     "shell.execute_reply": "2024-01-06T17:46:21.917702Z"
    },
    "papermill": {
     "duration": 53.738664,
     "end_time": "2024-01-06T17:46:21.920925",
     "exception": false,
     "start_time": "2024-01-06T17:45:28.182261",
     "status": "completed"
    },
    "tags": []
   },
   "outputs": [],
   "source": [
    "train_transaction=pd.read_csv('../input/ieee-fraud-detection/train_transaction.csv')\n",
    "train_identity=pd.read_csv('../input/ieee-fraud-detection/train_identity.csv')\n",
    "test_transaction=pd.read_csv('../input/ieee-fraud-detection/test_transaction.csv')\n",
    "test_identity=pd.read_csv('../input/ieee-fraud-detection/test_identity.csv')\n",
    "sample_submission=pd.read_csv('../input/ieee-fraud-detection/sample_submission.csv')"
   ]
  },
  {
   "cell_type": "code",
   "execution_count": 4,
   "id": "832bbfb5",
   "metadata": {
    "execution": {
     "iopub.execute_input": "2024-01-06T17:46:21.937338Z",
     "iopub.status.busy": "2024-01-06T17:46:21.937062Z",
     "iopub.status.idle": "2024-01-06T17:46:23.951154Z",
     "shell.execute_reply": "2024-01-06T17:46:23.950364Z"
    },
    "papermill": {
     "duration": 2.02476,
     "end_time": "2024-01-06T17:46:23.953557",
     "exception": false,
     "start_time": "2024-01-06T17:46:21.928797",
     "status": "completed"
    },
    "tags": []
   },
   "outputs": [],
   "source": [
    "train_df = train_transaction.merge(train_identity, how=\"left\", on=\"TransactionID\")\n",
    "\n",
    "test_df = test_transaction.merge(test_identity, how=\"left\", on=\"TransactionID\")"
   ]
  },
  {
   "cell_type": "code",
   "execution_count": 5,
   "id": "b021867e",
   "metadata": {
    "execution": {
     "iopub.execute_input": "2024-01-06T17:46:23.969959Z",
     "iopub.status.busy": "2024-01-06T17:46:23.969675Z",
     "iopub.status.idle": "2024-01-06T17:46:26.169618Z",
     "shell.execute_reply": "2024-01-06T17:46:26.168713Z"
    },
    "papermill": {
     "duration": 2.210748,
     "end_time": "2024-01-06T17:46:26.172066",
     "exception": false,
     "start_time": "2024-01-06T17:46:23.961318",
     "status": "completed"
    },
    "tags": []
   },
   "outputs": [],
   "source": [
    "test_df= test_df.rename(columns=lambda x:\"_\".join(x.split(\"-\")))"
   ]
  },
  {
   "cell_type": "markdown",
   "id": "b00b144d",
   "metadata": {
    "papermill": {
     "duration": 0.007346,
     "end_time": "2024-01-06T17:46:26.187199",
     "exception": false,
     "start_time": "2024-01-06T17:46:26.179853",
     "status": "completed"
    },
    "tags": []
   },
   "source": [
    "## Reduce Memory"
   ]
  },
  {
   "cell_type": "code",
   "execution_count": 6,
   "id": "02a5c806",
   "metadata": {
    "execution": {
     "iopub.execute_input": "2024-01-06T17:46:26.203156Z",
     "iopub.status.busy": "2024-01-06T17:46:26.202835Z",
     "iopub.status.idle": "2024-01-06T17:46:26.214873Z",
     "shell.execute_reply": "2024-01-06T17:46:26.214131Z"
    },
    "papermill": {
     "duration": 0.022225,
     "end_time": "2024-01-06T17:46:26.216723",
     "exception": false,
     "start_time": "2024-01-06T17:46:26.194498",
     "status": "completed"
    },
    "tags": []
   },
   "outputs": [],
   "source": [
    "def reduce_mem_usage(df, verbose=True):\n",
    "    numerics = ['int16', 'int32', 'int64', 'float16', 'float32', 'float64']\n",
    "    start_mem = df.memory_usage().sum() / 1024**2    \n",
    "    for col in df.columns:\n",
    "        col_type = df[col].dtypes\n",
    "        if col_type in numerics:\n",
    "            c_min = df[col].min()\n",
    "            c_max = df[col].max()\n",
    "            if str(col_type)[:3] == 'int':\n",
    "                if c_min > np.iinfo(np.int8).min and c_max < np.iinfo(np.int8).max:\n",
    "                    df[col] = df[col].astype(np.int8)\n",
    "                elif c_min > np.iinfo(np.int16).min and c_max < np.iinfo(np.int16).max:\n",
    "                    df[col] = df[col].astype(np.int16)\n",
    "                elif c_min > np.iinfo(np.int32).min and c_max < np.iinfo(np.int32).max:\n",
    "                    df[col] = df[col].astype(np.int32)\n",
    "                elif c_min > np.iinfo(np.int64).min and c_max < np.iinfo(np.int64).max:\n",
    "                    df[col] = df[col].astype(np.int64)  \n",
    "            else:\n",
    "                if c_min > np.finfo(np.float16).min and c_max < np.finfo(np.float16).max:\n",
    "                    df[col] = df[col].astype(np.float16)\n",
    "                elif c_min > np.finfo(np.float32).min and c_max < np.finfo(np.float32).max:\n",
    "                    df[col] = df[col].astype(np.float32)\n",
    "                else:\n",
    "                    df[col] = df[col].astype(np.float64)    \n",
    "    end_mem = df.memory_usage().sum() / 1024**2\n",
    "    if verbose: print('Mem. usage decreased to {:5.2f} Mb ({:.1f}% reduction)'.format(end_mem, 100 * (start_mem - end_mem) / start_mem))\n",
    "    return df"
   ]
  },
  {
   "cell_type": "code",
   "execution_count": 7,
   "id": "0a2487cb",
   "metadata": {
    "execution": {
     "iopub.execute_input": "2024-01-06T17:46:26.232452Z",
     "iopub.status.busy": "2024-01-06T17:46:26.232143Z",
     "iopub.status.idle": "2024-01-06T17:46:32.967334Z",
     "shell.execute_reply": "2024-01-06T17:46:32.966295Z"
    },
    "papermill": {
     "duration": 6.74559,
     "end_time": "2024-01-06T17:46:32.969625",
     "exception": false,
     "start_time": "2024-01-06T17:46:26.224035",
     "status": "completed"
    },
    "tags": []
   },
   "outputs": [
    {
     "name": "stdout",
     "output_type": "stream",
     "text": [
      "Mem. usage decreased to 645.97 Mb (67.0% reduction)\n",
      "Mem. usage decreased to 561.50 Mb (66.5% reduction)\n"
     ]
    }
   ],
   "source": [
    "train_df = reduce_mem_usage(train_df)\n",
    "test_df  = reduce_mem_usage(test_df)"
   ]
  },
  {
   "cell_type": "markdown",
   "id": "ede49231",
   "metadata": {
    "papermill": {
     "duration": 0.007377,
     "end_time": "2024-01-06T17:46:32.985547",
     "exception": false,
     "start_time": "2024-01-06T17:46:32.978170",
     "status": "completed"
    },
    "tags": []
   },
   "source": [
    "# Filling Missing Values\n"
   ]
  },
  {
   "cell_type": "code",
   "execution_count": 8,
   "id": "8a2ec64d",
   "metadata": {
    "execution": {
     "iopub.execute_input": "2024-01-06T17:46:33.002123Z",
     "iopub.status.busy": "2024-01-06T17:46:33.001563Z",
     "iopub.status.idle": "2024-01-06T17:46:38.917308Z",
     "shell.execute_reply": "2024-01-06T17:46:38.916323Z"
    },
    "papermill": {
     "duration": 5.926704,
     "end_time": "2024-01-06T17:46:38.919928",
     "exception": false,
     "start_time": "2024-01-06T17:46:32.993224",
     "status": "completed"
    },
    "tags": []
   },
   "outputs": [],
   "source": [
    "train_df = train_df.fillna(-999)\n",
    "test_df = test_df.fillna(-999)"
   ]
  },
  {
   "cell_type": "markdown",
   "id": "994618c5",
   "metadata": {
    "papermill": {
     "duration": 0.007843,
     "end_time": "2024-01-06T17:46:38.936162",
     "exception": false,
     "start_time": "2024-01-06T17:46:38.928319",
     "status": "completed"
    },
    "tags": []
   },
   "source": [
    "# Label Encoder"
   ]
  },
  {
   "cell_type": "code",
   "execution_count": 9,
   "id": "8161934d",
   "metadata": {
    "execution": {
     "iopub.execute_input": "2024-01-06T17:46:38.952874Z",
     "iopub.status.busy": "2024-01-06T17:46:38.952500Z",
     "iopub.status.idle": "2024-01-06T17:47:08.960645Z",
     "shell.execute_reply": "2024-01-06T17:47:08.959825Z"
    },
    "papermill": {
     "duration": 30.019037,
     "end_time": "2024-01-06T17:47:08.962999",
     "exception": false,
     "start_time": "2024-01-06T17:46:38.943962",
     "status": "completed"
    },
    "tags": []
   },
   "outputs": [],
   "source": [
    "for f in train_df.columns:\n",
    "    if train_df[f].dtype=='object': \n",
    "        lbl = LabelEncoder()\n",
    "        lbl.fit(list(train_df[f].values))\n",
    "        train_df[f] = lbl.transform(list(train_df[f].values)) "
   ]
  },
  {
   "cell_type": "code",
   "execution_count": 10,
   "id": "6a67bc3f",
   "metadata": {
    "execution": {
     "iopub.execute_input": "2024-01-06T17:47:08.979927Z",
     "iopub.status.busy": "2024-01-06T17:47:08.979629Z",
     "iopub.status.idle": "2024-01-06T17:47:34.419501Z",
     "shell.execute_reply": "2024-01-06T17:47:34.418727Z"
    },
    "papermill": {
     "duration": 25.45075,
     "end_time": "2024-01-06T17:47:34.421798",
     "exception": false,
     "start_time": "2024-01-06T17:47:08.971048",
     "status": "completed"
    },
    "tags": []
   },
   "outputs": [],
   "source": [
    "for f in test_df.columns:\n",
    "    if test_df[f].dtype=='object': \n",
    "        lbl = LabelEncoder()\n",
    "        lbl.fit(list(test_df[f].values))\n",
    "        test_df[f] = lbl.transform(list(test_df[f].values))"
   ]
  },
  {
   "cell_type": "markdown",
   "id": "c9561d78",
   "metadata": {
    "papermill": {
     "duration": 0.007381,
     "end_time": "2024-01-06T17:47:34.437067",
     "exception": false,
     "start_time": "2024-01-06T17:47:34.429686",
     "status": "completed"
    },
    "tags": []
   },
   "source": [
    "# Model"
   ]
  },
  {
   "cell_type": "code",
   "execution_count": 11,
   "id": "8d9bbca4",
   "metadata": {
    "execution": {
     "iopub.execute_input": "2024-01-06T17:47:34.453204Z",
     "iopub.status.busy": "2024-01-06T17:47:34.452900Z",
     "iopub.status.idle": "2024-01-06T17:47:36.073872Z",
     "shell.execute_reply": "2024-01-06T17:47:36.073078Z"
    },
    "papermill": {
     "duration": 1.631625,
     "end_time": "2024-01-06T17:47:36.076205",
     "exception": false,
     "start_time": "2024-01-06T17:47:34.444580",
     "status": "completed"
    },
    "tags": []
   },
   "outputs": [],
   "source": [
    "y = train_df[\"isFraud\"]\n",
    "X = train_df.drop([\"isFraud\"], axis=1)"
   ]
  },
  {
   "cell_type": "code",
   "execution_count": 12,
   "id": "b5096478",
   "metadata": {
    "execution": {
     "iopub.execute_input": "2024-01-06T17:47:36.092949Z",
     "iopub.status.busy": "2024-01-06T17:47:36.092661Z",
     "iopub.status.idle": "2024-01-06T17:47:39.280885Z",
     "shell.execute_reply": "2024-01-06T17:47:39.280105Z"
    },
    "papermill": {
     "duration": 3.199327,
     "end_time": "2024-01-06T17:47:39.283602",
     "exception": false,
     "start_time": "2024-01-06T17:47:36.084275",
     "status": "completed"
    },
    "tags": []
   },
   "outputs": [],
   "source": [
    "X_train, X_test, y_train, y_test = train_test_split(X, y, test_size=0.3, random_state=0, stratify=y)"
   ]
  },
  {
   "cell_type": "code",
   "execution_count": 13,
   "id": "839d4552",
   "metadata": {
    "execution": {
     "iopub.execute_input": "2024-01-06T17:47:39.300828Z",
     "iopub.status.busy": "2024-01-06T17:47:39.300092Z",
     "iopub.status.idle": "2024-01-06T18:12:36.396809Z",
     "shell.execute_reply": "2024-01-06T18:12:36.395612Z"
    },
    "papermill": {
     "duration": 1497.10749,
     "end_time": "2024-01-06T18:12:36.399069",
     "exception": false,
     "start_time": "2024-01-06T17:47:39.291579",
     "status": "completed"
    },
    "tags": []
   },
   "outputs": [
    {
     "name": "stdout",
     "output_type": "stream",
     "text": [
      " CART for train\n",
      "              precision    recall  f1-score   support\n",
      "\n",
      "           0       1.00      1.00      1.00    398914\n",
      "           1       1.00      1.00      1.00     14464\n",
      "\n",
      "    accuracy                           1.00    413378\n",
      "   macro avg       1.00      1.00      1.00    413378\n",
      "weighted avg       1.00      1.00      1.00    413378\n",
      "\n",
      " AUC: 1.0\n",
      "-----------------------------------------------------\n",
      " CART for test\n",
      "              precision    recall  f1-score   support\n",
      "\n",
      "           0       0.98      0.98      0.98    170963\n",
      "           1       0.54      0.58      0.56      6199\n",
      "\n",
      "    accuracy                           0.97    177162\n",
      "   macro avg       0.76      0.78      0.77    177162\n",
      "weighted avg       0.97      0.97      0.97    177162\n",
      "\n",
      " AUC: 0.7808325683546163\n",
      "######################################################\n",
      " RF for train\n",
      "              precision    recall  f1-score   support\n",
      "\n",
      "           0       1.00      1.00      1.00    398914\n",
      "           1       1.00      1.00      1.00     14464\n",
      "\n",
      "    accuracy                           1.00    413378\n",
      "   macro avg       1.00      1.00      1.00    413378\n",
      "weighted avg       1.00      1.00      1.00    413378\n",
      "\n",
      " AUC: 1.0\n",
      "-----------------------------------------------------\n",
      " RF for test\n",
      "              precision    recall  f1-score   support\n",
      "\n",
      "           0       0.98      1.00      0.99    170963\n",
      "           1       0.94      0.44      0.60      6199\n",
      "\n",
      "    accuracy                           0.98    177162\n",
      "   macro avg       0.96      0.72      0.80    177162\n",
      "weighted avg       0.98      0.98      0.98    177162\n",
      "\n",
      " AUC: 0.9283862733574422\n",
      "######################################################\n",
      " Adaboost for train\n",
      "              precision    recall  f1-score   support\n",
      "\n",
      "           0       0.97      1.00      0.99    398914\n",
      "           1       0.82      0.26      0.39     14464\n",
      "\n",
      "    accuracy                           0.97    413378\n",
      "   macro avg       0.89      0.63      0.69    413378\n",
      "weighted avg       0.97      0.97      0.96    413378\n",
      "\n",
      " AUC: 0.8745688317981328\n",
      "-----------------------------------------------------\n",
      " Adaboost for test\n",
      "              precision    recall  f1-score   support\n",
      "\n",
      "           0       0.97      1.00      0.99    170963\n",
      "           1       0.81      0.27      0.40      6199\n",
      "\n",
      "    accuracy                           0.97    177162\n",
      "   macro avg       0.89      0.63      0.69    177162\n",
      "weighted avg       0.97      0.97      0.97    177162\n",
      "\n",
      " AUC: 0.8729177640773244\n",
      "######################################################\n",
      " GBM for train\n",
      "              precision    recall  f1-score   support\n",
      "\n",
      "           0       0.98      1.00      0.99    398914\n",
      "           1       0.88      0.31      0.46     14464\n",
      "\n",
      "    accuracy                           0.97    413378\n",
      "   macro avg       0.93      0.65      0.72    413378\n",
      "weighted avg       0.97      0.97      0.97    413378\n",
      "\n",
      " AUC: 0.8804548868464662\n",
      "-----------------------------------------------------\n",
      " GBM for test\n",
      "              precision    recall  f1-score   support\n",
      "\n",
      "           0       0.98      1.00      0.99    170963\n",
      "           1       0.87      0.31      0.45      6199\n",
      "\n",
      "    accuracy                           0.97    177162\n",
      "   macro avg       0.92      0.65      0.72    177162\n",
      "weighted avg       0.97      0.97      0.97    177162\n",
      "\n",
      " AUC: 0.8781757475729348\n",
      "######################################################\n",
      " XGBoost for train\n",
      "              precision    recall  f1-score   support\n",
      "\n",
      "           0       0.98      1.00      0.99    398914\n",
      "           1       0.96      0.56      0.70     14464\n",
      "\n",
      "    accuracy                           0.98    413378\n",
      "   macro avg       0.97      0.78      0.85    413378\n",
      "weighted avg       0.98      0.98      0.98    413378\n",
      "\n",
      " AUC: 0.9609319655810771\n",
      "-----------------------------------------------------\n",
      " XGBoost for test\n",
      "              precision    recall  f1-score   support\n",
      "\n",
      "           0       0.98      1.00      0.99    170963\n",
      "           1       0.92      0.49      0.64      6199\n",
      "\n",
      "    accuracy                           0.98    177162\n",
      "   macro avg       0.95      0.75      0.82    177162\n",
      "weighted avg       0.98      0.98      0.98    177162\n",
      "\n",
      " AUC: 0.9411879138999932\n",
      "######################################################\n",
      " LightGBM for train\n",
      "              precision    recall  f1-score   support\n",
      "\n",
      "           0       0.98      1.00      0.99    398914\n",
      "           1       0.91      0.46      0.61     14464\n",
      "\n",
      "    accuracy                           0.98    413378\n",
      "   macro avg       0.95      0.73      0.80    413378\n",
      "weighted avg       0.98      0.98      0.98    413378\n",
      "\n",
      " AUC: 0.9430446657351146\n",
      "-----------------------------------------------------\n",
      " LightGBM for test\n",
      "              precision    recall  f1-score   support\n",
      "\n",
      "           0       0.98      1.00      0.99    170963\n",
      "           1       0.90      0.44      0.59      6199\n",
      "\n",
      "    accuracy                           0.98    177162\n",
      "   macro avg       0.94      0.72      0.79    177162\n",
      "weighted avg       0.98      0.98      0.98    177162\n",
      "\n",
      " AUC: 0.9274101709283753\n",
      "######################################################\n"
     ]
    }
   ],
   "source": [
    "classifiers = [(\"CART\", DecisionTreeClassifier()),\n",
    "               (\"RF\", RandomForestClassifier()),\n",
    "               ('Adaboost', AdaBoostClassifier()),\n",
    "               ('GBM', GradientBoostingClassifier()),\n",
    "               ('XGBoost', XGBClassifier()),\n",
    "               ('LightGBM', LGBMClassifier()),\n",
    "               ]\n",
    "\n",
    "    \n",
    "for name, classifier in classifiers:\n",
    "    print(f\" {name} for train\")\n",
    "    model = classifier.fit(X_train, y_train)\n",
    "    y_pred = model.predict(X_train)\n",
    "    y_prob = model.predict_proba(X_train)[:, 1]\n",
    "    print(classification_report(y_train, y_pred))\n",
    "    print(f\" AUC: {roc_auc_score(y_train, y_prob)}\")\n",
    "    print(\"-----------------------------------------------------\")\n",
    "    print(f\" {name} for test\")\n",
    "    y_pred = model.predict(X_test)\n",
    "    y_prob = model.predict_proba(X_test)[:, 1]\n",
    "    print(classification_report(y_test, y_pred))\n",
    "    print(f\" AUC: {roc_auc_score(y_test, y_prob)}\")\n",
    "    print(\"######################################################\")"
   ]
  },
  {
   "cell_type": "markdown",
   "id": "d3d54cc0",
   "metadata": {
    "papermill": {
     "duration": 0.008776,
     "end_time": "2024-01-06T18:12:36.416659",
     "exception": false,
     "start_time": "2024-01-06T18:12:36.407883",
     "status": "completed"
    },
    "tags": []
   },
   "source": [
    "## Choosing LightGBM and XGBoost"
   ]
  },
  {
   "cell_type": "markdown",
   "id": "3e7316d4",
   "metadata": {
    "papermill": {
     "duration": 0.010249,
     "end_time": "2024-01-06T18:12:36.435438",
     "exception": false,
     "start_time": "2024-01-06T18:12:36.425189",
     "status": "completed"
    },
    "tags": []
   },
   "source": [
    "# XGBoost Submission"
   ]
  },
  {
   "cell_type": "code",
   "execution_count": 14,
   "id": "63858299",
   "metadata": {
    "execution": {
     "iopub.execute_input": "2024-01-06T18:12:36.461743Z",
     "iopub.status.busy": "2024-01-06T18:12:36.460692Z",
     "iopub.status.idle": "2024-01-06T18:13:14.439493Z",
     "shell.execute_reply": "2024-01-06T18:13:14.438624Z"
    },
    "papermill": {
     "duration": 38.003589,
     "end_time": "2024-01-06T18:13:14.450787",
     "exception": false,
     "start_time": "2024-01-06T18:12:36.447198",
     "status": "completed"
    },
    "tags": []
   },
   "outputs": [
    {
     "name": "stdout",
     "output_type": "stream",
     "text": [
      "              precision    recall  f1-score   support\n",
      "\n",
      "           0       0.98      1.00      0.99    170963\n",
      "           1       0.92      0.49      0.64      6199\n",
      "\n",
      "    accuracy                           0.98    177162\n",
      "   macro avg       0.95      0.75      0.82    177162\n",
      "weighted avg       0.98      0.98      0.98    177162\n",
      "\n"
     ]
    },
    {
     "data": {
      "text/plain": [
       "0.9411879138999932"
      ]
     },
     "execution_count": 14,
     "metadata": {},
     "output_type": "execute_result"
    }
   ],
   "source": [
    "xgboost_model = XGBClassifier(random_state=17).fit(X_train, y_train)\n",
    "y_pred = xgboost_model.predict(X_test)\n",
    "y_prob = xgboost_model.predict_proba(X_test)[:, 1]\n",
    "print(classification_report(y_test, y_pred))\n",
    "roc_auc_score(y_test, y_prob)"
   ]
  },
  {
   "cell_type": "code",
   "execution_count": 15,
   "id": "3160cd43",
   "metadata": {
    "execution": {
     "iopub.execute_input": "2024-01-06T18:13:14.470945Z",
     "iopub.status.busy": "2024-01-06T18:13:14.470622Z",
     "iopub.status.idle": "2024-01-06T18:13:17.178366Z",
     "shell.execute_reply": "2024-01-06T18:13:17.177466Z"
    },
    "papermill": {
     "duration": 2.720799,
     "end_time": "2024-01-06T18:13:17.180519",
     "exception": false,
     "start_time": "2024-01-06T18:13:14.459720",
     "status": "completed"
    },
    "tags": []
   },
   "outputs": [
    {
     "data": {
      "text/html": [
       "<div>\n",
       "<style scoped>\n",
       "    .dataframe tbody tr th:only-of-type {\n",
       "        vertical-align: middle;\n",
       "    }\n",
       "\n",
       "    .dataframe tbody tr th {\n",
       "        vertical-align: top;\n",
       "    }\n",
       "\n",
       "    .dataframe thead th {\n",
       "        text-align: right;\n",
       "    }\n",
       "</style>\n",
       "<table border=\"1\" class=\"dataframe\">\n",
       "  <thead>\n",
       "    <tr style=\"text-align: right;\">\n",
       "      <th></th>\n",
       "      <th>TransactionID</th>\n",
       "      <th>isFraud</th>\n",
       "    </tr>\n",
       "  </thead>\n",
       "  <tbody>\n",
       "    <tr>\n",
       "      <th>0</th>\n",
       "      <td>3663549</td>\n",
       "      <td>0.002376</td>\n",
       "    </tr>\n",
       "    <tr>\n",
       "      <th>1</th>\n",
       "      <td>3663550</td>\n",
       "      <td>0.001131</td>\n",
       "    </tr>\n",
       "    <tr>\n",
       "      <th>2</th>\n",
       "      <td>3663551</td>\n",
       "      <td>0.008657</td>\n",
       "    </tr>\n",
       "    <tr>\n",
       "      <th>3</th>\n",
       "      <td>3663552</td>\n",
       "      <td>0.001729</td>\n",
       "    </tr>\n",
       "    <tr>\n",
       "      <th>4</th>\n",
       "      <td>3663553</td>\n",
       "      <td>0.002027</td>\n",
       "    </tr>\n",
       "  </tbody>\n",
       "</table>\n",
       "</div>"
      ],
      "text/plain": [
       "   TransactionID   isFraud\n",
       "0        3663549  0.002376\n",
       "1        3663550  0.001131\n",
       "2        3663551  0.008657\n",
       "3        3663552  0.001729\n",
       "4        3663553  0.002027"
      ]
     },
     "execution_count": 15,
     "metadata": {},
     "output_type": "execute_result"
    }
   ],
   "source": [
    "predictions_xgboost = xgboost_model.predict_proba(test_df)[:,1]\n",
    "submission = pd.DataFrame({'TransactionID':test_transaction['TransactionID'],'isFraud':predictions_xgboost})\n",
    "submission[\"TransactionID\"]=submission[\"TransactionID\"].astype(int)\n",
    "submission.head()"
   ]
  },
  {
   "cell_type": "code",
   "execution_count": 16,
   "id": "4fd60fcc",
   "metadata": {
    "execution": {
     "iopub.execute_input": "2024-01-06T18:13:17.201119Z",
     "iopub.status.busy": "2024-01-06T18:13:17.200823Z",
     "iopub.status.idle": "2024-01-06T18:13:18.736684Z",
     "shell.execute_reply": "2024-01-06T18:13:18.735626Z"
    },
    "papermill": {
     "duration": 1.548248,
     "end_time": "2024-01-06T18:13:18.738925",
     "exception": false,
     "start_time": "2024-01-06T18:13:17.190677",
     "status": "completed"
    },
    "tags": []
   },
   "outputs": [
    {
     "name": "stdout",
     "output_type": "stream",
     "text": [
      "Saved file: CIS Fraud Detection base model xgboost.csv\n"
     ]
    }
   ],
   "source": [
    "filename = 'CIS Fraud Detection base model xgboost.csv'\n",
    "\n",
    "submission.to_csv(filename,index=False)\n",
    "\n",
    "print('Saved file: ' + filename)"
   ]
  },
  {
   "cell_type": "code",
   "execution_count": 17,
   "id": "5ace1817",
   "metadata": {
    "execution": {
     "iopub.execute_input": "2024-01-06T18:13:18.758683Z",
     "iopub.status.busy": "2024-01-06T18:13:18.758374Z",
     "iopub.status.idle": "2024-01-06T18:13:18.762268Z",
     "shell.execute_reply": "2024-01-06T18:13:18.761452Z"
    },
    "papermill": {
     "duration": 0.01597,
     "end_time": "2024-01-06T18:13:18.764211",
     "exception": false,
     "start_time": "2024-01-06T18:13:18.748241",
     "status": "completed"
    },
    "tags": []
   },
   "outputs": [],
   "source": [
    "# Predict_proba\n",
    "# Score: 0.891545\n",
    "# Public score: 0.916079"
   ]
  },
  {
   "cell_type": "markdown",
   "id": "6cc46f25",
   "metadata": {
    "papermill": {
     "duration": 0.008936,
     "end_time": "2024-01-06T18:13:18.782195",
     "exception": false,
     "start_time": "2024-01-06T18:13:18.773259",
     "status": "completed"
    },
    "tags": []
   },
   "source": [
    "# LightGBM submission"
   ]
  },
  {
   "cell_type": "code",
   "execution_count": 18,
   "id": "156c0ee5",
   "metadata": {
    "execution": {
     "iopub.execute_input": "2024-01-06T18:13:18.801277Z",
     "iopub.status.busy": "2024-01-06T18:13:18.801034Z",
     "iopub.status.idle": "2024-01-06T18:13:45.560491Z",
     "shell.execute_reply": "2024-01-06T18:13:45.559518Z"
    },
    "papermill": {
     "duration": 26.771427,
     "end_time": "2024-01-06T18:13:45.562665",
     "exception": false,
     "start_time": "2024-01-06T18:13:18.791238",
     "status": "completed"
    },
    "tags": []
   },
   "outputs": [
    {
     "name": "stdout",
     "output_type": "stream",
     "text": [
      "              precision    recall  f1-score   support\n",
      "\n",
      "           0       0.98      1.00      0.99    170963\n",
      "           1       0.89      0.44      0.59      6199\n",
      "\n",
      "    accuracy                           0.98    177162\n",
      "   macro avg       0.94      0.72      0.79    177162\n",
      "weighted avg       0.98      0.98      0.97    177162\n",
      "\n"
     ]
    },
    {
     "data": {
      "text/plain": [
       "0.927581425940798"
      ]
     },
     "execution_count": 18,
     "metadata": {},
     "output_type": "execute_result"
    }
   ],
   "source": [
    "lgbm_model = LGBMClassifier(random_state=17).fit(X_train, y_train)\n",
    "y_pred = lgbm_model.predict(X_test)\n",
    "y_prob = lgbm_model.predict_proba(X_test)[:, 1]\n",
    "print(classification_report(y_test, y_pred))\n",
    "roc_auc_score(y_test, y_prob)"
   ]
  },
  {
   "cell_type": "code",
   "execution_count": 19,
   "id": "f4c0d01e",
   "metadata": {
    "execution": {
     "iopub.execute_input": "2024-01-06T18:13:45.583492Z",
     "iopub.status.busy": "2024-01-06T18:13:45.583148Z",
     "iopub.status.idle": "2024-01-06T18:13:49.612646Z",
     "shell.execute_reply": "2024-01-06T18:13:49.611650Z"
    },
    "papermill": {
     "duration": 4.042046,
     "end_time": "2024-01-06T18:13:49.614629",
     "exception": false,
     "start_time": "2024-01-06T18:13:45.572583",
     "status": "completed"
    },
    "tags": []
   },
   "outputs": [
    {
     "data": {
      "text/html": [
       "<div>\n",
       "<style scoped>\n",
       "    .dataframe tbody tr th:only-of-type {\n",
       "        vertical-align: middle;\n",
       "    }\n",
       "\n",
       "    .dataframe tbody tr th {\n",
       "        vertical-align: top;\n",
       "    }\n",
       "\n",
       "    .dataframe thead th {\n",
       "        text-align: right;\n",
       "    }\n",
       "</style>\n",
       "<table border=\"1\" class=\"dataframe\">\n",
       "  <thead>\n",
       "    <tr style=\"text-align: right;\">\n",
       "      <th></th>\n",
       "      <th>TransactionID</th>\n",
       "      <th>isFraud</th>\n",
       "    </tr>\n",
       "  </thead>\n",
       "  <tbody>\n",
       "    <tr>\n",
       "      <th>0</th>\n",
       "      <td>3663549</td>\n",
       "      <td>0.002412</td>\n",
       "    </tr>\n",
       "    <tr>\n",
       "      <th>1</th>\n",
       "      <td>3663550</td>\n",
       "      <td>0.005560</td>\n",
       "    </tr>\n",
       "    <tr>\n",
       "      <th>2</th>\n",
       "      <td>3663551</td>\n",
       "      <td>0.015577</td>\n",
       "    </tr>\n",
       "    <tr>\n",
       "      <th>3</th>\n",
       "      <td>3663552</td>\n",
       "      <td>0.002708</td>\n",
       "    </tr>\n",
       "    <tr>\n",
       "      <th>4</th>\n",
       "      <td>3663553</td>\n",
       "      <td>0.002984</td>\n",
       "    </tr>\n",
       "  </tbody>\n",
       "</table>\n",
       "</div>"
      ],
      "text/plain": [
       "   TransactionID   isFraud\n",
       "0        3663549  0.002412\n",
       "1        3663550  0.005560\n",
       "2        3663551  0.015577\n",
       "3        3663552  0.002708\n",
       "4        3663553  0.002984"
      ]
     },
     "execution_count": 19,
     "metadata": {},
     "output_type": "execute_result"
    }
   ],
   "source": [
    "predictions_lgbm = lgbm_model.predict_proba(test_df)[:,1]\n",
    "submission = pd.DataFrame({'TransactionID':test_transaction['TransactionID'],'isFraud':predictions_lgbm})\n",
    "submission[\"TransactionID\"]=submission[\"TransactionID\"].astype(int)\n",
    "submission.head()"
   ]
  },
  {
   "cell_type": "code",
   "execution_count": 20,
   "id": "f4c778da",
   "metadata": {
    "execution": {
     "iopub.execute_input": "2024-01-06T18:13:49.635606Z",
     "iopub.status.busy": "2024-01-06T18:13:49.634923Z",
     "iopub.status.idle": "2024-01-06T18:13:51.498831Z",
     "shell.execute_reply": "2024-01-06T18:13:51.497748Z"
    },
    "papermill": {
     "duration": 1.876791,
     "end_time": "2024-01-06T18:13:51.501133",
     "exception": false,
     "start_time": "2024-01-06T18:13:49.624342",
     "status": "completed"
    },
    "tags": []
   },
   "outputs": [
    {
     "name": "stdout",
     "output_type": "stream",
     "text": [
      "Saved file: CIS Fraud Detection base model lgbm.csv\n"
     ]
    }
   ],
   "source": [
    "filename = 'CIS Fraud Detection base model lgbm.csv'\n",
    "\n",
    "submission.to_csv(filename,index=False)\n",
    "\n",
    "print('Saved file: ' + filename)"
   ]
  },
  {
   "cell_type": "code",
   "execution_count": 21,
   "id": "6c28e174",
   "metadata": {
    "execution": {
     "iopub.execute_input": "2024-01-06T18:13:51.522850Z",
     "iopub.status.busy": "2024-01-06T18:13:51.522554Z",
     "iopub.status.idle": "2024-01-06T18:13:51.526176Z",
     "shell.execute_reply": "2024-01-06T18:13:51.525374Z"
    },
    "papermill": {
     "duration": 0.016369,
     "end_time": "2024-01-06T18:13:51.528058",
     "exception": false,
     "start_time": "2024-01-06T18:13:51.511689",
     "status": "completed"
    },
    "tags": []
   },
   "outputs": [],
   "source": [
    "# Predict_proba\n",
    "# Private Score: 0.894476\n",
    "# Public score: 0.920603"
   ]
  }
 ],
 "metadata": {
  "kaggle": {
   "accelerator": "gpu",
   "dataSources": [
    {
     "databundleVersionId": 568274,
     "sourceId": 14242,
     "sourceType": "competition"
    }
   ],
   "isGpuEnabled": true,
   "isInternetEnabled": true,
   "language": "python",
   "sourceType": "notebook"
  },
  "kernelspec": {
   "display_name": "Python 3",
   "language": "python",
   "name": "python3"
  },
  "language_info": {
   "codemirror_mode": {
    "name": "ipython",
    "version": 3
   },
   "file_extension": ".py",
   "mimetype": "text/x-python",
   "name": "python",
   "nbconvert_exporter": "python",
   "pygments_lexer": "ipython3",
   "version": "3.10.12"
  },
  "papermill": {
   "default_parameters": {},
   "duration": 1713.726485,
   "end_time": "2024-01-06T18:13:52.862917",
   "environment_variables": {},
   "exception": null,
   "input_path": "__notebook__.ipynb",
   "output_path": "__notebook__.ipynb",
   "parameters": {},
   "start_time": "2024-01-06T17:45:19.136432",
   "version": "2.3.3"
  }
 },
 "nbformat": 4,
 "nbformat_minor": 5
}
