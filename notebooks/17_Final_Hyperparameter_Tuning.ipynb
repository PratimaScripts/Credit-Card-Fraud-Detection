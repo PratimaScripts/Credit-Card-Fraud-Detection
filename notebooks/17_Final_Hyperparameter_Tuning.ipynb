{
 "cells": [
  {
   "cell_type": "code",
   "execution_count": 1,
   "id": "94d5049b",
   "metadata": {
    "execution": {
     "iopub.execute_input": "2024-01-13T19:11:59.076918Z",
     "iopub.status.busy": "2024-01-13T19:11:59.076541Z",
     "iopub.status.idle": "2024-01-13T19:12:02.803640Z",
     "shell.execute_reply": "2024-01-13T19:12:02.802840Z"
    },
    "executionInfo": {
     "elapsed": 8,
     "status": "ok",
     "timestamp": 1623689180870,
     "user": {
      "displayName": "Priyank Mishra",
      "photoUrl": "",
      "userId": "18008032652400229851"
     },
     "user_tz": -330
    },
    "id": "da6213d9",
    "papermill": {
     "duration": 3.737444,
     "end_time": "2024-01-13T19:12:02.805983",
     "exception": false,
     "start_time": "2024-01-13T19:11:59.068539",
     "status": "completed"
    },
    "tags": []
   },
   "outputs": [
    {
     "name": "stderr",
     "output_type": "stream",
     "text": [
      "/opt/conda/lib/python3.10/site-packages/scipy/__init__.py:146: UserWarning: A NumPy version >=1.16.5 and <1.23.0 is required for this version of SciPy (detected version 1.24.3\n",
      "  warnings.warn(f\"A NumPy version >={np_minversion} and <{np_maxversion}\"\n"
     ]
    }
   ],
   "source": [
    "import random\n",
    "import copy\n",
    "import pickle\n",
    "import numpy as np\n",
    "import pandas as pd\n",
    "import seaborn as sns\n",
    "import matplotlib.pyplot as plt\n",
    "%matplotlib inline\n",
    "import sklearn\n",
    "from sklearn import metrics\n",
    "import xgboost as xgb\n",
    "from xgboost import XGBClassifier\n",
    "from sklearn.model_selection import train_test_split\n",
    "from sklearn.preprocessing import LabelEncoder\n",
    "from sklearn.metrics import roc_auc_score\n",
    "import warnings\n",
    "warnings.filterwarnings(\"ignore\")"
   ]
  },
  {
   "cell_type": "code",
   "execution_count": 2,
   "id": "1d15a57d",
   "metadata": {
    "execution": {
     "iopub.execute_input": "2024-01-13T19:12:02.820875Z",
     "iopub.status.busy": "2024-01-13T19:12:02.820471Z",
     "iopub.status.idle": "2024-01-13T19:12:26.483112Z",
     "shell.execute_reply": "2024-01-13T19:12:26.482128Z"
    },
    "executionInfo": {
     "elapsed": 4940,
     "status": "ok",
     "timestamp": 1623672683194,
     "user": {
      "displayName": "Priyank Mishra",
      "photoUrl": "",
      "userId": "18008032652400229851"
     },
     "user_tz": -330
    },
    "id": "8bbc073b",
    "papermill": {
     "duration": 23.672407,
     "end_time": "2024-01-13T19:12:26.485502",
     "exception": false,
     "start_time": "2024-01-13T19:12:02.813095",
     "status": "completed"
    },
    "tags": []
   },
   "outputs": [],
   "source": [
    "# Loading the merged train and test dataset\n",
    "\n",
    "train_data = pd.read_pickle('../input/ieee-cis-fraud-detection-advanced-fe/advanced_fe_train.pkl')\n",
    "test_data = pd.read_pickle('../input/ieee-cis-fraud-detection-advanced-fe/advanced_fe_test.pkl')"
   ]
  },
  {
   "cell_type": "code",
   "execution_count": 3,
   "id": "1d458223",
   "metadata": {
    "execution": {
     "iopub.execute_input": "2024-01-13T19:12:26.499689Z",
     "iopub.status.busy": "2024-01-13T19:12:26.499334Z",
     "iopub.status.idle": "2024-01-13T19:12:26.504517Z",
     "shell.execute_reply": "2024-01-13T19:12:26.503692Z"
    },
    "executionInfo": {
     "elapsed": 27,
     "status": "ok",
     "timestamp": 1623672683204,
     "user": {
      "displayName": "Priyank Mishra",
      "photoUrl": "",
      "userId": "18008032652400229851"
     },
     "user_tz": -330
    },
    "id": "0480f790",
    "outputId": "1ec186e5-5ef1-41bf-db8a-a3f9589d8631",
    "papermill": {
     "duration": 0.014311,
     "end_time": "2024-01-13T19:12:26.506459",
     "exception": false,
     "start_time": "2024-01-13T19:12:26.492148",
     "status": "completed"
    },
    "tags": []
   },
   "outputs": [
    {
     "name": "stdout",
     "output_type": "stream",
     "text": [
      "*********************************************\n",
      "\n",
      " Train Data Shape : (590538, 309) \n",
      "\n",
      "\n",
      " Test Data Shape : (506691, 308) \n",
      "\n",
      "*********************************************\n"
     ]
    }
   ],
   "source": [
    "print(\"*\"*45)\n",
    "print(\"\\n Train Data Shape : {} \\n\".format(train_data.shape))\n",
    "print(\"\\n Test Data Shape : {} \\n\".format(test_data.shape))\n",
    "print(\"*\"*45)"
   ]
  },
  {
   "cell_type": "code",
   "execution_count": 4,
   "id": "2ecdb1f7",
   "metadata": {
    "execution": {
     "iopub.execute_input": "2024-01-13T19:12:26.520217Z",
     "iopub.status.busy": "2024-01-13T19:12:26.519949Z",
     "iopub.status.idle": "2024-01-13T19:12:26.531069Z",
     "shell.execute_reply": "2024-01-13T19:12:26.530256Z"
    },
    "executionInfo": {
     "elapsed": 23,
     "status": "ok",
     "timestamp": 1623672683206,
     "user": {
      "displayName": "Priyank Mishra",
      "photoUrl": "",
      "userId": "18008032652400229851"
     },
     "user_tz": -330
    },
    "id": "Ep-nqJYPSDbB",
    "papermill": {
     "duration": 0.020118,
     "end_time": "2024-01-13T19:12:26.533017",
     "exception": false,
     "start_time": "2024-01-13T19:12:26.512899",
     "status": "completed"
    },
    "tags": []
   },
   "outputs": [],
   "source": [
    "with open(\"../input/ieee-cis-fraud-detection-advanced-fe/features_having_covariate_shift.pkl\", 'rb') as handle:\n",
    "  drop_cols = pickle.load(handle)"
   ]
  },
  {
   "cell_type": "markdown",
   "id": "08942997",
   "metadata": {
    "id": "eaTgbeu00_x2",
    "papermill": {
     "duration": 0.00612,
     "end_time": "2024-01-13T19:12:26.545560",
     "exception": false,
     "start_time": "2024-01-13T19:12:26.539440",
     "status": "completed"
    },
    "tags": []
   },
   "source": [
    "### Utility Functions\n",
    "<br>"
   ]
  },
  {
   "cell_type": "code",
   "execution_count": 5,
   "id": "acfbe04d",
   "metadata": {
    "execution": {
     "iopub.execute_input": "2024-01-13T19:12:26.559338Z",
     "iopub.status.busy": "2024-01-13T19:12:26.559080Z",
     "iopub.status.idle": "2024-01-13T19:12:26.565744Z",
     "shell.execute_reply": "2024-01-13T19:12:26.564875Z"
    },
    "executionInfo": {
     "elapsed": 393,
     "status": "ok",
     "timestamp": 1623689214971,
     "user": {
      "displayName": "Priyank Mishra",
      "photoUrl": "",
      "userId": "18008032652400229851"
     },
     "user_tz": -330
    },
    "id": "KsV2qK8dEo6E",
    "papermill": {
     "duration": 0.015634,
     "end_time": "2024-01-13T19:12:26.567515",
     "exception": false,
     "start_time": "2024-01-13T19:12:26.551881",
     "status": "completed"
    },
    "tags": []
   },
   "outputs": [],
   "source": [
    "def hyperparam_vs_auc(train_roc_auc, cv_roc_auc):\n",
    "    \n",
    "    '''\n",
    "        Utility Function to plot the Training and Cross Validation ROC-AUC Values\n",
    "        for different Hyperparameter.\n",
    "    '''\n",
    "    \n",
    "    plt.plot(range(len(train_roc_auc)), train_roc_auc, label='Train AUC')\n",
    "    plt.plot(range(len(cv_roc_auc)), cv_roc_auc, label='CV AUC')\n",
    "\n",
    "    plt.scatter(range(len(train_roc_auc)), train_roc_auc, label='Train AUC points')\n",
    "    plt.scatter(range(len(cv_roc_auc)), cv_roc_auc, label='CV AUC points')\n",
    "    \n",
    "    plt.xticks(range(len(train_roc_auc)))\n",
    "    plt.legend()\n",
    "    plt.xlabel(\"Hyperparameter Index\")\n",
    "    plt.ylabel(\"AUC\")\n",
    "    plt.title(\"\\n Hyperparameter vs ROC-AUC \\n\")\n",
    "    plt.grid()\n",
    "    plt.show()"
   ]
  },
  {
   "cell_type": "markdown",
   "id": "2e7a0cfc",
   "metadata": {
    "id": "9dd59e19",
    "papermill": {
     "duration": 0.0063,
     "end_time": "2024-01-13T19:12:26.580176",
     "exception": false,
     "start_time": "2024-01-13T19:12:26.573876",
     "status": "completed"
    },
    "tags": []
   },
   "source": [
    "## Data Preparation\n",
    "<br>"
   ]
  },
  {
   "cell_type": "markdown",
   "id": "46241ac5",
   "metadata": {
    "id": "rQTzZJCOXX6R",
    "papermill": {
     "duration": 0.006129,
     "end_time": "2024-01-13T19:12:26.592651",
     "exception": false,
     "start_time": "2024-01-13T19:12:26.586522",
     "status": "completed"
    },
    "tags": []
   },
   "source": [
    "### Splitting the Dataset\n",
    "<br>"
   ]
  },
  {
   "cell_type": "code",
   "execution_count": 6,
   "id": "c16b91b9",
   "metadata": {
    "execution": {
     "iopub.execute_input": "2024-01-13T19:12:26.606217Z",
     "iopub.status.busy": "2024-01-13T19:12:26.605971Z",
     "iopub.status.idle": "2024-01-13T19:12:28.360630Z",
     "shell.execute_reply": "2024-01-13T19:12:28.359877Z"
    },
    "executionInfo": {
     "elapsed": 648,
     "status": "ok",
     "timestamp": 1623672683837,
     "user": {
      "displayName": "Priyank Mishra",
      "photoUrl": "",
      "userId": "18008032652400229851"
     },
     "user_tz": -330
    },
    "id": "e75daf6b",
    "papermill": {
     "duration": 1.764216,
     "end_time": "2024-01-13T19:12:28.363095",
     "exception": false,
     "start_time": "2024-01-13T19:12:26.598879",
     "status": "completed"
    },
    "tags": []
   },
   "outputs": [],
   "source": [
    "X_train = train_data.drop(['isFraud']+drop_cols, axis=1)\n",
    "y_train = train_data['isFraud']\n",
    "\n",
    "X_test = test_data.drop(drop_cols, axis=1)\n",
    "\n",
    "del train_data, test_data"
   ]
  },
  {
   "cell_type": "code",
   "execution_count": 7,
   "id": "69668eb8",
   "metadata": {
    "execution": {
     "iopub.execute_input": "2024-01-13T19:12:28.377811Z",
     "iopub.status.busy": "2024-01-13T19:12:28.377144Z",
     "iopub.status.idle": "2024-01-13T19:12:28.382410Z",
     "shell.execute_reply": "2024-01-13T19:12:28.381580Z"
    },
    "executionInfo": {
     "elapsed": 18,
     "status": "ok",
     "timestamp": 1623672683839,
     "user": {
      "displayName": "Priyank Mishra",
      "photoUrl": "",
      "userId": "18008032652400229851"
     },
     "user_tz": -330
    },
    "id": "08ddc3d8",
    "outputId": "4190210e-d8d7-463b-cbfd-a4ff25198f57",
    "papermill": {
     "duration": 0.014607,
     "end_time": "2024-01-13T19:12:28.384311",
     "exception": false,
     "start_time": "2024-01-13T19:12:28.369704",
     "status": "completed"
    },
    "tags": []
   },
   "outputs": [
    {
     "name": "stdout",
     "output_type": "stream",
     "text": [
      "*********************************************\n",
      "\n",
      " Train Data Shape : (590538, 296) \n",
      "\n",
      "\n",
      " Test Data Shape : (506691, 296) \n",
      "\n",
      "*********************************************\n"
     ]
    }
   ],
   "source": [
    "print(\"*\"*45)\n",
    "print(\"\\n Train Data Shape : {} \\n\".format(X_train.shape))\n",
    "print(\"\\n Test Data Shape : {} \\n\".format(X_test.shape))\n",
    "print(\"*\"*45)"
   ]
  },
  {
   "cell_type": "markdown",
   "id": "ad216b11",
   "metadata": {
    "id": "1a02f819",
    "papermill": {
     "duration": 0.006355,
     "end_time": "2024-01-13T19:12:28.398213",
     "exception": false,
     "start_time": "2024-01-13T19:12:28.391858",
     "status": "completed"
    },
    "tags": []
   },
   "source": [
    "<br>\n",
    "\n",
    "## Hyperparameter Tuning\n",
    "\n",
    "<br>"
   ]
  },
  {
   "cell_type": "code",
   "execution_count": 8,
   "id": "116e4e87",
   "metadata": {
    "execution": {
     "iopub.execute_input": "2024-01-13T19:12:28.413334Z",
     "iopub.status.busy": "2024-01-13T19:12:28.413073Z",
     "iopub.status.idle": "2024-01-13T19:12:28.417864Z",
     "shell.execute_reply": "2024-01-13T19:12:28.417025Z"
    },
    "executionInfo": {
     "elapsed": 15,
     "status": "ok",
     "timestamp": 1623672683842,
     "user": {
      "displayName": "Priyank Mishra",
      "photoUrl": "",
      "userId": "18008032652400229851"
     },
     "user_tz": -330
    },
    "id": "4r8L_pBM2Nim",
    "papermill": {
     "duration": 0.01461,
     "end_time": "2024-01-13T19:12:28.419786",
     "exception": false,
     "start_time": "2024-01-13T19:12:28.405176",
     "status": "completed"
    },
    "tags": []
   },
   "outputs": [],
   "source": [
    "# Hyperparameters\n",
    "\n",
    "learning_rate = [2e-2, 3e-1, 1e-1]\n",
    "max_depth = [8, 12, 16]\n",
    "subsample = [0.6,0.8,1]\n",
    "colsample_bytree = [0.6,0.8,1]"
   ]
  },
  {
   "cell_type": "code",
   "execution_count": 9,
   "id": "d1b33933",
   "metadata": {
    "execution": {
     "iopub.execute_input": "2024-01-13T19:12:28.434214Z",
     "iopub.status.busy": "2024-01-13T19:12:28.433953Z",
     "iopub.status.idle": "2024-01-13T22:29:24.255904Z",
     "shell.execute_reply": "2024-01-13T22:29:24.254645Z"
    },
    "executionInfo": {
     "elapsed": 15302799,
     "status": "ok",
     "timestamp": 1623687988913,
     "user": {
      "displayName": "Priyank Mishra",
      "photoUrl": "",
      "userId": "18008032652400229851"
     },
     "user_tz": -330
    },
    "id": "QAbDPqes3VD5",
    "outputId": "c8d0dc18-3d26-4b14-9617-6d3d3d9d6812",
    "papermill": {
     "duration": 11815.832442,
     "end_time": "2024-01-13T22:29:24.258810",
     "exception": false,
     "start_time": "2024-01-13T19:12:28.426368",
     "status": "completed"
    },
    "tags": []
   },
   "outputs": [
    {
     "name": "stdout",
     "output_type": "stream",
     "text": [
      "[0]\ttrain-auc:0.80857+0.00875\ttest-auc:0.79524+0.00485\n",
      "[100]\ttrain-auc:0.91721+0.00399\ttest-auc:0.88100+0.00905\n",
      "[200]\ttrain-auc:0.95360+0.00210\ttest-auc:0.90300+0.00984\n",
      "[300]\ttrain-auc:0.96928+0.00136\ttest-auc:0.91323+0.00901\n",
      "[400]\ttrain-auc:0.97729+0.00053\ttest-auc:0.91827+0.00887\n",
      "[500]\ttrain-auc:0.98224+0.00056\ttest-auc:0.92063+0.00882\n",
      "[600]\ttrain-auc:0.98605+0.00041\ttest-auc:0.92196+0.00863\n",
      "[700]\ttrain-auc:0.98878+0.00025\ttest-auc:0.92248+0.00865\n",
      "[800]\ttrain-auc:0.99099+0.00014\ttest-auc:0.92260+0.00855\n",
      "[900]\ttrain-auc:0.99284+0.00007\ttest-auc:0.92259+0.00862\n",
      "[926]\ttrain-auc:0.99329+0.00006\ttest-auc:0.92258+0.00858\n",
      "[0]\ttrain-auc:0.80624+0.00900\ttest-auc:0.79297+0.00455\n",
      "[100]\ttrain-auc:0.91673+0.00450\ttest-auc:0.87965+0.00917\n",
      "[200]\ttrain-auc:0.95457+0.00214\ttest-auc:0.90268+0.00965\n",
      "[300]\ttrain-auc:0.97037+0.00142\ttest-auc:0.91286+0.00948\n",
      "[400]\ttrain-auc:0.97808+0.00088\ttest-auc:0.91777+0.00861\n",
      "[500]\ttrain-auc:0.98292+0.00067\ttest-auc:0.92047+0.00832\n",
      "[600]\ttrain-auc:0.98662+0.00039\ttest-auc:0.92184+0.00798\n",
      "[700]\ttrain-auc:0.98944+0.00031\ttest-auc:0.92219+0.00787\n",
      "[800]\ttrain-auc:0.99163+0.00018\ttest-auc:0.92254+0.00785\n",
      "[900]\ttrain-auc:0.99334+0.00013\ttest-auc:0.92254+0.00792\n",
      "[1000]\ttrain-auc:0.99480+0.00009\ttest-auc:0.92231+0.00791\n",
      "[1012]\ttrain-auc:0.99495+0.00009\ttest-auc:0.92230+0.00784\n",
      "[0]\ttrain-auc:0.80617+0.00923\ttest-auc:0.79206+0.00480\n",
      "[100]\ttrain-auc:0.91662+0.00440\ttest-auc:0.87835+0.00944\n",
      "[200]\ttrain-auc:0.95496+0.00221\ttest-auc:0.90234+0.01044\n",
      "[300]\ttrain-auc:0.97076+0.00116\ttest-auc:0.91323+0.00931\n",
      "[400]\ttrain-auc:0.97834+0.00075\ttest-auc:0.91767+0.00874\n",
      "[500]\ttrain-auc:0.98315+0.00056\ttest-auc:0.91993+0.00825\n",
      "[600]\ttrain-auc:0.98697+0.00033\ttest-auc:0.92123+0.00781\n",
      "[700]\ttrain-auc:0.98977+0.00025\ttest-auc:0.92170+0.00757\n",
      "[800]\ttrain-auc:0.99191+0.00014\ttest-auc:0.92165+0.00754\n",
      "[838]\ttrain-auc:0.99263+0.00011\ttest-auc:0.92165+0.00749\n",
      "[0]\ttrain-auc:0.81054+0.00855\ttest-auc:0.79065+0.00790\n",
      "[100]\ttrain-auc:0.91702+0.00439\ttest-auc:0.88070+0.00860\n",
      "[200]\ttrain-auc:0.95462+0.00288\ttest-auc:0.90353+0.00986\n",
      "[300]\ttrain-auc:0.97027+0.00166\ttest-auc:0.91417+0.00891\n",
      "[400]\ttrain-auc:0.97758+0.00105\ttest-auc:0.91835+0.00845\n",
      "[500]\ttrain-auc:0.98234+0.00092\ttest-auc:0.92060+0.00777\n",
      "[600]\ttrain-auc:0.98618+0.00070\ttest-auc:0.92165+0.00762\n",
      "[700]\ttrain-auc:0.98896+0.00061\ttest-auc:0.92228+0.00750\n",
      "[800]\ttrain-auc:0.99108+0.00032\ttest-auc:0.92286+0.00720\n",
      "[900]\ttrain-auc:0.99269+0.00021\ttest-auc:0.92287+0.00696\n",
      "[954]\ttrain-auc:0.99350+0.00017\ttest-auc:0.92286+0.00690\n",
      "[0]\ttrain-auc:0.81490+0.00731\ttest-auc:0.79446+0.01232\n",
      "[100]\ttrain-auc:0.91711+0.00487\ttest-auc:0.87879+0.00959\n",
      "[200]\ttrain-auc:0.95566+0.00203\ttest-auc:0.90307+0.00998\n",
      "[300]\ttrain-auc:0.97107+0.00107\ttest-auc:0.91357+0.00927\n",
      "[400]\ttrain-auc:0.97824+0.00065\ttest-auc:0.91791+0.00864\n",
      "[500]\ttrain-auc:0.98286+0.00049\ttest-auc:0.91981+0.00823\n",
      "[600]\ttrain-auc:0.98644+0.00036\ttest-auc:0.92101+0.00797\n",
      "[700]\ttrain-auc:0.98914+0.00043\ttest-auc:0.92169+0.00777\n",
      "[800]\ttrain-auc:0.99125+0.00026\ttest-auc:0.92198+0.00743\n",
      "[900]\ttrain-auc:0.99297+0.00019\ttest-auc:0.92211+0.00718\n",
      "[1000]\ttrain-auc:0.99434+0.00012\ttest-auc:0.92194+0.00709\n",
      "[1007]\ttrain-auc:0.99443+0.00013\ttest-auc:0.92193+0.00709\n",
      "[0]\ttrain-auc:0.81493+0.00709\ttest-auc:0.79453+0.01310\n",
      "[100]\ttrain-auc:0.91631+0.00492\ttest-auc:0.87737+0.00941\n",
      "[200]\ttrain-auc:0.95557+0.00172\ttest-auc:0.90213+0.01063\n",
      "[300]\ttrain-auc:0.97147+0.00111\ttest-auc:0.91271+0.00950\n",
      "[400]\ttrain-auc:0.97836+0.00072\ttest-auc:0.91699+0.00883\n",
      "[500]\ttrain-auc:0.98303+0.00069\ttest-auc:0.91899+0.00835\n",
      "[600]\ttrain-auc:0.98674+0.00057\ttest-auc:0.92016+0.00812\n",
      "[700]\ttrain-auc:0.98946+0.00052\ttest-auc:0.92073+0.00810\n",
      "[800]\ttrain-auc:0.99148+0.00027\ttest-auc:0.92116+0.00782\n",
      "[900]\ttrain-auc:0.99312+0.00022\ttest-auc:0.92132+0.00755\n",
      "[1000]\ttrain-auc:0.99454+0.00015\ttest-auc:0.92123+0.00725\n",
      "[1053]\ttrain-auc:0.99516+0.00015\ttest-auc:0.92112+0.00733\n",
      "[0]\ttrain-auc:0.81030+0.00777\ttest-auc:0.79391+0.00606\n",
      "[100]\ttrain-auc:0.91781+0.00476\ttest-auc:0.88022+0.00962\n",
      "[200]\ttrain-auc:0.95505+0.00230\ttest-auc:0.90379+0.01031\n",
      "[300]\ttrain-auc:0.96990+0.00140\ttest-auc:0.91376+0.00855\n",
      "[400]\ttrain-auc:0.97667+0.00108\ttest-auc:0.91791+0.00804\n",
      "[500]\ttrain-auc:0.98073+0.00098\ttest-auc:0.91987+0.00779\n",
      "[600]\ttrain-auc:0.98394+0.00092\ttest-auc:0.92101+0.00712\n",
      "[700]\ttrain-auc:0.98643+0.00088\ttest-auc:0.92136+0.00684\n",
      "[800]\ttrain-auc:0.98843+0.00069\ttest-auc:0.92180+0.00677\n",
      "[900]\ttrain-auc:0.99027+0.00054\ttest-auc:0.92187+0.00673\n",
      "[986]\ttrain-auc:0.99162+0.00037\ttest-auc:0.92185+0.00670\n",
      "[0]\ttrain-auc:0.81648+0.00997\ttest-auc:0.79814+0.01221\n",
      "[100]\ttrain-auc:0.91623+0.00468\ttest-auc:0.87834+0.00932\n",
      "[200]\ttrain-auc:0.95556+0.00194\ttest-auc:0.90253+0.00992\n",
      "[300]\ttrain-auc:0.97057+0.00141\ttest-auc:0.91293+0.00837\n",
      "[400]\ttrain-auc:0.97675+0.00145\ttest-auc:0.91665+0.00757\n",
      "[500]\ttrain-auc:0.98088+0.00123\ttest-auc:0.91854+0.00731\n",
      "[600]\ttrain-auc:0.98409+0.00087\ttest-auc:0.91991+0.00696\n",
      "[700]\ttrain-auc:0.98683+0.00077\ttest-auc:0.92030+0.00668\n",
      "[800]\ttrain-auc:0.98890+0.00067\ttest-auc:0.92047+0.00674\n",
      "[846]\ttrain-auc:0.98978+0.00059\ttest-auc:0.92047+0.00680\n",
      "[0]\ttrain-auc:0.81674+0.00992\ttest-auc:0.79772+0.01201\n",
      "[100]\ttrain-auc:0.91471+0.00487\ttest-auc:0.87560+0.01027\n",
      "[200]\ttrain-auc:0.95516+0.00196\ttest-auc:0.90109+0.01034\n",
      "[300]\ttrain-auc:0.97053+0.00190\ttest-auc:0.91174+0.00849\n",
      "[400]\ttrain-auc:0.97685+0.00153\ttest-auc:0.91584+0.00783\n",
      "[500]\ttrain-auc:0.98084+0.00120\ttest-auc:0.91753+0.00738\n",
      "[600]\ttrain-auc:0.98408+0.00086\ttest-auc:0.91837+0.00727\n",
      "[700]\ttrain-auc:0.98686+0.00073\ttest-auc:0.91907+0.00693\n",
      "[800]\ttrain-auc:0.98895+0.00066\ttest-auc:0.91964+0.00692\n",
      "[900]\ttrain-auc:0.99069+0.00055\ttest-auc:0.91975+0.00676\n",
      "[1000]\ttrain-auc:0.99214+0.00048\ttest-auc:0.91989+0.00676\n",
      "[1071]\ttrain-auc:0.99306+0.00036\ttest-auc:0.91985+0.00668\n",
      "[0]\ttrain-auc:0.85903+0.00377\ttest-auc:0.82336+0.00785\n",
      "[100]\ttrain-auc:0.95821+0.00334\ttest-auc:0.90012+0.01054\n",
      "[200]\ttrain-auc:0.98827+0.00122\ttest-auc:0.91560+0.01280\n",
      "[300]\ttrain-auc:0.99579+0.00034\ttest-auc:0.92102+0.01210\n",
      "[400]\ttrain-auc:0.99818+0.00008\ttest-auc:0.92207+0.01130\n",
      "[499]\ttrain-auc:0.99915+0.00007\ttest-auc:0.92175+0.01071\n",
      "[0]\ttrain-auc:0.85849+0.00503\ttest-auc:0.82969+0.00597\n",
      "[100]\ttrain-auc:0.95748+0.00372\ttest-auc:0.89795+0.01123\n",
      "[200]\ttrain-auc:0.98914+0.00124\ttest-auc:0.91630+0.01309\n",
      "[300]\ttrain-auc:0.99607+0.00025\ttest-auc:0.92150+0.01258\n",
      "[400]\ttrain-auc:0.99834+0.00007\ttest-auc:0.92260+0.01177\n",
      "[500]\ttrain-auc:0.99926+0.00004\ttest-auc:0.92225+0.01111\n",
      "[505]\ttrain-auc:0.99929+0.00004\ttest-auc:0.92228+0.01108\n",
      "[0]\ttrain-auc:0.85685+0.00679\ttest-auc:0.82668+0.01315\n",
      "[100]\ttrain-auc:0.95712+0.00450\ttest-auc:0.89684+0.01032\n",
      "[200]\ttrain-auc:0.98938+0.00119\ttest-auc:0.91534+0.01317\n",
      "[300]\ttrain-auc:0.99620+0.00014\ttest-auc:0.92081+0.01266\n",
      "[400]\ttrain-auc:0.99839+0.00003\ttest-auc:0.92169+0.01190\n",
      "[500]\ttrain-auc:0.99928+0.00002\ttest-auc:0.92179+0.01116\n",
      "[539]\ttrain-auc:0.99948+0.00002\ttest-auc:0.92124+0.01109\n",
      "[0]\ttrain-auc:0.86245+0.00383\ttest-auc:0.82340+0.01404\n",
      "[100]\ttrain-auc:0.96045+0.00411\ttest-auc:0.90044+0.01059\n",
      "[200]\ttrain-auc:0.98948+0.00109\ttest-auc:0.91674+0.01284\n",
      "[300]\ttrain-auc:0.99646+0.00019\ttest-auc:0.92148+0.01265\n",
      "[400]\ttrain-auc:0.99842+0.00003\ttest-auc:0.92231+0.01184\n",
      "[500]\ttrain-auc:0.99922+0.00003\ttest-auc:0.92213+0.01093\n",
      "[506]\ttrain-auc:0.99925+0.00003\ttest-auc:0.92210+0.01089\n",
      "[0]\ttrain-auc:0.86367+0.00453\ttest-auc:0.82776+0.00424\n",
      "[100]\ttrain-auc:0.95963+0.00431\ttest-auc:0.89898+0.01086\n",
      "[200]\ttrain-auc:0.99006+0.00079\ttest-auc:0.91593+0.01382\n",
      "[300]\ttrain-auc:0.99668+0.00017\ttest-auc:0.92080+0.01360\n",
      "[400]\ttrain-auc:0.99853+0.00008\ttest-auc:0.92187+0.01231\n",
      "[500]\ttrain-auc:0.99928+0.00004\ttest-auc:0.92159+0.01148\n",
      "[518]\ttrain-auc:0.99937+0.00003\ttest-auc:0.92145+0.01141\n",
      "[0]\ttrain-auc:0.86338+0.00389\ttest-auc:0.82598+0.00459\n",
      "[100]\ttrain-auc:0.95916+0.00542\ttest-auc:0.89704+0.01088\n",
      "[200]\ttrain-auc:0.99028+0.00081\ttest-auc:0.91515+0.01357\n",
      "[300]\ttrain-auc:0.99670+0.00021\ttest-auc:0.92078+0.01330\n",
      "[400]\ttrain-auc:0.99858+0.00004\ttest-auc:0.92202+0.01179\n",
      "[499]\ttrain-auc:0.99933+0.00005\ttest-auc:0.92184+0.01117\n",
      "[0]\ttrain-auc:0.86689+0.00341\ttest-auc:0.82850+0.00984\n",
      "[100]\ttrain-auc:0.96176+0.00416\ttest-auc:0.90135+0.01080\n",
      "[200]\ttrain-auc:0.99014+0.00094\ttest-auc:0.91696+0.01338\n",
      "[300]\ttrain-auc:0.99681+0.00017\ttest-auc:0.92136+0.01320\n",
      "[400]\ttrain-auc:0.99846+0.00009\ttest-auc:0.92217+0.01233\n",
      "[500]\ttrain-auc:0.99912+0.00010\ttest-auc:0.92206+0.01154\n",
      "[519]\ttrain-auc:0.99920+0.00009\ttest-auc:0.92188+0.01144\n",
      "[0]\ttrain-auc:0.86774+0.00532\ttest-auc:0.82684+0.00854\n",
      "[100]\ttrain-auc:0.95956+0.00418\ttest-auc:0.89829+0.01156\n",
      "[200]\ttrain-auc:0.99004+0.00091\ttest-auc:0.91531+0.01400\n",
      "[300]\ttrain-auc:0.99662+0.00012\ttest-auc:0.91969+0.01391\n",
      "[400]\ttrain-auc:0.99826+0.00015\ttest-auc:0.92110+0.01263\n",
      "[500]\ttrain-auc:0.99901+0.00010\ttest-auc:0.92039+0.01199\n",
      "[504]\ttrain-auc:0.99903+0.00010\ttest-auc:0.92036+0.01195\n",
      "[0]\ttrain-auc:0.86642+0.00441\ttest-auc:0.82889+0.00653\n",
      "[100]\ttrain-auc:0.95656+0.00446\ttest-auc:0.89213+0.01152\n",
      "[200]\ttrain-auc:0.98978+0.00092\ttest-auc:0.91139+0.01334\n",
      "[300]\ttrain-auc:0.99644+0.00016\ttest-auc:0.91713+0.01323\n",
      "[400]\ttrain-auc:0.99816+0.00008\ttest-auc:0.91858+0.01199\n",
      "[500]\ttrain-auc:0.99892+0.00007\ttest-auc:0.91840+0.01088\n",
      "[527]\ttrain-auc:0.99907+0.00006\ttest-auc:0.91825+0.01067\n",
      "[0]\ttrain-auc:0.87976+0.00592\ttest-auc:0.81525+0.01095\n",
      "[100]\ttrain-auc:0.98135+0.00247\ttest-auc:0.90757+0.01259\n",
      "[200]\ttrain-auc:0.99773+0.00036\ttest-auc:0.91769+0.01448\n",
      "[300]\ttrain-auc:0.99964+0.00004\ttest-auc:0.91958+0.01451\n",
      "[400]\ttrain-auc:0.99992+0.00001\ttest-auc:0.92027+0.01367\n",
      "[500]\ttrain-auc:0.99998+0.00000\ttest-auc:0.92037+0.01276\n",
      "[600]\ttrain-auc:1.00000+0.00000\ttest-auc:0.92045+0.01221\n",
      "[628]\ttrain-auc:1.00000+0.00000\ttest-auc:0.92031+0.01225\n",
      "[0]\ttrain-auc:0.87875+0.00402\ttest-auc:0.82299+0.00799\n",
      "[100]\ttrain-auc:0.98127+0.00289\ttest-auc:0.90723+0.01319\n",
      "[200]\ttrain-auc:0.99798+0.00036\ttest-auc:0.91799+0.01416\n",
      "[300]\ttrain-auc:0.99967+0.00005\ttest-auc:0.92060+0.01363\n",
      "[400]\ttrain-auc:0.99993+0.00001\ttest-auc:0.92113+0.01262\n",
      "[500]\ttrain-auc:0.99999+0.00000\ttest-auc:0.92128+0.01193\n",
      "[600]\ttrain-auc:1.00000+0.00000\ttest-auc:0.92130+0.01158\n",
      "[700]\ttrain-auc:1.00000+0.00000\ttest-auc:0.92141+0.01150\n",
      "[783]\ttrain-auc:1.00000+0.00000\ttest-auc:0.92150+0.01120\n",
      "[0]\ttrain-auc:0.87907+0.00407\ttest-auc:0.82537+0.00727\n",
      "[100]\ttrain-auc:0.98137+0.00297\ttest-auc:0.90539+0.01339\n",
      "[200]\ttrain-auc:0.99815+0.00034\ttest-auc:0.91634+0.01515\n",
      "[300]\ttrain-auc:0.99971+0.00005\ttest-auc:0.91948+0.01456\n",
      "[400]\ttrain-auc:0.99994+0.00001\ttest-auc:0.92037+0.01312\n",
      "[500]\ttrain-auc:0.99999+0.00000\ttest-auc:0.92055+0.01220\n",
      "[600]\ttrain-auc:1.00000+0.00000\ttest-auc:0.92062+0.01182\n",
      "[655]\ttrain-auc:1.00000+0.00000\ttest-auc:0.92065+0.01148\n",
      "[0]\ttrain-auc:0.88635+0.00516\ttest-auc:0.81545+0.01666\n",
      "[100]\ttrain-auc:0.98425+0.00248\ttest-auc:0.90999+0.01267\n",
      "[200]\ttrain-auc:0.99863+0.00026\ttest-auc:0.91914+0.01447\n",
      "[300]\ttrain-auc:0.99980+0.00004\ttest-auc:0.92075+0.01446\n",
      "[400]\ttrain-auc:0.99996+0.00001\ttest-auc:0.92115+0.01340\n",
      "[500]\ttrain-auc:0.99999+0.00000\ttest-auc:0.92144+0.01260\n",
      "[600]\ttrain-auc:1.00000+0.00000\ttest-auc:0.92185+0.01224\n",
      "[700]\ttrain-auc:1.00000+0.00000\ttest-auc:0.92211+0.01189\n",
      "[800]\ttrain-auc:1.00000+0.00000\ttest-auc:0.92273+0.01143\n",
      "[900]\ttrain-auc:1.00000+0.00000\ttest-auc:0.92313+0.01120\n",
      "[1000]\ttrain-auc:1.00000+0.00000\ttest-auc:0.92342+0.01100\n",
      "[1100]\ttrain-auc:1.00000+0.00000\ttest-auc:0.92368+0.01088\n",
      "[1200]\ttrain-auc:1.00000+0.00000\ttest-auc:0.92386+0.01079\n",
      "[1300]\ttrain-auc:1.00000+0.00000\ttest-auc:0.92394+0.01068\n",
      "[1400]\ttrain-auc:1.00000+0.00000\ttest-auc:0.92395+0.01059\n",
      "[1500]\ttrain-auc:1.00000+0.00000\ttest-auc:0.92408+0.01051\n",
      "[1600]\ttrain-auc:1.00000+0.00000\ttest-auc:0.92405+0.01053\n",
      "[1619]\ttrain-auc:1.00000+0.00000\ttest-auc:0.92402+0.01055\n",
      "[0]\ttrain-auc:0.88846+0.00413\ttest-auc:0.82329+0.00462\n",
      "[100]\ttrain-auc:0.98343+0.00282\ttest-auc:0.90781+0.01380\n",
      "[200]\ttrain-auc:0.99869+0.00027\ttest-auc:0.91736+0.01506\n",
      "[300]\ttrain-auc:0.99982+0.00003\ttest-auc:0.91940+0.01494\n",
      "[400]\ttrain-auc:0.99996+0.00001\ttest-auc:0.92008+0.01380\n",
      "[500]\ttrain-auc:0.99999+0.00000\ttest-auc:0.92067+0.01269\n",
      "[600]\ttrain-auc:1.00000+0.00000\ttest-auc:0.92132+0.01191\n",
      "[700]\ttrain-auc:1.00000+0.00000\ttest-auc:0.92178+0.01149\n",
      "[800]\ttrain-auc:1.00000+0.00000\ttest-auc:0.92229+0.01105\n",
      "[900]\ttrain-auc:1.00000+0.00000\ttest-auc:0.92263+0.01071\n",
      "[1000]\ttrain-auc:1.00000+0.00000\ttest-auc:0.92299+0.01054\n",
      "[1100]\ttrain-auc:1.00000+0.00000\ttest-auc:0.92325+0.01050\n",
      "[1200]\ttrain-auc:1.00000+0.00000\ttest-auc:0.92346+0.01035\n",
      "[1300]\ttrain-auc:1.00000+0.00000\ttest-auc:0.92356+0.01022\n",
      "[1400]\ttrain-auc:1.00000+0.00000\ttest-auc:0.92356+0.01021\n",
      "[1500]\ttrain-auc:1.00000+0.00000\ttest-auc:0.92364+0.01016\n",
      "[1600]\ttrain-auc:1.00000+0.00000\ttest-auc:0.92363+0.01017\n",
      "[1665]\ttrain-auc:1.00000+0.00000\ttest-auc:0.92363+0.01013\n",
      "[0]\ttrain-auc:0.88891+0.00348\ttest-auc:0.82370+0.00878\n",
      "[100]\ttrain-auc:0.98284+0.00292\ttest-auc:0.90691+0.01340\n",
      "[200]\ttrain-auc:0.99880+0.00026\ttest-auc:0.91681+0.01544\n",
      "[300]\ttrain-auc:0.99983+0.00003\ttest-auc:0.91949+0.01474\n",
      "[400]\ttrain-auc:0.99996+0.00001\ttest-auc:0.92032+0.01324\n",
      "[500]\ttrain-auc:0.99999+0.00000\ttest-auc:0.92088+0.01233\n",
      "[600]\ttrain-auc:1.00000+0.00000\ttest-auc:0.92143+0.01174\n",
      "[700]\ttrain-auc:1.00000+0.00000\ttest-auc:0.92200+0.01126\n",
      "[800]\ttrain-auc:1.00000+0.00000\ttest-auc:0.92261+0.01098\n",
      "[900]\ttrain-auc:1.00000+0.00000\ttest-auc:0.92296+0.01075\n",
      "[1000]\ttrain-auc:1.00000+0.00000\ttest-auc:0.92337+0.01062\n",
      "[1100]\ttrain-auc:1.00000+0.00000\ttest-auc:0.92362+0.01054\n",
      "[1200]\ttrain-auc:1.00000+0.00000\ttest-auc:0.92376+0.01045\n",
      "[1300]\ttrain-auc:1.00000+0.00000\ttest-auc:0.92385+0.01036\n",
      "[1400]\ttrain-auc:1.00000+0.00000\ttest-auc:0.92391+0.01032\n",
      "[1500]\ttrain-auc:1.00000+0.00000\ttest-auc:0.92394+0.01025\n",
      "[1600]\ttrain-auc:1.00000+0.00000\ttest-auc:0.92395+0.01019\n",
      "[1629]\ttrain-auc:1.00000+0.00000\ttest-auc:0.92392+0.01020\n",
      "[0]\ttrain-auc:0.89346+0.00432\ttest-auc:0.81864+0.00957\n",
      "[100]\ttrain-auc:0.98572+0.00206\ttest-auc:0.91069+0.01298\n",
      "[200]\ttrain-auc:0.99890+0.00028\ttest-auc:0.91815+0.01465\n",
      "[300]\ttrain-auc:0.99983+0.00005\ttest-auc:0.91859+0.01491\n",
      "[351]\ttrain-auc:0.99992+0.00001\ttest-auc:0.91845+0.01459\n",
      "[0]\ttrain-auc:0.89283+0.00423\ttest-auc:0.82200+0.00566\n",
      "[100]\ttrain-auc:0.98430+0.00267\ttest-auc:0.90769+0.01449\n",
      "[200]\ttrain-auc:0.99895+0.00031\ttest-auc:0.91652+0.01567\n",
      "[300]\ttrain-auc:0.99984+0.00003\ttest-auc:0.91799+0.01527\n",
      "[400]\ttrain-auc:0.99995+0.00001\ttest-auc:0.91795+0.01434\n",
      "[500]\ttrain-auc:0.99998+0.00000\ttest-auc:0.91876+0.01282\n",
      "[600]\ttrain-auc:0.99999+0.00000\ttest-auc:0.91884+0.01235\n",
      "[700]\ttrain-auc:1.00000+0.00000\ttest-auc:0.91920+0.01196\n",
      "[800]\ttrain-auc:1.00000+0.00000\ttest-auc:0.91953+0.01156\n",
      "[900]\ttrain-auc:1.00000+0.00000\ttest-auc:0.91983+0.01118\n",
      "[1000]\ttrain-auc:1.00000+0.00000\ttest-auc:0.92024+0.01087\n",
      "[1100]\ttrain-auc:1.00000+0.00000\ttest-auc:0.92048+0.01070\n",
      "[1200]\ttrain-auc:1.00000+0.00000\ttest-auc:0.92073+0.01057\n",
      "[1300]\ttrain-auc:1.00000+0.00000\ttest-auc:0.92093+0.01052\n",
      "[1400]\ttrain-auc:1.00000+0.00000\ttest-auc:0.92107+0.01044\n",
      "[1500]\ttrain-auc:1.00000+0.00000\ttest-auc:0.92116+0.01048\n",
      "[1600]\ttrain-auc:1.00000+0.00000\ttest-auc:0.92128+0.01050\n",
      "[1700]\ttrain-auc:1.00000+0.00000\ttest-auc:0.92131+0.01054\n",
      "[1800]\ttrain-auc:1.00000+0.00000\ttest-auc:0.92147+0.01054\n",
      "[1900]\ttrain-auc:1.00000+0.00000\ttest-auc:0.92160+0.01053\n",
      "[2000]\ttrain-auc:1.00000+0.00000\ttest-auc:0.92168+0.01050\n",
      "[2100]\ttrain-auc:1.00000+0.00000\ttest-auc:0.92178+0.01044\n",
      "[2200]\ttrain-auc:1.00000+0.00000\ttest-auc:0.92181+0.01048\n",
      "[2300]\ttrain-auc:1.00000+0.00000\ttest-auc:0.92188+0.01045\n",
      "[2400]\ttrain-auc:1.00000+0.00000\ttest-auc:0.92189+0.01032\n",
      "[2431]\ttrain-auc:1.00000+0.00000\ttest-auc:0.92185+0.01032\n",
      "[0]\ttrain-auc:0.89122+0.00394\ttest-auc:0.82014+0.00914\n",
      "[100]\ttrain-auc:0.98191+0.00239\ttest-auc:0.89884+0.01385\n",
      "[200]\ttrain-auc:0.99880+0.00025\ttest-auc:0.91294+0.01557\n",
      "[300]\ttrain-auc:0.99982+0.00004\ttest-auc:0.91534+0.01513\n",
      "[400]\ttrain-auc:0.99994+0.00001\ttest-auc:0.91556+0.01442\n",
      "[500]\ttrain-auc:0.99998+0.00000\ttest-auc:0.91616+0.01328\n",
      "[600]\ttrain-auc:0.99999+0.00000\ttest-auc:0.91657+0.01255\n",
      "[700]\ttrain-auc:1.00000+0.00000\ttest-auc:0.91674+0.01218\n",
      "[800]\ttrain-auc:1.00000+0.00000\ttest-auc:0.91700+0.01188\n",
      "[900]\ttrain-auc:1.00000+0.00000\ttest-auc:0.91730+0.01162\n",
      "[1000]\ttrain-auc:1.00000+0.00000\ttest-auc:0.91778+0.01120\n",
      "[1100]\ttrain-auc:1.00000+0.00000\ttest-auc:0.91820+0.01101\n",
      "[1200]\ttrain-auc:1.00000+0.00000\ttest-auc:0.91856+0.01072\n",
      "[1300]\ttrain-auc:1.00000+0.00000\ttest-auc:0.91888+0.01064\n",
      "[1400]\ttrain-auc:1.00000+0.00000\ttest-auc:0.91921+0.01053\n",
      "[1500]\ttrain-auc:1.00000+0.00000\ttest-auc:0.91941+0.01052\n",
      "[1600]\ttrain-auc:1.00000+0.00000\ttest-auc:0.91964+0.01053\n",
      "[1700]\ttrain-auc:1.00000+0.00000\ttest-auc:0.91980+0.01047\n",
      "[1800]\ttrain-auc:1.00000+0.00000\ttest-auc:0.91995+0.01048\n",
      "[1900]\ttrain-auc:1.00000+0.00000\ttest-auc:0.92007+0.01038\n",
      "[2000]\ttrain-auc:1.00000+0.00000\ttest-auc:0.92013+0.01041\n",
      "[2100]\ttrain-auc:1.00000+0.00000\ttest-auc:0.92022+0.01037\n",
      "[2200]\ttrain-auc:1.00000+0.00000\ttest-auc:0.92030+0.01035\n",
      "[2300]\ttrain-auc:1.00000+0.00000\ttest-auc:0.92037+0.01032\n",
      "[2400]\ttrain-auc:1.00000+0.00000\ttest-auc:0.92044+0.01029\n",
      "[2500]\ttrain-auc:1.00000+0.00000\ttest-auc:0.92046+0.01031\n",
      "[2600]\ttrain-auc:1.00000+0.00000\ttest-auc:0.92053+0.01029\n",
      "[2698]\ttrain-auc:1.00000+0.00000\ttest-auc:0.92050+0.01030\n",
      "[0]\ttrain-auc:0.80857+0.00875\ttest-auc:0.79524+0.00485\n",
      "[100]\ttrain-auc:0.99614+0.00018\ttest-auc:0.90086+0.00772\n",
      "[144]\ttrain-auc:0.99894+0.00004\ttest-auc:0.89854+0.00805\n",
      "[0]\ttrain-auc:0.80624+0.00900\ttest-auc:0.79297+0.00455\n",
      "[100]\ttrain-auc:0.99637+0.00008\ttest-auc:0.90228+0.00818\n",
      "[147]\ttrain-auc:0.99918+0.00002\ttest-auc:0.89937+0.00748\n",
      "[0]\ttrain-auc:0.80617+0.00923\ttest-auc:0.79206+0.00480\n",
      "[100]\ttrain-auc:0.99687+0.00007\ttest-auc:0.89993+0.00523\n",
      "[130]\ttrain-auc:0.99883+0.00003\ttest-auc:0.89826+0.00538\n",
      "[0]\ttrain-auc:0.81054+0.00855\ttest-auc:0.79065+0.00790\n",
      "[100]\ttrain-auc:0.99652+0.00021\ttest-auc:0.90079+0.00816\n",
      "[141]\ttrain-auc:0.99905+0.00007\ttest-auc:0.89904+0.00872\n",
      "[0]\ttrain-auc:0.81490+0.00731\ttest-auc:0.79446+0.01232\n",
      "[100]\ttrain-auc:0.99684+0.00011\ttest-auc:0.90220+0.00792\n",
      "[147]\ttrain-auc:0.99936+0.00007\ttest-auc:0.89886+0.00847\n",
      "[0]\ttrain-auc:0.81493+0.00709\ttest-auc:0.79453+0.01310\n",
      "[100]\ttrain-auc:0.99713+0.00019\ttest-auc:0.90057+0.00685\n",
      "[135]\ttrain-auc:0.99910+0.00005\ttest-auc:0.89849+0.00679\n",
      "[0]\ttrain-auc:0.81030+0.00777\ttest-auc:0.79391+0.00606\n",
      "[100]\ttrain-auc:0.99605+0.00035\ttest-auc:0.90573+0.00752\n",
      "[155]\ttrain-auc:0.99883+0.00010\ttest-auc:0.90232+0.00682\n",
      "[0]\ttrain-auc:0.81648+0.00997\ttest-auc:0.79814+0.01221\n",
      "[100]\ttrain-auc:0.99658+0.00037\ttest-auc:0.90449+0.00767\n",
      "[143]\ttrain-auc:0.99885+0.00007\ttest-auc:0.90302+0.00755\n",
      "[0]\ttrain-auc:0.81674+0.00992\ttest-auc:0.79772+0.01201\n",
      "[100]\ttrain-auc:0.99685+0.00020\ttest-auc:0.90386+0.00863\n",
      "[144]\ttrain-auc:0.99896+0.00022\ttest-auc:0.90143+0.00698\n",
      "[0]\ttrain-auc:0.85903+0.00377\ttest-auc:0.82336+0.00785\n",
      "[100]\ttrain-auc:1.00000+0.00000\ttest-auc:0.89838+0.01109\n",
      "[120]\ttrain-auc:1.00000+0.00000\ttest-auc:0.89909+0.01167\n",
      "[0]\ttrain-auc:0.85849+0.00503\ttest-auc:0.82969+0.00597\n",
      "[100]\ttrain-auc:1.00000+0.00000\ttest-auc:0.89718+0.01031\n",
      "[127]\ttrain-auc:1.00000+0.00000\ttest-auc:0.89821+0.01045\n",
      "[0]\ttrain-auc:0.85685+0.00679\ttest-auc:0.82668+0.01315\n",
      "[100]\ttrain-auc:1.00000+0.00000\ttest-auc:0.89778+0.01200\n",
      "[130]\ttrain-auc:1.00000+0.00000\ttest-auc:0.89883+0.01150\n",
      "[0]\ttrain-auc:0.86245+0.00383\ttest-auc:0.82340+0.01404\n",
      "[100]\ttrain-auc:1.00000+0.00000\ttest-auc:0.90135+0.01208\n",
      "[200]\ttrain-auc:1.00000+0.00000\ttest-auc:0.90550+0.01140\n",
      "[300]\ttrain-auc:1.00000+0.00000\ttest-auc:0.90689+0.01044\n",
      "[400]\ttrain-auc:1.00000+0.00000\ttest-auc:0.90777+0.01037\n",
      "[500]\ttrain-auc:1.00000+0.00000\ttest-auc:0.90745+0.01029\n",
      "[507]\ttrain-auc:1.00000+0.00000\ttest-auc:0.90745+0.01034\n",
      "[0]\ttrain-auc:0.86367+0.00453\ttest-auc:0.82776+0.00424\n",
      "[100]\ttrain-auc:1.00000+0.00000\ttest-auc:0.90465+0.01033\n",
      "[123]\ttrain-auc:1.00000+0.00000\ttest-auc:0.90623+0.01018\n",
      "[0]\ttrain-auc:0.86338+0.00389\ttest-auc:0.82598+0.00459\n",
      "[100]\ttrain-auc:1.00000+0.00000\ttest-auc:0.90413+0.00953\n",
      "[123]\ttrain-auc:1.00000+0.00000\ttest-auc:0.90468+0.00970\n",
      "[0]\ttrain-auc:0.86689+0.00341\ttest-auc:0.82850+0.00984\n",
      "[100]\ttrain-auc:1.00000+0.00000\ttest-auc:0.90407+0.00921\n",
      "[124]\ttrain-auc:1.00000+0.00000\ttest-auc:0.90546+0.00952\n",
      "[0]\ttrain-auc:0.86774+0.00532\ttest-auc:0.82684+0.00854\n",
      "[100]\ttrain-auc:1.00000+0.00000\ttest-auc:0.90195+0.00934\n",
      "[125]\ttrain-auc:1.00000+0.00000\ttest-auc:0.90302+0.00868\n",
      "[0]\ttrain-auc:0.86642+0.00441\ttest-auc:0.82889+0.00653\n",
      "[100]\ttrain-auc:1.00000+0.00000\ttest-auc:0.90228+0.01002\n",
      "[126]\ttrain-auc:1.00000+0.00000\ttest-auc:0.90330+0.00966\n",
      "[0]\ttrain-auc:0.87976+0.00592\ttest-auc:0.81525+0.01095\n",
      "[100]\ttrain-auc:1.00000+0.00000\ttest-auc:0.90075+0.01182\n",
      "[200]\ttrain-auc:1.00000+0.00000\ttest-auc:0.90226+0.01119\n",
      "[300]\ttrain-auc:1.00000+0.00000\ttest-auc:0.90210+0.01109\n",
      "[400]\ttrain-auc:1.00000+0.00000\ttest-auc:0.90249+0.01090\n",
      "[500]\ttrain-auc:1.00000+0.00000\ttest-auc:0.90269+0.01120\n",
      "[600]\ttrain-auc:1.00000+0.00000\ttest-auc:0.90270+0.01128\n",
      "[700]\ttrain-auc:1.00000+0.00000\ttest-auc:0.90264+0.01129\n",
      "[722]\ttrain-auc:1.00000+0.00000\ttest-auc:0.90271+0.01122\n",
      "[0]\ttrain-auc:0.87875+0.00402\ttest-auc:0.82299+0.00799\n",
      "[100]\ttrain-auc:1.00000+0.00000\ttest-auc:0.90273+0.00802\n",
      "[200]\ttrain-auc:1.00000+0.00000\ttest-auc:0.90403+0.00788\n",
      "[300]\ttrain-auc:1.00000+0.00000\ttest-auc:0.90421+0.00818\n",
      "[400]\ttrain-auc:1.00000+0.00000\ttest-auc:0.90434+0.00818\n",
      "[476]\ttrain-auc:1.00000+0.00000\ttest-auc:0.90447+0.00830\n",
      "[0]\ttrain-auc:0.87907+0.00407\ttest-auc:0.82537+0.00727\n",
      "[100]\ttrain-auc:1.00000+0.00000\ttest-auc:0.90275+0.01141\n",
      "[200]\ttrain-auc:1.00000+0.00000\ttest-auc:0.90410+0.01105\n",
      "[300]\ttrain-auc:1.00000+0.00000\ttest-auc:0.90428+0.01132\n",
      "[400]\ttrain-auc:1.00000+0.00000\ttest-auc:0.90446+0.01162\n",
      "[500]\ttrain-auc:1.00000+0.00000\ttest-auc:0.90451+0.01177\n",
      "[565]\ttrain-auc:1.00000+0.00000\ttest-auc:0.90424+0.01184\n",
      "[0]\ttrain-auc:0.88635+0.00516\ttest-auc:0.81545+0.01666\n",
      "[100]\ttrain-auc:1.00000+0.00000\ttest-auc:0.90720+0.01222\n",
      "[200]\ttrain-auc:1.00000+0.00000\ttest-auc:0.90901+0.01165\n",
      "[300]\ttrain-auc:1.00000+0.00000\ttest-auc:0.90857+0.01141\n",
      "[315]\ttrain-auc:1.00000+0.00000\ttest-auc:0.90849+0.01147\n",
      "[0]\ttrain-auc:0.88846+0.00413\ttest-auc:0.82329+0.00462\n",
      "[100]\ttrain-auc:1.00000+0.00000\ttest-auc:0.90727+0.01026\n",
      "[200]\ttrain-auc:1.00000+0.00000\ttest-auc:0.90905+0.01041\n",
      "[264]\ttrain-auc:1.00000+0.00000\ttest-auc:0.90904+0.01016\n",
      "[0]\ttrain-auc:0.88891+0.00348\ttest-auc:0.82370+0.00878\n",
      "[100]\ttrain-auc:1.00000+0.00000\ttest-auc:0.90798+0.01090\n",
      "[200]\ttrain-auc:1.00000+0.00000\ttest-auc:0.90966+0.00965\n",
      "[297]\ttrain-auc:1.00000+0.00000\ttest-auc:0.90956+0.01012\n",
      "[0]\ttrain-auc:0.89346+0.00432\ttest-auc:0.81864+0.00957\n",
      "[100]\ttrain-auc:1.00000+0.00000\ttest-auc:0.90858+0.01103\n",
      "[200]\ttrain-auc:1.00000+0.00000\ttest-auc:0.91084+0.01008\n",
      "[300]\ttrain-auc:1.00000+0.00000\ttest-auc:0.91100+0.01022\n",
      "[400]\ttrain-auc:1.00000+0.00000\ttest-auc:0.91121+0.01007\n",
      "[500]\ttrain-auc:1.00000+0.00000\ttest-auc:0.91122+0.01008\n",
      "[524]\ttrain-auc:1.00000+0.00000\ttest-auc:0.91133+0.01008\n",
      "[0]\ttrain-auc:0.89283+0.00423\ttest-auc:0.82200+0.00566\n",
      "[100]\ttrain-auc:1.00000+0.00000\ttest-auc:0.91014+0.01122\n",
      "[200]\ttrain-auc:1.00000+0.00000\ttest-auc:0.91166+0.01091\n",
      "[300]\ttrain-auc:1.00000+0.00000\ttest-auc:0.91240+0.01071\n",
      "[400]\ttrain-auc:1.00000+0.00000\ttest-auc:0.91253+0.01062\n",
      "[483]\ttrain-auc:1.00000+0.00000\ttest-auc:0.91204+0.01067\n",
      "[0]\ttrain-auc:0.89122+0.00394\ttest-auc:0.82014+0.00914\n",
      "[100]\ttrain-auc:1.00000+0.00000\ttest-auc:0.91006+0.01056\n",
      "[200]\ttrain-auc:1.00000+0.00000\ttest-auc:0.91163+0.01032\n",
      "[300]\ttrain-auc:1.00000+0.00000\ttest-auc:0.91207+0.00987\n",
      "[400]\ttrain-auc:1.00000+0.00000\ttest-auc:0.91235+0.00986\n",
      "[487]\ttrain-auc:1.00000+0.00000\ttest-auc:0.91221+0.00981\n",
      "[0]\ttrain-auc:0.80857+0.00875\ttest-auc:0.79524+0.00485\n",
      "[100]\ttrain-auc:0.98015+0.00145\ttest-auc:0.91520+0.00967\n",
      "[200]\ttrain-auc:0.99327+0.00036\ttest-auc:0.91555+0.00880\n",
      "[233]\ttrain-auc:0.99530+0.00030\ttest-auc:0.91512+0.00889\n",
      "[0]\ttrain-auc:0.80624+0.00900\ttest-auc:0.79297+0.00455\n",
      "[100]\ttrain-auc:0.98087+0.00105\ttest-auc:0.91644+0.00746\n",
      "[200]\ttrain-auc:0.99375+0.00029\ttest-auc:0.91592+0.00745\n",
      "[253]\ttrain-auc:0.99643+0.00029\ttest-auc:0.91461+0.00751\n",
      "[0]\ttrain-auc:0.80617+0.00923\ttest-auc:0.79206+0.00480\n",
      "[100]\ttrain-auc:0.98180+0.00094\ttest-auc:0.91452+0.00935\n",
      "[200]\ttrain-auc:0.99399+0.00029\ttest-auc:0.91568+0.00847\n",
      "[269]\ttrain-auc:0.99733+0.00011\ttest-auc:0.91444+0.00795\n",
      "[0]\ttrain-auc:0.81054+0.00855\ttest-auc:0.79065+0.00790\n",
      "[100]\ttrain-auc:0.98107+0.00039\ttest-auc:0.91691+0.00848\n",
      "[200]\ttrain-auc:0.99321+0.00018\ttest-auc:0.91807+0.00665\n",
      "[286]\ttrain-auc:0.99716+0.00008\ttest-auc:0.91614+0.00679\n",
      "[0]\ttrain-auc:0.81490+0.00731\ttest-auc:0.79446+0.01232\n",
      "[100]\ttrain-auc:0.98151+0.00065\ttest-auc:0.91569+0.00728\n",
      "[200]\ttrain-auc:0.99354+0.00011\ttest-auc:0.91865+0.00792\n",
      "[273]\ttrain-auc:0.99700+0.00006\ttest-auc:0.91773+0.00724\n",
      "[0]\ttrain-auc:0.81493+0.00709\ttest-auc:0.79453+0.01310\n",
      "[100]\ttrain-auc:0.98256+0.00067\ttest-auc:0.91651+0.00910\n",
      "[200]\ttrain-auc:0.99404+0.00021\ttest-auc:0.91645+0.00864\n",
      "[237]\ttrain-auc:0.99598+0.00005\ttest-auc:0.91595+0.00841\n",
      "[0]\ttrain-auc:0.81030+0.00777\ttest-auc:0.79391+0.00606\n",
      "[100]\ttrain-auc:0.98069+0.00089\ttest-auc:0.91796+0.00767\n",
      "[200]\ttrain-auc:0.99237+0.00013\ttest-auc:0.91819+0.00709\n",
      "[226]\ttrain-auc:0.99384+0.00033\ttest-auc:0.91776+0.00696\n",
      "[0]\ttrain-auc:0.81648+0.00997\ttest-auc:0.79814+0.01221\n",
      "[100]\ttrain-auc:0.98181+0.00145\ttest-auc:0.91645+0.00848\n",
      "[200]\ttrain-auc:0.99242+0.00013\ttest-auc:0.91746+0.00862\n",
      "[272]\ttrain-auc:0.99594+0.00004\ttest-auc:0.91647+0.00788\n",
      "[0]\ttrain-auc:0.81674+0.00992\ttest-auc:0.79772+0.01201\n",
      "[100]\ttrain-auc:0.98143+0.00097\ttest-auc:0.91521+0.00756\n",
      "[200]\ttrain-auc:0.99271+0.00008\ttest-auc:0.91661+0.00743\n",
      "[300]\ttrain-auc:0.99697+0.00004\ttest-auc:0.91487+0.00817\n",
      "[312]\ttrain-auc:0.99730+0.00004\ttest-auc:0.91466+0.00838\n",
      "[0]\ttrain-auc:0.85903+0.00377\ttest-auc:0.82336+0.00785\n",
      "[100]\ttrain-auc:0.99881+0.00011\ttest-auc:0.91492+0.01152\n",
      "[185]\ttrain-auc:0.99996+0.00001\ttest-auc:0.91287+0.01067\n",
      "[0]\ttrain-auc:0.85849+0.00503\ttest-auc:0.82969+0.00597\n",
      "[100]\ttrain-auc:0.99890+0.00005\ttest-auc:0.91520+0.01179\n",
      "[173]\ttrain-auc:0.99995+0.00000\ttest-auc:0.91334+0.01094\n",
      "[0]\ttrain-auc:0.85685+0.00679\ttest-auc:0.82668+0.01315\n",
      "[100]\ttrain-auc:0.99900+0.00007\ttest-auc:0.91530+0.01104\n",
      "[177]\ttrain-auc:0.99997+0.00000\ttest-auc:0.91425+0.01057\n",
      "[0]\ttrain-auc:0.86245+0.00383\ttest-auc:0.82340+0.01404\n",
      "[100]\ttrain-auc:0.99897+0.00011\ttest-auc:0.91760+0.01113\n",
      "[184]\ttrain-auc:0.99996+0.00001\ttest-auc:0.91525+0.01043\n",
      "[0]\ttrain-auc:0.86367+0.00453\ttest-auc:0.82776+0.00424\n",
      "[100]\ttrain-auc:0.99912+0.00004\ttest-auc:0.91719+0.01156\n",
      "[167]\ttrain-auc:0.99993+0.00000\ttest-auc:0.91530+0.01046\n",
      "[0]\ttrain-auc:0.86338+0.00389\ttest-auc:0.82598+0.00459\n",
      "[100]\ttrain-auc:0.99918+0.00014\ttest-auc:0.91662+0.01107\n",
      "[182]\ttrain-auc:0.99997+0.00001\ttest-auc:0.91596+0.00963\n",
      "[0]\ttrain-auc:0.86689+0.00341\ttest-auc:0.82850+0.00984\n",
      "[100]\ttrain-auc:0.99905+0.00004\ttest-auc:0.91671+0.01031\n",
      "[168]\ttrain-auc:0.99983+0.00002\ttest-auc:0.91479+0.00943\n",
      "[0]\ttrain-auc:0.86774+0.00532\ttest-auc:0.82684+0.00854\n",
      "[100]\ttrain-auc:0.99910+0.00010\ttest-auc:0.91633+0.01317\n",
      "[171]\ttrain-auc:0.99984+0.00001\ttest-auc:0.91425+0.01240\n",
      "[0]\ttrain-auc:0.86642+0.00441\ttest-auc:0.82889+0.00653\n",
      "[100]\ttrain-auc:0.99898+0.00009\ttest-auc:0.91456+0.01166\n",
      "[179]\ttrain-auc:0.99989+0.00000\ttest-auc:0.91257+0.01011\n",
      "[0]\ttrain-auc:0.87976+0.00592\ttest-auc:0.81525+0.01095\n",
      "[100]\ttrain-auc:0.99997+0.00000\ttest-auc:0.91426+0.01077\n",
      "[200]\ttrain-auc:1.00000+0.00000\ttest-auc:0.91497+0.01060\n",
      "[300]\ttrain-auc:1.00000+0.00000\ttest-auc:0.91558+0.01030\n",
      "[400]\ttrain-auc:1.00000+0.00000\ttest-auc:0.91585+0.01017\n",
      "[500]\ttrain-auc:1.00000+0.00000\ttest-auc:0.91590+0.00993\n",
      "[519]\ttrain-auc:1.00000+0.00000\ttest-auc:0.91582+0.01004\n",
      "[0]\ttrain-auc:0.87875+0.00402\ttest-auc:0.82299+0.00799\n",
      "[100]\ttrain-auc:0.99997+0.00001\ttest-auc:0.91483+0.01070\n",
      "[200]\ttrain-auc:1.00000+0.00000\ttest-auc:0.91644+0.00994\n",
      "[300]\ttrain-auc:1.00000+0.00000\ttest-auc:0.91683+0.00976\n",
      "[400]\ttrain-auc:1.00000+0.00000\ttest-auc:0.91708+0.00969\n",
      "[500]\ttrain-auc:1.00000+0.00000\ttest-auc:0.91721+0.00942\n",
      "[600]\ttrain-auc:1.00000+0.00000\ttest-auc:0.91690+0.00959\n",
      "[603]\ttrain-auc:1.00000+0.00000\ttest-auc:0.91686+0.00962\n",
      "[0]\ttrain-auc:0.87907+0.00407\ttest-auc:0.82537+0.00727\n",
      "[100]\ttrain-auc:0.99998+0.00001\ttest-auc:0.91383+0.01256\n",
      "[200]\ttrain-auc:1.00000+0.00000\ttest-auc:0.91593+0.01145\n",
      "[300]\ttrain-auc:1.00000+0.00000\ttest-auc:0.91663+0.01089\n",
      "[400]\ttrain-auc:1.00000+0.00000\ttest-auc:0.91685+0.01065\n",
      "[480]\ttrain-auc:1.00000+0.00000\ttest-auc:0.91686+0.01039\n",
      "[0]\ttrain-auc:0.88635+0.00516\ttest-auc:0.81545+0.01666\n",
      "[100]\ttrain-auc:0.99998+0.00000\ttest-auc:0.91513+0.01303\n",
      "[200]\ttrain-auc:1.00000+0.00000\ttest-auc:0.91776+0.01087\n",
      "[300]\ttrain-auc:1.00000+0.00000\ttest-auc:0.91888+0.01038\n",
      "[400]\ttrain-auc:1.00000+0.00000\ttest-auc:0.91906+0.01038\n",
      "[500]\ttrain-auc:1.00000+0.00000\ttest-auc:0.91914+0.01005\n",
      "[530]\ttrain-auc:1.00000+0.00000\ttest-auc:0.91902+0.01000\n",
      "[0]\ttrain-auc:0.88846+0.00413\ttest-auc:0.82329+0.00462\n",
      "[100]\ttrain-auc:0.99998+0.00000\ttest-auc:0.91581+0.01251\n",
      "[200]\ttrain-auc:1.00000+0.00000\ttest-auc:0.91777+0.01101\n",
      "[300]\ttrain-auc:1.00000+0.00000\ttest-auc:0.91910+0.01089\n",
      "[400]\ttrain-auc:1.00000+0.00000\ttest-auc:0.91918+0.01056\n",
      "[443]\ttrain-auc:1.00000+0.00000\ttest-auc:0.91907+0.01056\n",
      "[0]\ttrain-auc:0.88891+0.00348\ttest-auc:0.82370+0.00878\n",
      "[100]\ttrain-auc:0.99999+0.00001\ttest-auc:0.91504+0.01260\n",
      "[200]\ttrain-auc:1.00000+0.00000\ttest-auc:0.91711+0.01176\n",
      "[300]\ttrain-auc:1.00000+0.00000\ttest-auc:0.91782+0.01131\n",
      "[400]\ttrain-auc:1.00000+0.00000\ttest-auc:0.91814+0.01093\n",
      "[500]\ttrain-auc:1.00000+0.00000\ttest-auc:0.91817+0.01073\n",
      "[507]\ttrain-auc:1.00000+0.00000\ttest-auc:0.91809+0.01074\n",
      "[0]\ttrain-auc:0.89346+0.00432\ttest-auc:0.81864+0.00957\n",
      "[100]\ttrain-auc:0.99998+0.00000\ttest-auc:0.91555+0.01340\n",
      "[200]\ttrain-auc:1.00000+0.00000\ttest-auc:0.91704+0.01137\n",
      "[300]\ttrain-auc:1.00000+0.00000\ttest-auc:0.91831+0.01097\n",
      "[400]\ttrain-auc:1.00000+0.00000\ttest-auc:0.91914+0.01093\n",
      "[500]\ttrain-auc:1.00000+0.00000\ttest-auc:0.91941+0.01070\n",
      "[600]\ttrain-auc:1.00000+0.00000\ttest-auc:0.91978+0.01045\n",
      "[700]\ttrain-auc:1.00000+0.00000\ttest-auc:0.91971+0.01025\n",
      "[727]\ttrain-auc:1.00000+0.00000\ttest-auc:0.91974+0.01028\n",
      "[0]\ttrain-auc:0.89283+0.00423\ttest-auc:0.82200+0.00566\n",
      "[100]\ttrain-auc:0.99998+0.00000\ttest-auc:0.91427+0.01353\n",
      "[200]\ttrain-auc:1.00000+0.00000\ttest-auc:0.91686+0.01088\n",
      "[300]\ttrain-auc:1.00000+0.00000\ttest-auc:0.91795+0.01048\n",
      "[400]\ttrain-auc:1.00000+0.00000\ttest-auc:0.91841+0.01026\n",
      "[500]\ttrain-auc:1.00000+0.00000\ttest-auc:0.91874+0.00999\n",
      "[600]\ttrain-auc:1.00000+0.00000\ttest-auc:0.91903+0.00982\n",
      "[700]\ttrain-auc:1.00000+0.00000\ttest-auc:0.91916+0.00967\n",
      "[800]\ttrain-auc:1.00000+0.00000\ttest-auc:0.91914+0.00969\n",
      "[853]\ttrain-auc:1.00000+0.00000\ttest-auc:0.91908+0.00974\n",
      "[0]\ttrain-auc:0.89122+0.00394\ttest-auc:0.82014+0.00914\n",
      "[100]\ttrain-auc:0.99998+0.00001\ttest-auc:0.91373+0.01326\n",
      "[200]\ttrain-auc:1.00000+0.00000\ttest-auc:0.91524+0.01153\n",
      "[300]\ttrain-auc:1.00000+0.00000\ttest-auc:0.91690+0.01065\n",
      "[400]\ttrain-auc:1.00000+0.00000\ttest-auc:0.91770+0.01039\n",
      "[500]\ttrain-auc:1.00000+0.00000\ttest-auc:0.91792+0.01047\n",
      "[600]\ttrain-auc:1.00000+0.00000\ttest-auc:0.91825+0.01046\n",
      "[700]\ttrain-auc:1.00000+0.00000\ttest-auc:0.91830+0.01044\n",
      "[800]\ttrain-auc:1.00000+0.00000\ttest-auc:0.91846+0.01037\n",
      "[900]\ttrain-auc:1.00000+0.00000\ttest-auc:0.91845+0.01027\n",
      "[986]\ttrain-auc:1.00000+0.00000\ttest-auc:0.91834+0.01031\n"
     ]
    }
   ],
   "source": [
    "results = {}\n",
    "\n",
    "dtrain = xgb.DMatrix(X_train, label=y_train)\n",
    "\n",
    "for rate in learning_rate:\n",
    "  for depth in max_depth:\n",
    "    for sample in subsample:\n",
    "      for colsample in colsample_bytree:\n",
    "\n",
    "        params = {\n",
    "          'objective' : 'binary:logistic',\n",
    "          'eval_metric' : 'auc',\n",
    "          'learning_rate' : rate,\n",
    "          'max_depth' : depth,\n",
    "          'subsample' : sample,\n",
    "          'colsample_bytree' : colsample,\n",
    "          'tree_method' : 'gpu_hist',\n",
    "          'random_state' : 3,\n",
    "        }\n",
    "\n",
    "        history = xgb.cv(\n",
    "            params,\n",
    "            dtrain,\n",
    "            num_boost_round = 3000,\n",
    "            nfold = 3,\n",
    "            metrics ='auc',\n",
    "            early_stopping_rounds = 100,\n",
    "            verbose_eval=100,\n",
    "            seed=3,\n",
    "            shuffle = False\n",
    "        )\n",
    "\n",
    "        name = \"learning_rate : \"+str(rate)+\" max_depth : \"+str(depth)+\" subsample : \"+str(sample)+\" colsample_bytree : \"+str(colsample)\n",
    "        results[name] = (history.iloc[-1]['train-auc-mean'],history.iloc[-1]['test-auc-mean'])"
   ]
  },
  {
   "cell_type": "code",
   "execution_count": 10,
   "id": "06994a21",
   "metadata": {
    "execution": {
     "iopub.execute_input": "2024-01-13T22:29:24.386743Z",
     "iopub.status.busy": "2024-01-13T22:29:24.386350Z",
     "iopub.status.idle": "2024-01-13T22:29:24.393218Z",
     "shell.execute_reply": "2024-01-13T22:29:24.392200Z"
    },
    "papermill": {
     "duration": 0.07362,
     "end_time": "2024-01-13T22:29:24.395135",
     "exception": false,
     "start_time": "2024-01-13T22:29:24.321515",
     "status": "completed"
    },
    "tags": []
   },
   "outputs": [],
   "source": [
    "# Save the Results\n",
    "with open('xgb_cv_results.pkl', 'wb') as handle:\n",
    "    pickle.dump(results, handle)"
   ]
  },
  {
   "cell_type": "code",
   "execution_count": 11,
   "id": "19e6ffb9",
   "metadata": {
    "execution": {
     "iopub.execute_input": "2024-01-13T22:29:24.523877Z",
     "iopub.status.busy": "2024-01-13T22:29:24.523517Z",
     "iopub.status.idle": "2024-01-13T22:29:24.528850Z",
     "shell.execute_reply": "2024-01-13T22:29:24.527951Z"
    },
    "executionInfo": {
     "elapsed": 690,
     "status": "ok",
     "timestamp": 1623689197677,
     "user": {
      "displayName": "Priyank Mishra",
      "photoUrl": "",
      "userId": "18008032652400229851"
     },
     "user_tz": -330
    },
    "id": "4mezUJ9EJM4f",
    "papermill": {
     "duration": 0.077747,
     "end_time": "2024-01-13T22:29:24.530976",
     "exception": false,
     "start_time": "2024-01-13T22:29:24.453229",
     "status": "completed"
    },
    "tags": []
   },
   "outputs": [],
   "source": [
    "# Load the Results\n",
    "with open('xgb_cv_results.pkl', 'rb') as handle:\n",
    "    results = pickle.load(handle)"
   ]
  },
  {
   "cell_type": "code",
   "execution_count": 12,
   "id": "8c7c2f80",
   "metadata": {
    "execution": {
     "iopub.execute_input": "2024-01-13T22:29:24.633386Z",
     "iopub.status.busy": "2024-01-13T22:29:24.633005Z",
     "iopub.status.idle": "2024-01-13T22:29:24.638473Z",
     "shell.execute_reply": "2024-01-13T22:29:24.637610Z"
    },
    "executionInfo": {
     "elapsed": 395,
     "status": "ok",
     "timestamp": 1623689204533,
     "user": {
      "displayName": "Priyank Mishra",
      "photoUrl": "",
      "userId": "18008032652400229851"
     },
     "user_tz": -330
    },
    "id": "vB7uB6m5UMqg",
    "papermill": {
     "duration": 0.061369,
     "end_time": "2024-01-13T22:29:24.640554",
     "exception": false,
     "start_time": "2024-01-13T22:29:24.579185",
     "status": "completed"
    },
    "tags": []
   },
   "outputs": [],
   "source": [
    "train_roc_auc = [auc[0] for auc in results.values()]\n",
    "cv_roc_auc = [auc[1] for auc in results.values()]"
   ]
  },
  {
   "cell_type": "code",
   "execution_count": 13,
   "id": "44cc018d",
   "metadata": {
    "execution": {
     "iopub.execute_input": "2024-01-13T22:29:24.745375Z",
     "iopub.status.busy": "2024-01-13T22:29:24.745022Z",
     "iopub.status.idle": "2024-01-13T22:29:25.718445Z",
     "shell.execute_reply": "2024-01-13T22:29:25.717478Z"
    },
    "executionInfo": {
     "elapsed": 1690,
     "status": "ok",
     "timestamp": 1623689218941,
     "user": {
      "displayName": "Priyank Mishra",
      "photoUrl": "",
      "userId": "18008032652400229851"
     },
     "user_tz": -330
    },
    "id": "xkF6HmqKaaQ-",
    "outputId": "9664ee84-9aa8-45d3-aff6-d8ca113cc3ca",
    "papermill": {
     "duration": 1.026941,
     "end_time": "2024-01-13T22:29:25.720646",
     "exception": false,
     "start_time": "2024-01-13T22:29:24.693705",
     "status": "completed"
    },
    "tags": []
   },
   "outputs": [
    {
     "data": {
      "image/png": "[encoded data removed]",
      "text/plain": [
       "<Figure size 2500x800 with 1 Axes>"
      ]
     },
     "metadata": {},
     "output_type": "display_data"
    }
   ],
   "source": [
    "plt.figure(figsize=(25,8))\n",
    "hyperparam_vs_auc(train_roc_auc, cv_roc_auc)"
   ]
  },
  {
   "cell_type": "markdown",
   "id": "5f70cd2a",
   "metadata": {
    "id": "1xIoO5wLbCc9",
    "papermill": {
     "duration": 0.05059,
     "end_time": "2024-01-13T22:29:25.821019",
     "exception": false,
     "start_time": "2024-01-13T22:29:25.770429",
     "status": "completed"
    },
    "tags": []
   },
   "source": [
    "From the above plot, the best hyperaparameter index is 3.\n",
    "<br><br>"
   ]
  },
  {
   "cell_type": "code",
   "execution_count": 14,
   "id": "7b870f16",
   "metadata": {
    "execution": {
     "iopub.execute_input": "2024-01-13T22:29:25.921139Z",
     "iopub.status.busy": "2024-01-13T22:29:25.920803Z",
     "iopub.status.idle": "2024-01-13T22:29:25.925214Z",
     "shell.execute_reply": "2024-01-13T22:29:25.924367Z"
    },
    "executionInfo": {
     "elapsed": 489,
     "status": "ok",
     "timestamp": 1623689283664,
     "user": {
      "displayName": "Priyank Mishra",
      "photoUrl": "",
      "userId": "18008032652400229851"
     },
     "user_tz": -330
    },
    "id": "O_RKITQ0ayez",
    "papermill": {
     "duration": 0.056291,
     "end_time": "2024-01-13T22:29:25.927057",
     "exception": false,
     "start_time": "2024-01-13T22:29:25.870766",
     "status": "completed"
    },
    "tags": []
   },
   "outputs": [],
   "source": [
    "best_params = list(results.keys())[3]"
   ]
  },
  {
   "cell_type": "code",
   "execution_count": 15,
   "id": "c7080a25",
   "metadata": {
    "execution": {
     "iopub.execute_input": "2024-01-13T22:29:26.026991Z",
     "iopub.status.busy": "2024-01-13T22:29:26.026195Z",
     "iopub.status.idle": "2024-01-13T22:29:26.030906Z",
     "shell.execute_reply": "2024-01-13T22:29:26.029899Z"
    },
    "executionInfo": {
     "elapsed": 12,
     "status": "ok",
     "timestamp": 1623689284313,
     "user": {
      "displayName": "Priyank Mishra",
      "photoUrl": "",
      "userId": "18008032652400229851"
     },
     "user_tz": -330
    },
    "id": "ylT2Yeywa2SA",
    "outputId": "7346a317-9a8b-47b6-8da0-91c80ccc6e8c",
    "papermill": {
     "duration": 0.056634,
     "end_time": "2024-01-13T22:29:26.032880",
     "exception": false,
     "start_time": "2024-01-13T22:29:25.976246",
     "status": "completed"
    },
    "tags": []
   },
   "outputs": [
    {
     "name": "stdout",
     "output_type": "stream",
     "text": [
      "The Best Paramaters are learning_rate : 0.02 max_depth : 8 subsample : 0.8 colsample_bytree : 0.6 \n"
     ]
    }
   ],
   "source": [
    "print(\"The Best Paramaters are {} \".format(best_params))"
   ]
  }
 ],
 "metadata": {
  "accelerator": "GPU",
  "colab": {
   "collapsed_sections": [],
   "machine_shape": "hm",
   "name": "9.Final Hyperparameter Tuning.ipynb",
   "provenance": []
  },
  "kaggle": {
   "accelerator": "nvidiaTeslaT4",
   "dataSources": [
    {
     "datasetId": 4299064,
     "sourceId": 7394709,
     "sourceType": "datasetVersion"
    }
   ],
   "isGpuEnabled": true,
   "isInternetEnabled": true,
   "language": "python",
   "sourceType": "notebook"
  },
  "kernelspec": {
   "display_name": "Python 3",
   "language": "python",
   "name": "python3"
  },
  "language_info": {
   "codemirror_mode": {
    "name": "ipython",
    "version": 3
   },
   "file_extension": ".py",
   "mimetype": "text/x-python",
   "name": "python",
   "nbconvert_exporter": "python",
   "pygments_lexer": "ipython3",
   "version": "3.10.12"
  },
  "papermill": {
   "default_parameters": {},
   "duration": 11852.433615,
   "end_time": "2024-01-13T22:29:26.930894",
   "environment_variables": {},
   "exception": null,
   "input_path": "__notebook__.ipynb",
   "output_path": "__notebook__.ipynb",
   "parameters": {},
   "start_time": "2024-01-13T19:11:54.497279",
   "version": "2.4.0"
  }
 },
 "nbformat": 4,
 "nbformat_minor": 5
}
