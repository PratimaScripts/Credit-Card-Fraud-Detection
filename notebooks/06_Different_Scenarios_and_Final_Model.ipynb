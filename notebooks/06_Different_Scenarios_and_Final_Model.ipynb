{
 "cells": [
  {
   "cell_type": "code",
   "execution_count": 1,
   "id": "9af0000f",
   "metadata": {
    "execution": {
     "iopub.execute_input": "2024-01-06T17:57:21.845924Z",
     "iopub.status.busy": "2024-01-06T17:57:21.845533Z",
     "iopub.status.idle": "2024-01-06T17:57:27.487190Z",
     "shell.execute_reply": "2024-01-06T17:57:27.486392Z"
    },
    "papermill": {
     "duration": 5.660808,
     "end_time": "2024-01-06T17:57:27.489668",
     "exception": false,
     "start_time": "2024-01-06T17:57:21.828860",
     "status": "completed"
    },
    "tags": []
   },
   "outputs": [
    {
     "name": "stderr",
     "output_type": "stream",
     "text": [
      "/opt/conda/lib/python3.10/site-packages/scipy/__init__.py:146: UserWarning: A NumPy version >=1.16.5 and <1.23.0 is required for this version of SciPy (detected version 1.24.3\n",
      "  warnings.warn(f\"A NumPy version >={np_minversion} and <{np_maxversion}\"\n",
      "/opt/conda/lib/python3.10/site-packages/dask/dataframe/_pyarrow_compat.py:23: UserWarning: You are using pyarrow version 11.0.0 which is known to be insecure. See https://www.cve.org/CVERecord?id=CVE-2023-47248 for further details. Please upgrade to pyarrow>=14.0.1 or install pyarrow-hotfix to patch your current version.\n",
      "  warnings.warn(\n"
     ]
    }
   ],
   "source": [
    "import numpy as np\n",
    "import pandas as pd\n",
    "import seaborn as sns\n",
    "import matplotlib.pyplot as plt\n",
    "import warnings\n",
    "import gc\n",
    "import datetime\n",
    "from sklearn.model_selection import train_test_split,cross_val_score,GridSearchCV,cross_validate\n",
    "from sklearn.preprocessing import MinMaxScaler,LabelEncoder, StandardScaler, RobustScaler\n",
    "from sklearn.exceptions import ConvergenceWarning\n",
    "from sklearn.metrics import accuracy_score,recall_score,precision_score,f1_score,roc_auc_score, classification_report\n",
    "from xgboost import XGBClassifier\n",
    "from lightgbm import LGBMClassifier\n",
    "from imblearn.under_sampling import RandomUnderSampler"
   ]
  },
  {
   "cell_type": "code",
   "execution_count": 2,
   "id": "c733e353",
   "metadata": {
    "execution": {
     "iopub.execute_input": "2024-01-06T17:57:27.522106Z",
     "iopub.status.busy": "2024-01-06T17:57:27.521479Z",
     "iopub.status.idle": "2024-01-06T17:57:27.526214Z",
     "shell.execute_reply": "2024-01-06T17:57:27.525311Z"
    },
    "papermill": {
     "duration": 0.023268,
     "end_time": "2024-01-06T17:57:27.528103",
     "exception": false,
     "start_time": "2024-01-06T17:57:27.504835",
     "status": "completed"
    },
    "tags": []
   },
   "outputs": [],
   "source": [
    "warnings.simplefilter(\"ignore\")\n",
    "pd.set_option('display.max_columns', None)\n",
    "pd.set_option('display.max_rows', None)"
   ]
  },
  {
   "cell_type": "code",
   "execution_count": 3,
   "id": "515e8b23",
   "metadata": {
    "execution": {
     "iopub.execute_input": "2024-01-06T17:57:27.559119Z",
     "iopub.status.busy": "2024-01-06T17:57:27.558226Z",
     "iopub.status.idle": "2024-01-06T17:58:24.545179Z",
     "shell.execute_reply": "2024-01-06T17:58:24.544263Z"
    },
    "papermill": {
     "duration": 57.00503,
     "end_time": "2024-01-06T17:58:24.547769",
     "exception": false,
     "start_time": "2024-01-06T17:57:27.542739",
     "status": "completed"
    },
    "tags": []
   },
   "outputs": [],
   "source": [
    "train_transaction=pd.read_csv('../input/ieee-fraud-detection/train_transaction.csv')\n",
    "train_identity=pd.read_csv('../input/ieee-fraud-detection/train_identity.csv')\n",
    "test_transaction=pd.read_csv('../input/ieee-fraud-detection/test_transaction.csv')\n",
    "test_identity=pd.read_csv('../input/ieee-fraud-detection/test_identity.csv')\n",
    "sample_submission=pd.read_csv('../input/ieee-fraud-detection/sample_submission.csv')"
   ]
  },
  {
   "cell_type": "code",
   "execution_count": 4,
   "id": "d73d7040",
   "metadata": {
    "execution": {
     "iopub.execute_input": "2024-01-06T17:58:24.580670Z",
     "iopub.status.busy": "2024-01-06T17:58:24.579868Z",
     "iopub.status.idle": "2024-01-06T17:58:26.580485Z",
     "shell.execute_reply": "2024-01-06T17:58:26.579681Z"
    },
    "papermill": {
     "duration": 2.019765,
     "end_time": "2024-01-06T17:58:26.582884",
     "exception": false,
     "start_time": "2024-01-06T17:58:24.563119",
     "status": "completed"
    },
    "tags": []
   },
   "outputs": [],
   "source": [
    "train_df = train_transaction.merge(train_identity, how=\"left\", on=\"TransactionID\")\n",
    "\n",
    "test_df = test_transaction.merge(test_identity, how=\"left\", on=\"TransactionID\")"
   ]
  },
  {
   "cell_type": "code",
   "execution_count": 5,
   "id": "f13549e8",
   "metadata": {
    "execution": {
     "iopub.execute_input": "2024-01-06T17:58:26.615149Z",
     "iopub.status.busy": "2024-01-06T17:58:26.614808Z",
     "iopub.status.idle": "2024-01-06T17:58:28.765694Z",
     "shell.execute_reply": "2024-01-06T17:58:28.764704Z"
    },
    "papermill": {
     "duration": 2.169949,
     "end_time": "2024-01-06T17:58:28.767999",
     "exception": false,
     "start_time": "2024-01-06T17:58:26.598050",
     "status": "completed"
    },
    "tags": []
   },
   "outputs": [],
   "source": [
    "test_df= test_df.rename(columns=lambda x:\"_\".join(x.split(\"-\")))"
   ]
  },
  {
   "cell_type": "markdown",
   "id": "bfa0f139",
   "metadata": {
    "papermill": {
     "duration": 0.01445,
     "end_time": "2024-01-06T17:58:28.797875",
     "exception": false,
     "start_time": "2024-01-06T17:58:28.783425",
     "status": "completed"
    },
    "tags": []
   },
   "source": [
    "# Reduce Memory"
   ]
  },
  {
   "cell_type": "code",
   "execution_count": 6,
   "id": "aed55174",
   "metadata": {
    "execution": {
     "iopub.execute_input": "2024-01-06T17:58:28.828566Z",
     "iopub.status.busy": "2024-01-06T17:58:28.828198Z",
     "iopub.status.idle": "2024-01-06T17:58:28.840072Z",
     "shell.execute_reply": "2024-01-06T17:58:28.839197Z"
    },
    "papermill": {
     "duration": 0.029331,
     "end_time": "2024-01-06T17:58:28.841929",
     "exception": false,
     "start_time": "2024-01-06T17:58:28.812598",
     "status": "completed"
    },
    "tags": []
   },
   "outputs": [],
   "source": [
    "# From kernel https://www.kaggle.com/gemartin/load-data-reduce-memory-usage\n",
    "\n",
    "def reduce_mem_usage(df, verbose=True):\n",
    "    numerics = ['int16', 'int32', 'int64', 'float16', 'float32', 'float64']\n",
    "    start_mem = df.memory_usage().sum() / 1024**2    \n",
    "    for col in df.columns:\n",
    "        col_type = df[col].dtypes\n",
    "        if col_type in numerics:\n",
    "            c_min = df[col].min()\n",
    "            c_max = df[col].max()\n",
    "            if str(col_type)[:3] == 'int':\n",
    "                if c_min > np.iinfo(np.int8).min and c_max < np.iinfo(np.int8).max:\n",
    "                    df[col] = df[col].astype(np.int8)\n",
    "                elif c_min > np.iinfo(np.int16).min and c_max < np.iinfo(np.int16).max:\n",
    "                    df[col] = df[col].astype(np.int16)\n",
    "                elif c_min > np.iinfo(np.int32).min and c_max < np.iinfo(np.int32).max:\n",
    "                    df[col] = df[col].astype(np.int32)\n",
    "                elif c_min > np.iinfo(np.int64).min and c_max < np.iinfo(np.int64).max:\n",
    "                    df[col] = df[col].astype(np.int64)  \n",
    "            else:\n",
    "                if c_min > np.finfo(np.float16).min and c_max < np.finfo(np.float16).max:\n",
    "                    df[col] = df[col].astype(np.float16)\n",
    "                elif c_min > np.finfo(np.float32).min and c_max < np.finfo(np.float32).max:\n",
    "                    df[col] = df[col].astype(np.float32)\n",
    "                else:\n",
    "                    df[col] = df[col].astype(np.float64)    \n",
    "    end_mem = df.memory_usage().sum() / 1024**2\n",
    "    if verbose: print('Mem. usage decreased to {:5.2f} Mb ({:.1f}% reduction)'.format(end_mem, 100 * (start_mem - end_mem) / start_mem))\n",
    "    return df"
   ]
  },
  {
   "cell_type": "code",
   "execution_count": 7,
   "id": "5eb0423f",
   "metadata": {
    "execution": {
     "iopub.execute_input": "2024-01-06T17:58:28.872326Z",
     "iopub.status.busy": "2024-01-06T17:58:28.872001Z",
     "iopub.status.idle": "2024-01-06T17:58:28.875745Z",
     "shell.execute_reply": "2024-01-06T17:58:28.875005Z"
    },
    "papermill": {
     "duration": 0.020933,
     "end_time": "2024-01-06T17:58:28.877526",
     "exception": false,
     "start_time": "2024-01-06T17:58:28.856593",
     "status": "completed"
    },
    "tags": []
   },
   "outputs": [],
   "source": [
    "# train_df = reduce_mem_usage(train_df)\n",
    "# test_df  = reduce_mem_usage(test_df)"
   ]
  },
  {
   "cell_type": "markdown",
   "id": "8f24360b",
   "metadata": {
    "papermill": {
     "duration": 0.014519,
     "end_time": "2024-01-06T17:58:28.906900",
     "exception": false,
     "start_time": "2024-01-06T17:58:28.892381",
     "status": "completed"
    },
    "tags": []
   },
   "source": [
    "# Useless From EDA"
   ]
  },
  {
   "cell_type": "code",
   "execution_count": 8,
   "id": "b0eb6faa",
   "metadata": {
    "execution": {
     "iopub.execute_input": "2024-01-06T17:58:28.940422Z",
     "iopub.status.busy": "2024-01-06T17:58:28.939628Z",
     "iopub.status.idle": "2024-01-06T17:58:30.337043Z",
     "shell.execute_reply": "2024-01-06T17:58:30.336018Z"
    },
    "papermill": {
     "duration": 1.417342,
     "end_time": "2024-01-06T17:58:30.339547",
     "exception": false,
     "start_time": "2024-01-06T17:58:28.922205",
     "status": "completed"
    },
    "tags": []
   },
   "outputs": [],
   "source": [
    "train_df.drop(['M1','id_27','V1','V14','V41','V68','V305'],inplace=True,axis=1)\n",
    "test_df.drop(['M1','id_27','V1','V14','V41','V68','V305'],inplace=True,axis=1)"
   ]
  },
  {
   "cell_type": "markdown",
   "id": "767701ca",
   "metadata": {
    "papermill": {
     "duration": 0.014358,
     "end_time": "2024-01-06T17:58:30.409958",
     "exception": false,
     "start_time": "2024-01-06T17:58:30.395600",
     "status": "completed"
    },
    "tags": []
   },
   "source": [
    "# Some Outliers"
   ]
  },
  {
   "cell_type": "code",
   "execution_count": 9,
   "id": "617c49b4",
   "metadata": {
    "execution": {
     "iopub.execute_input": "2024-01-06T17:58:30.440660Z",
     "iopub.status.busy": "2024-01-06T17:58:30.440054Z",
     "iopub.status.idle": "2024-01-06T17:58:30.444925Z",
     "shell.execute_reply": "2024-01-06T17:58:30.444131Z"
    },
    "papermill": {
     "duration": 0.02218,
     "end_time": "2024-01-06T17:58:30.446747",
     "exception": false,
     "start_time": "2024-01-06T17:58:30.424567",
     "status": "completed"
    },
    "tags": []
   },
   "outputs": [],
   "source": [
    "# droptamt = train_df[train_df['TransactionAmt']>10000].index\n",
    "# train_df.drop(droptamt, inplace=True)\n",
    "\n",
    "# dropdist1 = train_df[train_df['dist1']>6000].index\n",
    "# train_df.drop(dropdist1, inplace=True)\n",
    "\n",
    "# dropdist2 = train_df[train_df['dist2']>8000].index\n",
    "# train_df.drop(dropdist2, inplace=True)\n",
    "\n",
    "# dropc1 = train_df[train_df['C1'] > 2000].index\n",
    "# train_df.drop(dropc1, inplace=True)\n",
    "\n",
    "# dropc2 = train_df[train_df['C2'] > 2000].index\n",
    "# train_df.drop(dropc2, inplace=True)\n",
    "\n",
    "# #dropping the -ve values\n",
    "# dropd4 = train_df[train_df['D4']<0].index\n",
    "# train_df.drop(dropd4, inplace=True)\n",
    "\n",
    "# dropd6 = train_df[train_df['D6']<0].index\n",
    "# train_df.drop(dropd6, inplace=True)\n",
    "\n",
    "# dropd11 = train_df[train_df['D11']<0].index\n",
    "# train_df.drop(dropd11, inplace=True)\n",
    "\n",
    "# dropd12 = train_df[train_df['D12']<0].index\n",
    "# train_df.drop(dropd12, inplace=True)\n",
    "\n",
    "# dropd14 = train_df[train_df['D14']<0].index\n",
    "# train_df.drop(dropd14, inplace=True)\n",
    "\n",
    "# dropd15 = train_df[train_df['D15']<0].index\n",
    "# train_df.drop(dropd15, inplace=True)"
   ]
  },
  {
   "cell_type": "code",
   "execution_count": 10,
   "id": "3a8ab11a",
   "metadata": {
    "execution": {
     "iopub.execute_input": "2024-01-06T17:58:30.477021Z",
     "iopub.status.busy": "2024-01-06T17:58:30.476378Z",
     "iopub.status.idle": "2024-01-06T17:58:30.482774Z",
     "shell.execute_reply": "2024-01-06T17:58:30.482004Z"
    },
    "papermill": {
     "duration": 0.023485,
     "end_time": "2024-01-06T17:58:30.484570",
     "exception": false,
     "start_time": "2024-01-06T17:58:30.461085",
     "status": "completed"
    },
    "tags": []
   },
   "outputs": [],
   "source": [
    "def missing_values_table(dataframe, na_name=False):\n",
    "    na_columns = [col for col in dataframe.columns if dataframe[col].isnull().sum() > 0]\n",
    "\n",
    "    n_miss = dataframe[na_columns].isnull().sum().sort_values(ascending=False)\n",
    "    ratio = (dataframe[na_columns].isnull().sum() / dataframe.shape[0] * 100).sort_values(ascending=False)\n",
    "    missing_df = pd.concat([n_miss, np.round(ratio, 2)], axis=1, keys=['n_miss', 'ratio'])\n",
    "    print(missing_df, end=\"\\n\")\n",
    "    \n",
    "    if na_name:\n",
    "        return na_columns,missing_df"
   ]
  },
  {
   "cell_type": "code",
   "execution_count": 11,
   "id": "d69605f1",
   "metadata": {
    "execution": {
     "iopub.execute_input": "2024-01-06T17:58:30.514276Z",
     "iopub.status.busy": "2024-01-06T17:58:30.513987Z",
     "iopub.status.idle": "2024-01-06T17:58:35.624964Z",
     "shell.execute_reply": "2024-01-06T17:58:35.623870Z"
    },
    "papermill": {
     "duration": 5.129449,
     "end_time": "2024-01-06T17:58:35.628414",
     "exception": false,
     "start_time": "2024-01-06T17:58:30.498965",
     "status": "completed"
    },
    "tags": []
   },
   "outputs": [
    {
     "name": "stdout",
     "output_type": "stream",
     "text": [
      "               n_miss  ratio\n",
      "id_24          585793  99.20\n",
      "id_25          585408  99.13\n",
      "id_07          585385  99.13\n",
      "id_08          585385  99.13\n",
      "id_21          585381  99.13\n",
      "id_26          585377  99.13\n",
      "id_23          585371  99.12\n",
      "id_22          585371  99.12\n",
      "dist2          552913  93.63\n",
      "D7             551623  93.41\n",
      "id_18          545427  92.36\n",
      "D13            528588  89.51\n",
      "D14            528353  89.47\n",
      "D12            525823  89.04\n",
      "id_03          524216  88.77\n",
      "id_04          524216  88.77\n",
      "D6             517353  87.61\n",
      "id_33          517251  87.59\n",
      "id_10          515614  87.31\n",
      "id_09          515614  87.31\n",
      "D8             515614  87.31\n",
      "D9             515614  87.31\n",
      "id_30          512975  86.87\n",
      "id_32          512954  86.86\n",
      "id_34          512735  86.82\n",
      "id_14          510496  86.45\n",
      "V156           508595  86.12\n",
      "V148           508595  86.12\n",
      "V155           508595  86.12\n",
      "V157           508595  86.12\n",
      "V158           508595  86.12\n",
      "V154           508595  86.12\n",
      "V153           508595  86.12\n",
      "V161           508595  86.12\n",
      "V162           508595  86.12\n",
      "V147           508595  86.12\n",
      "V142           508595  86.12\n",
      "V139           508595  86.12\n",
      "V140           508595  86.12\n",
      "V141           508595  86.12\n",
      "V138           508595  86.12\n",
      "V163           508595  86.12\n",
      "V146           508595  86.12\n",
      "V149           508595  86.12\n",
      "V160           508589  86.12\n",
      "V159           508589  86.12\n",
      "V164           508589  86.12\n",
      "V165           508589  86.12\n",
      "V152           508589  86.12\n",
      "V151           508589  86.12\n",
      "V150           508589  86.12\n",
      "V166           508589  86.12\n",
      "V145           508589  86.12\n",
      "V144           508589  86.12\n",
      "V143           508589  86.12\n",
      "V323           508189  86.05\n",
      "V333           508189  86.05\n",
      "V338           508189  86.05\n",
      "V337           508189  86.05\n",
      "V336           508189  86.05\n",
      "V335           508189  86.05\n",
      "V334           508189  86.05\n",
      "V332           508189  86.05\n",
      "V322           508189  86.05\n",
      "V331           508189  86.05\n",
      "V330           508189  86.05\n",
      "V329           508189  86.05\n",
      "V328           508189  86.05\n",
      "V327           508189  86.05\n",
      "V326           508189  86.05\n",
      "V325           508189  86.05\n",
      "V324           508189  86.05\n",
      "V339           508189  86.05\n",
      "DeviceInfo     471874  79.91\n",
      "id_13          463220  78.44\n",
      "id_16          461200  78.10\n",
      "V252           460110  77.91\n",
      "V266           460110  77.91\n",
      "V254           460110  77.91\n",
      "V257           460110  77.91\n",
      "V258           460110  77.91\n",
      "V260           460110  77.91\n",
      "V261           460110  77.91\n",
      "V262           460110  77.91\n",
      "V263           460110  77.91\n",
      "V264           460110  77.91\n",
      "V265           460110  77.91\n",
      "V267           460110  77.91\n",
      "V217           460110  77.91\n",
      "V268           460110  77.91\n",
      "V269           460110  77.91\n",
      "V273           460110  77.91\n",
      "V274           460110  77.91\n",
      "V275           460110  77.91\n",
      "V276           460110  77.91\n",
      "V277           460110  77.91\n",
      "V278           460110  77.91\n",
      "V249           460110  77.91\n",
      "V232           460110  77.91\n",
      "V218           460110  77.91\n",
      "V240           460110  77.91\n",
      "V223           460110  77.91\n",
      "V224           460110  77.91\n",
      "V225           460110  77.91\n",
      "V219           460110  77.91\n",
      "V226           460110  77.91\n",
      "V228           460110  77.91\n",
      "V229           460110  77.91\n",
      "V230           460110  77.91\n",
      "V231           460110  77.91\n",
      "V253           460110  77.91\n",
      "V233           460110  77.91\n",
      "V236           460110  77.91\n",
      "V237           460110  77.91\n",
      "V235           460110  77.91\n",
      "V241           460110  77.91\n",
      "V243           460110  77.91\n",
      "V244           460110  77.91\n",
      "V246           460110  77.91\n",
      "V247           460110  77.91\n",
      "V248           460110  77.91\n",
      "V242           460110  77.91\n",
      "id_05          453675  76.82\n",
      "id_06          453675  76.82\n",
      "R_emaildomain  453249  76.75\n",
      "id_20          451279  76.42\n",
      "id_19          451222  76.41\n",
      "id_17          451171  76.40\n",
      "V179           450909  76.36\n",
      "V167           450909  76.36\n",
      "V168           450909  76.36\n",
      "V172           450909  76.36\n",
      "V173           450909  76.36\n",
      "V176           450909  76.36\n",
      "V177           450909  76.36\n",
      "V216           450909  76.36\n",
      "V178           450909  76.36\n",
      "V191           450909  76.36\n",
      "V202           450909  76.36\n",
      "V204           450909  76.36\n",
      "V199           450909  76.36\n",
      "V205           450909  76.36\n",
      "V181           450909  76.36\n",
      "V196           450909  76.36\n",
      "V206           450909  76.36\n",
      "V207           450909  76.36\n",
      "V193           450909  76.36\n",
      "V192           450909  76.36\n",
      "V190           450909  76.36\n",
      "V203           450909  76.36\n",
      "V187           450909  76.36\n",
      "V186           450909  76.36\n",
      "V211           450909  76.36\n",
      "V212           450909  76.36\n",
      "V213           450909  76.36\n",
      "V214           450909  76.36\n",
      "V215           450909  76.36\n",
      "V183           450909  76.36\n",
      "V182           450909  76.36\n",
      "V208           450721  76.32\n",
      "V210           450721  76.32\n",
      "V209           450721  76.32\n",
      "V180           450721  76.32\n",
      "V201           450721  76.32\n",
      "V200           450721  76.32\n",
      "V198           450721  76.32\n",
      "V195           450721  76.32\n",
      "V194           450721  76.32\n",
      "V189           450721  76.32\n",
      "V188           450721  76.32\n",
      "V169           450721  76.32\n",
      "V170           450721  76.32\n",
      "V171           450721  76.32\n",
      "V185           450721  76.32\n",
      "V184           450721  76.32\n",
      "V175           450721  76.32\n",
      "V197           450721  76.32\n",
      "V174           450721  76.32\n",
      "id_31          450258  76.25\n",
      "DeviceType     449730  76.16\n",
      "id_02          449668  76.15\n",
      "id_29          449562  76.13\n",
      "id_28          449562  76.13\n",
      "id_11          449562  76.13\n",
      "id_38          449555  76.13\n",
      "id_37          449555  76.13\n",
      "id_36          449555  76.13\n",
      "id_35          449555  76.13\n",
      "id_15          449555  76.13\n",
      "V251           449124  76.05\n",
      "V255           449124  76.05\n",
      "V227           449124  76.05\n",
      "V259           449124  76.05\n",
      "V250           449124  76.05\n",
      "V234           449124  76.05\n",
      "V245           449124  76.05\n",
      "V222           449124  76.05\n",
      "V221           449124  76.05\n",
      "V272           449124  76.05\n",
      "V239           449124  76.05\n",
      "V270           449124  76.05\n",
      "V271           449124  76.05\n",
      "V238           449124  76.05\n",
      "V256           449124  76.05\n",
      "V220           449124  76.05\n",
      "id_12          446307  75.58\n",
      "id_01          446307  75.58\n",
      "dist1          352271  59.65\n",
      "M5             350482  59.35\n",
      "M7             346265  58.64\n",
      "M9             346252  58.63\n",
      "M8             346252  58.63\n",
      "D5             309841  52.47\n",
      "M4             281444  47.66\n",
      "D2             280797  47.55\n",
      "V11            279287  47.29\n",
      "V9             279287  47.29\n",
      "V10            279287  47.29\n",
      "V2             279287  47.29\n",
      "V8             279287  47.29\n",
      "V3             279287  47.29\n",
      "V6             279287  47.29\n",
      "V5             279287  47.29\n",
      "V4             279287  47.29\n",
      "D11            279287  47.29\n",
      "V7             279287  47.29\n",
      "M2             271100  45.91\n",
      "M3             271100  45.91\n",
      "D3             262878  44.51\n",
      "M6             169360  28.68\n",
      "V38            168969  28.61\n",
      "V45            168969  28.61\n",
      "V44            168969  28.61\n",
      "V43            168969  28.61\n",
      "V42            168969  28.61\n",
      "V46            168969  28.61\n",
      "V47            168969  28.61\n",
      "V50            168969  28.61\n",
      "V48            168969  28.61\n",
      "V49            168969  28.61\n",
      "V40            168969  28.61\n",
      "V39            168969  28.61\n",
      "V35            168969  28.61\n",
      "V51            168969  28.61\n",
      "V37            168969  28.61\n",
      "V36            168969  28.61\n",
      "V52            168969  28.61\n",
      "D4             168922  28.60\n",
      "P_emaildomain   94456  15.99\n",
      "V94             89164  15.10\n",
      "V93             89164  15.10\n",
      "V91             89164  15.10\n",
      "V90             89164  15.10\n",
      "V89             89164  15.10\n",
      "V88             89164  15.10\n",
      "V87             89164  15.10\n",
      "V86             89164  15.10\n",
      "V85             89164  15.10\n",
      "V84             89164  15.10\n",
      "V83             89164  15.10\n",
      "V82             89164  15.10\n",
      "V81             89164  15.10\n",
      "V80             89164  15.10\n",
      "V79             89164  15.10\n",
      "V78             89164  15.10\n",
      "V77             89164  15.10\n",
      "V76             89164  15.10\n",
      "V75             89164  15.10\n",
      "V92             89164  15.10\n",
      "D15             89113  15.09\n",
      "V69             77096  13.06\n",
      "V53             77096  13.06\n",
      "V64             77096  13.06\n",
      "V54             77096  13.06\n",
      "V74             77096  13.06\n",
      "V73             77096  13.06\n",
      "V72             77096  13.06\n",
      "V71             77096  13.06\n",
      "V67             77096  13.06\n",
      "V66             77096  13.06\n",
      "V65             77096  13.06\n",
      "V70             77096  13.06\n",
      "V63             77096  13.06\n",
      "V61             77096  13.06\n",
      "V60             77096  13.06\n",
      "V59             77096  13.06\n",
      "V58             77096  13.06\n",
      "V57             77096  13.06\n",
      "V56             77096  13.06\n",
      "V62             77096  13.06\n",
      "V55             77096  13.06\n",
      "V15             76073  12.88\n",
      "V25             76073  12.88\n",
      "V24             76073  12.88\n",
      "V23             76073  12.88\n",
      "V13             76073  12.88\n",
      "V19             76073  12.88\n",
      "V16             76073  12.88\n",
      "V17             76073  12.88\n",
      "V18             76073  12.88\n",
      "V27             76073  12.88\n",
      "V20             76073  12.88\n",
      "V26             76073  12.88\n",
      "V34             76073  12.88\n",
      "V28             76073  12.88\n",
      "V29             76073  12.88\n",
      "V30             76073  12.88\n",
      "V31             76073  12.88\n",
      "V32             76073  12.88\n",
      "V33             76073  12.88\n",
      "V12             76073  12.88\n",
      "V22             76073  12.88\n",
      "V21             76073  12.88\n",
      "D10             76022  12.87\n",
      "addr1           65706  11.13\n",
      "addr2           65706  11.13\n",
      "card2            8933   1.51\n",
      "card5            4259   0.72\n",
      "card4            1577   0.27\n",
      "card6            1571   0.27\n",
      "card3            1565   0.27\n",
      "V288             1269   0.21\n",
      "V301             1269   0.21\n",
      "V289             1269   0.21\n",
      "V281             1269   0.21\n",
      "V282             1269   0.21\n",
      "V283             1269   0.21\n",
      "V315             1269   0.21\n",
      "V313             1269   0.21\n",
      "D1               1269   0.21\n",
      "V314             1269   0.21\n",
      "V300             1269   0.21\n",
      "V296             1269   0.21\n",
      "V129              314   0.05\n",
      "V110              314   0.05\n",
      "V131              314   0.05\n",
      "V112              314   0.05\n",
      "V132              314   0.05\n",
      "V133              314   0.05\n",
      "V134              314   0.05\n",
      "V111              314   0.05\n",
      "V109              314   0.05\n",
      "V114              314   0.05\n",
      "V108              314   0.05\n",
      "V107              314   0.05\n",
      "V135              314   0.05\n",
      "V106              314   0.05\n",
      "V105              314   0.05\n",
      "V104              314   0.05\n",
      "V113              314   0.05\n",
      "V115              314   0.05\n",
      "V128              314   0.05\n",
      "V116              314   0.05\n",
      "V117              314   0.05\n",
      "V118              314   0.05\n",
      "V119              314   0.05\n",
      "V120              314   0.05\n",
      "V102              314   0.05\n",
      "V130              314   0.05\n",
      "V121              314   0.05\n",
      "V122              314   0.05\n",
      "V123              314   0.05\n",
      "V124              314   0.05\n",
      "V125              314   0.05\n",
      "V126              314   0.05\n",
      "V127              314   0.05\n",
      "V103              314   0.05\n",
      "V97               314   0.05\n",
      "V101              314   0.05\n",
      "V95               314   0.05\n",
      "V100              314   0.05\n",
      "V136              314   0.05\n",
      "V137              314   0.05\n",
      "V96               314   0.05\n",
      "V99               314   0.05\n",
      "V98               314   0.05\n",
      "V291               12   0.00\n",
      "V292               12   0.00\n",
      "V293               12   0.00\n",
      "V294               12   0.00\n",
      "V295               12   0.00\n",
      "V297               12   0.00\n",
      "V308               12   0.00\n",
      "V299               12   0.00\n",
      "V302               12   0.00\n",
      "V303               12   0.00\n",
      "V304               12   0.00\n",
      "V290               12   0.00\n",
      "V306               12   0.00\n",
      "V307               12   0.00\n",
      "V298               12   0.00\n",
      "V309               12   0.00\n",
      "V310               12   0.00\n",
      "V311               12   0.00\n",
      "V316               12   0.00\n",
      "V317               12   0.00\n",
      "V318               12   0.00\n",
      "V319               12   0.00\n",
      "V320               12   0.00\n",
      "V321               12   0.00\n",
      "V287               12   0.00\n",
      "V286               12   0.00\n",
      "V285               12   0.00\n",
      "V284               12   0.00\n",
      "V280               12   0.00\n",
      "V279               12   0.00\n",
      "V312               12   0.00\n"
     ]
    }
   ],
   "source": [
    "na_cols,missing_df=missing_values_table(train_df, True)\n",
    "missing_df.reset_index(inplace=True)"
   ]
  },
  {
   "cell_type": "markdown",
   "id": "6156dbf5",
   "metadata": {
    "papermill": {
     "duration": 0.016395,
     "end_time": "2024-01-06T17:58:35.665353",
     "exception": false,
     "start_time": "2024-01-06T17:58:35.648958",
     "status": "completed"
    },
    "tags": []
   },
   "source": [
    "# Feature Engineering"
   ]
  },
  {
   "cell_type": "code",
   "execution_count": 12,
   "id": "08075736",
   "metadata": {
    "execution": {
     "iopub.execute_input": "2024-01-06T17:58:35.697435Z",
     "iopub.status.busy": "2024-01-06T17:58:35.697061Z",
     "iopub.status.idle": "2024-01-06T17:58:35.733950Z",
     "shell.execute_reply": "2024-01-06T17:58:35.733046Z"
    },
    "papermill": {
     "duration": 0.055536,
     "end_time": "2024-01-06T17:58:35.736021",
     "exception": false,
     "start_time": "2024-01-06T17:58:35.680485",
     "status": "completed"
    },
    "tags": []
   },
   "outputs": [],
   "source": [
    "def feature_eng(dataframe,name=True):\n",
    "    \n",
    "    dataframe['hour'] = (dataframe['TransactionDT']/(3600))%24\n",
    "    \n",
    "    def hourFeature(hour):\n",
    "        if hour > 3 and hour < 12:\n",
    "            return \"highalert\"\n",
    "        if hour > 18 and hour <= 23:\n",
    "            return \"mediumalert\"\n",
    "        else:\n",
    "            return \"lowalert\"\n",
    "        \n",
    "    dataframe['alertFeature'] = dataframe['hour'].apply(hourFeature)\n",
    "    \n",
    "    dataframe['LogTransactionAmt'] = np.log(dataframe['TransactionAmt'])\n",
    "    \n",
    "    \n",
    "    \n",
    "    \n",
    "    dataframe['device_name'] = dataframe['DeviceInfo'].str.split('/', expand=True)[0]\n",
    "    dataframe['device_version'] = dataframe['DeviceInfo'].str.split('/', expand=True)[1]\n",
    "    if name:\n",
    "        dataframe['OS_id_30'] = dataframe['id_30'].str.split(' ', expand=True)[0]\n",
    "        dataframe['version_id_30'] = dataframe['id_30'].str.split(' ', expand=True)[1]\n",
    "\n",
    "        dataframe['browser_id_31'] = dataframe['id_31'].str.split(' ', expand=True)[0]\n",
    "        dataframe['version_id_31'] = dataframe['id_31'].str.split(' ', expand=True)[1]\n",
    "\n",
    "        dataframe['screen_width'] = dataframe['id_33'].str.split('x', expand=True)[0]\n",
    "        dataframe['screen_height'] = dataframe['id_33'].str.split('x', expand=True)[1]\n",
    "\n",
    "    dataframe.loc[dataframe['device_name'].str.contains('SM', na=False), 'device_name'] = 'Samsung'\n",
    "    dataframe.loc[dataframe['device_name'].str.contains('SAMSUNG', na=False), 'device_name'] = 'Samsung'\n",
    "    dataframe.loc[dataframe['device_name'].str.contains('GT-', na=False), 'device_name'] = 'Samsung'\n",
    "    dataframe.loc[dataframe['device_name'].str.contains('Moto G', na=False), 'device_name'] = 'Motorola'\n",
    "    dataframe.loc[dataframe['device_name'].str.contains('Moto', na=False), 'device_name'] = 'Motorola'\n",
    "    dataframe.loc[dataframe['device_name'].str.contains('moto', na=False), 'device_name'] = 'Motorola'\n",
    "    dataframe.loc[dataframe['device_name'].str.contains('LG-', na=False), 'device_name'] = 'LG'\n",
    "    dataframe.loc[dataframe['device_name'].str.contains('rv:', na=False), 'device_name'] = 'RV'\n",
    "    dataframe.loc[dataframe['device_name'].str.contains('HUAWEI', na=False), 'device_name'] = 'Huawei'\n",
    "    dataframe.loc[dataframe['device_name'].str.contains('ALE-', na=False), 'device_name'] = 'Huawei'\n",
    "    dataframe.loc[dataframe['device_name'].str.contains('-L', na=False), 'device_name'] = 'Huawei'\n",
    "    dataframe.loc[dataframe['device_name'].str.contains('Blade', na=False), 'device_name'] = 'ZTE'\n",
    "    dataframe.loc[dataframe['device_name'].str.contains('BLADE', na=False), 'device_name'] = 'ZTE'\n",
    "    dataframe.loc[dataframe['device_name'].str.contains('Linux', na=False), 'device_name'] = 'Linux'\n",
    "    dataframe.loc[dataframe['device_name'].str.contains('XT', na=False), 'device_name'] = 'Sony'\n",
    "    dataframe.loc[dataframe['device_name'].str.contains('HTC', na=False), 'device_name'] = 'HTC'\n",
    "    dataframe.loc[dataframe['device_name'].str.contains('ASUS', na=False), 'device_name'] = 'Asus'\n",
    "\n",
    "    dataframe.loc[dataframe.device_name.isin(dataframe.device_name.value_counts()[dataframe.device_name.value_counts() < 200].index), 'device_name'] = \"Others\"\n",
    "    dataframe['had_id'] = \"1\"\n",
    "    gc.collect()\n",
    "    \n",
    "    dataframe['c2_check']=dataframe[\"card2\"].apply(lambda x: 0 if np.isnan(x)  else 1)\n",
    "    dataframe['c3_check']=dataframe[\"card3\"].apply(lambda x: 0 if np.isnan(x)  else 1)\n",
    "    dataframe[\"new_domain\"]=dataframe['P_emaildomain'].apply(lambda x:str(x).partition(\".\")[0])\n",
    "    dataframe['t_dt_minute']=dataframe[\"TransactionDT\"]/60\n",
    "    dataframe['t_dt_hour']=dataframe[\"t_dt_minute\"]/60\n",
    "    dataframe['t_dt_day']=dataframe[\"t_dt_hour\"]/24\n",
    "    dataframe['t_dt_week']=dataframe[\"t_dt_day\"]/7\n",
    "\n",
    "    # ADD MONTH FEATURE\n",
    "    START_DATE = datetime.datetime.strptime('2017-11-30', '%Y-%m-%d')\n",
    "    dataframe['DT_M'] = dataframe['TransactionDT'].map(lambda x: (START_DATE + datetime.timedelta(seconds = x)))\n",
    "    dataframe['DT_M'] = (dataframe['DT_M'].dt.year-2017)*12 + dataframe['DT_M'].dt.month \n",
    "\n",
    "    dataframe['card1check']=dataframe[\"card1\"].apply(lambda x: 0 if np.isnan(x)  else 1)\n",
    "    dataframe['card2check']=dataframe[\"card2\"].apply(lambda x: 0 if np.isnan(x)  else 1)\n",
    "\n",
    "    dataframe['D2_check']=dataframe[\"D2\"].apply(lambda x: 0 if np.isnan(x)  else 1)\n",
    "    dataframe['D3_check']=dataframe[\"D3\"].apply(lambda x: 0 if np.isnan(x)  else 1)\n",
    "    dataframe['D4_check']=dataframe[\"D4\"].apply(lambda x: 0 if np.isnan(x)  else 1)\n",
    "    dataframe['D5_check']=dataframe[\"D5\"].apply(lambda x: 0 if np.isnan(x)  else 1)\n",
    "    dataframe['D6_check']=dataframe[\"D6\"].apply(lambda x: 0 if np.isnan(x)  else 1)\n",
    "    dataframe['D7_check']=dataframe[\"D7\"].apply(lambda x: 0 if np.isnan(x)  else 1)\n",
    "    dataframe['d8_check']=dataframe[\"D8\"].apply(lambda x: 0 if np.isnan(x)  else 1)\n",
    "    dataframe['D9_check']=dataframe[\"D9\"].apply(lambda x: 0 if np.isnan(x)  else 1)\n",
    "    dataframe['D10_check']=dataframe[\"D10\"].apply(lambda x: 0 if np.isnan(x)  else 1)\n",
    "    dataframe['D11_check']=dataframe[\"D11\"].apply(lambda x: 0 if np.isnan(x)  else 1)\n",
    "    dataframe['D12_check']=dataframe[\"D12\"].apply(lambda x: 0 if np.isnan(x)  else 1)\n",
    "    dataframe['D13_check']=dataframe[\"D13\"].apply(lambda x: 0 if np.isnan(x)  else 1)\n",
    "    dataframe['D14_check']=dataframe[\"D14\"].apply(lambda x: 0 if np.isnan(x)  else 1)\n",
    "    dataframe['D15_check']=dataframe[\"D15\"].apply(lambda x: 0 if np.isnan(x)  else 1)\n",
    "\n",
    "    dataframe[\"new_domain1\"]=dataframe['P_emaildomain'].apply(lambda x:str(x).partition(\".\")[-1])\n",
    "    dataframe[\"new_domain2\"]=dataframe['R_emaildomain'].apply(lambda x:str(x).partition(\".\")[-1])\n",
    "    \n",
    "    dataframe[\"addr1_addr2\"] = dataframe[\"addr1\"] + dataframe[\"addr2\"]\n",
    "    dataframe[\"card1_card2\"] = dataframe[\"card1\"] + dataframe[\"card2\"]\n",
    "    \n",
    "    dataframe['TransactionAmt_to_mean_card1'] = dataframe['TransactionAmt'] / dataframe.groupby(['card1'])['TransactionAmt'].transform('mean')\n",
    "    dataframe['TransactionAmt_to_mean_card4'] = dataframe['TransactionAmt'] / dataframe.groupby(['card4'])['TransactionAmt'].transform('mean')\n",
    "    \n",
    "    dataframe['addr1'] = dataframe['addr1'].astype(np.float32)  # Convert to float32\n",
    "    dataframe['TransactionAmt_to_std_card1'] = dataframe['TransactionAmt'] / dataframe.groupby(['card1'])['TransactionAmt'].transform('std')\n",
    "    dataframe['TransactionAmt_to_std_card4'] = dataframe['TransactionAmt'] / dataframe.groupby(['card4'])['TransactionAmt'].transform('std')\n",
    "\n",
    "    dataframe['id_02_to_mean_card1'] = dataframe['id_02'] / dataframe.groupby(['card1'])['id_02'].transform('mean')\n",
    "    dataframe['id_02_to_mean_card4'] = dataframe['id_02'] / dataframe.groupby(['card4'])['id_02'].transform('mean')\n",
    "    dataframe['id_02_to_std_card1'] = dataframe['id_02'] / dataframe.groupby(['card1'])['id_02'].transform('std')\n",
    "    dataframe['id_02_to_std_card4'] = dataframe['id_02'] / dataframe.groupby(['card4'])['id_02'].transform('std')\n",
    "\n",
    "    dataframe['D15_to_mean_card1'] = dataframe['D15'] / dataframe.groupby(['card1'])['D15'].transform('mean')\n",
    "    dataframe['D15_to_mean_card4'] = dataframe['D15'] / dataframe.groupby(['card4'])['D15'].transform('mean')\n",
    "    dataframe['D15_to_std_card1'] = dataframe['D15'] / dataframe.groupby(['card1'])['D15'].transform('std')\n",
    "    dataframe['D15_to_std_card4'] = dataframe['D15'] / dataframe.groupby(['card4'])['D15'].transform('std')\n",
    "\n",
    "    dataframe['D15_to_mean_addr1'] = dataframe['D15'] / dataframe.groupby(['addr1'])['D15'].transform('mean')\n",
    "    dataframe['D15_to_std_addr1'] = dataframe['D15'] / dataframe.groupby(['addr1'])['D15'].transform('std')\n",
    "    \n",
    "    return dataframe"
   ]
  },
  {
   "cell_type": "code",
   "execution_count": 13,
   "id": "b44573e4",
   "metadata": {
    "execution": {
     "iopub.execute_input": "2024-01-06T17:58:35.769916Z",
     "iopub.status.busy": "2024-01-06T17:58:35.769110Z",
     "iopub.status.idle": "2024-01-06T17:59:20.859001Z",
     "shell.execute_reply": "2024-01-06T17:59:20.858078Z"
    },
    "papermill": {
     "duration": 45.109986,
     "end_time": "2024-01-06T17:59:20.861460",
     "exception": false,
     "start_time": "2024-01-06T17:58:35.751474",
     "status": "completed"
    },
    "tags": []
   },
   "outputs": [],
   "source": [
    "train_df = feature_eng(train_df)"
   ]
  },
  {
   "cell_type": "code",
   "execution_count": 14,
   "id": "6478f532",
   "metadata": {
    "execution": {
     "iopub.execute_input": "2024-01-06T17:59:20.893561Z",
     "iopub.status.busy": "2024-01-06T17:59:20.893210Z",
     "iopub.status.idle": "2024-01-06T17:59:59.357441Z",
     "shell.execute_reply": "2024-01-06T17:59:59.356475Z"
    },
    "papermill": {
     "duration": 38.482642,
     "end_time": "2024-01-06T17:59:59.359791",
     "exception": false,
     "start_time": "2024-01-06T17:59:20.877149",
     "status": "completed"
    },
    "tags": []
   },
   "outputs": [],
   "source": [
    "test_df = feature_eng(test_df)"
   ]
  },
  {
   "cell_type": "markdown",
   "id": "32859dea",
   "metadata": {
    "papermill": {
     "duration": 0.014952,
     "end_time": "2024-01-06T17:59:59.390461",
     "exception": false,
     "start_time": "2024-01-06T17:59:59.375509",
     "status": "completed"
    },
    "tags": []
   },
   "source": [
    "# Drop Useless Features"
   ]
  },
  {
   "cell_type": "code",
   "execution_count": 15,
   "id": "d620251b",
   "metadata": {
    "execution": {
     "iopub.execute_input": "2024-01-06T17:59:59.422161Z",
     "iopub.status.busy": "2024-01-06T17:59:59.421806Z",
     "iopub.status.idle": "2024-01-06T17:59:59.425804Z",
     "shell.execute_reply": "2024-01-06T17:59:59.425080Z"
    },
    "papermill": {
     "duration": 0.022141,
     "end_time": "2024-01-06T17:59:59.427788",
     "exception": false,
     "start_time": "2024-01-06T17:59:59.405647",
     "status": "completed"
    },
    "tags": []
   },
   "outputs": [],
   "source": [
    "# useless = ['V22','V27','V28','V31', 'V34', 'V100', 'V39', 'V125', 'V122', 'V50', 'V119', 'V118', 'V117', 'V116', 'V114', 'V113', 'V57',\n",
    "#            'V58', 'V110', 'V65', 'V107', 'V71', 'V21', 'V18', 'V16', 'V89', 'V88', 'V321', 'V93']"
   ]
  },
  {
   "cell_type": "code",
   "execution_count": 16,
   "id": "28523a7b",
   "metadata": {
    "execution": {
     "iopub.execute_input": "2024-01-06T17:59:59.459744Z",
     "iopub.status.busy": "2024-01-06T17:59:59.458976Z",
     "iopub.status.idle": "2024-01-06T17:59:59.462986Z",
     "shell.execute_reply": "2024-01-06T17:59:59.462131Z"
    },
    "papermill": {
     "duration": 0.022131,
     "end_time": "2024-01-06T17:59:59.464978",
     "exception": false,
     "start_time": "2024-01-06T17:59:59.442847",
     "status": "completed"
    },
    "tags": []
   },
   "outputs": [],
   "source": [
    "# reduce = [col for col in train_df.columns if col not in useless] "
   ]
  },
  {
   "cell_type": "code",
   "execution_count": 17,
   "id": "26b36245",
   "metadata": {
    "execution": {
     "iopub.execute_input": "2024-01-06T17:59:59.496543Z",
     "iopub.status.busy": "2024-01-06T17:59:59.496215Z",
     "iopub.status.idle": "2024-01-06T17:59:59.500143Z",
     "shell.execute_reply": "2024-01-06T17:59:59.499351Z"
    },
    "papermill": {
     "duration": 0.021969,
     "end_time": "2024-01-06T17:59:59.502121",
     "exception": false,
     "start_time": "2024-01-06T17:59:59.480152",
     "status": "completed"
    },
    "tags": []
   },
   "outputs": [],
   "source": [
    "# reduce_test = [col for col in train_df.columns if col not in useless and col not in [\"isFraud\"]] "
   ]
  },
  {
   "cell_type": "code",
   "execution_count": 18,
   "id": "263cf4a5",
   "metadata": {
    "execution": {
     "iopub.execute_input": "2024-01-06T17:59:59.533485Z",
     "iopub.status.busy": "2024-01-06T17:59:59.533177Z",
     "iopub.status.idle": "2024-01-06T17:59:59.536944Z",
     "shell.execute_reply": "2024-01-06T17:59:59.536203Z"
    },
    "papermill": {
     "duration": 0.021581,
     "end_time": "2024-01-06T17:59:59.538895",
     "exception": false,
     "start_time": "2024-01-06T17:59:59.517314",
     "status": "completed"
    },
    "tags": []
   },
   "outputs": [],
   "source": [
    "# train_df = train_df[reduce]"
   ]
  },
  {
   "cell_type": "code",
   "execution_count": 19,
   "id": "0c91a28c",
   "metadata": {
    "execution": {
     "iopub.execute_input": "2024-01-06T17:59:59.570123Z",
     "iopub.status.busy": "2024-01-06T17:59:59.569825Z",
     "iopub.status.idle": "2024-01-06T17:59:59.573744Z",
     "shell.execute_reply": "2024-01-06T17:59:59.572918Z"
    },
    "papermill": {
     "duration": 0.021861,
     "end_time": "2024-01-06T17:59:59.575728",
     "exception": false,
     "start_time": "2024-01-06T17:59:59.553867",
     "status": "completed"
    },
    "tags": []
   },
   "outputs": [],
   "source": [
    "# test_df = test_df[reduce_test]"
   ]
  },
  {
   "cell_type": "markdown",
   "id": "3cffac74",
   "metadata": {
    "papermill": {
     "duration": 0.014797,
     "end_time": "2024-01-06T17:59:59.605564",
     "exception": false,
     "start_time": "2024-01-06T17:59:59.590767",
     "status": "completed"
    },
    "tags": []
   },
   "source": [
    "# I Converted Infinity Values to Nan"
   ]
  },
  {
   "cell_type": "code",
   "execution_count": 20,
   "id": "b2ec1cc9",
   "metadata": {
    "execution": {
     "iopub.execute_input": "2024-01-06T17:59:59.636875Z",
     "iopub.status.busy": "2024-01-06T17:59:59.636556Z",
     "iopub.status.idle": "2024-01-06T18:00:12.097609Z",
     "shell.execute_reply": "2024-01-06T18:00:12.096825Z"
    },
    "papermill": {
     "duration": 12.479422,
     "end_time": "2024-01-06T18:00:12.099933",
     "exception": false,
     "start_time": "2024-01-06T17:59:59.620511",
     "status": "completed"
    },
    "tags": []
   },
   "outputs": [],
   "source": [
    "train_df.replace([np.inf, -np.inf], np.nan, inplace=True)\n",
    "test_df.replace([np.inf, -np.inf], np.nan, inplace=True)"
   ]
  },
  {
   "cell_type": "markdown",
   "id": "c06a05c5",
   "metadata": {
    "papermill": {
     "duration": 0.015312,
     "end_time": "2024-01-06T18:00:12.131689",
     "exception": false,
     "start_time": "2024-01-06T18:00:12.116377",
     "status": "completed"
    },
    "tags": []
   },
   "source": [
    "# Drop variables that are missing more than 60% "
   ]
  },
  {
   "cell_type": "code",
   "execution_count": 21,
   "id": "b8d47e8f",
   "metadata": {
    "execution": {
     "iopub.execute_input": "2024-01-06T18:00:12.163324Z",
     "iopub.status.busy": "2024-01-06T18:00:12.162985Z",
     "iopub.status.idle": "2024-01-06T18:00:12.168294Z",
     "shell.execute_reply": "2024-01-06T18:00:12.167398Z"
    },
    "papermill": {
     "duration": 0.023299,
     "end_time": "2024-01-06T18:00:12.170141",
     "exception": false,
     "start_time": "2024-01-06T18:00:12.146842",
     "status": "completed"
    },
    "tags": []
   },
   "outputs": [],
   "source": [
    "drop_variables=missing_df[missing_df[\"ratio\"]>60]['index']"
   ]
  },
  {
   "cell_type": "code",
   "execution_count": 22,
   "id": "2706aee6",
   "metadata": {
    "execution": {
     "iopub.execute_input": "2024-01-06T18:00:12.201663Z",
     "iopub.status.busy": "2024-01-06T18:00:12.201358Z",
     "iopub.status.idle": "2024-01-06T18:00:12.205175Z",
     "shell.execute_reply": "2024-01-06T18:00:12.204324Z"
    },
    "papermill": {
     "duration": 0.021976,
     "end_time": "2024-01-06T18:00:12.207112",
     "exception": false,
     "start_time": "2024-01-06T18:00:12.185136",
     "status": "completed"
    },
    "tags": []
   },
   "outputs": [],
   "source": [
    "# train_df.drop(drop_variables,inplace=True,axis=1)\n"
   ]
  },
  {
   "cell_type": "code",
   "execution_count": 23,
   "id": "611dc411",
   "metadata": {
    "execution": {
     "iopub.execute_input": "2024-01-06T18:00:12.238359Z",
     "iopub.status.busy": "2024-01-06T18:00:12.238044Z",
     "iopub.status.idle": "2024-01-06T18:00:12.241877Z",
     "shell.execute_reply": "2024-01-06T18:00:12.241018Z"
    },
    "papermill": {
     "duration": 0.021632,
     "end_time": "2024-01-06T18:00:12.243848",
     "exception": false,
     "start_time": "2024-01-06T18:00:12.222216",
     "status": "completed"
    },
    "tags": []
   },
   "outputs": [],
   "source": [
    "# test_df.drop(drop_variables,inplace=True,axis=1)"
   ]
  },
  {
   "cell_type": "markdown",
   "id": "15cd4b6a",
   "metadata": {
    "papermill": {
     "duration": 0.014823,
     "end_time": "2024-01-06T18:00:12.275297",
     "exception": false,
     "start_time": "2024-01-06T18:00:12.260474",
     "status": "completed"
    },
    "tags": []
   },
   "source": [
    "# Filling Missing Values\n"
   ]
  },
  {
   "cell_type": "code",
   "execution_count": 24,
   "id": "6e9961d2",
   "metadata": {
    "execution": {
     "iopub.execute_input": "2024-01-06T18:00:12.306805Z",
     "iopub.status.busy": "2024-01-06T18:00:12.306492Z",
     "iopub.status.idle": "2024-01-06T18:00:19.795228Z",
     "shell.execute_reply": "2024-01-06T18:00:19.794427Z"
    },
    "papermill": {
     "duration": 7.507287,
     "end_time": "2024-01-06T18:00:19.797610",
     "exception": false,
     "start_time": "2024-01-06T18:00:12.290323",
     "status": "completed"
    },
    "tags": []
   },
   "outputs": [],
   "source": [
    "train_df = train_df.fillna(-999)\n",
    "test_df = test_df.fillna(-999)"
   ]
  },
  {
   "cell_type": "code",
   "execution_count": 25,
   "id": "534f908d",
   "metadata": {
    "execution": {
     "iopub.execute_input": "2024-01-06T18:00:19.829623Z",
     "iopub.status.busy": "2024-01-06T18:00:19.829293Z",
     "iopub.status.idle": "2024-01-06T18:00:22.301999Z",
     "shell.execute_reply": "2024-01-06T18:00:22.301085Z"
    },
    "papermill": {
     "duration": 2.491482,
     "end_time": "2024-01-06T18:00:22.304557",
     "exception": false,
     "start_time": "2024-01-06T18:00:19.813075",
     "status": "completed"
    },
    "tags": []
   },
   "outputs": [
    {
     "data": {
      "text/plain": [
       "TransactionID                   0\n",
       "isFraud                         0\n",
       "TransactionDT                   0\n",
       "TransactionAmt                  0\n",
       "ProductCD                       0\n",
       "card1                           0\n",
       "card2                           0\n",
       "card3                           0\n",
       "card4                           0\n",
       "card5                           0\n",
       "card6                           0\n",
       "addr1                           0\n",
       "addr2                           0\n",
       "dist1                           0\n",
       "dist2                           0\n",
       "P_emaildomain                   0\n",
       "R_emaildomain                   0\n",
       "C1                              0\n",
       "C2                              0\n",
       "C3                              0\n",
       "C4                              0\n",
       "C5                              0\n",
       "C6                              0\n",
       "C7                              0\n",
       "C8                              0\n",
       "C9                              0\n",
       "C10                             0\n",
       "C11                             0\n",
       "C12                             0\n",
       "C13                             0\n",
       "C14                             0\n",
       "D1                              0\n",
       "D2                              0\n",
       "D3                              0\n",
       "D4                              0\n",
       "D5                              0\n",
       "D6                              0\n",
       "D7                              0\n",
       "D8                              0\n",
       "D9                              0\n",
       "D10                             0\n",
       "D11                             0\n",
       "D12                             0\n",
       "D13                             0\n",
       "D14                             0\n",
       "D15                             0\n",
       "M2                              0\n",
       "M3                              0\n",
       "M4                              0\n",
       "M5                              0\n",
       "M6                              0\n",
       "M7                              0\n",
       "M8                              0\n",
       "M9                              0\n",
       "V2                              0\n",
       "V3                              0\n",
       "V4                              0\n",
       "V5                              0\n",
       "V6                              0\n",
       "V7                              0\n",
       "V8                              0\n",
       "V9                              0\n",
       "V10                             0\n",
       "V11                             0\n",
       "V12                             0\n",
       "V13                             0\n",
       "V15                             0\n",
       "V16                             0\n",
       "V17                             0\n",
       "V18                             0\n",
       "V19                             0\n",
       "V20                             0\n",
       "V21                             0\n",
       "V22                             0\n",
       "V23                             0\n",
       "V24                             0\n",
       "V25                             0\n",
       "V26                             0\n",
       "V27                             0\n",
       "V28                             0\n",
       "V29                             0\n",
       "V30                             0\n",
       "V31                             0\n",
       "V32                             0\n",
       "V33                             0\n",
       "V34                             0\n",
       "V35                             0\n",
       "V36                             0\n",
       "V37                             0\n",
       "V38                             0\n",
       "V39                             0\n",
       "V40                             0\n",
       "V42                             0\n",
       "V43                             0\n",
       "V44                             0\n",
       "V45                             0\n",
       "V46                             0\n",
       "V47                             0\n",
       "V48                             0\n",
       "V49                             0\n",
       "V50                             0\n",
       "V51                             0\n",
       "V52                             0\n",
       "V53                             0\n",
       "V54                             0\n",
       "V55                             0\n",
       "V56                             0\n",
       "V57                             0\n",
       "V58                             0\n",
       "V59                             0\n",
       "V60                             0\n",
       "V61                             0\n",
       "V62                             0\n",
       "V63                             0\n",
       "V64                             0\n",
       "V65                             0\n",
       "V66                             0\n",
       "V67                             0\n",
       "V69                             0\n",
       "V70                             0\n",
       "V71                             0\n",
       "V72                             0\n",
       "V73                             0\n",
       "V74                             0\n",
       "V75                             0\n",
       "V76                             0\n",
       "V77                             0\n",
       "V78                             0\n",
       "V79                             0\n",
       "V80                             0\n",
       "V81                             0\n",
       "V82                             0\n",
       "V83                             0\n",
       "V84                             0\n",
       "V85                             0\n",
       "V86                             0\n",
       "V87                             0\n",
       "V88                             0\n",
       "V89                             0\n",
       "V90                             0\n",
       "V91                             0\n",
       "V92                             0\n",
       "V93                             0\n",
       "V94                             0\n",
       "V95                             0\n",
       "V96                             0\n",
       "V97                             0\n",
       "V98                             0\n",
       "V99                             0\n",
       "V100                            0\n",
       "V101                            0\n",
       "V102                            0\n",
       "V103                            0\n",
       "V104                            0\n",
       "V105                            0\n",
       "V106                            0\n",
       "V107                            0\n",
       "V108                            0\n",
       "V109                            0\n",
       "V110                            0\n",
       "V111                            0\n",
       "V112                            0\n",
       "V113                            0\n",
       "V114                            0\n",
       "V115                            0\n",
       "V116                            0\n",
       "V117                            0\n",
       "V118                            0\n",
       "V119                            0\n",
       "V120                            0\n",
       "V121                            0\n",
       "V122                            0\n",
       "V123                            0\n",
       "V124                            0\n",
       "V125                            0\n",
       "V126                            0\n",
       "V127                            0\n",
       "V128                            0\n",
       "V129                            0\n",
       "V130                            0\n",
       "V131                            0\n",
       "V132                            0\n",
       "V133                            0\n",
       "V134                            0\n",
       "V135                            0\n",
       "V136                            0\n",
       "V137                            0\n",
       "V138                            0\n",
       "V139                            0\n",
       "V140                            0\n",
       "V141                            0\n",
       "V142                            0\n",
       "V143                            0\n",
       "V144                            0\n",
       "V145                            0\n",
       "V146                            0\n",
       "V147                            0\n",
       "V148                            0\n",
       "V149                            0\n",
       "V150                            0\n",
       "V151                            0\n",
       "V152                            0\n",
       "V153                            0\n",
       "V154                            0\n",
       "V155                            0\n",
       "V156                            0\n",
       "V157                            0\n",
       "V158                            0\n",
       "V159                            0\n",
       "V160                            0\n",
       "V161                            0\n",
       "V162                            0\n",
       "V163                            0\n",
       "V164                            0\n",
       "V165                            0\n",
       "V166                            0\n",
       "V167                            0\n",
       "V168                            0\n",
       "V169                            0\n",
       "V170                            0\n",
       "V171                            0\n",
       "V172                            0\n",
       "V173                            0\n",
       "V174                            0\n",
       "V175                            0\n",
       "V176                            0\n",
       "V177                            0\n",
       "V178                            0\n",
       "V179                            0\n",
       "V180                            0\n",
       "V181                            0\n",
       "V182                            0\n",
       "V183                            0\n",
       "V184                            0\n",
       "V185                            0\n",
       "V186                            0\n",
       "V187                            0\n",
       "V188                            0\n",
       "V189                            0\n",
       "V190                            0\n",
       "V191                            0\n",
       "V192                            0\n",
       "V193                            0\n",
       "V194                            0\n",
       "V195                            0\n",
       "V196                            0\n",
       "V197                            0\n",
       "V198                            0\n",
       "V199                            0\n",
       "V200                            0\n",
       "V201                            0\n",
       "V202                            0\n",
       "V203                            0\n",
       "V204                            0\n",
       "V205                            0\n",
       "V206                            0\n",
       "V207                            0\n",
       "V208                            0\n",
       "V209                            0\n",
       "V210                            0\n",
       "V211                            0\n",
       "V212                            0\n",
       "V213                            0\n",
       "V214                            0\n",
       "V215                            0\n",
       "V216                            0\n",
       "V217                            0\n",
       "V218                            0\n",
       "V219                            0\n",
       "V220                            0\n",
       "V221                            0\n",
       "V222                            0\n",
       "V223                            0\n",
       "V224                            0\n",
       "V225                            0\n",
       "V226                            0\n",
       "V227                            0\n",
       "V228                            0\n",
       "V229                            0\n",
       "V230                            0\n",
       "V231                            0\n",
       "V232                            0\n",
       "V233                            0\n",
       "V234                            0\n",
       "V235                            0\n",
       "V236                            0\n",
       "V237                            0\n",
       "V238                            0\n",
       "V239                            0\n",
       "V240                            0\n",
       "V241                            0\n",
       "V242                            0\n",
       "V243                            0\n",
       "V244                            0\n",
       "V245                            0\n",
       "V246                            0\n",
       "V247                            0\n",
       "V248                            0\n",
       "V249                            0\n",
       "V250                            0\n",
       "V251                            0\n",
       "V252                            0\n",
       "V253                            0\n",
       "V254                            0\n",
       "V255                            0\n",
       "V256                            0\n",
       "V257                            0\n",
       "V258                            0\n",
       "V259                            0\n",
       "V260                            0\n",
       "V261                            0\n",
       "V262                            0\n",
       "V263                            0\n",
       "V264                            0\n",
       "V265                            0\n",
       "V266                            0\n",
       "V267                            0\n",
       "V268                            0\n",
       "V269                            0\n",
       "V270                            0\n",
       "V271                            0\n",
       "V272                            0\n",
       "V273                            0\n",
       "V274                            0\n",
       "V275                            0\n",
       "V276                            0\n",
       "V277                            0\n",
       "V278                            0\n",
       "V279                            0\n",
       "V280                            0\n",
       "V281                            0\n",
       "V282                            0\n",
       "V283                            0\n",
       "V284                            0\n",
       "V285                            0\n",
       "V286                            0\n",
       "V287                            0\n",
       "V288                            0\n",
       "V289                            0\n",
       "V290                            0\n",
       "V291                            0\n",
       "V292                            0\n",
       "V293                            0\n",
       "V294                            0\n",
       "V295                            0\n",
       "V296                            0\n",
       "V297                            0\n",
       "V298                            0\n",
       "V299                            0\n",
       "V300                            0\n",
       "V301                            0\n",
       "V302                            0\n",
       "V303                            0\n",
       "V304                            0\n",
       "V306                            0\n",
       "V307                            0\n",
       "V308                            0\n",
       "V309                            0\n",
       "V310                            0\n",
       "V311                            0\n",
       "V312                            0\n",
       "V313                            0\n",
       "V314                            0\n",
       "V315                            0\n",
       "V316                            0\n",
       "V317                            0\n",
       "V318                            0\n",
       "V319                            0\n",
       "V320                            0\n",
       "V321                            0\n",
       "V322                            0\n",
       "V323                            0\n",
       "V324                            0\n",
       "V325                            0\n",
       "V326                            0\n",
       "V327                            0\n",
       "V328                            0\n",
       "V329                            0\n",
       "V330                            0\n",
       "V331                            0\n",
       "V332                            0\n",
       "V333                            0\n",
       "V334                            0\n",
       "V335                            0\n",
       "V336                            0\n",
       "V337                            0\n",
       "V338                            0\n",
       "V339                            0\n",
       "id_01                           0\n",
       "id_02                           0\n",
       "id_03                           0\n",
       "id_04                           0\n",
       "id_05                           0\n",
       "id_06                           0\n",
       "id_07                           0\n",
       "id_08                           0\n",
       "id_09                           0\n",
       "id_10                           0\n",
       "id_11                           0\n",
       "id_12                           0\n",
       "id_13                           0\n",
       "id_14                           0\n",
       "id_15                           0\n",
       "id_16                           0\n",
       "id_17                           0\n",
       "id_18                           0\n",
       "id_19                           0\n",
       "id_20                           0\n",
       "id_21                           0\n",
       "id_22                           0\n",
       "id_23                           0\n",
       "id_24                           0\n",
       "id_25                           0\n",
       "id_26                           0\n",
       "id_28                           0\n",
       "id_29                           0\n",
       "id_30                           0\n",
       "id_31                           0\n",
       "id_32                           0\n",
       "id_33                           0\n",
       "id_34                           0\n",
       "id_35                           0\n",
       "id_36                           0\n",
       "id_37                           0\n",
       "id_38                           0\n",
       "DeviceType                      0\n",
       "DeviceInfo                      0\n",
       "hour                            0\n",
       "alertFeature                    0\n",
       "LogTransactionAmt               0\n",
       "device_name                     0\n",
       "device_version                  0\n",
       "OS_id_30                        0\n",
       "version_id_30                   0\n",
       "browser_id_31                   0\n",
       "version_id_31                   0\n",
       "screen_width                    0\n",
       "screen_height                   0\n",
       "had_id                          0\n",
       "c2_check                        0\n",
       "c3_check                        0\n",
       "new_domain                      0\n",
       "t_dt_minute                     0\n",
       "t_dt_hour                       0\n",
       "t_dt_day                        0\n",
       "t_dt_week                       0\n",
       "DT_M                            0\n",
       "card1check                      0\n",
       "card2check                      0\n",
       "D2_check                        0\n",
       "D3_check                        0\n",
       "D4_check                        0\n",
       "D5_check                        0\n",
       "D6_check                        0\n",
       "D7_check                        0\n",
       "d8_check                        0\n",
       "D9_check                        0\n",
       "D10_check                       0\n",
       "D11_check                       0\n",
       "D12_check                       0\n",
       "D13_check                       0\n",
       "D14_check                       0\n",
       "D15_check                       0\n",
       "new_domain1                     0\n",
       "new_domain2                     0\n",
       "addr1_addr2                     0\n",
       "card1_card2                     0\n",
       "TransactionAmt_to_mean_card1    0\n",
       "TransactionAmt_to_mean_card4    0\n",
       "TransactionAmt_to_std_card1     0\n",
       "TransactionAmt_to_std_card4     0\n",
       "id_02_to_mean_card1             0\n",
       "id_02_to_mean_card4             0\n",
       "id_02_to_std_card1              0\n",
       "id_02_to_std_card4              0\n",
       "D15_to_mean_card1               0\n",
       "D15_to_mean_card4               0\n",
       "D15_to_std_card1                0\n",
       "D15_to_std_card4                0\n",
       "D15_to_mean_addr1               0\n",
       "D15_to_std_addr1                0\n",
       "dtype: int64"
      ]
     },
     "execution_count": 25,
     "metadata": {},
     "output_type": "execute_result"
    }
   ],
   "source": [
    "train_df.isnull().sum()"
   ]
  },
  {
   "cell_type": "markdown",
   "id": "24c657d5",
   "metadata": {
    "papermill": {
     "duration": 0.015556,
     "end_time": "2024-01-06T18:00:22.336370",
     "exception": false,
     "start_time": "2024-01-06T18:00:22.320814",
     "status": "completed"
    },
    "tags": []
   },
   "source": [
    "# Label Encoder"
   ]
  },
  {
   "cell_type": "code",
   "execution_count": 26,
   "id": "436d209d",
   "metadata": {
    "execution": {
     "iopub.execute_input": "2024-01-06T18:00:22.369446Z",
     "iopub.status.busy": "2024-01-06T18:00:22.369089Z",
     "iopub.status.idle": "2024-01-06T18:01:02.208326Z",
     "shell.execute_reply": "2024-01-06T18:01:02.207516Z"
    },
    "papermill": {
     "duration": 39.858261,
     "end_time": "2024-01-06T18:01:02.210643",
     "exception": false,
     "start_time": "2024-01-06T18:00:22.352382",
     "status": "completed"
    },
    "tags": []
   },
   "outputs": [],
   "source": [
    "for f in train_df.columns:\n",
    "    if train_df[f].dtype=='object': \n",
    "        lbl = LabelEncoder()\n",
    "        lbl.fit(list(train_df[f].values))\n",
    "        train_df[f] = lbl.transform(list(train_df[f].values)) "
   ]
  },
  {
   "cell_type": "code",
   "execution_count": 27,
   "id": "fe8269bf",
   "metadata": {
    "execution": {
     "iopub.execute_input": "2024-01-06T18:01:02.244278Z",
     "iopub.status.busy": "2024-01-06T18:01:02.243947Z",
     "iopub.status.idle": "2024-01-06T18:01:36.377569Z",
     "shell.execute_reply": "2024-01-06T18:01:36.376600Z"
    },
    "papermill": {
     "duration": 34.153148,
     "end_time": "2024-01-06T18:01:36.380008",
     "exception": false,
     "start_time": "2024-01-06T18:01:02.226860",
     "status": "completed"
    },
    "tags": []
   },
   "outputs": [],
   "source": [
    "for f in test_df.columns:\n",
    "    if test_df[f].dtype=='object': \n",
    "        lbl = LabelEncoder()\n",
    "        lbl.fit(list(test_df[f].values))\n",
    "        test_df[f] = lbl.transform(list(test_df[f].values))"
   ]
  },
  {
   "cell_type": "markdown",
   "id": "d7a78970",
   "metadata": {
    "execution": {
     "iopub.execute_input": "2022-02-24T23:59:09.175939Z",
     "iopub.status.busy": "2022-02-24T23:59:09.17545Z",
     "iopub.status.idle": "2022-02-24T23:59:09.20369Z",
     "shell.execute_reply": "2022-02-24T23:59:09.202625Z",
     "shell.execute_reply.started": "2022-02-24T23:59:09.175803Z"
    },
    "papermill": {
     "duration": 0.016417,
     "end_time": "2024-01-06T18:01:36.412881",
     "exception": false,
     "start_time": "2024-01-06T18:01:36.396464",
     "status": "completed"
    },
    "tags": []
   },
   "source": [
    "# Reduce Memory Again"
   ]
  },
  {
   "cell_type": "code",
   "execution_count": 28,
   "id": "0f9d08c2",
   "metadata": {
    "execution": {
     "iopub.execute_input": "2024-01-06T18:01:36.445988Z",
     "iopub.status.busy": "2024-01-06T18:01:36.445620Z",
     "iopub.status.idle": "2024-01-06T18:01:39.026089Z",
     "shell.execute_reply": "2024-01-06T18:01:39.025150Z"
    },
    "papermill": {
     "duration": 2.599651,
     "end_time": "2024-01-06T18:01:39.028308",
     "exception": false,
     "start_time": "2024-01-06T18:01:36.428657",
     "status": "completed"
    },
    "tags": []
   },
   "outputs": [
    {
     "name": "stdout",
     "output_type": "stream",
     "text": [
      "Mem. usage decreased to 564.31 Mb (73.9% reduction)\n"
     ]
    }
   ],
   "source": [
    "train_df = reduce_mem_usage(train_df)"
   ]
  },
  {
   "cell_type": "code",
   "execution_count": 29,
   "id": "551a382b",
   "metadata": {
    "execution": {
     "iopub.execute_input": "2024-01-06T18:01:39.061531Z",
     "iopub.status.busy": "2024-01-06T18:01:39.061195Z",
     "iopub.status.idle": "2024-01-06T18:01:41.255694Z",
     "shell.execute_reply": "2024-01-06T18:01:41.254694Z"
    },
    "papermill": {
     "duration": 2.213448,
     "end_time": "2024-01-06T18:01:41.257919",
     "exception": false,
     "start_time": "2024-01-06T18:01:39.044471",
     "status": "completed"
    },
    "tags": []
   },
   "outputs": [
    {
     "name": "stdout",
     "output_type": "stream",
     "text": [
      "Mem. usage decreased to 491.43 Mb (73.5% reduction)\n"
     ]
    }
   ],
   "source": [
    "test_df = reduce_mem_usage(test_df)"
   ]
  },
  {
   "cell_type": "markdown",
   "id": "db9a0dc7",
   "metadata": {
    "papermill": {
     "duration": 0.015715,
     "end_time": "2024-01-06T18:01:41.289894",
     "exception": false,
     "start_time": "2024-01-06T18:01:41.274179",
     "status": "completed"
    },
    "tags": []
   },
   "source": [
    "# Model"
   ]
  },
  {
   "cell_type": "code",
   "execution_count": 30,
   "id": "6b08ef4c",
   "metadata": {
    "execution": {
     "iopub.execute_input": "2024-01-06T18:01:41.323441Z",
     "iopub.status.busy": "2024-01-06T18:01:41.322850Z",
     "iopub.status.idle": "2024-01-06T18:01:44.518490Z",
     "shell.execute_reply": "2024-01-06T18:01:44.517704Z"
    },
    "papermill": {
     "duration": 3.214965,
     "end_time": "2024-01-06T18:01:44.520887",
     "exception": false,
     "start_time": "2024-01-06T18:01:41.305922",
     "status": "completed"
    },
    "tags": []
   },
   "outputs": [],
   "source": [
    "y = train_df[\"isFraud\"]\n",
    "X = train_df.drop([\"isFraud\", \"TransactionID\"], axis=1)\n",
    "test_df = test_df.drop([\"TransactionID\"], axis=1)"
   ]
  },
  {
   "cell_type": "code",
   "execution_count": 31,
   "id": "a55b951f",
   "metadata": {
    "execution": {
     "iopub.execute_input": "2024-01-06T18:01:44.554941Z",
     "iopub.status.busy": "2024-01-06T18:01:44.554617Z",
     "iopub.status.idle": "2024-01-06T18:01:47.516152Z",
     "shell.execute_reply": "2024-01-06T18:01:47.515383Z"
    },
    "papermill": {
     "duration": 2.980747,
     "end_time": "2024-01-06T18:01:47.518375",
     "exception": false,
     "start_time": "2024-01-06T18:01:44.537628",
     "status": "completed"
    },
    "tags": []
   },
   "outputs": [],
   "source": [
    "X_train, X_test, y_train, y_test = train_test_split(X, y, test_size=0.3, random_state=0, stratify=y)"
   ]
  },
  {
   "cell_type": "markdown",
   "id": "4f6bd6e8",
   "metadata": {
    "papermill": {
     "duration": 0.015878,
     "end_time": "2024-01-06T18:01:47.550672",
     "exception": false,
     "start_time": "2024-01-06T18:01:47.534794",
     "status": "completed"
    },
    "tags": []
   },
   "source": [
    "# Random Under Sampling"
   ]
  },
  {
   "cell_type": "code",
   "execution_count": 32,
   "id": "81c52fd5",
   "metadata": {
    "execution": {
     "iopub.execute_input": "2024-01-06T18:01:47.584094Z",
     "iopub.status.busy": "2024-01-06T18:01:47.583316Z",
     "iopub.status.idle": "2024-01-06T18:01:48.805375Z",
     "shell.execute_reply": "2024-01-06T18:01:48.804220Z"
    },
    "papermill": {
     "duration": 1.241065,
     "end_time": "2024-01-06T18:01:48.807552",
     "exception": false,
     "start_time": "2024-01-06T18:01:47.566487",
     "status": "completed"
    },
    "tags": []
   },
   "outputs": [
    {
     "name": "stdout",
     "output_type": "stream",
     "text": [
      "Before UnderSampling, counts of label '1': 14464\n",
      "Before UnderSampling, counts of label '0': 398914 \n",
      "\n",
      "After UnderSampling, the shape of train_X: (123978, 479)\n",
      "After UnderSampling, the shape of train_y: (123978,) \n",
      "\n",
      "After UnderSampling, counts of label '1': 20663\n",
      "After UnderSampling, counts of label '0': 103315\n"
     ]
    }
   ],
   "source": [
    "print(\"Before UnderSampling, counts of label '1': {}\".format(sum(y_train==1)))\n",
    "print(\"Before UnderSampling, counts of label '0': {} \\n\".format(sum(y_train==0)))\n",
    "\n",
    "undersample = RandomUnderSampler(sampling_strategy=0.2, random_state=3)\n",
    "\n",
    "X_train_res, y_train_res = undersample.fit_resample(X, y)\n",
    "\n",
    "print('After UnderSampling, the shape of train_X: {}'.format(X_train_res.shape))\n",
    "print('After UnderSampling, the shape of train_y: {} \\n'.format(y_train_res.shape))\n",
    "\n",
    "print(\"After UnderSampling, counts of label '1': {}\".format(sum(y_train_res==1)))\n",
    "print(\"After UnderSampling, counts of label '0': {}\".format(sum(y_train_res==0)))"
   ]
  },
  {
   "cell_type": "markdown",
   "id": "93e3cedb",
   "metadata": {
    "papermill": {
     "duration": 0.015751,
     "end_time": "2024-01-06T18:01:48.839620",
     "exception": false,
     "start_time": "2024-01-06T18:01:48.823869",
     "status": "completed"
    },
    "tags": []
   },
   "source": [
    "# LightGBM"
   ]
  },
  {
   "cell_type": "code",
   "execution_count": 33,
   "id": "12792c19",
   "metadata": {
    "execution": {
     "iopub.execute_input": "2024-01-06T18:01:48.873227Z",
     "iopub.status.busy": "2024-01-06T18:01:48.872546Z",
     "iopub.status.idle": "2024-01-06T18:03:45.536890Z",
     "shell.execute_reply": "2024-01-06T18:03:45.535943Z"
    },
    "papermill": {
     "duration": 116.700475,
     "end_time": "2024-01-06T18:03:45.556011",
     "exception": false,
     "start_time": "2024-01-06T18:01:48.855536",
     "status": "completed"
    },
    "tags": []
   },
   "outputs": [
    {
     "data": {
      "text/html": [
       "<style>#sk-container-id-1 {color: black;background-color: white;}#sk-container-id-1 pre{padding: 0;}#sk-container-id-1 div.sk-toggleable {background-color: white;}#sk-container-id-1 label.sk-toggleable__label {cursor: pointer;display: block;width: 100%;margin-bottom: 0;padding: 0.3em;box-sizing: border-box;text-align: center;}#sk-container-id-1 label.sk-toggleable__label-arrow:before {content: \"▸\";float: left;margin-right: 0.25em;color: #696969;}#sk-container-id-1 label.sk-toggleable__label-arrow:hover:before {color: black;}#sk-container-id-1 div.sk-estimator:hover label.sk-toggleable__label-arrow:before {color: black;}#sk-container-id-1 div.sk-toggleable__content {max-height: 0;max-width: 0;overflow: hidden;text-align: left;background-color: #f0f8ff;}#sk-container-id-1 div.sk-toggleable__content pre {margin: 0.2em;color: black;border-radius: 0.25em;background-color: #f0f8ff;}#sk-container-id-1 input.sk-toggleable__control:checked~div.sk-toggleable__content {max-height: 200px;max-width: 100%;overflow: auto;}#sk-container-id-1 input.sk-toggleable__control:checked~label.sk-toggleable__label-arrow:before {content: \"▾\";}#sk-container-id-1 div.sk-estimator input.sk-toggleable__control:checked~label.sk-toggleable__label {background-color: #d4ebff;}#sk-container-id-1 div.sk-label input.sk-toggleable__control:checked~label.sk-toggleable__label {background-color: #d4ebff;}#sk-container-id-1 input.sk-hidden--visually {border: 0;clip: rect(1px 1px 1px 1px);clip: rect(1px, 1px, 1px, 1px);height: 1px;margin: -1px;overflow: hidden;padding: 0;position: absolute;width: 1px;}#sk-container-id-1 div.sk-estimator {font-family: monospace;background-color: #f0f8ff;border: 1px dotted black;border-radius: 0.25em;box-sizing: border-box;margin-bottom: 0.5em;}#sk-container-id-1 div.sk-estimator:hover {background-color: #d4ebff;}#sk-container-id-1 div.sk-parallel-item::after {content: \"\";width: 100%;border-bottom: 1px solid gray;flex-grow: 1;}#sk-container-id-1 div.sk-label:hover label.sk-toggleable__label {background-color: #d4ebff;}#sk-container-id-1 div.sk-serial::before {content: \"\";position: absolute;border-left: 1px solid gray;box-sizing: border-box;top: 0;bottom: 0;left: 50%;z-index: 0;}#sk-container-id-1 div.sk-serial {display: flex;flex-direction: column;align-items: center;background-color: white;padding-right: 0.2em;padding-left: 0.2em;position: relative;}#sk-container-id-1 div.sk-item {position: relative;z-index: 1;}#sk-container-id-1 div.sk-parallel {display: flex;align-items: stretch;justify-content: center;background-color: white;position: relative;}#sk-container-id-1 div.sk-item::before, #sk-container-id-1 div.sk-parallel-item::before {content: \"\";position: absolute;border-left: 1px solid gray;box-sizing: border-box;top: 0;bottom: 0;left: 50%;z-index: -1;}#sk-container-id-1 div.sk-parallel-item {display: flex;flex-direction: column;z-index: 1;position: relative;background-color: white;}#sk-container-id-1 div.sk-parallel-item:first-child::after {align-self: flex-end;width: 50%;}#sk-container-id-1 div.sk-parallel-item:last-child::after {align-self: flex-start;width: 50%;}#sk-container-id-1 div.sk-parallel-item:only-child::after {width: 0;}#sk-container-id-1 div.sk-dashed-wrapped {border: 1px dashed gray;margin: 0 0.4em 0.5em 0.4em;box-sizing: border-box;padding-bottom: 0.4em;background-color: white;}#sk-container-id-1 div.sk-label label {font-family: monospace;font-weight: bold;display: inline-block;line-height: 1.2em;}#sk-container-id-1 div.sk-label-container {text-align: center;}#sk-container-id-1 div.sk-container {/* jupyter's `normalize.less` sets `[hidden] { display: none; }` but bootstrap.min.css set `[hidden] { display: none !important; }` so we also need the `!important` here to be able to override the default hidden behavior on the sphinx rendered scikit-learn.org. See: https://github.com/scikit-learn/scikit-learn/issues/21755 */display: inline-block !important;position: relative;}#sk-container-id-1 div.sk-text-repr-fallback {display: none;}</style><div id=\"sk-container-id-1\" class=\"sk-top-container\"><div class=\"sk-text-repr-fallback\"><pre>LGBMClassifier(colsample_bytree=0.7, learning_rate=0.01, max_bin=255,\n",
       "               metric=&#x27;auc&#x27;, n_estimators=800, num_leaves=256,\n",
       "               objective=&#x27;binary&#x27;, subsample=0.7, subsample_freq=1,\n",
       "               tree_learner=&#x27;serial&#x27;, verbose=-1)</pre><b>In a Jupyter environment, please rerun this cell to show the HTML representation or trust the notebook. <br />On GitHub, the HTML representation is unable to render, please try loading this page with nbviewer.org.</b></div><div class=\"sk-container\" hidden><div class=\"sk-item\"><div class=\"sk-estimator sk-toggleable\"><input class=\"sk-toggleable__control sk-hidden--visually\" id=\"sk-estimator-id-1\" type=\"checkbox\" checked><label for=\"sk-estimator-id-1\" class=\"sk-toggleable__label sk-toggleable__label-arrow\">LGBMClassifier</label><div class=\"sk-toggleable__content\"><pre>LGBMClassifier(colsample_bytree=0.7, learning_rate=0.01, max_bin=255,\n",
       "               metric=&#x27;auc&#x27;, n_estimators=800, num_leaves=256,\n",
       "               objective=&#x27;binary&#x27;, subsample=0.7, subsample_freq=1,\n",
       "               tree_learner=&#x27;serial&#x27;, verbose=-1)</pre></div></div></div></div></div>"
      ],
      "text/plain": [
       "LGBMClassifier(colsample_bytree=0.7, learning_rate=0.01, max_bin=255,\n",
       "               metric='auc', n_estimators=800, num_leaves=256,\n",
       "               objective='binary', subsample=0.7, subsample_freq=1,\n",
       "               tree_learner='serial', verbose=-1)"
      ]
     },
     "execution_count": 33,
     "metadata": {},
     "output_type": "execute_result"
    }
   ],
   "source": [
    "reg3 = LGBMClassifier(objective='binary',\n",
    "                    boosting_type='gbdt',\n",
    "                    metric='auc',\n",
    "                    n_jobs=-1,\n",
    "                    learning_rate=0.01,\n",
    "                    num_leaves= 2**8,\n",
    "                    max_depth=-1,\n",
    "                    tree_learner='serial',\n",
    "                    colsample_bytree= 0.7,\n",
    "                    subsample_freq=1,\n",
    "                    subsample=0.7,\n",
    "                    n_estimators=800,\n",
    "                    max_bin=255,\n",
    "                    verbose=-1) \n",
    "reg3.fit(X_train_res,y_train_res) "
   ]
  },
  {
   "cell_type": "code",
   "execution_count": 34,
   "id": "c1e32d56",
   "metadata": {
    "execution": {
     "iopub.execute_input": "2024-01-06T18:03:45.593766Z",
     "iopub.status.busy": "2024-01-06T18:03:45.593433Z",
     "iopub.status.idle": "2024-01-06T18:03:57.590472Z",
     "shell.execute_reply": "2024-01-06T18:03:57.589544Z"
    },
    "papermill": {
     "duration": 12.020505,
     "end_time": "2024-01-06T18:03:57.593214",
     "exception": false,
     "start_time": "2024-01-06T18:03:45.572709",
     "status": "completed"
    },
    "tags": []
   },
   "outputs": [
    {
     "name": "stdout",
     "output_type": "stream",
     "text": [
      "              precision    recall  f1-score   support\n",
      "\n",
      "           0       0.99      0.99      0.99    170963\n",
      "           1       0.78      0.85      0.81      6199\n",
      "\n",
      "    accuracy                           0.99    177162\n",
      "   macro avg       0.89      0.92      0.90    177162\n",
      "weighted avg       0.99      0.99      0.99    177162\n",
      "\n",
      "Auc: 0.89\n"
     ]
    }
   ],
   "source": [
    "pred3 = reg3.predict(X_test)  \n",
    "print(classification_report(y_test, pred3))\n",
    "print(f\"Auc: {round(roc_auc_score(pred3, y_test), 2)}\")"
   ]
  },
  {
   "cell_type": "code",
   "execution_count": 35,
   "id": "372ac599",
   "metadata": {
    "execution": {
     "iopub.execute_input": "2024-01-06T18:03:57.628675Z",
     "iopub.status.busy": "2024-01-06T18:03:57.628041Z",
     "iopub.status.idle": "2024-01-06T18:03:58.471300Z",
     "shell.execute_reply": "2024-01-06T18:03:58.470379Z"
    },
    "papermill": {
     "duration": 0.862769,
     "end_time": "2024-01-06T18:03:58.473393",
     "exception": false,
     "start_time": "2024-01-06T18:03:57.610624",
     "status": "completed"
    },
    "tags": []
   },
   "outputs": [
    {
     "data": {
      "image/png": "[encoded data removed]",
      "text/plain": [
       "<Figure size 1000x1000 with 1 Axes>"
      ]
     },
     "metadata": {},
     "output_type": "display_data"
    }
   ],
   "source": [
    "def plot_importance(model, features, num=len(X), save=False):\n",
    "\n",
    "    feature_imp = pd.DataFrame({'Value': model.feature_importances_, 'Feature': features.columns})\n",
    "    plt.figure(figsize=(10, 10))\n",
    "    sns.set(font_scale=1)\n",
    "    sns.barplot(x=\"Value\", y=\"Feature\", data=feature_imp.sort_values(by=\"Value\",\n",
    "                                                                     ascending=False)[0:50])\n",
    "    plt.title('Features')\n",
    "    plt.tight_layout()\n",
    "    plt.show()\n",
    "    if save:\n",
    "        plt.savefig('importances.png')\n",
    "        \n",
    "        \n",
    "plot_importance(reg3, X_train)"
   ]
  },
  {
   "cell_type": "code",
   "execution_count": 36,
   "id": "be0ae715",
   "metadata": {
    "execution": {
     "iopub.execute_input": "2024-01-06T18:03:58.511089Z",
     "iopub.status.busy": "2024-01-06T18:03:58.510480Z",
     "iopub.status.idle": "2024-01-06T18:04:31.107476Z",
     "shell.execute_reply": "2024-01-06T18:04:31.106658Z"
    },
    "papermill": {
     "duration": 32.618133,
     "end_time": "2024-01-06T18:04:31.109656",
     "exception": false,
     "start_time": "2024-01-06T18:03:58.491523",
     "status": "completed"
    },
    "tags": []
   },
   "outputs": [],
   "source": [
    "predictions3 = reg3.predict_proba(test_df)[:,1]"
   ]
  },
  {
   "cell_type": "code",
   "execution_count": 37,
   "id": "cda61b4f",
   "metadata": {
    "execution": {
     "iopub.execute_input": "2024-01-06T18:04:31.148039Z",
     "iopub.status.busy": "2024-01-06T18:04:31.147259Z",
     "iopub.status.idle": "2024-01-06T18:04:31.162072Z",
     "shell.execute_reply": "2024-01-06T18:04:31.161223Z"
    },
    "papermill": {
     "duration": 0.036025,
     "end_time": "2024-01-06T18:04:31.164041",
     "exception": false,
     "start_time": "2024-01-06T18:04:31.128016",
     "status": "completed"
    },
    "tags": []
   },
   "outputs": [
    {
     "data": {
      "text/html": [
       "<div>\n",
       "<style scoped>\n",
       "    .dataframe tbody tr th:only-of-type {\n",
       "        vertical-align: middle;\n",
       "    }\n",
       "\n",
       "    .dataframe tbody tr th {\n",
       "        vertical-align: top;\n",
       "    }\n",
       "\n",
       "    .dataframe thead th {\n",
       "        text-align: right;\n",
       "    }\n",
       "</style>\n",
       "<table border=\"1\" class=\"dataframe\">\n",
       "  <thead>\n",
       "    <tr style=\"text-align: right;\">\n",
       "      <th></th>\n",
       "      <th>TransactionID</th>\n",
       "      <th>isFraud</th>\n",
       "    </tr>\n",
       "  </thead>\n",
       "  <tbody>\n",
       "    <tr>\n",
       "      <th>0</th>\n",
       "      <td>3663549</td>\n",
       "      <td>0.011574</td>\n",
       "    </tr>\n",
       "    <tr>\n",
       "      <th>1</th>\n",
       "      <td>3663550</td>\n",
       "      <td>0.017660</td>\n",
       "    </tr>\n",
       "    <tr>\n",
       "      <th>2</th>\n",
       "      <td>3663551</td>\n",
       "      <td>0.039558</td>\n",
       "    </tr>\n",
       "    <tr>\n",
       "      <th>3</th>\n",
       "      <td>3663552</td>\n",
       "      <td>0.017004</td>\n",
       "    </tr>\n",
       "    <tr>\n",
       "      <th>4</th>\n",
       "      <td>3663553</td>\n",
       "      <td>0.012803</td>\n",
       "    </tr>\n",
       "  </tbody>\n",
       "</table>\n",
       "</div>"
      ],
      "text/plain": [
       "   TransactionID   isFraud\n",
       "0        3663549  0.011574\n",
       "1        3663550  0.017660\n",
       "2        3663551  0.039558\n",
       "3        3663552  0.017004\n",
       "4        3663553  0.012803"
      ]
     },
     "execution_count": 37,
     "metadata": {},
     "output_type": "execute_result"
    }
   ],
   "source": [
    "submission = pd.DataFrame({'TransactionID':test_transaction['TransactionID'],'isFraud':predictions3})\n",
    "submission[\"TransactionID\"]=submission[\"TransactionID\"].astype(int)\n",
    "submission.head()"
   ]
  },
  {
   "cell_type": "code",
   "execution_count": 38,
   "id": "c6ec3708",
   "metadata": {
    "execution": {
     "iopub.execute_input": "2024-01-06T18:04:31.201584Z",
     "iopub.status.busy": "2024-01-06T18:04:31.201282Z",
     "iopub.status.idle": "2024-01-06T18:04:33.025170Z",
     "shell.execute_reply": "2024-01-06T18:04:33.024311Z"
    },
    "papermill": {
     "duration": 1.845236,
     "end_time": "2024-01-06T18:04:33.027558",
     "exception": false,
     "start_time": "2024-01-06T18:04:31.182322",
     "status": "completed"
    },
    "tags": []
   },
   "outputs": [
    {
     "name": "stdout",
     "output_type": "stream",
     "text": [
      "Saved file: CIS Fraud Detection under sampling lgbm.csv\n"
     ]
    }
   ],
   "source": [
    "filename = 'CIS Fraud Detection under sampling lgbm.csv'\n",
    "\n",
    "submission.to_csv(filename,index=False)\n",
    "\n",
    "print('Saved file: ' + filename)"
   ]
  },
  {
   "cell_type": "code",
   "execution_count": 39,
   "id": "7e51bd88",
   "metadata": {
    "execution": {
     "iopub.execute_input": "2024-01-06T18:04:33.066429Z",
     "iopub.status.busy": "2024-01-06T18:04:33.066091Z",
     "iopub.status.idle": "2024-01-06T18:04:33.070011Z",
     "shell.execute_reply": "2024-01-06T18:04:33.069127Z"
    },
    "papermill": {
     "duration": 0.025928,
     "end_time": "2024-01-06T18:04:33.071893",
     "exception": false,
     "start_time": "2024-01-06T18:04:33.045965",
     "status": "completed"
    },
    "tags": []
   },
   "outputs": [],
   "source": [
    "# feature_imp = pd.DataFrame({'Value': reg3.feature_importances_, 'Feature': X_train.columns}).sort_values(by=\"Value\")\n",
    "# feature_imp"
   ]
  },
  {
   "cell_type": "code",
   "execution_count": 40,
   "id": "08bdfb01",
   "metadata": {
    "execution": {
     "iopub.execute_input": "2024-01-06T18:04:33.110207Z",
     "iopub.status.busy": "2024-01-06T18:04:33.109469Z",
     "iopub.status.idle": "2024-01-06T18:04:33.113479Z",
     "shell.execute_reply": "2024-01-06T18:04:33.112647Z"
    },
    "papermill": {
     "duration": 0.025144,
     "end_time": "2024-01-06T18:04:33.115347",
     "exception": false,
     "start_time": "2024-01-06T18:04:33.090203",
     "status": "completed"
    },
    "tags": []
   },
   "outputs": [],
   "source": [
    "# Score: 0.909003\n",
    "# Public score: 0.938276"
   ]
  },
  {
   "cell_type": "markdown",
   "id": "19bbd494",
   "metadata": {
    "papermill": {
     "duration": 0.01805,
     "end_time": "2024-01-06T18:04:33.151435",
     "exception": false,
     "start_time": "2024-01-06T18:04:33.133385",
     "status": "completed"
    },
    "tags": []
   },
   "source": [
    "# XGB"
   ]
  },
  {
   "cell_type": "code",
   "execution_count": 41,
   "id": "9238dc53",
   "metadata": {
    "execution": {
     "iopub.execute_input": "2024-01-06T18:04:33.189681Z",
     "iopub.status.busy": "2024-01-06T18:04:33.189333Z",
     "iopub.status.idle": "2024-01-06T18:06:04.601193Z",
     "shell.execute_reply": "2024-01-06T18:06:04.600279Z"
    },
    "papermill": {
     "duration": 91.448025,
     "end_time": "2024-01-06T18:06:04.618044",
     "exception": false,
     "start_time": "2024-01-06T18:04:33.170019",
     "status": "completed"
    },
    "tags": []
   },
   "outputs": [
    {
     "data": {
      "text/html": [
       "<style>#sk-container-id-2 {color: black;background-color: white;}#sk-container-id-2 pre{padding: 0;}#sk-container-id-2 div.sk-toggleable {background-color: white;}#sk-container-id-2 label.sk-toggleable__label {cursor: pointer;display: block;width: 100%;margin-bottom: 0;padding: 0.3em;box-sizing: border-box;text-align: center;}#sk-container-id-2 label.sk-toggleable__label-arrow:before {content: \"▸\";float: left;margin-right: 0.25em;color: #696969;}#sk-container-id-2 label.sk-toggleable__label-arrow:hover:before {color: black;}#sk-container-id-2 div.sk-estimator:hover label.sk-toggleable__label-arrow:before {color: black;}#sk-container-id-2 div.sk-toggleable__content {max-height: 0;max-width: 0;overflow: hidden;text-align: left;background-color: #f0f8ff;}#sk-container-id-2 div.sk-toggleable__content pre {margin: 0.2em;color: black;border-radius: 0.25em;background-color: #f0f8ff;}#sk-container-id-2 input.sk-toggleable__control:checked~div.sk-toggleable__content {max-height: 200px;max-width: 100%;overflow: auto;}#sk-container-id-2 input.sk-toggleable__control:checked~label.sk-toggleable__label-arrow:before {content: \"▾\";}#sk-container-id-2 div.sk-estimator input.sk-toggleable__control:checked~label.sk-toggleable__label {background-color: #d4ebff;}#sk-container-id-2 div.sk-label input.sk-toggleable__control:checked~label.sk-toggleable__label {background-color: #d4ebff;}#sk-container-id-2 input.sk-hidden--visually {border: 0;clip: rect(1px 1px 1px 1px);clip: rect(1px, 1px, 1px, 1px);height: 1px;margin: -1px;overflow: hidden;padding: 0;position: absolute;width: 1px;}#sk-container-id-2 div.sk-estimator {font-family: monospace;background-color: #f0f8ff;border: 1px dotted black;border-radius: 0.25em;box-sizing: border-box;margin-bottom: 0.5em;}#sk-container-id-2 div.sk-estimator:hover {background-color: #d4ebff;}#sk-container-id-2 div.sk-parallel-item::after {content: \"\";width: 100%;border-bottom: 1px solid gray;flex-grow: 1;}#sk-container-id-2 div.sk-label:hover label.sk-toggleable__label {background-color: #d4ebff;}#sk-container-id-2 div.sk-serial::before {content: \"\";position: absolute;border-left: 1px solid gray;box-sizing: border-box;top: 0;bottom: 0;left: 50%;z-index: 0;}#sk-container-id-2 div.sk-serial {display: flex;flex-direction: column;align-items: center;background-color: white;padding-right: 0.2em;padding-left: 0.2em;position: relative;}#sk-container-id-2 div.sk-item {position: relative;z-index: 1;}#sk-container-id-2 div.sk-parallel {display: flex;align-items: stretch;justify-content: center;background-color: white;position: relative;}#sk-container-id-2 div.sk-item::before, #sk-container-id-2 div.sk-parallel-item::before {content: \"\";position: absolute;border-left: 1px solid gray;box-sizing: border-box;top: 0;bottom: 0;left: 50%;z-index: -1;}#sk-container-id-2 div.sk-parallel-item {display: flex;flex-direction: column;z-index: 1;position: relative;background-color: white;}#sk-container-id-2 div.sk-parallel-item:first-child::after {align-self: flex-end;width: 50%;}#sk-container-id-2 div.sk-parallel-item:last-child::after {align-self: flex-start;width: 50%;}#sk-container-id-2 div.sk-parallel-item:only-child::after {width: 0;}#sk-container-id-2 div.sk-dashed-wrapped {border: 1px dashed gray;margin: 0 0.4em 0.5em 0.4em;box-sizing: border-box;padding-bottom: 0.4em;background-color: white;}#sk-container-id-2 div.sk-label label {font-family: monospace;font-weight: bold;display: inline-block;line-height: 1.2em;}#sk-container-id-2 div.sk-label-container {text-align: center;}#sk-container-id-2 div.sk-container {/* jupyter's `normalize.less` sets `[hidden] { display: none; }` but bootstrap.min.css set `[hidden] { display: none !important; }` so we also need the `!important` here to be able to override the default hidden behavior on the sphinx rendered scikit-learn.org. See: https://github.com/scikit-learn/scikit-learn/issues/21755 */display: inline-block !important;position: relative;}#sk-container-id-2 div.sk-text-repr-fallback {display: none;}</style><div id=\"sk-container-id-2\" class=\"sk-top-container\"><div class=\"sk-text-repr-fallback\"><pre>XGBClassifier(alpha=4, base_score=None, booster=None, callbacks=None,\n",
       "              colsample_bylevel=None, colsample_bynode=None,\n",
       "              colsample_bytree=0.9, device=None, early_stopping_rounds=None,\n",
       "              enable_categorical=False, eval_metric=None, feature_types=None,\n",
       "              gamma=0.2, grow_policy=None, importance_type=None,\n",
       "              interaction_constraints=None, learning_rate=0.05, max_bin=None,\n",
       "              max_cat_threshold=None, max_cat_to_onehot=None,\n",
       "              max_delta_step=None, max_depth=9, max_leaves=None,\n",
       "              min_child_weight=None, missing=nan, monotone_constraints=None,\n",
       "              multi_strategy=None, n_estimators=500, n_jobs=None,\n",
       "              num_parallel_tree=None, ...)</pre><b>In a Jupyter environment, please rerun this cell to show the HTML representation or trust the notebook. <br />On GitHub, the HTML representation is unable to render, please try loading this page with nbviewer.org.</b></div><div class=\"sk-container\" hidden><div class=\"sk-item\"><div class=\"sk-estimator sk-toggleable\"><input class=\"sk-toggleable__control sk-hidden--visually\" id=\"sk-estimator-id-2\" type=\"checkbox\" checked><label for=\"sk-estimator-id-2\" class=\"sk-toggleable__label sk-toggleable__label-arrow\">XGBClassifier</label><div class=\"sk-toggleable__content\"><pre>XGBClassifier(alpha=4, base_score=None, booster=None, callbacks=None,\n",
       "              colsample_bylevel=None, colsample_bynode=None,\n",
       "              colsample_bytree=0.9, device=None, early_stopping_rounds=None,\n",
       "              enable_categorical=False, eval_metric=None, feature_types=None,\n",
       "              gamma=0.2, grow_policy=None, importance_type=None,\n",
       "              interaction_constraints=None, learning_rate=0.05, max_bin=None,\n",
       "              max_cat_threshold=None, max_cat_to_onehot=None,\n",
       "              max_delta_step=None, max_depth=9, max_leaves=None,\n",
       "              min_child_weight=None, missing=nan, monotone_constraints=None,\n",
       "              multi_strategy=None, n_estimators=500, n_jobs=None,\n",
       "              num_parallel_tree=None, ...)</pre></div></div></div></div></div>"
      ],
      "text/plain": [
       "XGBClassifier(alpha=4, base_score=None, booster=None, callbacks=None,\n",
       "              colsample_bylevel=None, colsample_bynode=None,\n",
       "              colsample_bytree=0.9, device=None, early_stopping_rounds=None,\n",
       "              enable_categorical=False, eval_metric=None, feature_types=None,\n",
       "              gamma=0.2, grow_policy=None, importance_type=None,\n",
       "              interaction_constraints=None, learning_rate=0.05, max_bin=None,\n",
       "              max_cat_threshold=None, max_cat_to_onehot=None,\n",
       "              max_delta_step=None, max_depth=9, max_leaves=None,\n",
       "              min_child_weight=None, missing=nan, monotone_constraints=None,\n",
       "              multi_strategy=None, n_estimators=500, n_jobs=None,\n",
       "              num_parallel_tree=None, ...)"
      ]
     },
     "execution_count": 41,
     "metadata": {},
     "output_type": "execute_result"
    }
   ],
   "source": [
    "reg4 = XGBClassifier(n_estimators=500,\n",
    "              max_depth=9,\n",
    "              learning_rate=0.05,\n",
    "              subsample=0.9,\n",
    "              colsample_bytree=0.9,\n",
    "              gamma = 0.2,\n",
    "              alpha = 4,\n",
    "              tree_method='hist')  \n",
    "reg4.fit(X_train_res,y_train_res) "
   ]
  },
  {
   "cell_type": "code",
   "execution_count": 42,
   "id": "5d4621a7",
   "metadata": {
    "execution": {
     "iopub.execute_input": "2024-01-06T18:06:04.656310Z",
     "iopub.status.busy": "2024-01-06T18:06:04.655646Z",
     "iopub.status.idle": "2024-01-06T18:06:07.323151Z",
     "shell.execute_reply": "2024-01-06T18:06:07.322287Z"
    },
    "papermill": {
     "duration": 2.689158,
     "end_time": "2024-01-06T18:06:07.325365",
     "exception": false,
     "start_time": "2024-01-06T18:06:04.636207",
     "status": "completed"
    },
    "tags": []
   },
   "outputs": [
    {
     "name": "stdout",
     "output_type": "stream",
     "text": [
      "              precision    recall  f1-score   support\n",
      "\n",
      "           0       0.99      0.99      0.99    170963\n",
      "           1       0.76      0.85      0.80      6199\n",
      "\n",
      "    accuracy                           0.99    177162\n",
      "   macro avg       0.88      0.92      0.90    177162\n",
      "weighted avg       0.99      0.99      0.99    177162\n",
      "\n",
      "Auc: 0.8781\n"
     ]
    }
   ],
   "source": [
    "pred4 = reg4.predict(X_test)  \n",
    "print(classification_report(y_test, pred4))\n",
    "print(f\"Auc: {round(roc_auc_score(pred4, y_test), 4)}\")"
   ]
  },
  {
   "cell_type": "code",
   "execution_count": 43,
   "id": "10af8344",
   "metadata": {
    "execution": {
     "iopub.execute_input": "2024-01-06T18:06:07.364118Z",
     "iopub.status.busy": "2024-01-06T18:06:07.363481Z",
     "iopub.status.idle": "2024-01-06T18:06:08.440543Z",
     "shell.execute_reply": "2024-01-06T18:06:08.439634Z"
    },
    "papermill": {
     "duration": 1.098991,
     "end_time": "2024-01-06T18:06:08.443028",
     "exception": false,
     "start_time": "2024-01-06T18:06:07.344037",
     "status": "completed"
    },
    "tags": []
   },
   "outputs": [
    {
     "data": {
      "image/png": "[encoded data removed]",
      "text/plain": [
       "<Figure size 1000x1000 with 1 Axes>"
      ]
     },
     "metadata": {},
     "output_type": "display_data"
    }
   ],
   "source": [
    "plot_importance(reg4, X_train)"
   ]
  },
  {
   "cell_type": "code",
   "execution_count": 44,
   "id": "0b4394a7",
   "metadata": {
    "execution": {
     "iopub.execute_input": "2024-01-06T18:06:08.484130Z",
     "iopub.status.busy": "2024-01-06T18:06:08.483370Z",
     "iopub.status.idle": "2024-01-06T18:06:15.245390Z",
     "shell.execute_reply": "2024-01-06T18:06:15.244549Z"
    },
    "papermill": {
     "duration": 6.784868,
     "end_time": "2024-01-06T18:06:15.247585",
     "exception": false,
     "start_time": "2024-01-06T18:06:08.462717",
     "status": "completed"
    },
    "tags": []
   },
   "outputs": [],
   "source": [
    "predictions4 = reg4.predict_proba(test_df)[:,1]"
   ]
  },
  {
   "cell_type": "code",
   "execution_count": 45,
   "id": "a5a4bd77",
   "metadata": {
    "execution": {
     "iopub.execute_input": "2024-01-06T18:06:15.290089Z",
     "iopub.status.busy": "2024-01-06T18:06:15.289312Z",
     "iopub.status.idle": "2024-01-06T18:06:15.301992Z",
     "shell.execute_reply": "2024-01-06T18:06:15.301109Z"
    },
    "papermill": {
     "duration": 0.035461,
     "end_time": "2024-01-06T18:06:15.303960",
     "exception": false,
     "start_time": "2024-01-06T18:06:15.268499",
     "status": "completed"
    },
    "tags": []
   },
   "outputs": [
    {
     "data": {
      "text/html": [
       "<div>\n",
       "<style scoped>\n",
       "    .dataframe tbody tr th:only-of-type {\n",
       "        vertical-align: middle;\n",
       "    }\n",
       "\n",
       "    .dataframe tbody tr th {\n",
       "        vertical-align: top;\n",
       "    }\n",
       "\n",
       "    .dataframe thead th {\n",
       "        text-align: right;\n",
       "    }\n",
       "</style>\n",
       "<table border=\"1\" class=\"dataframe\">\n",
       "  <thead>\n",
       "    <tr style=\"text-align: right;\">\n",
       "      <th></th>\n",
       "      <th>TransactionID</th>\n",
       "      <th>isFraud</th>\n",
       "    </tr>\n",
       "  </thead>\n",
       "  <tbody>\n",
       "    <tr>\n",
       "      <th>0</th>\n",
       "      <td>3663549</td>\n",
       "      <td>0.007941</td>\n",
       "    </tr>\n",
       "    <tr>\n",
       "      <th>1</th>\n",
       "      <td>3663550</td>\n",
       "      <td>0.014025</td>\n",
       "    </tr>\n",
       "    <tr>\n",
       "      <th>2</th>\n",
       "      <td>3663551</td>\n",
       "      <td>0.025244</td>\n",
       "    </tr>\n",
       "    <tr>\n",
       "      <th>3</th>\n",
       "      <td>3663552</td>\n",
       "      <td>0.014718</td>\n",
       "    </tr>\n",
       "    <tr>\n",
       "      <th>4</th>\n",
       "      <td>3663553</td>\n",
       "      <td>0.010412</td>\n",
       "    </tr>\n",
       "  </tbody>\n",
       "</table>\n",
       "</div>"
      ],
      "text/plain": [
       "   TransactionID   isFraud\n",
       "0        3663549  0.007941\n",
       "1        3663550  0.014025\n",
       "2        3663551  0.025244\n",
       "3        3663552  0.014718\n",
       "4        3663553  0.010412"
      ]
     },
     "execution_count": 45,
     "metadata": {},
     "output_type": "execute_result"
    }
   ],
   "source": [
    "submission = pd.DataFrame({'TransactionID':test_transaction['TransactionID'],'isFraud':predictions4})\n",
    "submission[\"TransactionID\"]=submission[\"TransactionID\"].astype(int)\n",
    "submission.head()"
   ]
  },
  {
   "cell_type": "code",
   "execution_count": 46,
   "id": "99a2c547",
   "metadata": {
    "execution": {
     "iopub.execute_input": "2024-01-06T18:06:15.344953Z",
     "iopub.status.busy": "2024-01-06T18:06:15.344604Z",
     "iopub.status.idle": "2024-01-06T18:06:16.925945Z",
     "shell.execute_reply": "2024-01-06T18:06:16.924933Z"
    },
    "papermill": {
     "duration": 1.604112,
     "end_time": "2024-01-06T18:06:16.928030",
     "exception": false,
     "start_time": "2024-01-06T18:06:15.323918",
     "status": "completed"
    },
    "tags": []
   },
   "outputs": [
    {
     "name": "stdout",
     "output_type": "stream",
     "text": [
      "Saved file: CIS Fraud Detection under sampling xgb.csv\n"
     ]
    }
   ],
   "source": [
    "filename = 'CIS Fraud Detection under sampling xgb.csv'\n",
    "\n",
    "submission.to_csv(filename,index=False)\n",
    "\n",
    "print('Saved file: ' + filename)"
   ]
  },
  {
   "cell_type": "code",
   "execution_count": 47,
   "id": "cd446fa0",
   "metadata": {
    "execution": {
     "iopub.execute_input": "2024-01-06T18:06:16.969415Z",
     "iopub.status.busy": "2024-01-06T18:06:16.969052Z",
     "iopub.status.idle": "2024-01-06T18:06:16.973088Z",
     "shell.execute_reply": "2024-01-06T18:06:16.972211Z"
    },
    "papermill": {
     "duration": 0.026831,
     "end_time": "2024-01-06T18:06:16.974974",
     "exception": false,
     "start_time": "2024-01-06T18:06:16.948143",
     "status": "completed"
    },
    "tags": []
   },
   "outputs": [],
   "source": [
    "# feature_imp = pd.DataFrame({'Value': reg4.feature_importances_, 'Feature': X_train.columns}).sort_values(by=\"Value\")\n",
    "# feature_imp"
   ]
  },
  {
   "cell_type": "code",
   "execution_count": 48,
   "id": "3b224e8b",
   "metadata": {
    "execution": {
     "iopub.execute_input": "2024-01-06T18:06:17.015741Z",
     "iopub.status.busy": "2024-01-06T18:06:17.015440Z",
     "iopub.status.idle": "2024-01-06T18:06:17.019343Z",
     "shell.execute_reply": "2024-01-06T18:06:17.018535Z"
    },
    "papermill": {
     "duration": 0.026701,
     "end_time": "2024-01-06T18:06:17.021372",
     "exception": false,
     "start_time": "2024-01-06T18:06:16.994671",
     "status": "completed"
    },
    "tags": []
   },
   "outputs": [],
   "source": [
    "# Score: 0.906771\n",
    "# Public score: 0.936787"
   ]
  }
 ],
 "metadata": {
  "kaggle": {
   "accelerator": "gpu",
   "dataSources": [
    {
     "databundleVersionId": 568274,
     "sourceId": 14242,
     "sourceType": "competition"
    }
   ],
   "isGpuEnabled": true,
   "isInternetEnabled": true,
   "language": "python",
   "sourceType": "notebook"
  },
  "kernelspec": {
   "display_name": "Python 3",
   "language": "python",
   "name": "python3"
  },
  "language_info": {
   "codemirror_mode": {
    "name": "ipython",
    "version": 3
   },
   "file_extension": ".py",
   "mimetype": "text/x-python",
   "name": "python",
   "nbconvert_exporter": "python",
   "pygments_lexer": "ipython3",
   "version": "3.10.12"
  },
  "papermill": {
   "default_parameters": {},
   "duration": 540.086748,
   "end_time": "2024-01-06T18:06:18.463474",
   "environment_variables": {},
   "exception": null,
   "input_path": "__notebook__.ipynb",
   "output_path": "__notebook__.ipynb",
   "parameters": {},
   "start_time": "2024-01-06T17:57:18.376726",
   "version": "2.3.3"
  }
 },
 "nbformat": 4,
 "nbformat_minor": 5
}
