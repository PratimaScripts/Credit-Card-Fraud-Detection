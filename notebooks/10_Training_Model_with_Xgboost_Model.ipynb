{
 "cells": [
  {
   "cell_type": "markdown",
   "id": "cf2abfde",
   "metadata": {
    "papermill": {
     "duration": 0.003256,
     "end_time": "2024-01-14T05:24:36.492691",
     "exception": false,
     "start_time": "2024-01-14T05:24:36.489435",
     "status": "completed"
    },
    "tags": []
   },
   "source": [
    "# Training Model with XGBoost Model\n",
    "\n",
    "The purpose of this notebook is to preprocess/clean the training data and then train the XGBoost model. "
   ]
  },
  {
   "cell_type": "markdown",
   "id": "f9c53cd0",
   "metadata": {
    "papermill": {
     "duration": 0.002454,
     "end_time": "2024-01-14T05:24:36.497996",
     "exception": false,
     "start_time": "2024-01-14T05:24:36.495542",
     "status": "completed"
    },
    "tags": []
   },
   "source": [
    "## Data Preprocessing and Cleaning"
   ]
  },
  {
   "cell_type": "code",
   "execution_count": 1,
   "id": "7a57c276",
   "metadata": {
    "execution": {
     "iopub.execute_input": "2024-01-14T05:24:36.504681Z",
     "iopub.status.busy": "2024-01-14T05:24:36.504333Z",
     "iopub.status.idle": "2024-01-14T05:24:38.517914Z",
     "shell.execute_reply": "2024-01-14T05:24:38.517067Z"
    },
    "papermill": {
     "duration": 2.019782,
     "end_time": "2024-01-14T05:24:38.520376",
     "exception": false,
     "start_time": "2024-01-14T05:24:36.500594",
     "status": "completed"
    },
    "tags": []
   },
   "outputs": [
    {
     "name": "stderr",
     "output_type": "stream",
     "text": [
      "/opt/conda/lib/python3.10/site-packages/scipy/__init__.py:146: UserWarning: A NumPy version >=1.16.5 and <1.23.0 is required for this version of SciPy (detected version 1.24.3\n",
      "  warnings.warn(f\"A NumPy version >={np_minversion} and <{np_maxversion}\"\n"
     ]
    }
   ],
   "source": [
    "import pandas as pd\n",
    "from sklearn.model_selection import train_test_split, GridSearchCV\n",
    "from sklearn.preprocessing import StandardScaler\n",
    "from xgboost import XGBClassifier\n",
    "from sklearn.metrics import classification_report, roc_auc_score\n",
    "from sklearn.impute import SimpleImputer\n",
    "from imblearn.over_sampling import SMOTE\n",
    "import warnings\n",
    "\n",
    "warnings.filterwarnings(\"ignore\")"
   ]
  },
  {
   "cell_type": "code",
   "execution_count": 2,
   "id": "7465cbff",
   "metadata": {
    "execution": {
     "iopub.execute_input": "2024-01-14T05:24:38.527809Z",
     "iopub.status.busy": "2024-01-14T05:24:38.527423Z",
     "iopub.status.idle": "2024-01-14T05:26:25.917314Z",
     "shell.execute_reply": "2024-01-14T05:26:25.916180Z"
    },
    "papermill": {
     "duration": 107.396648,
     "end_time": "2024-01-14T05:26:25.920140",
     "exception": false,
     "start_time": "2024-01-14T05:24:38.523492",
     "status": "completed"
    },
    "tags": []
   },
   "outputs": [],
   "source": [
    "# Load the dataset\n",
    "train_df = pd.read_csv(\"../input/ieee-fraud-detection/train_transaction.csv\")\n",
    "test_df = pd.read_csv(\"../input/ieee-fraud-detection/test_transaction.csv\")\n",
    "\n",
    "# Identify categorical columns\n",
    "categorical_cols = train_df.select_dtypes(include=['object']).columns\n",
    "\n",
    "# One-hot encode categorical columns\n",
    "train_df = pd.get_dummies(train_df, columns=categorical_cols)\n",
    "test_df = pd.get_dummies(test_df, columns=categorical_cols)\n",
    "\n",
    "# Identify features and target variable\n",
    "X = train_df.drop(['isFraud', 'TransactionID'], axis=1)\n",
    "y = train_df['isFraud']\n",
    "\n",
    "# Split the data into training and testing sets\n",
    "X_train, X_test, y_train, y_test = train_test_split(X, y, test_size=0.2, random_state=42)\n",
    "\n",
    "# Identify missing values after the split\n",
    "missing_cols = X_train.columns[X_train.isnull().any()]\n",
    "\n",
    "# Impute missing values\n",
    "imputer = SimpleImputer(strategy='mean')  # You can choose a different strategy\n",
    "X_train[missing_cols] = imputer.fit_transform(X_train[missing_cols])\n",
    "X_test[missing_cols] = imputer.transform(X_test[missing_cols])\n",
    "\n",
    "# Data preprocessing (scaling numerical features)\n",
    "scaler = StandardScaler()\n",
    "X_train_scaled = scaler.fit_transform(X_train)\n",
    "X_test_scaled = scaler.transform(X_test)\n",
    "\n",
    "# Apply SMOTE to handle class imbalance\n",
    "smote = SMOTE(random_state=42)\n",
    "X_train_resampled, y_train_resampled = smote.fit_resample(X_train_scaled, y_train)"
   ]
  },
  {
   "cell_type": "markdown",
   "id": "cb5d9329",
   "metadata": {
    "papermill": {
     "duration": 0.002642,
     "end_time": "2024-01-14T05:26:25.926191",
     "exception": false,
     "start_time": "2024-01-14T05:26:25.923549",
     "status": "completed"
    },
    "tags": []
   },
   "source": [
    "## Training Model"
   ]
  },
  {
   "cell_type": "code",
   "execution_count": 3,
   "id": "0214c4b6",
   "metadata": {
    "execution": {
     "iopub.execute_input": "2024-01-14T05:26:25.932946Z",
     "iopub.status.busy": "2024-01-14T05:26:25.932677Z",
     "iopub.status.idle": "2024-01-14T05:31:45.721032Z",
     "shell.execute_reply": "2024-01-14T05:31:45.720062Z"
    },
    "papermill": {
     "duration": 319.796717,
     "end_time": "2024-01-14T05:31:45.725595",
     "exception": false,
     "start_time": "2024-01-14T05:26:25.928878",
     "status": "completed"
    },
    "tags": []
   },
   "outputs": [
    {
     "name": "stdout",
     "output_type": "stream",
     "text": [
      "Classification Report:\n",
      "               precision    recall  f1-score   support\n",
      "\n",
      "           0       0.98      1.00      0.99    113866\n",
      "           1       0.89      0.58      0.70      4242\n",
      "\n",
      "    accuracy                           0.98    118108\n",
      "   macro avg       0.94      0.79      0.85    118108\n",
      "weighted avg       0.98      0.98      0.98    118108\n",
      "\n",
      "AUC-ROC Score: 0.7889323602812517\n"
     ]
    }
   ],
   "source": [
    "# Define desired hyperparameters\n",
    "xgb_params = {\n",
    "    'colsample_bytree': 0.9,\n",
    "    'learning_rate': 0.1,\n",
    "    'max_depth': 20,\n",
    "    'scale_pos_weight': 1,  # Set to 1 since oversampling has already balanced the classes\n",
    "    'subsample': 0.9\n",
    "}\n",
    "\n",
    "# Create an instance of the XGBClassifier with specified parameters\n",
    "model = XGBClassifier(**xgb_params, random_state=42)\n",
    "\n",
    "# Train the model on the resampled data\n",
    "model.fit(X_train_resampled, y_train_resampled)\n",
    "\n",
    "# Make predictions on the test set\n",
    "y_pred = model.predict(X_test_scaled)\n",
    "\n",
    "# Evaluate the model\n",
    "print(\"Classification Report:\\n\", classification_report(y_test, y_pred))\n",
    "print(\"AUC-ROC Score:\", roc_auc_score(y_test, y_pred))"
   ]
  },
  {
   "cell_type": "markdown",
   "id": "600a6517",
   "metadata": {
    "papermill": {
     "duration": 0.002667,
     "end_time": "2024-01-14T05:31:45.731193",
     "exception": false,
     "start_time": "2024-01-14T05:31:45.728526",
     "status": "completed"
    },
    "tags": []
   },
   "source": [
    "## Exporting Model"
   ]
  },
  {
   "cell_type": "code",
   "execution_count": 4,
   "id": "40124d1f",
   "metadata": {
    "execution": {
     "iopub.execute_input": "2024-01-14T05:31:45.737886Z",
     "iopub.status.busy": "2024-01-14T05:31:45.737590Z",
     "iopub.status.idle": "2024-01-14T05:31:45.801971Z",
     "shell.execute_reply": "2024-01-14T05:31:45.801066Z"
    },
    "papermill": {
     "duration": 0.070028,
     "end_time": "2024-01-14T05:31:45.803967",
     "exception": false,
     "start_time": "2024-01-14T05:31:45.733939",
     "status": "completed"
    },
    "tags": []
   },
   "outputs": [
    {
     "data": {
      "text/plain": [
       "['trained_model.joblib']"
      ]
     },
     "execution_count": 4,
     "metadata": {},
     "output_type": "execute_result"
    }
   ],
   "source": [
    "import joblib\n",
    "\n",
    "# Assuming 'model' is your trained model\n",
    "joblib.dump(model, 'trained_model.joblib')"
   ]
  }
 ],
 "metadata": {
  "kaggle": {
   "accelerator": "gpu",
   "dataSources": [
    {
     "databundleVersionId": 568274,
     "sourceId": 14242,
     "sourceType": "competition"
    }
   ],
   "isGpuEnabled": true,
   "isInternetEnabled": true,
   "language": "python",
   "sourceType": "notebook"
  },
  "kernelspec": {
   "display_name": "Python 3",
   "language": "python",
   "name": "python3"
  },
  "language_info": {
   "codemirror_mode": {
    "name": "ipython",
    "version": 3
   },
   "file_extension": ".py",
   "mimetype": "text/x-python",
   "name": "python",
   "nbconvert_exporter": "python",
   "pygments_lexer": "ipython3",
   "version": "3.10.12"
  },
  "papermill": {
   "default_parameters": {},
   "duration": 433.09715,
   "end_time": "2024-01-14T05:31:46.326810",
   "environment_variables": {},
   "exception": null,
   "input_path": "__notebook__.ipynb",
   "output_path": "__notebook__.ipynb",
   "parameters": {},
   "start_time": "2024-01-14T05:24:33.229660",
   "version": "2.4.0"
  }
 },
 "nbformat": 4,
 "nbformat_minor": 5
}
