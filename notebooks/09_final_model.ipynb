{
 "cells": [
  {
   "cell_type": "code",
   "execution_count": 68,
   "metadata": {},
   "outputs": [],
   "source": [
    "import json\n",
    "import math\n",
    "import os\n",
    "import sys\n",
    "import warnings\n",
    "\n",
    "import matplotlib.pyplot as plt\n",
    "import numpy as np\n",
    "import pandas as pd\n",
    "import pickle\n",
    "import seaborn as sns\n",
    "import statistics\n",
    "import statsmodels.api as sm\n",
    "\n",
    "warnings.filterwarnings('ignore')"
   ]
  },
  {
   "cell_type": "code",
   "execution_count": 69,
   "metadata": {},
   "outputs": [],
   "source": [
    "from sklearn.preprocessing import StandardScaler\n",
    "from sklearn.impute import SimpleImputer as Imputer\n",
    "from sklearn.pipeline import Pipeline\n",
    "from sklearn.model_selection import train_test_split, GridSearchCV\n",
    "from sklearn.metrics import classification_report, roc_curve, precision_recall_curve, confusion_matrix, plot_confusion_matrix\n",
    "from sklearn.metrics import accuracy_score, log_loss, f1_score\n",
    "from sklearn.metrics import mean_absolute_error, mean_squared_error, r2_score"
   ]
  },
  {
   "cell_type": "code",
   "execution_count": 70,
   "metadata": {},
   "outputs": [],
   "source": [
    "sys.path.append(os.path.join('..', 'src'))"
   ]
  },
  {
   "cell_type": "code",
   "execution_count": 71,
   "metadata": {},
   "outputs": [],
   "source": [
    "import importlib\n",
    "import s05_2_feature_engineering\n",
    "# importlib.reload(model)\n",
    "importlib.reload(s05_2_feature_engineering)\n",
    "from s05_2_feature_engineering import build_polynomials, transform_label, treat_skewness"
   ]
  },
  {
   "cell_type": "markdown",
   "metadata": {},
   "source": [
    "# Data capture"
   ]
  },
  {
   "cell_type": "code",
   "execution_count": 72,
   "metadata": {},
   "outputs": [],
   "source": [
    "inputs = os.path.join('..', 'data', '03_processed')\n",
    "outputs = os.path.join('..', 'data', '03_processed')\n",
    "models_reports = os.path.join('..', 'data', '04_models')\n",
    "model_outputs = os.path.join('..', 'data', '05_model_output')\n",
    "reports = os.path.join('..', 'data', '06_reporting')\n",
    "\n",
    "X_train           = pd.read_csv(os.path.join(inputs, 'X_train.csv'), index_col='id')\n",
    "X_test            = pd.read_csv(os.path.join(inputs, 'X_test.csv'), index_col='id')\n",
    "X_train_onehot    = pd.read_csv(os.path.join(inputs, 'X_train_onehot.csv'), index_col='id')\n",
    "X_test_onehot     = pd.read_csv(os.path.join(inputs, 'X_test_onehot.csv'), index_col='id')\n",
    "y_train           = pd.read_csv(os.path.join(inputs, 'y_train.csv'), index_col='id')\n",
    "y_test            = pd.read_csv(os.path.join(inputs, 'y_test.csv'), index_col='id')"
   ]
  },
  {
   "cell_type": "markdown",
   "metadata": {},
   "source": [
    "# Machine Learning"
   ]
  },
  {
   "cell_type": "code",
   "execution_count": 73,
   "metadata": {},
   "outputs": [],
   "source": [
    "# from sklearn.ensemble import RandomForestRegressor\n",
    "from sklearn.ensemble import RandomForestClassifier\n",
    "import xgboost as xgb\n",
    "# from xgboost.sklearn import XGBRegressor\n",
    "from xgboost.sklearn import XGBClassifier"
   ]
  },
  {
   "cell_type": "markdown",
   "metadata": {},
   "source": [
    "# Calculating final score with a test set"
   ]
  },
  {
   "cell_type": "code",
   "execution_count": 74,
   "metadata": {},
   "outputs": [],
   "source": [
    "def get_transformations(X_set, y_set, cols,\n",
    "               build_polynomals_method=False, \n",
    "                label_transformation_type=None, do_treat_skewness=False,\n",
    "               imputation=None, scaler=None,\n",
    "               ):\n",
    "    X_set = X_set.copy()\n",
    "#     if encoding == 'one-hot':\n",
    "#         set_name = set_name+'_oh'\n",
    "#     elif encoding == 'ordinal':\n",
    "#         set_name = set_name\n",
    "#     if treat_collinearity:\n",
    "#         set_name = set_name+'_oh_nocol'\n",
    "#     X_set = data_dict[set_name]\n",
    "    print(cols)\n",
    "    print(X_set.columns.to_list())\n",
    "    X_set = X_set[cols]\n",
    "#     X_set = X_set[['cycle']]\n",
    "    \n",
    "#     if build_polynomals_method: \n",
    "#         X_train_set = build_polynomials(X_set, ProjectParameters().numerical_cols, method = build_polynomals_method)\n",
    "#     if label_transformation_type:\n",
    "#         y_set = transform_label(y_set, label_transformation_type)\n",
    "#     if do_treat_skewness:\n",
    "#         X_set = treat_skewness(X_set, set_name)\n",
    "        \n",
    "    if scaler:\n",
    "        X_set = scale.fit_transform(X_set)\n",
    "        X_set = pd.DataFrame(X_set, columns = X_set.columns)\n",
    "    if imputation:\n",
    "        X_set.fillna(imputation)\n",
    "    \n",
    "    return X_set, y_set"
   ]
  },
  {
   "cell_type": "code",
   "execution_count": 75,
   "metadata": {},
   "outputs": [],
   "source": [
    "columns = X_train.columns.to_list()"
   ]
  },
  {
   "cell_type": "code",
   "execution_count": 76,
   "metadata": {},
   "outputs": [
    {
     "name": "stdout",
     "output_type": "stream",
     "text": [
      "['transactiondt', 'transactionamt', 'productcd', 'card1', 'card2', 'card3', 'card4', 'card5', 'card6', 'addr1', 'addr2', 'dist1', 'p_emaildomain', 'c1', 'c2', 'c3', 'c4', 'c5', 'c6', 'c7', 'c8', 'c9', 'c10', 'c11', 'c12', 'c13', 'c14', 'd1', 'd2', 'd3', 'd4', 'd5', 'd10', 'd11', 'd15', 'm4', 'if_anomaly']\n",
      "['transactiondt', 'transactionamt', 'productcd', 'card1', 'card2', 'card3', 'card4', 'card5', 'card6', 'addr1', 'addr2', 'dist1', 'p_emaildomain', 'c1', 'c2', 'c3', 'c4', 'c5', 'c6', 'c7', 'c8', 'c9', 'c10', 'c11', 'c12', 'c13', 'c14', 'd1', 'd2', 'd3', 'd4', 'd5', 'd10', 'd11', 'd15', 'm4', 'if_anomaly']\n"
     ]
    }
   ],
   "source": [
    "label_transformation_type = None\n",
    "\n",
    "# X_train, y_train = get_transformations(\n",
    "#         X_train, y_train, columns,\n",
    "#         build_polynomals_method=None, do_treat_skewness=False,\n",
    "#         imputation=None, scaler=None)\n",
    "\n",
    "X_test, y_test = get_transformations(\n",
    "        X_test, y_test, columns,\n",
    "        build_polynomals_method=None, do_treat_skewness=False,\n",
    "        imputation=None, scaler=None)"
   ]
  },
  {
   "cell_type": "markdown",
   "metadata": {},
   "source": [
    "# load results\n",
    "Capture best parameters of chosen model which were obtained during cross validation"
   ]
  },
  {
   "cell_type": "code",
   "execution_count": 77,
   "metadata": {},
   "outputs": [],
   "source": [
    "def load_json_results(model_type):\n",
    "    filepath = os.path.join(model_outputs, model_type+'.json')\n",
    "    with open(filepath, 'r') as file:\n",
    "        json_results = json.load(file)\n",
    "    model = json_results[model_type]\n",
    "#     model = json_results\n",
    "    return model"
   ]
  },
  {
   "cell_type": "raw",
   "metadata": {},
   "source": [
    "ml_model = load_json_results('tree_xgb_numcyc_smote')\n",
    "# ml_model['columns']"
   ]
  },
  {
   "cell_type": "markdown",
   "metadata": {},
   "source": [
    "# build model to apply on test set"
   ]
  },
  {
   "cell_type": "code",
   "execution_count": 78,
   "metadata": {},
   "outputs": [],
   "source": [
    "def build_model(ml_model_type, X, y):\n",
    "    ml_model = load_json_results(ml_model_type)\n",
    "\n",
    "    if ml_model_type.startswith('tree_rf'):\n",
    "        params = {}\n",
    "        cols = ml_model['columns']\n",
    "        for k,v in ml_model['best_params'].items():\n",
    "            k = k[7:]\n",
    "            params[k] = v\n",
    "\n",
    "        model = RandomForestClassifier()\n",
    "\n",
    "    elif ml_model_type.startswith('tree_xgb'):\n",
    "        params = ml_model['best_params']\n",
    "        cols = ml_model['columns']\n",
    "        \n",
    "        model = XGBClassifier()\n",
    "        \n",
    "        X = X[cols]\n",
    "\n",
    "    for k,v in params.items(): \n",
    "        setattr(model, k, v)\n",
    "\n",
    "    model.fit(X, y)\n",
    "    \n",
    "    return model, cols"
   ]
  },
  {
   "cell_type": "code",
   "execution_count": 79,
   "metadata": {},
   "outputs": [],
   "source": [
    "# ['tree_xgb', 'tree_xgb_select', 'tree_xgb_select_weight']\n",
    "ml_model = 'tree_xgb_select'\n",
    "\n",
    "model, columns = build_model(ml_model, X_train, y_train)\n",
    "X_test = X_test[columns]\n",
    "y_pred = model.predict(X_test)\n",
    "y_pred_prob = model.predict_proba(X_test)[:, 1]"
   ]
  },
  {
   "cell_type": "markdown",
   "metadata": {},
   "source": [
    "# calculate test score \n",
    "main metric: mean squared error for regression, f1_score for binary target"
   ]
  },
  {
   "cell_type": "code",
   "execution_count": 80,
   "metadata": {},
   "outputs": [
    {
     "name": "stdout",
     "output_type": "stream",
     "text": [
      "\n",
      "CLASSIFICATION_REPORT:\n",
      "               precision    recall  f1-score   support\n",
      "\n",
      "         0.0       0.97      1.00      0.99      2899\n",
      "         1.0       0.71      0.25      0.37       101\n",
      "\n",
      "    accuracy                           0.97      3000\n",
      "   macro avg       0.84      0.62      0.68      3000\n",
      "weighted avg       0.97      0.97      0.96      3000\n",
      "\n",
      "accuracy_score 0.971\n",
      "log_loss 0.107\n",
      "f1_score 0.368\n"
     ]
    }
   ],
   "source": [
    "# print('mean squared error:', round(mean_squared_error(y_test, y_pred), 3))\n",
    "# print('r2_score', round(r2_score(y_test, y_pred),3))\n",
    "# print('mean_absolute_error', round(mean_absolute_error(y_test, y_pred),3))\n",
    "print(\"\\nCLASSIFICATION_REPORT:\\n\", classification_report(y_test, y_pred))\n",
    "print('accuracy_score', round(accuracy_score(y_test, y_pred), 3))\n",
    "print('log_loss', round(log_loss(y_test, y_pred_prob), 3))\n",
    "print('f1_score', round(f1_score(y_test, y_pred, average='binary'), 3))"
   ]
  },
  {
   "cell_type": "code",
   "execution_count": 81,
   "metadata": {},
   "outputs": [],
   "source": [
    "def plot_confusion_matrix(arr):\n",
    "    arr = np.round(arr, 2)\n",
    "\n",
    "    fig, ax = plt.subplots()\n",
    "    im = ax.imshow(arr, cmap='Blues')\n",
    "\n",
    "    # Loop over data dimensions and create text annotations.\n",
    "    for i in range(len(arr[0])):\n",
    "        for j in range(len(arr[1])):\n",
    "            text = ax.text(j, i, arr[i, j],\n",
    "                           ha=\"center\", va=\"center\", color=\"black\")\n",
    "\n",
    "    ax.set_title(\"Confusion Matrix\")\n",
    "    ax.set_xticks([0,1])\n",
    "    ax.set_yticks([0,1])\n",
    "    ax.set_xlabel('predicted label')\n",
    "    ax.set_ylabel('true label')\n",
    "    fig.tight_layout()\n",
    "    plt.show()"
   ]
  },
  {
   "cell_type": "code",
   "execution_count": 82,
   "metadata": {
    "scrolled": true
   },
   "outputs": [
    {
     "data": {
      "image/png": "[encoded data removed]",
      "text/plain": [
       "<Figure size 432x288 with 1 Axes>"
      ]
     },
     "metadata": {
      "needs_background": "light"
     },
     "output_type": "display_data"
    }
   ],
   "source": [
    "cm = confusion_matrix(y_test, y_pred, normalize='all')\n",
    "plot_confusion_matrix(cm)"
   ]
  },
  {
   "cell_type": "markdown",
   "metadata": {},
   "source": [
    "# sample prediction\n",
    "predict first 10 entries"
   ]
  },
  {
   "cell_type": "markdown",
   "metadata": {},
   "source": [
    "# rebuild model for entire dataset"
   ]
  },
  {
   "cell_type": "code",
   "execution_count": 83,
   "metadata": {},
   "outputs": [],
   "source": [
    "X = X_train.copy().append(X_test)\n",
    "y = y_train.copy().append(y_test)\n",
    "# y.extend(y_test)\n",
    "\n",
    "# ml_model = 'tree_randomforest'\n",
    "ml_model = 'tree_xgb'\n",
    "final_model = build_model(ml_model, X, y)"
   ]
  },
  {
   "cell_type": "markdown",
   "metadata": {},
   "source": [
    "# save results"
   ]
  },
  {
   "cell_type": "code",
   "execution_count": 84,
   "metadata": {},
   "outputs": [],
   "source": [
    "pd.DataFrame(y_pred_prob, columns=['y']).to_csv(os.path.join(outputs, 'y_pred.csv'), index=False)"
   ]
  },
  {
   "cell_type": "code",
   "execution_count": 85,
   "metadata": {},
   "outputs": [],
   "source": [
    "file = os.path.join(model_outputs, 'trained_model.pkl')\n",
    "with open(file, 'wb') as f:\n",
    "    pickle.dump(final_model, f)  "
   ]
  },
  {
   "cell_type": "markdown",
   "metadata": {},
   "source": [
    "# compare estimated value with true value for sample"
   ]
  },
  {
   "cell_type": "code",
   "execution_count": 86,
   "metadata": {},
   "outputs": [
    {
     "data": {
      "text/html": [
       "<div>\n",
       "<style scoped>\n",
       "    .dataframe tbody tr th:only-of-type {\n",
       "        vertical-align: middle;\n",
       "    }\n",
       "\n",
       "    .dataframe tbody tr th {\n",
       "        vertical-align: top;\n",
       "    }\n",
       "\n",
       "    .dataframe thead th {\n",
       "        text-align: right;\n",
       "    }\n",
       "</style>\n",
       "<table border=\"1\" class=\"dataframe\">\n",
       "  <thead>\n",
       "    <tr style=\"text-align: right;\">\n",
       "      <th></th>\n",
       "      <th>estimated</th>\n",
       "      <th>true_value</th>\n",
       "    </tr>\n",
       "    <tr>\n",
       "      <th>id</th>\n",
       "      <th></th>\n",
       "      <th></th>\n",
       "    </tr>\n",
       "  </thead>\n",
       "  <tbody>\n",
       "    <tr>\n",
       "      <th>3390348</th>\n",
       "      <td>0.972517</td>\n",
       "      <td>1.0</td>\n",
       "    </tr>\n",
       "    <tr>\n",
       "      <th>3378721</th>\n",
       "      <td>0.969419</td>\n",
       "      <td>1.0</td>\n",
       "    </tr>\n",
       "    <tr>\n",
       "      <th>3300259</th>\n",
       "      <td>0.965886</td>\n",
       "      <td>0.0</td>\n",
       "    </tr>\n",
       "    <tr>\n",
       "      <th>3494143</th>\n",
       "      <td>0.946366</td>\n",
       "      <td>1.0</td>\n",
       "    </tr>\n",
       "    <tr>\n",
       "      <th>3270767</th>\n",
       "      <td>0.928240</td>\n",
       "      <td>1.0</td>\n",
       "    </tr>\n",
       "    <tr>\n",
       "      <th>...</th>\n",
       "      <td>...</td>\n",
       "      <td>...</td>\n",
       "    </tr>\n",
       "    <tr>\n",
       "      <th>3057490</th>\n",
       "      <td>0.006263</td>\n",
       "      <td>0.0</td>\n",
       "    </tr>\n",
       "    <tr>\n",
       "      <th>3055966</th>\n",
       "      <td>0.006105</td>\n",
       "      <td>0.0</td>\n",
       "    </tr>\n",
       "    <tr>\n",
       "      <th>3375392</th>\n",
       "      <td>0.005985</td>\n",
       "      <td>0.0</td>\n",
       "    </tr>\n",
       "    <tr>\n",
       "      <th>2993601</th>\n",
       "      <td>0.005985</td>\n",
       "      <td>0.0</td>\n",
       "    </tr>\n",
       "    <tr>\n",
       "      <th>3341846</th>\n",
       "      <td>0.005985</td>\n",
       "      <td>0.0</td>\n",
       "    </tr>\n",
       "  </tbody>\n",
       "</table>\n",
       "<p>3000 rows × 2 columns</p>\n",
       "</div>"
      ],
      "text/plain": [
       "         estimated  true_value\n",
       "id                            \n",
       "3390348   0.972517         1.0\n",
       "3378721   0.969419         1.0\n",
       "3300259   0.965886         0.0\n",
       "3494143   0.946366         1.0\n",
       "3270767   0.928240         1.0\n",
       "...            ...         ...\n",
       "3057490   0.006263         0.0\n",
       "3055966   0.006105         0.0\n",
       "3375392   0.005985         0.0\n",
       "2993601   0.005985         0.0\n",
       "3341846   0.005985         0.0\n",
       "\n",
       "[3000 rows x 2 columns]"
      ]
     },
     "execution_count": 86,
     "metadata": {},
     "output_type": "execute_result"
    }
   ],
   "source": [
    "index_name = X_train.index.name\n",
    "y_pred = y_pred_prob\n",
    "ordered_users = pd.DataFrame(list(zip(X_test.index, y_pred, y_test['y'])), columns = [index_name, 'estimated', 'true_value']).set_index(index_name)\n",
    "ordered_users.sort_values(by='estimated', ascending=False, inplace=True)\n",
    "ordered_users"
   ]
  },
  {
   "cell_type": "code",
   "execution_count": null,
   "metadata": {},
   "outputs": [],
   "source": []
  }
 ],
 "metadata": {
  "kernelspec": {
   "display_name": "Python 3",
   "language": "python",
   "name": "python3"
  },
  "language_info": {
   "codemirror_mode": {
    "name": "ipython",
    "version": 3
   },
   "file_extension": ".py",
   "mimetype": "text/x-python",
   "name": "python",
   "nbconvert_exporter": "python",
   "pygments_lexer": "ipython3",
   "version": "3.7.5"
  }
 },
 "nbformat": 4,
 "nbformat_minor": 4
}
