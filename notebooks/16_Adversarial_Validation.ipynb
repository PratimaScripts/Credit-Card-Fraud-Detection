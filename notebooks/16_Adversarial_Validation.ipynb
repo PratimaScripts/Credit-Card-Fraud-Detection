{
 "cells": [
  {
   "cell_type": "code",
   "execution_count": 1,
   "id": "b90d229e",
   "metadata": {
    "execution": {
     "iopub.execute_input": "2024-01-13T11:32:58.568100Z",
     "iopub.status.busy": "2024-01-13T11:32:58.567755Z",
     "iopub.status.idle": "2024-01-13T11:33:00.627880Z",
     "shell.execute_reply": "2024-01-13T11:33:00.627117Z"
    },
    "id": "0d9741cd",
    "papermill": {
     "duration": 2.067825,
     "end_time": "2024-01-13T11:33:00.630229",
     "exception": false,
     "start_time": "2024-01-13T11:32:58.562404",
     "status": "completed"
    },
    "tags": []
   },
   "outputs": [
    {
     "name": "stderr",
     "output_type": "stream",
     "text": [
      "/opt/conda/lib/python3.10/site-packages/scipy/__init__.py:146: UserWarning: A NumPy version >=1.16.5 and <1.23.0 is required for this version of SciPy (detected version 1.24.3\n",
      "  warnings.warn(f\"A NumPy version >={np_minversion} and <{np_maxversion}\"\n"
     ]
    }
   ],
   "source": [
    "import regex as re\n",
    "import gc\n",
    "import numpy as np\n",
    "import pandas as pd\n",
    "import pickle\n",
    "import seaborn as sns\n",
    "import matplotlib\n",
    "%matplotlib inline\n",
    "import matplotlib.pyplot as plt\n",
    "import xgboost as xgb\n",
    "from xgboost import XGBClassifier\n",
    "from sklearn.model_selection import train_test_split\n",
    "from sklearn.metrics import roc_auc_score\n",
    "from sklearn.preprocessing import LabelEncoder\n",
    "import warnings\n",
    "warnings.filterwarnings(\"ignore\")"
   ]
  },
  {
   "cell_type": "code",
   "execution_count": 2,
   "id": "1d519d4b",
   "metadata": {
    "execution": {
     "iopub.execute_input": "2024-01-13T11:33:00.639560Z",
     "iopub.status.busy": "2024-01-13T11:33:00.639171Z",
     "iopub.status.idle": "2024-01-13T11:33:17.495172Z",
     "shell.execute_reply": "2024-01-13T11:33:17.494322Z"
    },
    "id": "JCYsutppzb2T",
    "papermill": {
     "duration": 16.8631,
     "end_time": "2024-01-13T11:33:17.497579",
     "exception": false,
     "start_time": "2024-01-13T11:33:00.634479",
     "status": "completed"
    },
    "tags": []
   },
   "outputs": [],
   "source": [
    "# Loading the clean train and test dataset\n",
    "\n",
    "train_data = pd.read_pickle('../input/ieee-cis-fraud-detection-advanced-fe/advanced_fe_train.pkl')\n",
    "test_data = pd.read_pickle('../input/ieee-cis-fraud-detection-advanced-fe/advanced_fe_test.pkl')"
   ]
  },
  {
   "cell_type": "code",
   "execution_count": 3,
   "id": "ff67fce6",
   "metadata": {
    "execution": {
     "iopub.execute_input": "2024-01-13T11:33:17.506935Z",
     "iopub.status.busy": "2024-01-13T11:33:17.506623Z",
     "iopub.status.idle": "2024-01-13T11:33:17.511911Z",
     "shell.execute_reply": "2024-01-13T11:33:17.511010Z"
    },
    "executionInfo": {
     "elapsed": 27,
     "status": "ok",
     "timestamp": 1623668888802,
     "user": {
      "displayName": "Priyank Mishra",
      "photoUrl": "",
      "userId": "18008032652400229851"
     },
     "user_tz": -330
    },
    "id": "MweOS8sRzhow",
    "outputId": "cdcd4e34-23a5-48b4-dac1-dac23055b7dc",
    "papermill": {
     "duration": 0.012212,
     "end_time": "2024-01-13T11:33:17.514080",
     "exception": false,
     "start_time": "2024-01-13T11:33:17.501868",
     "status": "completed"
    },
    "tags": []
   },
   "outputs": [
    {
     "name": "stdout",
     "output_type": "stream",
     "text": [
      "***********************************\n",
      "\n",
      " Train Data Shape : (590538, 309) \n",
      "\n",
      "\n",
      " Test Data Shape : (506691, 308) \n",
      "\n",
      "***********************************\n"
     ]
    }
   ],
   "source": [
    "print(\"*\"*35)\n",
    "print(\"\\n Train Data Shape : {} \\n\".format(train_data.shape))\n",
    "print(\"\\n Test Data Shape : {} \\n\".format(test_data.shape))\n",
    "print(\"*\"*35)"
   ]
  },
  {
   "cell_type": "markdown",
   "id": "d7297bf8",
   "metadata": {
    "id": "6fDAnG2JInxp",
    "papermill": {
     "duration": 0.003757,
     "end_time": "2024-01-13T11:33:17.521928",
     "exception": false,
     "start_time": "2024-01-13T11:33:17.518171",
     "status": "completed"
    },
    "tags": []
   },
   "source": [
    "## Utility Functions\n",
    "<br>"
   ]
  },
  {
   "cell_type": "code",
   "execution_count": 4,
   "id": "4f763b8f",
   "metadata": {
    "execution": {
     "iopub.execute_input": "2024-01-13T11:33:17.531364Z",
     "iopub.status.busy": "2024-01-13T11:33:17.530489Z",
     "iopub.status.idle": "2024-01-13T11:33:17.540282Z",
     "shell.execute_reply": "2024-01-13T11:33:17.539528Z"
    },
    "id": "1kot2rZmws2c",
    "papermill": {
     "duration": 0.016479,
     "end_time": "2024-01-13T11:33:17.542177",
     "exception": false,
     "start_time": "2024-01-13T11:33:17.525698",
     "status": "completed"
    },
    "tags": []
   },
   "outputs": [],
   "source": [
    "def cat_num_features(df):\n",
    "    \n",
    "    '''\n",
    "        Utility Function to get the names of Categorical Features and \n",
    "        Numerical Features of the given Dataset.\n",
    "    '''\n",
    "    \n",
    "    catf = []\n",
    "    numf = []\n",
    "    \n",
    "    # Given Categorical Features \n",
    "    catf = ['ProductCD', 'card1', 'card2', 'card3', 'card4', 'card5', \n",
    "            'card6', 'addr1', 'addr2', 'P_emaildomain', 'R_emaildomain', 'M1', 'M2', \n",
    "            'M3', 'M4', 'M5', 'M6', 'M7', 'M8', 'M9', 'DeviceType', 'DeviceInfo',\n",
    "            'TransactionWD', 'card1_div_1000', 'card2_div_10', 'P_parent_domain', \n",
    "            'P_domain_name', 'P_top_level_domain', 'R_parent_domain', 'R_domain_name', \n",
    "            'R_top_level_domain', 'device_name', 'device_version', 'os_name', 'os_version', \n",
    "            'screen_width', 'screen_height', 'card_intr1', 'card_intr2', 'card1_addr1', \n",
    "            'card1_addr2', 'card2_addr1', 'card2_addr2', 'card3_addr1', 'card3_addr2', \n",
    "            'card5_addr1', 'card5_addr2', 'card6_addr1', 'card6_addr2', 'ProductCD_addr1', \n",
    "            'ProductCD_addr2', 'card1_ProductCD', 'card2_ProductCD', 'card5_ProductCD', \n",
    "            'card6_ProductCD', 'addr1_P_emaildomain', 'card1_P_emaildoman', 'card1_addr1_P_emaildomain',\n",
    "            ]\n",
    "    catf+=['id_'+str(i) for i in range(12,39)]\n",
    "\n",
    "\n",
    "    # Updating the Categorical Feature Names List based on the columns present in the dataframe\n",
    "    catf = [feature for feature in catf if feature in df.columns.values]\n",
    "    numf = [feature for feature in df.columns if feature not in catf and not feature == 'isFraud']\n",
    "    \n",
    "    return (catf, numf)  "
   ]
  },
  {
   "cell_type": "code",
   "execution_count": 5,
   "id": "a32f825a",
   "metadata": {
    "execution": {
     "iopub.execute_input": "2024-01-13T11:33:17.551199Z",
     "iopub.status.busy": "2024-01-13T11:33:17.550903Z",
     "iopub.status.idle": "2024-01-13T11:33:17.560519Z",
     "shell.execute_reply": "2024-01-13T11:33:17.559719Z"
    },
    "id": "_jgsqrdeQCY3",
    "papermill": {
     "duration": 0.016413,
     "end_time": "2024-01-13T11:33:17.562487",
     "exception": false,
     "start_time": "2024-01-13T11:33:17.546074",
     "status": "completed"
    },
    "tags": []
   },
   "outputs": [],
   "source": [
    "def covariate_shift(train_df, test_df, feature, catf):\n",
    "\n",
    "    train = pd.DataFrame(data={feature: train_df[feature], 'isTest': 0})\n",
    "    test = pd.DataFrame(data={feature: test_df[feature], 'isTest': 1})\n",
    "\n",
    "    df = pd.concat([train, test], ignore_index=True)\n",
    "    del train, test\n",
    "\n",
    "    if str(df[feature].dtype) in catf:\n",
    "        df[feature] = LabelEncoder().fit_transform(df[feature].astype(str))\n",
    "    \n",
    "    X_train, X_test, y_train, y_test = train_test_split(df[feature], df['isTest'], test_size=0.33,\n",
    "                                                        random_state=3, stratify=df['isTest'])\n",
    "    clf = XGBClassifier(\n",
    "      objective='binary:logistic',\n",
    "      eval_metric='auc',\n",
    "      n_estimators=500,\n",
    "      tree_method='gpu_hist',\n",
    "      random_state=3,\n",
    "    )\n",
    "\n",
    "    clf.fit(X_train.values.reshape(-1,1), y_train.values, verbose=1)\n",
    "    \n",
    "    roc_auc =  roc_auc_score(y_test.values, clf.predict_proba(X_test.values.reshape(-1,1))[:, 1])\n",
    "\n",
    "    del df, X_train, y_train, X_test, y_test\n",
    "        \n",
    "    return roc_auc"
   ]
  },
  {
   "cell_type": "code",
   "execution_count": 6,
   "id": "2e8b925e",
   "metadata": {
    "execution": {
     "iopub.execute_input": "2024-01-13T11:33:17.571965Z",
     "iopub.status.busy": "2024-01-13T11:33:17.571724Z",
     "iopub.status.idle": "2024-01-13T11:33:17.577831Z",
     "shell.execute_reply": "2024-01-13T11:33:17.576785Z"
    },
    "id": "crXipPjsQDvC",
    "papermill": {
     "duration": 0.013047,
     "end_time": "2024-01-13T11:33:17.579815",
     "exception": false,
     "start_time": "2024-01-13T11:33:17.566768",
     "status": "completed"
    },
    "tags": []
   },
   "outputs": [],
   "source": [
    "# https://www.kaggle.com/c/ieee-fraud-detection/discussion/111696\n",
    "\n",
    "def adversarial_validation(train_df, test_df, threshold, catf):\n",
    "    list_auc_value = []\n",
    "\n",
    "    cols = list(train_df.columns)\n",
    "    cols.remove('isFraud')\n",
    "\n",
    "    for f in cols:\n",
    "\n",
    "        auc = covariate_shift(test_df , train_df, f, catf)\n",
    "        list_auc_value.append(auc)\n",
    "        if auc > threshold:\n",
    "            print('feature:', f, 'covariate shift:', auc)\n",
    "\n",
    "    cov = pd.Series(list_auc_value, index = cols).sort_values() \n",
    "    discarded_features = list(cov[cov > threshold].index)\n",
    "        \n",
    "    return cov, discarded_features"
   ]
  },
  {
   "cell_type": "markdown",
   "id": "3d208ded",
   "metadata": {
    "id": "m2NPBy1lSwGu",
    "papermill": {
     "duration": 0.003828,
     "end_time": "2024-01-13T11:33:17.587731",
     "exception": false,
     "start_time": "2024-01-13T11:33:17.583903",
     "status": "completed"
    },
    "tags": []
   },
   "source": [
    "## Testing each Feature for Covariate Shift\n",
    "<br>\n",
    "\n",
    "We will be finding all the features which are responsible for making the train data very different from test data. We will store all such columns separately and will not use while doing final modeling.\n",
    "<br><br>"
   ]
  },
  {
   "cell_type": "code",
   "execution_count": 7,
   "id": "4b552aa8",
   "metadata": {
    "execution": {
     "iopub.execute_input": "2024-01-13T11:33:17.596889Z",
     "iopub.status.busy": "2024-01-13T11:33:17.596653Z",
     "iopub.status.idle": "2024-01-13T11:33:17.602275Z",
     "shell.execute_reply": "2024-01-13T11:33:17.601516Z"
    },
    "id": "S5QmpOPkTbdO",
    "papermill": {
     "duration": 0.012422,
     "end_time": "2024-01-13T11:33:17.604183",
     "exception": false,
     "start_time": "2024-01-13T11:33:17.591761",
     "status": "completed"
    },
    "tags": []
   },
   "outputs": [],
   "source": [
    "# Storing Categorical and Numerical Feature Names \n",
    "\n",
    "catf, numf = cat_num_features(train_data)"
   ]
  },
  {
   "cell_type": "code",
   "execution_count": 8,
   "id": "f6a96d2b",
   "metadata": {
    "execution": {
     "iopub.execute_input": "2024-01-13T11:33:17.613404Z",
     "iopub.status.busy": "2024-01-13T11:33:17.613143Z",
     "iopub.status.idle": "2024-01-13T11:46:13.777751Z",
     "shell.execute_reply": "2024-01-13T11:46:13.776902Z"
    },
    "executionInfo": {
     "elapsed": 655780,
     "status": "ok",
     "timestamp": 1623669574601,
     "user": {
      "displayName": "Priyank Mishra",
      "photoUrl": "",
      "userId": "18008032652400229851"
     },
     "user_tz": -330
    },
    "id": "ILRX6rAPSvRo",
    "outputId": "f65c3b04-ccde-4709-8da3-104b444af5e7",
    "papermill": {
     "duration": 776.171799,
     "end_time": "2024-01-13T11:46:13.780194",
     "exception": false,
     "start_time": "2024-01-13T11:33:17.608395",
     "status": "completed"
    },
    "tags": []
   },
   "outputs": [
    {
     "name": "stdout",
     "output_type": "stream",
     "text": [
      "feature: TransactionID covariate shift: 0.9999960367695746\n",
      "feature: TransactionDT covariate shift: 0.9999960367695746\n",
      "feature: D1 covariate shift: 0.9143188343701565\n",
      "feature: D2 covariate shift: 0.7229536602513819\n",
      "feature: D3 covariate shift: 0.8811335332609285\n",
      "feature: D4 covariate shift: 0.8204125021194494\n",
      "feature: D5 covariate shift: 0.8368901001032548\n",
      "feature: D10 covariate shift: 0.8707341362958445\n",
      "feature: D11 covariate shift: 0.7306597627591305\n",
      "feature: D15 covariate shift: 0.850196060475924\n",
      "feature: TransactionDay covariate shift: 1.0\n",
      "feature: DT_M covariate shift: 1.0\n"
     ]
    }
   ],
   "source": [
    "# Considering all the features which have a test auc of 0.7 to be covariate shifted\n",
    "cov, list_discarded = adversarial_validation(train_data, test_data, 0.7, catf)"
   ]
  },
  {
   "cell_type": "code",
   "execution_count": 9,
   "id": "b968fd92",
   "metadata": {
    "execution": {
     "iopub.execute_input": "2024-01-13T11:46:13.792230Z",
     "iopub.status.busy": "2024-01-13T11:46:13.791930Z",
     "iopub.status.idle": "2024-01-13T11:46:13.799211Z",
     "shell.execute_reply": "2024-01-13T11:46:13.798373Z"
    },
    "executionInfo": {
     "elapsed": 15,
     "status": "ok",
     "timestamp": 1623669574602,
     "user": {
      "displayName": "Priyank Mishra",
      "photoUrl": "",
      "userId": "18008032652400229851"
     },
     "user_tz": -330
    },
    "id": "IqhnpBczwlBD",
    "outputId": "374b4ae2-b9bd-4c3c-eacd-41302b414050",
    "papermill": {
     "duration": 0.015355,
     "end_time": "2024-01-13T11:46:13.801101",
     "exception": false,
     "start_time": "2024-01-13T11:46:13.785746",
     "status": "completed"
    },
    "tags": []
   },
   "outputs": [
    {
     "data": {
      "text/plain": [
       "['D2',\n",
       " 'D11',\n",
       " 'D4',\n",
       " 'D5',\n",
       " 'D15',\n",
       " 'D10',\n",
       " 'D3',\n",
       " 'D1',\n",
       " 'TransactionDT',\n",
       " 'TransactionID',\n",
       " 'DT_M',\n",
       " 'TransactionDay']"
      ]
     },
     "execution_count": 9,
     "metadata": {},
     "output_type": "execute_result"
    }
   ],
   "source": [
    "# Features having Covariate Shift\n",
    "\n",
    "list_discarded"
   ]
  },
  {
   "cell_type": "code",
   "execution_count": 10,
   "id": "dec44f25",
   "metadata": {
    "execution": {
     "iopub.execute_input": "2024-01-13T11:46:13.813040Z",
     "iopub.status.busy": "2024-01-13T11:46:13.812771Z",
     "iopub.status.idle": "2024-01-13T11:46:13.817271Z",
     "shell.execute_reply": "2024-01-13T11:46:13.816511Z"
    },
    "id": "U9fHuU8VNsa5",
    "papermill": {
     "duration": 0.012683,
     "end_time": "2024-01-13T11:46:13.819098",
     "exception": false,
     "start_time": "2024-01-13T11:46:13.806415",
     "status": "completed"
    },
    "tags": []
   },
   "outputs": [],
   "source": [
    "with open(\"features_having_covariate_shift.pkl\", 'wb') as handle:\n",
    "  pickle.dump(list_discarded, handle)"
   ]
  }
 ],
 "metadata": {
  "accelerator": "GPU",
  "colab": {
   "collapsed_sections": [],
   "machine_shape": "hm",
   "name": "8.Adversarial Validation",
   "provenance": []
  },
  "kaggle": {
   "accelerator": "nvidiaTeslaT4",
   "dataSources": [
    {
     "datasetId": 4299064,
     "sourceId": 7394561,
     "sourceType": "datasetVersion"
    }
   ],
   "isGpuEnabled": true,
   "isInternetEnabled": true,
   "language": "python",
   "sourceType": "notebook"
  },
  "kernelspec": {
   "display_name": "Python 3",
   "language": "python",
   "name": "python3"
  },
  "language_info": {
   "codemirror_mode": {
    "name": "ipython",
    "version": 3
   },
   "file_extension": ".py",
   "mimetype": "text/x-python",
   "name": "python",
   "nbconvert_exporter": "python",
   "pygments_lexer": "ipython3",
   "version": "3.10.12"
  },
  "papermill": {
   "default_parameters": {},
   "duration": 799.203874,
   "end_time": "2024-01-13T11:46:14.445685",
   "environment_variables": {},
   "exception": null,
   "input_path": "__notebook__.ipynb",
   "output_path": "__notebook__.ipynb",
   "parameters": {},
   "start_time": "2024-01-13T11:32:55.241811",
   "version": "2.4.0"
  }
 },
 "nbformat": 4,
 "nbformat_minor": 5
}
