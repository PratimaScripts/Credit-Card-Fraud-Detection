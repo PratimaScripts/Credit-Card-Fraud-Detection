{
 "cells": [
  {
   "cell_type": "code",
   "execution_count": 1,
   "id": "20d4d8d1",
   "metadata": {
    "execution": {
     "iopub.execute_input": "2024-01-07T10:15:45.184218Z",
     "iopub.status.busy": "2024-01-07T10:15:45.183870Z",
     "iopub.status.idle": "2024-01-07T10:15:47.408294Z",
     "shell.execute_reply": "2024-01-07T10:15:47.407482Z"
    },
    "id": "da6213d9",
    "papermill": {
     "duration": 2.241062,
     "end_time": "2024-01-07T10:15:47.410643",
     "exception": false,
     "start_time": "2024-01-07T10:15:45.169581",
     "status": "completed"
    },
    "tags": []
   },
   "outputs": [
    {
     "name": "stderr",
     "output_type": "stream",
     "text": [
      "/opt/conda/lib/python3.10/site-packages/scipy/__init__.py:146: UserWarning: A NumPy version >=1.16.5 and <1.23.0 is required for this version of SciPy (detected version 1.24.3\n",
      "  warnings.warn(f\"A NumPy version >={np_minversion} and <{np_maxversion}\"\n"
     ]
    }
   ],
   "source": [
    "import random\n",
    "import pickle\n",
    "import numpy as np\n",
    "import pandas as pd\n",
    "import seaborn as sns\n",
    "import matplotlib.pyplot as plt\n",
    "%matplotlib inline\n",
    "import sklearn\n",
    "from sklearn import metrics\n",
    "from sklearn.naive_bayes import GaussianNB\n",
    "from sklearn.linear_model import LogisticRegression\n",
    "from sklearn.tree import DecisionTreeClassifier\n",
    "from sklearn.ensemble import RandomForestClassifier, AdaBoostClassifier\n",
    "from xgboost import XGBClassifier\n",
    "from sklearn.model_selection import TimeSeriesSplit, train_test_split, GridSearchCV\n",
    "from sklearn.preprocessing import LabelEncoder\n",
    "from sklearn.metrics import roc_auc_score\n",
    "from sklearn.calibration import CalibratedClassifierCV\n",
    "import warnings\n",
    "warnings.filterwarnings(\"ignore\")"
   ]
  },
  {
   "cell_type": "code",
   "execution_count": 2,
   "id": "5ce8d3dc",
   "metadata": {
    "execution": {
     "iopub.execute_input": "2024-01-07T10:15:47.437278Z",
     "iopub.status.busy": "2024-01-07T10:15:47.436857Z",
     "iopub.status.idle": "2024-01-07T10:16:43.152964Z",
     "shell.execute_reply": "2024-01-07T10:16:43.152126Z"
    },
    "papermill": {
     "duration": 55.73184,
     "end_time": "2024-01-07T10:16:43.155318",
     "exception": false,
     "start_time": "2024-01-07T10:15:47.423478",
     "status": "completed"
    },
    "tags": []
   },
   "outputs": [],
   "source": [
    "train_transaction=pd.read_csv('../input/ieee-fraud-detection/train_transaction.csv')\n",
    "train_identity=pd.read_csv('../input/ieee-fraud-detection/train_identity.csv')\n",
    "test_transaction=pd.read_csv('../input/ieee-fraud-detection/test_transaction.csv')\n",
    "test_identity=pd.read_csv('../input/ieee-fraud-detection/test_identity.csv')\n",
    "sample_submission=pd.read_csv('../input/ieee-fraud-detection/sample_submission.csv')"
   ]
  },
  {
   "cell_type": "code",
   "execution_count": 3,
   "id": "6657b930",
   "metadata": {
    "execution": {
     "iopub.execute_input": "2024-01-07T10:16:43.182249Z",
     "iopub.status.busy": "2024-01-07T10:16:43.181911Z",
     "iopub.status.idle": "2024-01-07T10:16:45.207758Z",
     "shell.execute_reply": "2024-01-07T10:16:45.206873Z"
    },
    "papermill": {
     "duration": 2.041642,
     "end_time": "2024-01-07T10:16:45.210121",
     "exception": false,
     "start_time": "2024-01-07T10:16:43.168479",
     "status": "completed"
    },
    "tags": []
   },
   "outputs": [],
   "source": [
    "# Merging the transaction and identity dataset\n",
    "\n",
    "train_data = train_transaction.merge(train_identity, how='left', on='TransactionID')\n",
    "del train_transaction, train_identity\n",
    "\n",
    "test_data = test_transaction.merge(test_identity, how='left', on='TransactionID')\n",
    "del test_transaction, test_identity"
   ]
  },
  {
   "cell_type": "code",
   "execution_count": 4,
   "id": "1daaf080",
   "metadata": {
    "execution": {
     "iopub.execute_input": "2024-01-07T10:16:45.236799Z",
     "iopub.status.busy": "2024-01-07T10:16:45.236505Z",
     "iopub.status.idle": "2024-01-07T10:16:46.870907Z",
     "shell.execute_reply": "2024-01-07T10:16:46.870062Z"
    },
    "papermill": {
     "duration": 1.65014,
     "end_time": "2024-01-07T10:16:46.873249",
     "exception": false,
     "start_time": "2024-01-07T10:16:45.223109",
     "status": "completed"
    },
    "tags": []
   },
   "outputs": [],
   "source": [
    "# Sorting the Dataframe by the TransactionDT column\n",
    "\n",
    "train_data.sort_values(by='TransactionDT' ,inplace=True)\n",
    "test_data.sort_values(by='TransactionDT' , inplace=True)"
   ]
  },
  {
   "cell_type": "code",
   "execution_count": 5,
   "id": "8d0352d7",
   "metadata": {
    "execution": {
     "iopub.execute_input": "2024-01-07T10:16:46.900480Z",
     "iopub.status.busy": "2024-01-07T10:16:46.900138Z",
     "iopub.status.idle": "2024-01-07T10:16:51.655010Z",
     "shell.execute_reply": "2024-01-07T10:16:51.653752Z"
    },
    "papermill": {
     "duration": 4.771491,
     "end_time": "2024-01-07T10:16:51.657507",
     "exception": false,
     "start_time": "2024-01-07T10:16:46.886016",
     "status": "completed"
    },
    "tags": []
   },
   "outputs": [],
   "source": [
    "# Saving the merged train and test dataset into pickle format\n",
    "\n",
    "train_data.to_pickle('merged_train.pkl')\n",
    "test_data.to_pickle('merged_test.pkl')\n",
    "\n",
    "del train_data, test_data"
   ]
  },
  {
   "cell_type": "code",
   "execution_count": 6,
   "id": "3c5244eb",
   "metadata": {
    "execution": {
     "iopub.execute_input": "2024-01-07T10:16:51.735768Z",
     "iopub.status.busy": "2024-01-07T10:16:51.735406Z",
     "iopub.status.idle": "2024-01-07T10:16:56.399960Z",
     "shell.execute_reply": "2024-01-07T10:16:56.399081Z"
    },
    "id": "8bbc073b",
    "papermill": {
     "duration": 4.711177,
     "end_time": "2024-01-07T10:16:56.402337",
     "exception": false,
     "start_time": "2024-01-07T10:16:51.691160",
     "status": "completed"
    },
    "tags": []
   },
   "outputs": [],
   "source": [
    "# Loading the merged train and test dataset\n",
    "\n",
    "train_data = pd.read_pickle('merged_train.pkl')\n",
    "test_data = pd.read_pickle('merged_test.pkl')"
   ]
  },
  {
   "cell_type": "code",
   "execution_count": 7,
   "id": "7bdbfcb3",
   "metadata": {
    "execution": {
     "iopub.execute_input": "2024-01-07T10:16:56.432569Z",
     "iopub.status.busy": "2024-01-07T10:16:56.431608Z",
     "iopub.status.idle": "2024-01-07T10:16:56.437468Z",
     "shell.execute_reply": "2024-01-07T10:16:56.436511Z"
    },
    "executionInfo": {
     "elapsed": 26,
     "status": "ok",
     "timestamp": 1623157910673,
     "user": {
      "displayName": "Priyank Mishra",
      "photoUrl": "",
      "userId": "18008032652400229851"
     },
     "user_tz": -330
    },
    "id": "0480f790",
    "outputId": "952b0383-9933-433d-d17d-5253ddb29d97",
    "papermill": {
     "duration": 0.021709,
     "end_time": "2024-01-07T10:16:56.439547",
     "exception": false,
     "start_time": "2024-01-07T10:16:56.417838",
     "status": "completed"
    },
    "tags": []
   },
   "outputs": [
    {
     "name": "stdout",
     "output_type": "stream",
     "text": [
      "*********************************************\n",
      "\n",
      " Train Data Shape : (590540, 434) \n",
      "\n",
      "\n",
      " Test Data Shape : (506691, 433) \n",
      "\n",
      "*********************************************\n"
     ]
    }
   ],
   "source": [
    "print(\"*\"*45)\n",
    "print(\"\\n Train Data Shape : {} \\n\".format(train_data.shape))\n",
    "print(\"\\n Test Data Shape : {} \\n\".format(test_data.shape))\n",
    "print(\"*\"*45)"
   ]
  },
  {
   "cell_type": "markdown",
   "id": "d2092745",
   "metadata": {
    "id": "eO36Arb_F0_7",
    "papermill": {
     "duration": 0.012231,
     "end_time": "2024-01-07T10:16:56.464811",
     "exception": false,
     "start_time": "2024-01-07T10:16:56.452580",
     "status": "completed"
    },
    "tags": []
   },
   "source": [
    "## Utility Functions\n",
    "<br>"
   ]
  },
  {
   "cell_type": "code",
   "execution_count": 8,
   "id": "90b2e079",
   "metadata": {
    "execution": {
     "iopub.execute_input": "2024-01-07T10:16:56.491118Z",
     "iopub.status.busy": "2024-01-07T10:16:56.490820Z",
     "iopub.status.idle": "2024-01-07T10:16:56.498122Z",
     "shell.execute_reply": "2024-01-07T10:16:56.497224Z"
    },
    "id": "780a3e54",
    "papermill": {
     "duration": 0.022656,
     "end_time": "2024-01-07T10:16:56.500043",
     "exception": false,
     "start_time": "2024-01-07T10:16:56.477387",
     "status": "completed"
    },
    "tags": []
   },
   "outputs": [],
   "source": [
    "def cat_num_features(df):\n",
    "    \n",
    "    '''\n",
    "        Utility Function to get the names of Categorical Features and \n",
    "        Numerical Features of the given Dataset.\n",
    "    '''\n",
    "    \n",
    "    catf = []\n",
    "    numf = []\n",
    "    \n",
    "    # Given Categorical Features \n",
    "    catf = ['ProductCD', 'card1', 'card2', 'card3', 'card4', 'card5', \\\n",
    "            'card6', 'addr1', 'addr2', 'P_emaildomain', 'R_emaildomain', 'M1', 'M2', \\\n",
    "            'M3', 'M4', 'M5', 'M6', 'M7', 'M8', 'M9', \\\n",
    "            'DeviceType', 'DeviceInfo']\n",
    "    catf+=['id_'+str(i) for i in range(12,39)]\n",
    "\n",
    "\n",
    "    # Updating the Categorical Feature Names List based on the columns present in the dataframe\n",
    "    catf = [feature for feature in catf if feature in df.columns.values]\n",
    "    numf = [feature for feature in df.columns if feature not in catf and not feature == 'isFraud']\n",
    "    \n",
    "    return (catf, numf)  "
   ]
  },
  {
   "cell_type": "code",
   "execution_count": 9,
   "id": "c0148e29",
   "metadata": {
    "execution": {
     "iopub.execute_input": "2024-01-07T10:16:56.528922Z",
     "iopub.status.busy": "2024-01-07T10:16:56.528631Z",
     "iopub.status.idle": "2024-01-07T10:16:56.537065Z",
     "shell.execute_reply": "2024-01-07T10:16:56.536218Z"
    },
    "id": "dc6e1c9b",
    "papermill": {
     "duration": 0.02601,
     "end_time": "2024-01-07T10:16:56.539028",
     "exception": false,
     "start_time": "2024-01-07T10:16:56.513018",
     "status": "completed"
    },
    "tags": []
   },
   "outputs": [],
   "source": [
    "def label_encode(X_train, X_test, catf):\n",
    "  \n",
    "  '''\n",
    "    Utility Function to Encode Categorical Features.\n",
    "  '''\n",
    "\n",
    "  for f in catf:\n",
    "    \n",
    "    X_train[f] = X_train[f].astype(str)\n",
    "    X_test[f] = X_test[f].astype(str)\n",
    "    \n",
    "    le = LabelEncoder()\n",
    "    le.fit(X_train[f])\n",
    "    mapping = dict(zip(le.classes_, le.transform(le.classes_)))\n",
    "    X_train[f] = le.transform(X_train[f])\n",
    "    \n",
    "    # Manually Encoding the CV and Test Dataset so as to avoid error for any category which is not present in train set\n",
    "    \n",
    "    # All the categories which are not present in train datset are encoded as -1\n",
    "    \n",
    "    X_test[f] = [-1 if mapping.get(v, -1)==-1 else mapping[v] for v in X_test[f].values ]\n",
    "\n",
    "  return (X_train, X_test)"
   ]
  },
  {
   "cell_type": "code",
   "execution_count": 10,
   "id": "18c87812",
   "metadata": {
    "execution": {
     "iopub.execute_input": "2024-01-07T10:16:56.565120Z",
     "iopub.status.busy": "2024-01-07T10:16:56.564835Z",
     "iopub.status.idle": "2024-01-07T10:16:56.570203Z",
     "shell.execute_reply": "2024-01-07T10:16:56.569357Z"
    },
    "id": "2e284786",
    "papermill": {
     "duration": 0.020721,
     "end_time": "2024-01-07T10:16:56.572251",
     "exception": false,
     "start_time": "2024-01-07T10:16:56.551530",
     "status": "completed"
    },
    "tags": []
   },
   "outputs": [],
   "source": [
    "def normalize(X_train, X_test):\n",
    "    '''\n",
    "        Utility Function to scale the values of the Train, CV and Test Datasets between 0 and 1.\n",
    "    '''\n",
    "    \n",
    "    for f in X_train.columns:\n",
    "\n",
    "        min_val = X_train[f].min()\n",
    "        max_val = X_train[f].max()\n",
    "        \n",
    "        X_train[f] = (X_train[f]-min_val)/(max_val-min_val)\n",
    "        X_test[f] = (X_test[f]-min_val)/(max_val-min_val)\n",
    "        \n",
    "    return (X_train, X_test)"
   ]
  },
  {
   "cell_type": "code",
   "execution_count": 11,
   "id": "94c14709",
   "metadata": {
    "execution": {
     "iopub.execute_input": "2024-01-07T10:16:56.645868Z",
     "iopub.status.busy": "2024-01-07T10:16:56.645523Z",
     "iopub.status.idle": "2024-01-07T10:16:56.650644Z",
     "shell.execute_reply": "2024-01-07T10:16:56.649924Z"
    },
    "id": "bb4acd3e",
    "papermill": {
     "duration": 0.021055,
     "end_time": "2024-01-07T10:16:56.652572",
     "exception": false,
     "start_time": "2024-01-07T10:16:56.631517",
     "status": "completed"
    },
    "tags": []
   },
   "outputs": [],
   "source": [
    "def predict_and_save(prediction, name):\n",
    "    \n",
    "    '''\n",
    "        Utility Function to save the test data predictions locally.\n",
    "    '''\n",
    "\n",
    "    df = pd.DataFrame({'TransactionID':test_ids.reshape(-1), 'isFraud':prediction.reshape(-1)})\n",
    "    df = df.sort_values('TransactionID')\n",
    "    df.to_csv(name, index=False)"
   ]
  },
  {
   "cell_type": "markdown",
   "id": "e05b5418",
   "metadata": {
    "id": "9dd59e19",
    "papermill": {
     "duration": 0.01278,
     "end_time": "2024-01-07T10:16:56.678039",
     "exception": false,
     "start_time": "2024-01-07T10:16:56.665259",
     "status": "completed"
    },
    "tags": []
   },
   "source": [
    "## Data Preparation\n",
    "<br>"
   ]
  },
  {
   "cell_type": "markdown",
   "id": "0c2fe5b7",
   "metadata": {
    "id": "rQTzZJCOXX6R",
    "papermill": {
     "duration": 0.012681,
     "end_time": "2024-01-07T10:16:56.703771",
     "exception": false,
     "start_time": "2024-01-07T10:16:56.691090",
     "status": "completed"
    },
    "tags": []
   },
   "source": [
    "### Splitting the Dataset\n",
    "<br>"
   ]
  },
  {
   "cell_type": "code",
   "execution_count": 12,
   "id": "c6e51dd1",
   "metadata": {
    "execution": {
     "iopub.execute_input": "2024-01-07T10:16:56.731507Z",
     "iopub.status.busy": "2024-01-07T10:16:56.731075Z",
     "iopub.status.idle": "2024-01-07T10:16:58.335034Z",
     "shell.execute_reply": "2024-01-07T10:16:58.334226Z"
    },
    "id": "e75daf6b",
    "papermill": {
     "duration": 1.620974,
     "end_time": "2024-01-07T10:16:58.337400",
     "exception": false,
     "start_time": "2024-01-07T10:16:56.716426",
     "status": "completed"
    },
    "tags": []
   },
   "outputs": [],
   "source": [
    "X_train = train_data.drop(['isFraud', 'TransactionID'], axis=1)\n",
    "y_train = train_data['isFraud']\n",
    "\n",
    "X_test = test_data.drop(['TransactionID'], axis=1)\n",
    "test_ids = test_data['TransactionID'].values\n",
    "\n",
    "del train_data, test_data"
   ]
  },
  {
   "cell_type": "code",
   "execution_count": 13,
   "id": "0155f8b1",
   "metadata": {
    "execution": {
     "iopub.execute_input": "2024-01-07T10:16:58.366308Z",
     "iopub.status.busy": "2024-01-07T10:16:58.365942Z",
     "iopub.status.idle": "2024-01-07T10:16:58.371253Z",
     "shell.execute_reply": "2024-01-07T10:16:58.370428Z"
    },
    "executionInfo": {
     "elapsed": 7,
     "status": "ok",
     "timestamp": 1623157913990,
     "user": {
      "displayName": "Priyank Mishra",
      "photoUrl": "",
      "userId": "18008032652400229851"
     },
     "user_tz": -330
    },
    "id": "08ddc3d8",
    "outputId": "77144020-0d80-4ba8-f282-71736cbbd21d",
    "papermill": {
     "duration": 0.022881,
     "end_time": "2024-01-07T10:16:58.373610",
     "exception": false,
     "start_time": "2024-01-07T10:16:58.350729",
     "status": "completed"
    },
    "scrolled": true,
    "tags": []
   },
   "outputs": [
    {
     "name": "stdout",
     "output_type": "stream",
     "text": [
      "*********************************************\n",
      "\n",
      " Train Data Shape : (590540, 432) \n",
      "\n",
      "\n",
      " Test Data Shape : (506691, 432) \n",
      "\n",
      "*********************************************\n"
     ]
    }
   ],
   "source": [
    "print(\"*\"*45)\n",
    "print(\"\\n Train Data Shape : {} \\n\".format(X_train.shape))\n",
    "print(\"\\n Test Data Shape : {} \\n\".format(X_test.shape))\n",
    "print(\"*\"*45)"
   ]
  },
  {
   "cell_type": "markdown",
   "id": "eaedec85",
   "metadata": {
    "id": "a50561e7",
    "papermill": {
     "duration": 0.013738,
     "end_time": "2024-01-07T10:16:58.400315",
     "exception": false,
     "start_time": "2024-01-07T10:16:58.386577",
     "status": "completed"
    },
    "tags": []
   },
   "source": [
    "#### Label Encoding Categorical Features\n",
    "\n",
    "We will be creating **three sets**, one having imputed missing values to be used with models which do not handle missing values on their own and the other whose missing values will be imputed and also it will be scaled between 0 and 1 to be used with models like **Naive Bayes and Logisitic Regression** and the third which is to be used with model like **XgBoost** which can handle missing values on its own."
   ]
  },
  {
   "cell_type": "code",
   "execution_count": 14,
   "id": "ce5676b7",
   "metadata": {
    "execution": {
     "iopub.execute_input": "2024-01-07T10:16:58.429983Z",
     "iopub.status.busy": "2024-01-07T10:16:58.429107Z",
     "iopub.status.idle": "2024-01-07T10:16:59.933065Z",
     "shell.execute_reply": "2024-01-07T10:16:59.932205Z"
    },
    "papermill": {
     "duration": 1.520316,
     "end_time": "2024-01-07T10:16:59.935671",
     "exception": false,
     "start_time": "2024-01-07T10:16:58.415355",
     "status": "completed"
    },
    "tags": []
   },
   "outputs": [
    {
     "name": "stdout",
     "output_type": "stream",
     "text": [
      "Columns in X_train: Index(['TransactionDT', 'TransactionAmt', 'ProductCD', 'card1', 'card2',\n",
      "       'card3', 'card4', 'card5', 'card6', 'addr1',\n",
      "       ...\n",
      "       'id_31', 'id_32', 'id_33', 'id_34', 'id_35', 'id_36', 'id_37', 'id_38',\n",
      "       'DeviceType', 'DeviceInfo'],\n",
      "      dtype='object', length=432)\n",
      "Columns in X_test: Index(['TransactionDT', 'TransactionAmt', 'ProductCD', 'card1', 'card2',\n",
      "       'card3', 'card4', 'card5', 'card6', 'addr1',\n",
      "       ...\n",
      "       'id-31', 'id-32', 'id-33', 'id-34', 'id-35', 'id-36', 'id-37', 'id-38',\n",
      "       'DeviceType', 'DeviceInfo'],\n",
      "      dtype='object', length=432)\n"
     ]
    }
   ],
   "source": [
    "# Check columns in X_train and X_test\n",
    "print(\"Columns in X_train:\", X_train.columns)\n",
    "print(\"Columns in X_test:\", X_test.columns)\n",
    "\n",
    "# Align columns in X_train and X_test\n",
    "common_columns = list(set(X_train.columns) & set(X_test.columns))\n",
    "X_train = X_train[common_columns]\n",
    "X_test = X_test[common_columns]\n",
    "\n",
    "# Storing Categorical and Numerical Feature Names\n",
    "catf, numf = cat_num_features(X_train)\n",
    "categorical_feature_indices = [X_train.columns.get_loc(f) for f in catf]"
   ]
  },
  {
   "cell_type": "code",
   "execution_count": 15,
   "id": "c53d1988",
   "metadata": {
    "execution": {
     "iopub.execute_input": "2024-01-07T10:16:59.968570Z",
     "iopub.status.busy": "2024-01-07T10:16:59.967728Z",
     "iopub.status.idle": "2024-01-07T10:17:57.670817Z",
     "shell.execute_reply": "2024-01-07T10:17:57.669967Z"
    },
    "papermill": {
     "duration": 57.721976,
     "end_time": "2024-01-07T10:17:57.673247",
     "exception": false,
     "start_time": "2024-01-07T10:16:59.951271",
     "status": "completed"
    },
    "tags": []
   },
   "outputs": [],
   "source": [
    "# Impute missing values and label encode categorical features\n",
    "\n",
    "# Imputing the missing values of Categorical Columns with \"missing\"\n",
    "X_train[catf] = X_train[catf].fillna('missing')\n",
    "X_test[catf] = X_test[catf].fillna('missing')\n",
    "\n",
    "# Label Encoding Categorical Features\n",
    "X_train, X_test = label_encode(X_train, X_test, catf)"
   ]
  },
  {
   "cell_type": "code",
   "execution_count": 16,
   "id": "ff1ffed8",
   "metadata": {
    "execution": {
     "iopub.execute_input": "2024-01-07T10:17:57.700215Z",
     "iopub.status.busy": "2024-01-07T10:17:57.699921Z",
     "iopub.status.idle": "2024-01-07T10:18:03.999786Z",
     "shell.execute_reply": "2024-01-07T10:18:03.999003Z"
    },
    "id": "10320f4d",
    "papermill": {
     "duration": 6.315834,
     "end_time": "2024-01-07T10:18:04.002181",
     "exception": false,
     "start_time": "2024-01-07T10:17:57.686347",
     "status": "completed"
    },
    "tags": []
   },
   "outputs": [],
   "source": [
    "# Set1 (Imputed and Normalized)\n",
    "X_train1 = X_train.fillna(-999)\n",
    "X_test1 = X_test.fillna(-999)\n",
    "X_train1, X_test1 = normalize(X_train1, X_test1)\n",
    "\n",
    "# Set2 (Imputed)\n",
    "X_train2 = X_train.fillna(-999)\n",
    "X_test2 = X_test.fillna(-999)\n",
    "\n",
    "# Set3 (Raw)\n",
    "X_train3 = X_train\n",
    "X_test3 = X_test\n",
    "\n",
    "del X_train, X_test"
   ]
  },
  {
   "cell_type": "code",
   "execution_count": 17,
   "id": "aa528f9a",
   "metadata": {
    "execution": {
     "iopub.execute_input": "2024-01-07T10:18:04.029252Z",
     "iopub.status.busy": "2024-01-07T10:18:04.028951Z",
     "iopub.status.idle": "2024-01-07T10:18:04.041781Z",
     "shell.execute_reply": "2024-01-07T10:18:04.041104Z"
    },
    "id": "f5ba53e8",
    "papermill": {
     "duration": 0.028348,
     "end_time": "2024-01-07T10:18:04.043651",
     "exception": false,
     "start_time": "2024-01-07T10:18:04.015303",
     "status": "completed"
    },
    "tags": []
   },
   "outputs": [],
   "source": [
    "train1 = X_train1\n",
    "train1['isFraud'] = y_train\n",
    "\n",
    "test1 = X_test1\n",
    "\n",
    "del X_train1, X_test1\n",
    "\n",
    "\n",
    "train2 = X_train2\n",
    "train2['isFraud'] = y_train\n",
    "\n",
    "test2 = X_test2\n",
    "\n",
    "del X_train2, X_test2\n",
    "\n",
    "\n",
    "train3 = X_train3\n",
    "train3['isFraud'] = y_train\n",
    "\n",
    "test3 = X_test3\n",
    "\n",
    "del X_train3, y_train, X_test3"
   ]
  },
  {
   "cell_type": "code",
   "execution_count": 18,
   "id": "24324045",
   "metadata": {
    "execution": {
     "iopub.execute_input": "2024-01-07T10:18:04.070596Z",
     "iopub.status.busy": "2024-01-07T10:18:04.070334Z",
     "iopub.status.idle": "2024-01-07T10:18:04.082254Z",
     "shell.execute_reply": "2024-01-07T10:18:04.081368Z"
    },
    "id": "385bc132",
    "papermill": {
     "duration": 0.027657,
     "end_time": "2024-01-07T10:18:04.084109",
     "exception": false,
     "start_time": "2024-01-07T10:18:04.056452",
     "status": "completed"
    },
    "tags": []
   },
   "outputs": [],
   "source": [
    "y_train = train1.pop('isFraud')\n",
    "_ = train2.pop('isFraud')\n",
    "_ = train3.pop('isFraud')\n",
    "\n",
    "\n",
    "X_train1 = train1\n",
    "X_test1 = test1 \n",
    "\n",
    "X_train2 = train2\n",
    "X_test2 = test2 \n",
    "\n",
    "X_train3 = train3\n",
    "X_test3 = test3 \n",
    "\n",
    "del train1, train2, train3"
   ]
  },
  {
   "cell_type": "code",
   "execution_count": 19,
   "id": "db3e1c2c",
   "metadata": {
    "execution": {
     "iopub.execute_input": "2024-01-07T10:18:04.110591Z",
     "iopub.status.busy": "2024-01-07T10:18:04.110338Z",
     "iopub.status.idle": "2024-01-07T10:18:04.116278Z",
     "shell.execute_reply": "2024-01-07T10:18:04.115486Z"
    },
    "executionInfo": {
     "elapsed": 14,
     "status": "ok",
     "timestamp": 1623158006995,
     "user": {
      "displayName": "Priyank Mishra",
      "photoUrl": "",
      "userId": "18008032652400229851"
     },
     "user_tz": -330
    },
    "id": "77b932d2",
    "outputId": "9a4b92b6-ec49-4818-c965-6ac6824c73ba",
    "papermill": {
     "duration": 0.021694,
     "end_time": "2024-01-07T10:18:04.118490",
     "exception": false,
     "start_time": "2024-01-07T10:18:04.096796",
     "status": "completed"
    },
    "tags": []
   },
   "outputs": [
    {
     "name": "stdout",
     "output_type": "stream",
     "text": [
      "************************************************************\n",
      "\n",
      " Train Dataset Set1 Shape : (590540, 394) \n",
      "\n",
      "\n",
      " Test Dataset Set1 Shape : (506691, 394) \n",
      "\n",
      "************************************************************\n",
      "\n",
      " Train Dataset Set1 Shape : (590540, 394) \n",
      "\n",
      "\n",
      " Test Dataset Set2 Shape : (506691, 394) \n",
      "\n",
      "************************************************************\n",
      "\n",
      " Train Dataset Set1 Shape : (590540, 394) \n",
      "\n",
      "\n",
      " Test Dataset Set3 Shape : (506691, 394) \n",
      "\n",
      "************************************************************\n"
     ]
    }
   ],
   "source": [
    "print(\"*\"*60)\n",
    "print(\"\\n Train Dataset Set1 Shape : {} \\n\".format(X_train1.shape))\n",
    "print(\"\\n Test Dataset Set1 Shape : {} \\n\".format(X_test1.shape))\n",
    "print(\"*\"*60)\n",
    "print(\"\\n Train Dataset Set1 Shape : {} \\n\".format(X_train1.shape))\n",
    "print(\"\\n Test Dataset Set2 Shape : {} \\n\".format(X_test2.shape))\n",
    "print(\"*\"*60)\n",
    "print(\"\\n Train Dataset Set1 Shape : {} \\n\".format(X_train1.shape))\n",
    "print(\"\\n Test Dataset Set3 Shape : {} \\n\".format(X_test3.shape))\n",
    "print(\"*\"*60)"
   ]
  },
  {
   "cell_type": "markdown",
   "id": "a24e37b4",
   "metadata": {
    "id": "48d2678b",
    "papermill": {
     "duration": 0.012443,
     "end_time": "2024-01-07T10:18:04.143756",
     "exception": false,
     "start_time": "2024-01-07T10:18:04.131313",
     "status": "completed"
    },
    "tags": []
   },
   "source": [
    "## Base Line Models"
   ]
  },
  {
   "cell_type": "markdown",
   "id": "a0e3c780",
   "metadata": {
    "id": "2ba10ea9",
    "papermill": {
     "duration": 0.012428,
     "end_time": "2024-01-07T10:18:04.168876",
     "exception": false,
     "start_time": "2024-01-07T10:18:04.156448",
     "status": "completed"
    },
    "tags": []
   },
   "source": [
    "### 1. Naive Bayes"
   ]
  },
  {
   "cell_type": "code",
   "execution_count": 20,
   "id": "b287fe21",
   "metadata": {
    "execution": {
     "iopub.execute_input": "2024-01-07T10:18:04.195658Z",
     "iopub.status.busy": "2024-01-07T10:18:04.195118Z",
     "iopub.status.idle": "2024-01-07T10:18:08.075191Z",
     "shell.execute_reply": "2024-01-07T10:18:08.074323Z"
    },
    "id": "bc1eab3f",
    "outputId": "24a57974-e8da-4953-ee3b-a6bf1bb027da",
    "papermill": {
     "duration": 3.895655,
     "end_time": "2024-01-07T10:18:08.077309",
     "exception": false,
     "start_time": "2024-01-07T10:18:04.181654",
     "status": "completed"
    },
    "tags": []
   },
   "outputs": [
    {
     "data": {
      "text/html": [
       "<style>#sk-container-id-1 {color: black;background-color: white;}#sk-container-id-1 pre{padding: 0;}#sk-container-id-1 div.sk-toggleable {background-color: white;}#sk-container-id-1 label.sk-toggleable__label {cursor: pointer;display: block;width: 100%;margin-bottom: 0;padding: 0.3em;box-sizing: border-box;text-align: center;}#sk-container-id-1 label.sk-toggleable__label-arrow:before {content: \"▸\";float: left;margin-right: 0.25em;color: #696969;}#sk-container-id-1 label.sk-toggleable__label-arrow:hover:before {color: black;}#sk-container-id-1 div.sk-estimator:hover label.sk-toggleable__label-arrow:before {color: black;}#sk-container-id-1 div.sk-toggleable__content {max-height: 0;max-width: 0;overflow: hidden;text-align: left;background-color: #f0f8ff;}#sk-container-id-1 div.sk-toggleable__content pre {margin: 0.2em;color: black;border-radius: 0.25em;background-color: #f0f8ff;}#sk-container-id-1 input.sk-toggleable__control:checked~div.sk-toggleable__content {max-height: 200px;max-width: 100%;overflow: auto;}#sk-container-id-1 input.sk-toggleable__control:checked~label.sk-toggleable__label-arrow:before {content: \"▾\";}#sk-container-id-1 div.sk-estimator input.sk-toggleable__control:checked~label.sk-toggleable__label {background-color: #d4ebff;}#sk-container-id-1 div.sk-label input.sk-toggleable__control:checked~label.sk-toggleable__label {background-color: #d4ebff;}#sk-container-id-1 input.sk-hidden--visually {border: 0;clip: rect(1px 1px 1px 1px);clip: rect(1px, 1px, 1px, 1px);height: 1px;margin: -1px;overflow: hidden;padding: 0;position: absolute;width: 1px;}#sk-container-id-1 div.sk-estimator {font-family: monospace;background-color: #f0f8ff;border: 1px dotted black;border-radius: 0.25em;box-sizing: border-box;margin-bottom: 0.5em;}#sk-container-id-1 div.sk-estimator:hover {background-color: #d4ebff;}#sk-container-id-1 div.sk-parallel-item::after {content: \"\";width: 100%;border-bottom: 1px solid gray;flex-grow: 1;}#sk-container-id-1 div.sk-label:hover label.sk-toggleable__label {background-color: #d4ebff;}#sk-container-id-1 div.sk-serial::before {content: \"\";position: absolute;border-left: 1px solid gray;box-sizing: border-box;top: 0;bottom: 0;left: 50%;z-index: 0;}#sk-container-id-1 div.sk-serial {display: flex;flex-direction: column;align-items: center;background-color: white;padding-right: 0.2em;padding-left: 0.2em;position: relative;}#sk-container-id-1 div.sk-item {position: relative;z-index: 1;}#sk-container-id-1 div.sk-parallel {display: flex;align-items: stretch;justify-content: center;background-color: white;position: relative;}#sk-container-id-1 div.sk-item::before, #sk-container-id-1 div.sk-parallel-item::before {content: \"\";position: absolute;border-left: 1px solid gray;box-sizing: border-box;top: 0;bottom: 0;left: 50%;z-index: -1;}#sk-container-id-1 div.sk-parallel-item {display: flex;flex-direction: column;z-index: 1;position: relative;background-color: white;}#sk-container-id-1 div.sk-parallel-item:first-child::after {align-self: flex-end;width: 50%;}#sk-container-id-1 div.sk-parallel-item:last-child::after {align-self: flex-start;width: 50%;}#sk-container-id-1 div.sk-parallel-item:only-child::after {width: 0;}#sk-container-id-1 div.sk-dashed-wrapped {border: 1px dashed gray;margin: 0 0.4em 0.5em 0.4em;box-sizing: border-box;padding-bottom: 0.4em;background-color: white;}#sk-container-id-1 div.sk-label label {font-family: monospace;font-weight: bold;display: inline-block;line-height: 1.2em;}#sk-container-id-1 div.sk-label-container {text-align: center;}#sk-container-id-1 div.sk-container {/* jupyter's `normalize.less` sets `[hidden] { display: none; }` but bootstrap.min.css set `[hidden] { display: none !important; }` so we also need the `!important` here to be able to override the default hidden behavior on the sphinx rendered scikit-learn.org. See: https://github.com/scikit-learn/scikit-learn/issues/21755 */display: inline-block !important;position: relative;}#sk-container-id-1 div.sk-text-repr-fallback {display: none;}</style><div id=\"sk-container-id-1\" class=\"sk-top-container\"><div class=\"sk-text-repr-fallback\"><pre>GaussianNB(priors=[0.5, 0.5])</pre><b>In a Jupyter environment, please rerun this cell to show the HTML representation or trust the notebook. <br />On GitHub, the HTML representation is unable to render, please try loading this page with nbviewer.org.</b></div><div class=\"sk-container\" hidden><div class=\"sk-item\"><div class=\"sk-estimator sk-toggleable\"><input class=\"sk-toggleable__control sk-hidden--visually\" id=\"sk-estimator-id-1\" type=\"checkbox\" checked><label for=\"sk-estimator-id-1\" class=\"sk-toggleable__label sk-toggleable__label-arrow\">GaussianNB</label><div class=\"sk-toggleable__content\"><pre>GaussianNB(priors=[0.5, 0.5])</pre></div></div></div></div></div>"
      ],
      "text/plain": [
       "GaussianNB(priors=[0.5, 0.5])"
      ]
     },
     "execution_count": 20,
     "metadata": {},
     "output_type": "execute_result"
    }
   ],
   "source": [
    "nb = GaussianNB(priors=[0.5,0.5]) \n",
    "nb.fit(X_train1, y_train)"
   ]
  },
  {
   "cell_type": "code",
   "execution_count": 21,
   "id": "b21187a5",
   "metadata": {
    "execution": {
     "iopub.execute_input": "2024-01-07T10:18:08.105091Z",
     "iopub.status.busy": "2024-01-07T10:18:08.104801Z",
     "iopub.status.idle": "2024-01-07T10:18:11.251648Z",
     "shell.execute_reply": "2024-01-07T10:18:11.250863Z"
    },
    "id": "56f447fe",
    "papermill": {
     "duration": 3.163076,
     "end_time": "2024-01-07T10:18:11.253901",
     "exception": false,
     "start_time": "2024-01-07T10:18:08.090825",
     "status": "completed"
    },
    "tags": []
   },
   "outputs": [],
   "source": [
    "nb_test_proba = nb.predict_proba(X_test1)[:,1]"
   ]
  },
  {
   "cell_type": "code",
   "execution_count": 22,
   "id": "21cd4014",
   "metadata": {
    "execution": {
     "iopub.execute_input": "2024-01-07T10:18:11.282406Z",
     "iopub.status.busy": "2024-01-07T10:18:11.282075Z",
     "iopub.status.idle": "2024-01-07T10:18:13.210392Z",
     "shell.execute_reply": "2024-01-07T10:18:13.209561Z"
    },
    "id": "d87c5565",
    "papermill": {
     "duration": 1.945245,
     "end_time": "2024-01-07T10:18:13.212982",
     "exception": false,
     "start_time": "2024-01-07T10:18:11.267737",
     "status": "completed"
    },
    "tags": []
   },
   "outputs": [],
   "source": [
    "predict_and_save(nb_test_proba, 'nb_pred_bl.csv')"
   ]
  },
  {
   "cell_type": "markdown",
   "id": "196b9a10",
   "metadata": {
    "id": "773e6871",
    "papermill": {
     "duration": 0.012981,
     "end_time": "2024-01-07T10:18:13.244924",
     "exception": false,
     "start_time": "2024-01-07T10:18:13.231943",
     "status": "completed"
    },
    "tags": []
   },
   "source": [
    "### 2. Logistic Regression"
   ]
  },
  {
   "cell_type": "code",
   "execution_count": 23,
   "id": "f2efd863",
   "metadata": {
    "execution": {
     "iopub.execute_input": "2024-01-07T10:18:13.272570Z",
     "iopub.status.busy": "2024-01-07T10:18:13.272244Z",
     "iopub.status.idle": "2024-01-07T10:37:02.544354Z",
     "shell.execute_reply": "2024-01-07T10:37:02.543327Z"
    },
    "id": "ffe86e7b",
    "outputId": "2581b7b8-8daa-473d-ef00-d5961ac3f4b9",
    "papermill": {
     "duration": 1129.313148,
     "end_time": "2024-01-07T10:37:02.571143",
     "exception": false,
     "start_time": "2024-01-07T10:18:13.257995",
     "status": "completed"
    },
    "scrolled": true,
    "tags": []
   },
   "outputs": [
    {
     "name": "stderr",
     "output_type": "stream",
     "text": [
      "/opt/conda/lib/python3.10/site-packages/scipy/__init__.py:146: UserWarning: A NumPy version >=1.16.5 and <1.23.0 is required for this version of SciPy (detected version 1.24.3\n",
      "  warnings.warn(f\"A NumPy version >={np_minversion} and <{np_maxversion}\"\n",
      "/opt/conda/lib/python3.10/site-packages/sklearn/linear_model/_logistic.py:458: ConvergenceWarning: lbfgs failed to converge (status=1):\n",
      "STOP: TOTAL NO. of ITERATIONS REACHED LIMIT.\n",
      "\n",
      "Increase the number of iterations (max_iter) or scale the data as shown in:\n",
      "    https://scikit-learn.org/stable/modules/preprocessing.html\n",
      "Please also refer to the documentation for alternative solver options:\n",
      "    https://scikit-learn.org/stable/modules/linear_model.html#logistic-regression\n",
      "  n_iter_i = _check_optimize_result(\n"
     ]
    },
    {
     "data": {
      "text/html": [
       "<style>#sk-container-id-2 {color: black;background-color: white;}#sk-container-id-2 pre{padding: 0;}#sk-container-id-2 div.sk-toggleable {background-color: white;}#sk-container-id-2 label.sk-toggleable__label {cursor: pointer;display: block;width: 100%;margin-bottom: 0;padding: 0.3em;box-sizing: border-box;text-align: center;}#sk-container-id-2 label.sk-toggleable__label-arrow:before {content: \"▸\";float: left;margin-right: 0.25em;color: #696969;}#sk-container-id-2 label.sk-toggleable__label-arrow:hover:before {color: black;}#sk-container-id-2 div.sk-estimator:hover label.sk-toggleable__label-arrow:before {color: black;}#sk-container-id-2 div.sk-toggleable__content {max-height: 0;max-width: 0;overflow: hidden;text-align: left;background-color: #f0f8ff;}#sk-container-id-2 div.sk-toggleable__content pre {margin: 0.2em;color: black;border-radius: 0.25em;background-color: #f0f8ff;}#sk-container-id-2 input.sk-toggleable__control:checked~div.sk-toggleable__content {max-height: 200px;max-width: 100%;overflow: auto;}#sk-container-id-2 input.sk-toggleable__control:checked~label.sk-toggleable__label-arrow:before {content: \"▾\";}#sk-container-id-2 div.sk-estimator input.sk-toggleable__control:checked~label.sk-toggleable__label {background-color: #d4ebff;}#sk-container-id-2 div.sk-label input.sk-toggleable__control:checked~label.sk-toggleable__label {background-color: #d4ebff;}#sk-container-id-2 input.sk-hidden--visually {border: 0;clip: rect(1px 1px 1px 1px);clip: rect(1px, 1px, 1px, 1px);height: 1px;margin: -1px;overflow: hidden;padding: 0;position: absolute;width: 1px;}#sk-container-id-2 div.sk-estimator {font-family: monospace;background-color: #f0f8ff;border: 1px dotted black;border-radius: 0.25em;box-sizing: border-box;margin-bottom: 0.5em;}#sk-container-id-2 div.sk-estimator:hover {background-color: #d4ebff;}#sk-container-id-2 div.sk-parallel-item::after {content: \"\";width: 100%;border-bottom: 1px solid gray;flex-grow: 1;}#sk-container-id-2 div.sk-label:hover label.sk-toggleable__label {background-color: #d4ebff;}#sk-container-id-2 div.sk-serial::before {content: \"\";position: absolute;border-left: 1px solid gray;box-sizing: border-box;top: 0;bottom: 0;left: 50%;z-index: 0;}#sk-container-id-2 div.sk-serial {display: flex;flex-direction: column;align-items: center;background-color: white;padding-right: 0.2em;padding-left: 0.2em;position: relative;}#sk-container-id-2 div.sk-item {position: relative;z-index: 1;}#sk-container-id-2 div.sk-parallel {display: flex;align-items: stretch;justify-content: center;background-color: white;position: relative;}#sk-container-id-2 div.sk-item::before, #sk-container-id-2 div.sk-parallel-item::before {content: \"\";position: absolute;border-left: 1px solid gray;box-sizing: border-box;top: 0;bottom: 0;left: 50%;z-index: -1;}#sk-container-id-2 div.sk-parallel-item {display: flex;flex-direction: column;z-index: 1;position: relative;background-color: white;}#sk-container-id-2 div.sk-parallel-item:first-child::after {align-self: flex-end;width: 50%;}#sk-container-id-2 div.sk-parallel-item:last-child::after {align-self: flex-start;width: 50%;}#sk-container-id-2 div.sk-parallel-item:only-child::after {width: 0;}#sk-container-id-2 div.sk-dashed-wrapped {border: 1px dashed gray;margin: 0 0.4em 0.5em 0.4em;box-sizing: border-box;padding-bottom: 0.4em;background-color: white;}#sk-container-id-2 div.sk-label label {font-family: monospace;font-weight: bold;display: inline-block;line-height: 1.2em;}#sk-container-id-2 div.sk-label-container {text-align: center;}#sk-container-id-2 div.sk-container {/* jupyter's `normalize.less` sets `[hidden] { display: none; }` but bootstrap.min.css set `[hidden] { display: none !important; }` so we also need the `!important` here to be able to override the default hidden behavior on the sphinx rendered scikit-learn.org. See: https://github.com/scikit-learn/scikit-learn/issues/21755 */display: inline-block !important;position: relative;}#sk-container-id-2 div.sk-text-repr-fallback {display: none;}</style><div id=\"sk-container-id-2\" class=\"sk-top-container\"><div class=\"sk-text-repr-fallback\"><pre>LogisticRegression(class_weight=&#x27;balanced&#x27;, max_iter=3000, n_jobs=-1,\n",
       "                   random_state=3)</pre><b>In a Jupyter environment, please rerun this cell to show the HTML representation or trust the notebook. <br />On GitHub, the HTML representation is unable to render, please try loading this page with nbviewer.org.</b></div><div class=\"sk-container\" hidden><div class=\"sk-item\"><div class=\"sk-estimator sk-toggleable\"><input class=\"sk-toggleable__control sk-hidden--visually\" id=\"sk-estimator-id-2\" type=\"checkbox\" checked><label for=\"sk-estimator-id-2\" class=\"sk-toggleable__label sk-toggleable__label-arrow\">LogisticRegression</label><div class=\"sk-toggleable__content\"><pre>LogisticRegression(class_weight=&#x27;balanced&#x27;, max_iter=3000, n_jobs=-1,\n",
       "                   random_state=3)</pre></div></div></div></div></div>"
      ],
      "text/plain": [
       "LogisticRegression(class_weight='balanced', max_iter=3000, n_jobs=-1,\n",
       "                   random_state=3)"
      ]
     },
     "execution_count": 23,
     "metadata": {},
     "output_type": "execute_result"
    }
   ],
   "source": [
    "lr = LogisticRegression(n_jobs = -1, class_weight = 'balanced', random_state = 3, solver='lbfgs', max_iter=3000) \n",
    "lr.fit(X_train1, y_train)"
   ]
  },
  {
   "cell_type": "code",
   "execution_count": 24,
   "id": "168ee96d",
   "metadata": {
    "execution": {
     "iopub.execute_input": "2024-01-07T10:37:02.605488Z",
     "iopub.status.busy": "2024-01-07T10:37:02.604598Z",
     "iopub.status.idle": "2024-01-07T10:37:03.316099Z",
     "shell.execute_reply": "2024-01-07T10:37:03.314762Z"
    },
    "id": "82b04f35",
    "papermill": {
     "duration": 0.731073,
     "end_time": "2024-01-07T10:37:03.320403",
     "exception": false,
     "start_time": "2024-01-07T10:37:02.589330",
     "status": "completed"
    },
    "tags": []
   },
   "outputs": [],
   "source": [
    "lr_test_proba = lr.predict_proba(X_test1)[:,1]"
   ]
  },
  {
   "cell_type": "code",
   "execution_count": 25,
   "id": "d9cf647d",
   "metadata": {
    "execution": {
     "iopub.execute_input": "2024-01-07T10:37:03.382221Z",
     "iopub.status.busy": "2024-01-07T10:37:03.381471Z",
     "iopub.status.idle": "2024-01-07T10:37:05.300210Z",
     "shell.execute_reply": "2024-01-07T10:37:05.299332Z"
    },
    "id": "8441e4ca",
    "papermill": {
     "duration": 1.952017,
     "end_time": "2024-01-07T10:37:05.302704",
     "exception": false,
     "start_time": "2024-01-07T10:37:03.350687",
     "status": "completed"
    },
    "tags": []
   },
   "outputs": [],
   "source": [
    "predict_and_save(lr_test_proba, 'lr_pred_bl.csv')"
   ]
  },
  {
   "cell_type": "markdown",
   "id": "82280ef8",
   "metadata": {
    "id": "bfec8799",
    "papermill": {
     "duration": 0.015648,
     "end_time": "2024-01-07T10:37:05.334022",
     "exception": false,
     "start_time": "2024-01-07T10:37:05.318374",
     "status": "completed"
    },
    "tags": []
   },
   "source": [
    "### 3. Decision Tree"
   ]
  },
  {
   "cell_type": "code",
   "execution_count": 26,
   "id": "baf1efb1",
   "metadata": {
    "execution": {
     "iopub.execute_input": "2024-01-07T10:37:05.366640Z",
     "iopub.status.busy": "2024-01-07T10:37:05.365856Z",
     "iopub.status.idle": "2024-01-07T10:38:31.054385Z",
     "shell.execute_reply": "2024-01-07T10:38:31.053419Z"
    },
    "id": "efb16011",
    "outputId": "51e48561-7438-4747-90e3-e3534ef385f0",
    "papermill": {
     "duration": 85.720798,
     "end_time": "2024-01-07T10:38:31.070138",
     "exception": false,
     "start_time": "2024-01-07T10:37:05.349340",
     "status": "completed"
    },
    "scrolled": true,
    "tags": []
   },
   "outputs": [
    {
     "data": {
      "text/html": [
       "<style>#sk-container-id-3 {color: black;background-color: white;}#sk-container-id-3 pre{padding: 0;}#sk-container-id-3 div.sk-toggleable {background-color: white;}#sk-container-id-3 label.sk-toggleable__label {cursor: pointer;display: block;width: 100%;margin-bottom: 0;padding: 0.3em;box-sizing: border-box;text-align: center;}#sk-container-id-3 label.sk-toggleable__label-arrow:before {content: \"▸\";float: left;margin-right: 0.25em;color: #696969;}#sk-container-id-3 label.sk-toggleable__label-arrow:hover:before {color: black;}#sk-container-id-3 div.sk-estimator:hover label.sk-toggleable__label-arrow:before {color: black;}#sk-container-id-3 div.sk-toggleable__content {max-height: 0;max-width: 0;overflow: hidden;text-align: left;background-color: #f0f8ff;}#sk-container-id-3 div.sk-toggleable__content pre {margin: 0.2em;color: black;border-radius: 0.25em;background-color: #f0f8ff;}#sk-container-id-3 input.sk-toggleable__control:checked~div.sk-toggleable__content {max-height: 200px;max-width: 100%;overflow: auto;}#sk-container-id-3 input.sk-toggleable__control:checked~label.sk-toggleable__label-arrow:before {content: \"▾\";}#sk-container-id-3 div.sk-estimator input.sk-toggleable__control:checked~label.sk-toggleable__label {background-color: #d4ebff;}#sk-container-id-3 div.sk-label input.sk-toggleable__control:checked~label.sk-toggleable__label {background-color: #d4ebff;}#sk-container-id-3 input.sk-hidden--visually {border: 0;clip: rect(1px 1px 1px 1px);clip: rect(1px, 1px, 1px, 1px);height: 1px;margin: -1px;overflow: hidden;padding: 0;position: absolute;width: 1px;}#sk-container-id-3 div.sk-estimator {font-family: monospace;background-color: #f0f8ff;border: 1px dotted black;border-radius: 0.25em;box-sizing: border-box;margin-bottom: 0.5em;}#sk-container-id-3 div.sk-estimator:hover {background-color: #d4ebff;}#sk-container-id-3 div.sk-parallel-item::after {content: \"\";width: 100%;border-bottom: 1px solid gray;flex-grow: 1;}#sk-container-id-3 div.sk-label:hover label.sk-toggleable__label {background-color: #d4ebff;}#sk-container-id-3 div.sk-serial::before {content: \"\";position: absolute;border-left: 1px solid gray;box-sizing: border-box;top: 0;bottom: 0;left: 50%;z-index: 0;}#sk-container-id-3 div.sk-serial {display: flex;flex-direction: column;align-items: center;background-color: white;padding-right: 0.2em;padding-left: 0.2em;position: relative;}#sk-container-id-3 div.sk-item {position: relative;z-index: 1;}#sk-container-id-3 div.sk-parallel {display: flex;align-items: stretch;justify-content: center;background-color: white;position: relative;}#sk-container-id-3 div.sk-item::before, #sk-container-id-3 div.sk-parallel-item::before {content: \"\";position: absolute;border-left: 1px solid gray;box-sizing: border-box;top: 0;bottom: 0;left: 50%;z-index: -1;}#sk-container-id-3 div.sk-parallel-item {display: flex;flex-direction: column;z-index: 1;position: relative;background-color: white;}#sk-container-id-3 div.sk-parallel-item:first-child::after {align-self: flex-end;width: 50%;}#sk-container-id-3 div.sk-parallel-item:last-child::after {align-self: flex-start;width: 50%;}#sk-container-id-3 div.sk-parallel-item:only-child::after {width: 0;}#sk-container-id-3 div.sk-dashed-wrapped {border: 1px dashed gray;margin: 0 0.4em 0.5em 0.4em;box-sizing: border-box;padding-bottom: 0.4em;background-color: white;}#sk-container-id-3 div.sk-label label {font-family: monospace;font-weight: bold;display: inline-block;line-height: 1.2em;}#sk-container-id-3 div.sk-label-container {text-align: center;}#sk-container-id-3 div.sk-container {/* jupyter's `normalize.less` sets `[hidden] { display: none; }` but bootstrap.min.css set `[hidden] { display: none !important; }` so we also need the `!important` here to be able to override the default hidden behavior on the sphinx rendered scikit-learn.org. See: https://github.com/scikit-learn/scikit-learn/issues/21755 */display: inline-block !important;position: relative;}#sk-container-id-3 div.sk-text-repr-fallback {display: none;}</style><div id=\"sk-container-id-3\" class=\"sk-top-container\"><div class=\"sk-text-repr-fallback\"><pre>DecisionTreeClassifier(class_weight=&#x27;balanced&#x27;, random_state=3)</pre><b>In a Jupyter environment, please rerun this cell to show the HTML representation or trust the notebook. <br />On GitHub, the HTML representation is unable to render, please try loading this page with nbviewer.org.</b></div><div class=\"sk-container\" hidden><div class=\"sk-item\"><div class=\"sk-estimator sk-toggleable\"><input class=\"sk-toggleable__control sk-hidden--visually\" id=\"sk-estimator-id-3\" type=\"checkbox\" checked><label for=\"sk-estimator-id-3\" class=\"sk-toggleable__label sk-toggleable__label-arrow\">DecisionTreeClassifier</label><div class=\"sk-toggleable__content\"><pre>DecisionTreeClassifier(class_weight=&#x27;balanced&#x27;, random_state=3)</pre></div></div></div></div></div>"
      ],
      "text/plain": [
       "DecisionTreeClassifier(class_weight='balanced', random_state=3)"
      ]
     },
     "execution_count": 26,
     "metadata": {},
     "output_type": "execute_result"
    }
   ],
   "source": [
    "dt =  DecisionTreeClassifier(random_state=3, class_weight='balanced')\n",
    "dt.fit(X_train2, y_train)"
   ]
  },
  {
   "cell_type": "code",
   "execution_count": 27,
   "id": "dba4ff04",
   "metadata": {
    "execution": {
     "iopub.execute_input": "2024-01-07T10:38:31.099312Z",
     "iopub.status.busy": "2024-01-07T10:38:31.098540Z",
     "iopub.status.idle": "2024-01-07T10:38:32.109425Z",
     "shell.execute_reply": "2024-01-07T10:38:32.108595Z"
    },
    "id": "23965755",
    "papermill": {
     "duration": 1.02784,
     "end_time": "2024-01-07T10:38:32.111642",
     "exception": false,
     "start_time": "2024-01-07T10:38:31.083802",
     "status": "completed"
    },
    "tags": []
   },
   "outputs": [],
   "source": [
    "dt_test_proba = dt.predict_proba(X_test2)[:,1]"
   ]
  },
  {
   "cell_type": "code",
   "execution_count": 28,
   "id": "1d408a1a",
   "metadata": {
    "execution": {
     "iopub.execute_input": "2024-01-07T10:38:32.140971Z",
     "iopub.status.busy": "2024-01-07T10:38:32.140664Z",
     "iopub.status.idle": "2024-01-07T10:38:33.336331Z",
     "shell.execute_reply": "2024-01-07T10:38:33.335235Z"
    },
    "id": "3yHe8gNOH8Fl",
    "papermill": {
     "duration": 1.212897,
     "end_time": "2024-01-07T10:38:33.338712",
     "exception": false,
     "start_time": "2024-01-07T10:38:32.125815",
     "status": "completed"
    },
    "tags": []
   },
   "outputs": [],
   "source": [
    "predict_and_save(dt_test_proba, 'dt_pred_bl.csv')"
   ]
  },
  {
   "cell_type": "markdown",
   "id": "5d58e3bd",
   "metadata": {
    "id": "2ae3eb8c",
    "papermill": {
     "duration": 0.013732,
     "end_time": "2024-01-07T10:38:33.366482",
     "exception": false,
     "start_time": "2024-01-07T10:38:33.352750",
     "status": "completed"
    },
    "tags": []
   },
   "source": [
    "### 4. Random Forest"
   ]
  },
  {
   "cell_type": "code",
   "execution_count": 29,
   "id": "4ad0bd87",
   "metadata": {
    "execution": {
     "iopub.execute_input": "2024-01-07T10:38:33.396072Z",
     "iopub.status.busy": "2024-01-07T10:38:33.395288Z",
     "iopub.status.idle": "2024-01-07T10:40:51.172071Z",
     "shell.execute_reply": "2024-01-07T10:40:51.171084Z"
    },
    "id": "dc4b60d0",
    "outputId": "0ef5eb03-9917-4a33-ba85-75a4a298f398",
    "papermill": {
     "duration": 137.807833,
     "end_time": "2024-01-07T10:40:51.188015",
     "exception": false,
     "start_time": "2024-01-07T10:38:33.380182",
     "status": "completed"
    },
    "tags": []
   },
   "outputs": [
    {
     "data": {
      "text/html": [
       "<style>#sk-container-id-4 {color: black;background-color: white;}#sk-container-id-4 pre{padding: 0;}#sk-container-id-4 div.sk-toggleable {background-color: white;}#sk-container-id-4 label.sk-toggleable__label {cursor: pointer;display: block;width: 100%;margin-bottom: 0;padding: 0.3em;box-sizing: border-box;text-align: center;}#sk-container-id-4 label.sk-toggleable__label-arrow:before {content: \"▸\";float: left;margin-right: 0.25em;color: #696969;}#sk-container-id-4 label.sk-toggleable__label-arrow:hover:before {color: black;}#sk-container-id-4 div.sk-estimator:hover label.sk-toggleable__label-arrow:before {color: black;}#sk-container-id-4 div.sk-toggleable__content {max-height: 0;max-width: 0;overflow: hidden;text-align: left;background-color: #f0f8ff;}#sk-container-id-4 div.sk-toggleable__content pre {margin: 0.2em;color: black;border-radius: 0.25em;background-color: #f0f8ff;}#sk-container-id-4 input.sk-toggleable__control:checked~div.sk-toggleable__content {max-height: 200px;max-width: 100%;overflow: auto;}#sk-container-id-4 input.sk-toggleable__control:checked~label.sk-toggleable__label-arrow:before {content: \"▾\";}#sk-container-id-4 div.sk-estimator input.sk-toggleable__control:checked~label.sk-toggleable__label {background-color: #d4ebff;}#sk-container-id-4 div.sk-label input.sk-toggleable__control:checked~label.sk-toggleable__label {background-color: #d4ebff;}#sk-container-id-4 input.sk-hidden--visually {border: 0;clip: rect(1px 1px 1px 1px);clip: rect(1px, 1px, 1px, 1px);height: 1px;margin: -1px;overflow: hidden;padding: 0;position: absolute;width: 1px;}#sk-container-id-4 div.sk-estimator {font-family: monospace;background-color: #f0f8ff;border: 1px dotted black;border-radius: 0.25em;box-sizing: border-box;margin-bottom: 0.5em;}#sk-container-id-4 div.sk-estimator:hover {background-color: #d4ebff;}#sk-container-id-4 div.sk-parallel-item::after {content: \"\";width: 100%;border-bottom: 1px solid gray;flex-grow: 1;}#sk-container-id-4 div.sk-label:hover label.sk-toggleable__label {background-color: #d4ebff;}#sk-container-id-4 div.sk-serial::before {content: \"\";position: absolute;border-left: 1px solid gray;box-sizing: border-box;top: 0;bottom: 0;left: 50%;z-index: 0;}#sk-container-id-4 div.sk-serial {display: flex;flex-direction: column;align-items: center;background-color: white;padding-right: 0.2em;padding-left: 0.2em;position: relative;}#sk-container-id-4 div.sk-item {position: relative;z-index: 1;}#sk-container-id-4 div.sk-parallel {display: flex;align-items: stretch;justify-content: center;background-color: white;position: relative;}#sk-container-id-4 div.sk-item::before, #sk-container-id-4 div.sk-parallel-item::before {content: \"\";position: absolute;border-left: 1px solid gray;box-sizing: border-box;top: 0;bottom: 0;left: 50%;z-index: -1;}#sk-container-id-4 div.sk-parallel-item {display: flex;flex-direction: column;z-index: 1;position: relative;background-color: white;}#sk-container-id-4 div.sk-parallel-item:first-child::after {align-self: flex-end;width: 50%;}#sk-container-id-4 div.sk-parallel-item:last-child::after {align-self: flex-start;width: 50%;}#sk-container-id-4 div.sk-parallel-item:only-child::after {width: 0;}#sk-container-id-4 div.sk-dashed-wrapped {border: 1px dashed gray;margin: 0 0.4em 0.5em 0.4em;box-sizing: border-box;padding-bottom: 0.4em;background-color: white;}#sk-container-id-4 div.sk-label label {font-family: monospace;font-weight: bold;display: inline-block;line-height: 1.2em;}#sk-container-id-4 div.sk-label-container {text-align: center;}#sk-container-id-4 div.sk-container {/* jupyter's `normalize.less` sets `[hidden] { display: none; }` but bootstrap.min.css set `[hidden] { display: none !important; }` so we also need the `!important` here to be able to override the default hidden behavior on the sphinx rendered scikit-learn.org. See: https://github.com/scikit-learn/scikit-learn/issues/21755 */display: inline-block !important;position: relative;}#sk-container-id-4 div.sk-text-repr-fallback {display: none;}</style><div id=\"sk-container-id-4\" class=\"sk-top-container\"><div class=\"sk-text-repr-fallback\"><pre>RandomForestClassifier(class_weight=&#x27;balanced&#x27;, n_jobs=-1, random_state=3)</pre><b>In a Jupyter environment, please rerun this cell to show the HTML representation or trust the notebook. <br />On GitHub, the HTML representation is unable to render, please try loading this page with nbviewer.org.</b></div><div class=\"sk-container\" hidden><div class=\"sk-item\"><div class=\"sk-estimator sk-toggleable\"><input class=\"sk-toggleable__control sk-hidden--visually\" id=\"sk-estimator-id-4\" type=\"checkbox\" checked><label for=\"sk-estimator-id-4\" class=\"sk-toggleable__label sk-toggleable__label-arrow\">RandomForestClassifier</label><div class=\"sk-toggleable__content\"><pre>RandomForestClassifier(class_weight=&#x27;balanced&#x27;, n_jobs=-1, random_state=3)</pre></div></div></div></div></div>"
      ],
      "text/plain": [
       "RandomForestClassifier(class_weight='balanced', n_jobs=-1, random_state=3)"
      ]
     },
     "execution_count": 29,
     "metadata": {},
     "output_type": "execute_result"
    }
   ],
   "source": [
    "rf =  RandomForestClassifier(n_jobs = -1, class_weight = 'balanced', random_state = 3)\n",
    "rf.fit(X_train2, y_train)"
   ]
  },
  {
   "cell_type": "code",
   "execution_count": 30,
   "id": "b2f00f59",
   "metadata": {
    "execution": {
     "iopub.execute_input": "2024-01-07T10:40:51.217182Z",
     "iopub.status.busy": "2024-01-07T10:40:51.216836Z",
     "iopub.status.idle": "2024-01-07T10:40:58.244236Z",
     "shell.execute_reply": "2024-01-07T10:40:58.243439Z"
    },
    "id": "ac0cd53a",
    "papermill": {
     "duration": 7.045029,
     "end_time": "2024-01-07T10:40:58.246889",
     "exception": false,
     "start_time": "2024-01-07T10:40:51.201860",
     "status": "completed"
    },
    "tags": []
   },
   "outputs": [],
   "source": [
    "rf_test_proba = rf.predict_proba(X_test2)[:,1]"
   ]
  },
  {
   "cell_type": "code",
   "execution_count": 31,
   "id": "74c7864d",
   "metadata": {
    "execution": {
     "iopub.execute_input": "2024-01-07T10:40:58.276701Z",
     "iopub.status.busy": "2024-01-07T10:40:58.276388Z",
     "iopub.status.idle": "2024-01-07T10:40:59.569087Z",
     "shell.execute_reply": "2024-01-07T10:40:59.568059Z"
    },
    "id": "PU_on3-vH8Fn",
    "papermill": {
     "duration": 1.310092,
     "end_time": "2024-01-07T10:40:59.571434",
     "exception": false,
     "start_time": "2024-01-07T10:40:58.261342",
     "status": "completed"
    },
    "tags": []
   },
   "outputs": [],
   "source": [
    "predict_and_save(rf_test_proba, 'rf_pred_bl.csv')"
   ]
  },
  {
   "cell_type": "markdown",
   "id": "61f2352f",
   "metadata": {
    "id": "56ea2aee",
    "papermill": {
     "duration": 0.013768,
     "end_time": "2024-01-07T10:40:59.599528",
     "exception": false,
     "start_time": "2024-01-07T10:40:59.585760",
     "status": "completed"
    },
    "tags": []
   },
   "source": [
    "### 5. Adaptive Boosting"
   ]
  },
  {
   "cell_type": "code",
   "execution_count": 32,
   "id": "e920a039",
   "metadata": {
    "execution": {
     "iopub.execute_input": "2024-01-07T10:40:59.629232Z",
     "iopub.status.busy": "2024-01-07T10:40:59.628347Z",
     "iopub.status.idle": "2024-01-07T10:45:49.270071Z",
     "shell.execute_reply": "2024-01-07T10:45:49.269043Z"
    },
    "id": "2be1c5c7",
    "outputId": "b25c7d0a-91f0-42b1-9b73-0299c745a092",
    "papermill": {
     "duration": 289.680063,
     "end_time": "2024-01-07T10:45:49.293482",
     "exception": false,
     "start_time": "2024-01-07T10:40:59.613419",
     "status": "completed"
    },
    "tags": []
   },
   "outputs": [
    {
     "data": {
      "text/html": [
       "<style>#sk-container-id-5 {color: black;background-color: white;}#sk-container-id-5 pre{padding: 0;}#sk-container-id-5 div.sk-toggleable {background-color: white;}#sk-container-id-5 label.sk-toggleable__label {cursor: pointer;display: block;width: 100%;margin-bottom: 0;padding: 0.3em;box-sizing: border-box;text-align: center;}#sk-container-id-5 label.sk-toggleable__label-arrow:before {content: \"▸\";float: left;margin-right: 0.25em;color: #696969;}#sk-container-id-5 label.sk-toggleable__label-arrow:hover:before {color: black;}#sk-container-id-5 div.sk-estimator:hover label.sk-toggleable__label-arrow:before {color: black;}#sk-container-id-5 div.sk-toggleable__content {max-height: 0;max-width: 0;overflow: hidden;text-align: left;background-color: #f0f8ff;}#sk-container-id-5 div.sk-toggleable__content pre {margin: 0.2em;color: black;border-radius: 0.25em;background-color: #f0f8ff;}#sk-container-id-5 input.sk-toggleable__control:checked~div.sk-toggleable__content {max-height: 200px;max-width: 100%;overflow: auto;}#sk-container-id-5 input.sk-toggleable__control:checked~label.sk-toggleable__label-arrow:before {content: \"▾\";}#sk-container-id-5 div.sk-estimator input.sk-toggleable__control:checked~label.sk-toggleable__label {background-color: #d4ebff;}#sk-container-id-5 div.sk-label input.sk-toggleable__control:checked~label.sk-toggleable__label {background-color: #d4ebff;}#sk-container-id-5 input.sk-hidden--visually {border: 0;clip: rect(1px 1px 1px 1px);clip: rect(1px, 1px, 1px, 1px);height: 1px;margin: -1px;overflow: hidden;padding: 0;position: absolute;width: 1px;}#sk-container-id-5 div.sk-estimator {font-family: monospace;background-color: #f0f8ff;border: 1px dotted black;border-radius: 0.25em;box-sizing: border-box;margin-bottom: 0.5em;}#sk-container-id-5 div.sk-estimator:hover {background-color: #d4ebff;}#sk-container-id-5 div.sk-parallel-item::after {content: \"\";width: 100%;border-bottom: 1px solid gray;flex-grow: 1;}#sk-container-id-5 div.sk-label:hover label.sk-toggleable__label {background-color: #d4ebff;}#sk-container-id-5 div.sk-serial::before {content: \"\";position: absolute;border-left: 1px solid gray;box-sizing: border-box;top: 0;bottom: 0;left: 50%;z-index: 0;}#sk-container-id-5 div.sk-serial {display: flex;flex-direction: column;align-items: center;background-color: white;padding-right: 0.2em;padding-left: 0.2em;position: relative;}#sk-container-id-5 div.sk-item {position: relative;z-index: 1;}#sk-container-id-5 div.sk-parallel {display: flex;align-items: stretch;justify-content: center;background-color: white;position: relative;}#sk-container-id-5 div.sk-item::before, #sk-container-id-5 div.sk-parallel-item::before {content: \"\";position: absolute;border-left: 1px solid gray;box-sizing: border-box;top: 0;bottom: 0;left: 50%;z-index: -1;}#sk-container-id-5 div.sk-parallel-item {display: flex;flex-direction: column;z-index: 1;position: relative;background-color: white;}#sk-container-id-5 div.sk-parallel-item:first-child::after {align-self: flex-end;width: 50%;}#sk-container-id-5 div.sk-parallel-item:last-child::after {align-self: flex-start;width: 50%;}#sk-container-id-5 div.sk-parallel-item:only-child::after {width: 0;}#sk-container-id-5 div.sk-dashed-wrapped {border: 1px dashed gray;margin: 0 0.4em 0.5em 0.4em;box-sizing: border-box;padding-bottom: 0.4em;background-color: white;}#sk-container-id-5 div.sk-label label {font-family: monospace;font-weight: bold;display: inline-block;line-height: 1.2em;}#sk-container-id-5 div.sk-label-container {text-align: center;}#sk-container-id-5 div.sk-container {/* jupyter's `normalize.less` sets `[hidden] { display: none; }` but bootstrap.min.css set `[hidden] { display: none !important; }` so we also need the `!important` here to be able to override the default hidden behavior on the sphinx rendered scikit-learn.org. See: https://github.com/scikit-learn/scikit-learn/issues/21755 */display: inline-block !important;position: relative;}#sk-container-id-5 div.sk-text-repr-fallback {display: none;}</style><div id=\"sk-container-id-5\" class=\"sk-top-container\"><div class=\"sk-text-repr-fallback\"><pre>AdaBoostClassifier(random_state=3)</pre><b>In a Jupyter environment, please rerun this cell to show the HTML representation or trust the notebook. <br />On GitHub, the HTML representation is unable to render, please try loading this page with nbviewer.org.</b></div><div class=\"sk-container\" hidden><div class=\"sk-item\"><div class=\"sk-estimator sk-toggleable\"><input class=\"sk-toggleable__control sk-hidden--visually\" id=\"sk-estimator-id-5\" type=\"checkbox\" checked><label for=\"sk-estimator-id-5\" class=\"sk-toggleable__label sk-toggleable__label-arrow\">AdaBoostClassifier</label><div class=\"sk-toggleable__content\"><pre>AdaBoostClassifier(random_state=3)</pre></div></div></div></div></div>"
      ],
      "text/plain": [
       "AdaBoostClassifier(random_state=3)"
      ]
     },
     "execution_count": 32,
     "metadata": {},
     "output_type": "execute_result"
    }
   ],
   "source": [
    "ab =  AdaBoostClassifier(random_state = 3)\n",
    "ab.fit(X_train2, y_train)"
   ]
  },
  {
   "cell_type": "code",
   "execution_count": 33,
   "id": "6e9626f5",
   "metadata": {
    "execution": {
     "iopub.execute_input": "2024-01-07T10:45:49.327249Z",
     "iopub.status.busy": "2024-01-07T10:45:49.326858Z",
     "iopub.status.idle": "2024-01-07T10:46:10.629614Z",
     "shell.execute_reply": "2024-01-07T10:46:10.628757Z"
    },
    "id": "6046bc34",
    "papermill": {
     "duration": 21.320557,
     "end_time": "2024-01-07T10:46:10.631961",
     "exception": false,
     "start_time": "2024-01-07T10:45:49.311404",
     "status": "completed"
    },
    "tags": []
   },
   "outputs": [],
   "source": [
    "ab_test_proba = ab.predict_proba(X_test2)[:,1]"
   ]
  },
  {
   "cell_type": "code",
   "execution_count": 34,
   "id": "d79d45b8",
   "metadata": {
    "execution": {
     "iopub.execute_input": "2024-01-07T10:46:10.661984Z",
     "iopub.status.busy": "2024-01-07T10:46:10.661657Z",
     "iopub.status.idle": "2024-01-07T10:46:12.517316Z",
     "shell.execute_reply": "2024-01-07T10:46:12.516525Z"
    },
    "id": "rGJKo8uoH8Fq",
    "papermill": {
     "duration": 1.873262,
     "end_time": "2024-01-07T10:46:12.519667",
     "exception": false,
     "start_time": "2024-01-07T10:46:10.646405",
     "status": "completed"
    },
    "tags": []
   },
   "outputs": [],
   "source": [
    "predict_and_save(ab_test_proba, 'ab_pred_bl.csv')"
   ]
  },
  {
   "cell_type": "markdown",
   "id": "6c913086",
   "metadata": {
    "id": "1a02f819",
    "papermill": {
     "duration": 0.014143,
     "end_time": "2024-01-07T10:46:12.548980",
     "exception": false,
     "start_time": "2024-01-07T10:46:12.534837",
     "status": "completed"
    },
    "tags": []
   },
   "source": [
    "### 6. Gradient Boosted Decision Tree (XGBoost)"
   ]
  },
  {
   "cell_type": "code",
   "execution_count": 35,
   "id": "8916a0b9",
   "metadata": {
    "execution": {
     "iopub.execute_input": "2024-01-07T10:46:12.579341Z",
     "iopub.status.busy": "2024-01-07T10:46:12.578434Z",
     "iopub.status.idle": "2024-01-07T10:46:12.596000Z",
     "shell.execute_reply": "2024-01-07T10:46:12.595071Z"
    },
    "id": "b6d72d7e",
    "papermill": {
     "duration": 0.035005,
     "end_time": "2024-01-07T10:46:12.597927",
     "exception": false,
     "start_time": "2024-01-07T10:46:12.562922",
     "status": "completed"
    },
    "tags": []
   },
   "outputs": [],
   "source": [
    "weight = y_train.value_counts()[0]/y_train.value_counts()[1]"
   ]
  },
  {
   "cell_type": "code",
   "execution_count": 36,
   "id": "c4f6fa0c",
   "metadata": {
    "execution": {
     "iopub.execute_input": "2024-01-07T10:46:12.627673Z",
     "iopub.status.busy": "2024-01-07T10:46:12.627355Z",
     "iopub.status.idle": "2024-01-07T10:46:34.597623Z",
     "shell.execute_reply": "2024-01-07T10:46:34.596697Z"
    },
    "id": "6b91aa61",
    "outputId": "2375d62a-c3a5-4d35-b6b5-00b032fdc0d9",
    "papermill": {
     "duration": 21.987767,
     "end_time": "2024-01-07T10:46:34.599863",
     "exception": false,
     "start_time": "2024-01-07T10:46:12.612096",
     "status": "completed"
    },
    "tags": []
   },
   "outputs": [
    {
     "data": {
      "text/html": [
       "<style>#sk-container-id-6 {color: black;background-color: white;}#sk-container-id-6 pre{padding: 0;}#sk-container-id-6 div.sk-toggleable {background-color: white;}#sk-container-id-6 label.sk-toggleable__label {cursor: pointer;display: block;width: 100%;margin-bottom: 0;padding: 0.3em;box-sizing: border-box;text-align: center;}#sk-container-id-6 label.sk-toggleable__label-arrow:before {content: \"▸\";float: left;margin-right: 0.25em;color: #696969;}#sk-container-id-6 label.sk-toggleable__label-arrow:hover:before {color: black;}#sk-container-id-6 div.sk-estimator:hover label.sk-toggleable__label-arrow:before {color: black;}#sk-container-id-6 div.sk-toggleable__content {max-height: 0;max-width: 0;overflow: hidden;text-align: left;background-color: #f0f8ff;}#sk-container-id-6 div.sk-toggleable__content pre {margin: 0.2em;color: black;border-radius: 0.25em;background-color: #f0f8ff;}#sk-container-id-6 input.sk-toggleable__control:checked~div.sk-toggleable__content {max-height: 200px;max-width: 100%;overflow: auto;}#sk-container-id-6 input.sk-toggleable__control:checked~label.sk-toggleable__label-arrow:before {content: \"▾\";}#sk-container-id-6 div.sk-estimator input.sk-toggleable__control:checked~label.sk-toggleable__label {background-color: #d4ebff;}#sk-container-id-6 div.sk-label input.sk-toggleable__control:checked~label.sk-toggleable__label {background-color: #d4ebff;}#sk-container-id-6 input.sk-hidden--visually {border: 0;clip: rect(1px 1px 1px 1px);clip: rect(1px, 1px, 1px, 1px);height: 1px;margin: -1px;overflow: hidden;padding: 0;position: absolute;width: 1px;}#sk-container-id-6 div.sk-estimator {font-family: monospace;background-color: #f0f8ff;border: 1px dotted black;border-radius: 0.25em;box-sizing: border-box;margin-bottom: 0.5em;}#sk-container-id-6 div.sk-estimator:hover {background-color: #d4ebff;}#sk-container-id-6 div.sk-parallel-item::after {content: \"\";width: 100%;border-bottom: 1px solid gray;flex-grow: 1;}#sk-container-id-6 div.sk-label:hover label.sk-toggleable__label {background-color: #d4ebff;}#sk-container-id-6 div.sk-serial::before {content: \"\";position: absolute;border-left: 1px solid gray;box-sizing: border-box;top: 0;bottom: 0;left: 50%;z-index: 0;}#sk-container-id-6 div.sk-serial {display: flex;flex-direction: column;align-items: center;background-color: white;padding-right: 0.2em;padding-left: 0.2em;position: relative;}#sk-container-id-6 div.sk-item {position: relative;z-index: 1;}#sk-container-id-6 div.sk-parallel {display: flex;align-items: stretch;justify-content: center;background-color: white;position: relative;}#sk-container-id-6 div.sk-item::before, #sk-container-id-6 div.sk-parallel-item::before {content: \"\";position: absolute;border-left: 1px solid gray;box-sizing: border-box;top: 0;bottom: 0;left: 50%;z-index: -1;}#sk-container-id-6 div.sk-parallel-item {display: flex;flex-direction: column;z-index: 1;position: relative;background-color: white;}#sk-container-id-6 div.sk-parallel-item:first-child::after {align-self: flex-end;width: 50%;}#sk-container-id-6 div.sk-parallel-item:last-child::after {align-self: flex-start;width: 50%;}#sk-container-id-6 div.sk-parallel-item:only-child::after {width: 0;}#sk-container-id-6 div.sk-dashed-wrapped {border: 1px dashed gray;margin: 0 0.4em 0.5em 0.4em;box-sizing: border-box;padding-bottom: 0.4em;background-color: white;}#sk-container-id-6 div.sk-label label {font-family: monospace;font-weight: bold;display: inline-block;line-height: 1.2em;}#sk-container-id-6 div.sk-label-container {text-align: center;}#sk-container-id-6 div.sk-container {/* jupyter's `normalize.less` sets `[hidden] { display: none; }` but bootstrap.min.css set `[hidden] { display: none !important; }` so we also need the `!important` here to be able to override the default hidden behavior on the sphinx rendered scikit-learn.org. See: https://github.com/scikit-learn/scikit-learn/issues/21755 */display: inline-block !important;position: relative;}#sk-container-id-6 div.sk-text-repr-fallback {display: none;}</style><div id=\"sk-container-id-6\" class=\"sk-top-container\"><div class=\"sk-text-repr-fallback\"><pre>XGBClassifier(base_score=None, booster=None, callbacks=None,\n",
       "              colsample_bylevel=None, colsample_bynode=None,\n",
       "              colsample_bytree=None, device=None, early_stopping_rounds=None,\n",
       "              enable_categorical=False, eval_metric=&#x27;auc&#x27;, feature_types=None,\n",
       "              gamma=None, gpu_id=0, grow_policy=None, importance_type=None,\n",
       "              interaction_constraints=None, learning_rate=None, max_bin=None,\n",
       "              max_cat_threshold=None, max_cat_to_onehot=None,\n",
       "              max_delta_step=None, max_depth=None, max_leaves=None,\n",
       "              min_child_weight=None, missing=nan, monotone_constraints=None,\n",
       "              multi_strategy=None, n_estimators=None, n_jobs=None,\n",
       "              num_parallel_tree=None, ...)</pre><b>In a Jupyter environment, please rerun this cell to show the HTML representation or trust the notebook. <br />On GitHub, the HTML representation is unable to render, please try loading this page with nbviewer.org.</b></div><div class=\"sk-container\" hidden><div class=\"sk-item\"><div class=\"sk-estimator sk-toggleable\"><input class=\"sk-toggleable__control sk-hidden--visually\" id=\"sk-estimator-id-6\" type=\"checkbox\" checked><label for=\"sk-estimator-id-6\" class=\"sk-toggleable__label sk-toggleable__label-arrow\">XGBClassifier</label><div class=\"sk-toggleable__content\"><pre>XGBClassifier(base_score=None, booster=None, callbacks=None,\n",
       "              colsample_bylevel=None, colsample_bynode=None,\n",
       "              colsample_bytree=None, device=None, early_stopping_rounds=None,\n",
       "              enable_categorical=False, eval_metric=&#x27;auc&#x27;, feature_types=None,\n",
       "              gamma=None, gpu_id=0, grow_policy=None, importance_type=None,\n",
       "              interaction_constraints=None, learning_rate=None, max_bin=None,\n",
       "              max_cat_threshold=None, max_cat_to_onehot=None,\n",
       "              max_delta_step=None, max_depth=None, max_leaves=None,\n",
       "              min_child_weight=None, missing=nan, monotone_constraints=None,\n",
       "              multi_strategy=None, n_estimators=None, n_jobs=None,\n",
       "              num_parallel_tree=None, ...)</pre></div></div></div></div></div>"
      ],
      "text/plain": [
       "XGBClassifier(base_score=None, booster=None, callbacks=None,\n",
       "              colsample_bylevel=None, colsample_bynode=None,\n",
       "              colsample_bytree=None, device=None, early_stopping_rounds=None,\n",
       "              enable_categorical=False, eval_metric='auc', feature_types=None,\n",
       "              gamma=None, gpu_id=0, grow_policy=None, importance_type=None,\n",
       "              interaction_constraints=None, learning_rate=None, max_bin=None,\n",
       "              max_cat_threshold=None, max_cat_to_onehot=None,\n",
       "              max_delta_step=None, max_depth=None, max_leaves=None,\n",
       "              min_child_weight=None, missing=nan, monotone_constraints=None,\n",
       "              multi_strategy=None, n_estimators=None, n_jobs=None,\n",
       "              num_parallel_tree=None, ...)"
      ]
     },
     "execution_count": 36,
     "metadata": {},
     "output_type": "execute_result"
    }
   ],
   "source": [
    "xgboost =  XGBClassifier(scale_pos_weight = weight, objective='binary:logistic', eval_metric = 'auc', random_state = 3, tree_method = 'gpu_hist', gpu_id=0)\n",
    "xgboost.fit(X_train3, y_train)"
   ]
  },
  {
   "cell_type": "code",
   "execution_count": 37,
   "id": "94e00507",
   "metadata": {
    "execution": {
     "iopub.execute_input": "2024-01-07T10:46:34.630333Z",
     "iopub.status.busy": "2024-01-07T10:46:34.629984Z",
     "iopub.status.idle": "2024-01-07T10:46:39.007776Z",
     "shell.execute_reply": "2024-01-07T10:46:39.006661Z"
    },
    "id": "40974125",
    "papermill": {
     "duration": 4.395613,
     "end_time": "2024-01-07T10:46:39.010137",
     "exception": false,
     "start_time": "2024-01-07T10:46:34.614524",
     "status": "completed"
    },
    "tags": []
   },
   "outputs": [],
   "source": [
    "xgboost_test_proba = xgboost.predict_proba(X_test3)[:,1]"
   ]
  },
  {
   "cell_type": "code",
   "execution_count": 38,
   "id": "c28df771",
   "metadata": {
    "execution": {
     "iopub.execute_input": "2024-01-07T10:46:39.040449Z",
     "iopub.status.busy": "2024-01-07T10:46:39.040089Z",
     "iopub.status.idle": "2024-01-07T10:46:40.612186Z",
     "shell.execute_reply": "2024-01-07T10:46:40.611197Z"
    },
    "id": "_i-h6_RNH8Ft",
    "papermill": {
     "duration": 1.589623,
     "end_time": "2024-01-07T10:46:40.614400",
     "exception": false,
     "start_time": "2024-01-07T10:46:39.024777",
     "status": "completed"
    },
    "tags": []
   },
   "outputs": [],
   "source": [
    "predict_and_save(xgboost_test_proba, 'xgboost_pred_bl.csv')"
   ]
  },
  {
   "cell_type": "markdown",
   "id": "dedc7d85",
   "metadata": {
    "id": "8_pzo2WEGnqf",
    "papermill": {
     "duration": 0.014075,
     "end_time": "2024-01-07T10:46:40.643126",
     "exception": false,
     "start_time": "2024-01-07T10:46:40.629051",
     "status": "completed"
    },
    "tags": []
   },
   "source": [
    "## Conclusion"
   ]
  },
  {
   "cell_type": "markdown",
   "id": "2655d061",
   "metadata": {
    "id": "KhzqLd6tGply",
    "papermill": {
     "duration": 0.014234,
     "end_time": "2024-01-07T10:46:40.671618",
     "exception": false,
     "start_time": "2024-01-07T10:46:40.657384",
     "status": "completed"
    },
    "tags": []
   },
   "source": [
    "From the above results, it is quite clear that the Decision Tree based Ensemble is working best for our problem. Hence, from now on we will be using Tree based Ensemble only and will try to optimize the data and models to get more better score."
   ]
  }
 ],
 "metadata": {
  "accelerator": "GPU",
  "colab": {
   "collapsed_sections": [],
   "machine_shape": "hm",
   "name": "2.Baseline Models.ipynb",
   "provenance": []
  },
  "kaggle": {
   "accelerator": "gpu",
   "dataSources": [
    {
     "databundleVersionId": 568274,
     "sourceId": 14242,
     "sourceType": "competition"
    }
   ],
   "isGpuEnabled": true,
   "isInternetEnabled": true,
   "language": "python",
   "sourceType": "notebook"
  },
  "kernelspec": {
   "display_name": "Python 3",
   "language": "python",
   "name": "python3"
  },
  "language_info": {
   "codemirror_mode": {
    "name": "ipython",
    "version": 3
   },
   "file_extension": ".py",
   "mimetype": "text/x-python",
   "name": "python",
   "nbconvert_exporter": "python",
   "pygments_lexer": "ipython3",
   "version": "3.10.12"
  },
  "papermill": {
   "default_parameters": {},
   "duration": 1861.708168,
   "end_time": "2024-01-07T10:46:43.509761",
   "environment_variables": {},
   "exception": null,
   "input_path": "__notebook__.ipynb",
   "output_path": "__notebook__.ipynb",
   "parameters": {},
   "start_time": "2024-01-07T10:15:41.801593",
   "version": "2.4.0"
  }
 },
 "nbformat": 4,
 "nbformat_minor": 5
}
