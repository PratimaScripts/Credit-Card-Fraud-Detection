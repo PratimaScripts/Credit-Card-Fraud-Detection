{
 "cells": [
  {
   "cell_type": "code",
   "execution_count": 1,
   "id": "dfe9192b",
   "metadata": {
    "execution": {
     "iopub.execute_input": "2024-01-07T09:57:31.362675Z",
     "iopub.status.busy": "2024-01-07T09:57:31.362072Z",
     "iopub.status.idle": "2024-01-07T09:57:33.491309Z",
     "shell.execute_reply": "2024-01-07T09:57:33.490320Z"
    },
    "id": "da6213d9",
    "papermill": {
     "duration": 2.145916,
     "end_time": "2024-01-07T09:57:33.493772",
     "exception": false,
     "start_time": "2024-01-07T09:57:31.347856",
     "status": "completed"
    },
    "tags": []
   },
   "outputs": [
    {
     "name": "stderr",
     "output_type": "stream",
     "text": [
      "/opt/conda/lib/python3.10/site-packages/scipy/__init__.py:146: UserWarning: A NumPy version >=1.16.5 and <1.23.0 is required for this version of SciPy (detected version 1.24.3\n",
      "  warnings.warn(f\"A NumPy version >={np_minversion} and <{np_maxversion}\"\n"
     ]
    }
   ],
   "source": [
    "import random\n",
    "import pickle\n",
    "import numpy as np\n",
    "import pandas as pd\n",
    "import seaborn as sns\n",
    "import matplotlib.pyplot as plt\n",
    "%matplotlib inline\n",
    "import sklearn\n",
    "from sklearn import metrics\n",
    "from sklearn.naive_bayes import GaussianNB\n",
    "from sklearn.linear_model import LogisticRegression\n",
    "from sklearn.tree import DecisionTreeClassifier\n",
    "from sklearn.ensemble import RandomForestClassifier, AdaBoostClassifier\n",
    "from xgboost import XGBClassifier\n",
    "from sklearn.model_selection import TimeSeriesSplit, train_test_split, GridSearchCV\n",
    "from sklearn.preprocessing import LabelEncoder\n",
    "from sklearn.metrics import roc_auc_score\n",
    "from sklearn.calibration import CalibratedClassifierCV\n",
    "import warnings\n",
    "warnings.filterwarnings(\"ignore\")"
   ]
  },
  {
   "cell_type": "code",
   "execution_count": 2,
   "id": "ab710b1b",
   "metadata": {
    "execution": {
     "iopub.execute_input": "2024-01-07T09:57:33.524458Z",
     "iopub.status.busy": "2024-01-07T09:57:33.524002Z",
     "iopub.status.idle": "2024-01-07T09:58:25.866127Z",
     "shell.execute_reply": "2024-01-07T09:58:25.865287Z"
    },
    "papermill": {
     "duration": 52.359835,
     "end_time": "2024-01-07T09:58:25.868573",
     "exception": false,
     "start_time": "2024-01-07T09:57:33.508738",
     "status": "completed"
    },
    "tags": []
   },
   "outputs": [],
   "source": [
    "train_transaction=pd.read_csv('../input/ieee-fraud-detection/train_transaction.csv')\n",
    "train_identity=pd.read_csv('../input/ieee-fraud-detection/train_identity.csv')\n",
    "test_transaction=pd.read_csv('../input/ieee-fraud-detection/test_transaction.csv')\n",
    "test_identity=pd.read_csv('../input/ieee-fraud-detection/test_identity.csv')\n",
    "sample_submission=pd.read_csv('../input/ieee-fraud-detection/sample_submission.csv')"
   ]
  },
  {
   "cell_type": "code",
   "execution_count": 3,
   "id": "b4ed7443",
   "metadata": {
    "execution": {
     "iopub.execute_input": "2024-01-07T09:58:25.895593Z",
     "iopub.status.busy": "2024-01-07T09:58:25.895294Z",
     "iopub.status.idle": "2024-01-07T09:58:28.023836Z",
     "shell.execute_reply": "2024-01-07T09:58:28.023059Z"
    },
    "papermill": {
     "duration": 2.144498,
     "end_time": "2024-01-07T09:58:28.026199",
     "exception": false,
     "start_time": "2024-01-07T09:58:25.881701",
     "status": "completed"
    },
    "tags": []
   },
   "outputs": [],
   "source": [
    "# Merging the transaction and identity dataset\n",
    "\n",
    "train_data = train_transaction.merge(train_identity, how='left', on='TransactionID')\n",
    "del train_transaction, train_identity\n",
    "\n",
    "test_data = test_transaction.merge(test_identity, how='left', on='TransactionID')\n",
    "del test_transaction, test_identity"
   ]
  },
  {
   "cell_type": "code",
   "execution_count": 4,
   "id": "e5d54100",
   "metadata": {
    "execution": {
     "iopub.execute_input": "2024-01-07T09:58:28.052756Z",
     "iopub.status.busy": "2024-01-07T09:58:28.052433Z",
     "iopub.status.idle": "2024-01-07T09:58:29.746106Z",
     "shell.execute_reply": "2024-01-07T09:58:29.745303Z"
    },
    "papermill": {
     "duration": 1.709369,
     "end_time": "2024-01-07T09:58:29.748443",
     "exception": false,
     "start_time": "2024-01-07T09:58:28.039074",
     "status": "completed"
    },
    "tags": []
   },
   "outputs": [],
   "source": [
    "# Sorting the Dataframe by the TransactionDT column\n",
    "\n",
    "train_data.sort_values(by='TransactionDT' ,inplace=True)\n",
    "test_data.sort_values(by='TransactionDT' , inplace=True)"
   ]
  },
  {
   "cell_type": "code",
   "execution_count": 5,
   "id": "0cab56e8",
   "metadata": {
    "execution": {
     "iopub.execute_input": "2024-01-07T09:58:29.775890Z",
     "iopub.status.busy": "2024-01-07T09:58:29.775615Z",
     "iopub.status.idle": "2024-01-07T09:58:34.540024Z",
     "shell.execute_reply": "2024-01-07T09:58:34.538675Z"
    },
    "papermill": {
     "duration": 4.782398,
     "end_time": "2024-01-07T09:58:34.543843",
     "exception": false,
     "start_time": "2024-01-07T09:58:29.761445",
     "status": "completed"
    },
    "tags": []
   },
   "outputs": [],
   "source": [
    "# Saving the merged train and test dataset into pickle format\n",
    "\n",
    "train_data.to_pickle('merged_train.pkl')\n",
    "test_data.to_pickle('merged_test.pkl')\n",
    "\n",
    "del train_data, test_data"
   ]
  },
  {
   "cell_type": "code",
   "execution_count": 6,
   "id": "78ae6c8e",
   "metadata": {
    "execution": {
     "iopub.execute_input": "2024-01-07T09:58:34.630867Z",
     "iopub.status.busy": "2024-01-07T09:58:34.630392Z",
     "iopub.status.idle": "2024-01-07T09:58:39.594070Z",
     "shell.execute_reply": "2024-01-07T09:58:39.593077Z"
    },
    "id": "8bbc073b",
    "papermill": {
     "duration": 5.015266,
     "end_time": "2024-01-07T09:58:39.596404",
     "exception": false,
     "start_time": "2024-01-07T09:58:34.581138",
     "status": "completed"
    },
    "tags": []
   },
   "outputs": [],
   "source": [
    "# Loading the merged train and test dataset\n",
    "\n",
    "train_data = pd.read_pickle('merged_train.pkl')\n",
    "test_data = pd.read_pickle('merged_test.pkl')"
   ]
  },
  {
   "cell_type": "code",
   "execution_count": 7,
   "id": "ef7388d4",
   "metadata": {
    "execution": {
     "iopub.execute_input": "2024-01-07T09:58:39.623528Z",
     "iopub.status.busy": "2024-01-07T09:58:39.622777Z",
     "iopub.status.idle": "2024-01-07T09:58:39.627863Z",
     "shell.execute_reply": "2024-01-07T09:58:39.627088Z"
    },
    "executionInfo": {
     "elapsed": 26,
     "status": "ok",
     "timestamp": 1623157910673,
     "user": {
      "displayName": "Priyank Mishra",
      "photoUrl": "",
      "userId": "18008032652400229851"
     },
     "user_tz": -330
    },
    "id": "0480f790",
    "outputId": "952b0383-9933-433d-d17d-5253ddb29d97",
    "papermill": {
     "duration": 0.020903,
     "end_time": "2024-01-07T09:58:39.630188",
     "exception": false,
     "start_time": "2024-01-07T09:58:39.609285",
     "status": "completed"
    },
    "tags": []
   },
   "outputs": [
    {
     "name": "stdout",
     "output_type": "stream",
     "text": [
      "*********************************************\n",
      "\n",
      " Train Data Shape : (590540, 434) \n",
      "\n",
      "\n",
      " Test Data Shape : (506691, 433) \n",
      "\n",
      "*********************************************\n"
     ]
    }
   ],
   "source": [
    "print(\"*\"*45)\n",
    "print(\"\\n Train Data Shape : {} \\n\".format(train_data.shape))\n",
    "print(\"\\n Test Data Shape : {} \\n\".format(test_data.shape))\n",
    "print(\"*\"*45)"
   ]
  },
  {
   "cell_type": "markdown",
   "id": "67d7609c",
   "metadata": {
    "id": "eO36Arb_F0_7",
    "papermill": {
     "duration": 0.013389,
     "end_time": "2024-01-07T09:58:39.656092",
     "exception": false,
     "start_time": "2024-01-07T09:58:39.642703",
     "status": "completed"
    },
    "tags": []
   },
   "source": [
    "## Utility Functions\n",
    "<br>"
   ]
  },
  {
   "cell_type": "code",
   "execution_count": 8,
   "id": "559fb1cc",
   "metadata": {
    "execution": {
     "iopub.execute_input": "2024-01-07T09:58:39.682296Z",
     "iopub.status.busy": "2024-01-07T09:58:39.682028Z",
     "iopub.status.idle": "2024-01-07T09:58:39.689311Z",
     "shell.execute_reply": "2024-01-07T09:58:39.688489Z"
    },
    "id": "780a3e54",
    "papermill": {
     "duration": 0.022611,
     "end_time": "2024-01-07T09:58:39.691148",
     "exception": false,
     "start_time": "2024-01-07T09:58:39.668537",
     "status": "completed"
    },
    "tags": []
   },
   "outputs": [],
   "source": [
    "def cat_num_features(df):\n",
    "    \n",
    "    '''\n",
    "        Utility Function to get the names of Categorical Features and \n",
    "        Numerical Features of the given Dataset.\n",
    "    '''\n",
    "    \n",
    "    catf = []\n",
    "    numf = []\n",
    "    \n",
    "    # Given Categorical Features \n",
    "    catf = ['ProductCD', 'card1', 'card2', 'card3', 'card4', 'card5', \\\n",
    "            'card6', 'addr1', 'addr2', 'P_emaildomain', 'R_emaildomain', 'M1', 'M2', \\\n",
    "            'M3', 'M4', 'M5', 'M6', 'M7', 'M8', 'M9', \\\n",
    "            'DeviceType', 'DeviceInfo']\n",
    "    catf+=['id_'+str(i) for i in range(12,39)]\n",
    "\n",
    "\n",
    "    # Updating the Categorical Feature Names List based on the columns present in the dataframe\n",
    "    catf = [feature for feature in catf if feature in df.columns.values]\n",
    "    numf = [feature for feature in df.columns if feature not in catf and not feature == 'isFraud']\n",
    "    \n",
    "    return (catf, numf)  "
   ]
  },
  {
   "cell_type": "code",
   "execution_count": 9,
   "id": "8f3ebd08",
   "metadata": {
    "execution": {
     "iopub.execute_input": "2024-01-07T09:58:39.718180Z",
     "iopub.status.busy": "2024-01-07T09:58:39.717220Z",
     "iopub.status.idle": "2024-01-07T09:58:39.724395Z",
     "shell.execute_reply": "2024-01-07T09:58:39.723554Z"
    },
    "id": "dc6e1c9b",
    "papermill": {
     "duration": 0.022671,
     "end_time": "2024-01-07T09:58:39.726193",
     "exception": false,
     "start_time": "2024-01-07T09:58:39.703522",
     "status": "completed"
    },
    "tags": []
   },
   "outputs": [],
   "source": [
    "def label_encode(X_train, X_test, catf):\n",
    "  \n",
    "  '''\n",
    "    Utility Function to Encode Categorical Features.\n",
    "  '''\n",
    "\n",
    "  for f in catf:\n",
    "    \n",
    "    X_train[f] = X_train[f].astype(str)\n",
    "    X_test[f] = X_test[f].astype(str)\n",
    "    \n",
    "    le = LabelEncoder()\n",
    "    le.fit(X_train[f])\n",
    "    mapping = dict(zip(le.classes_, le.transform(le.classes_)))\n",
    "    X_train[f] = le.transform(X_train[f])\n",
    "    \n",
    "    # Manually Encoding the CV and Test Dataset so as to avoid error for any category which is not present in train set\n",
    "    \n",
    "    # All the categories which are not present in train datset are encoded as -1\n",
    "    \n",
    "    X_test[f] = [-1 if mapping.get(v, -1)==-1 else mapping[v] for v in X_test[f].values ]\n",
    "\n",
    "  return (X_train, X_test)"
   ]
  },
  {
   "cell_type": "code",
   "execution_count": 10,
   "id": "189bb66c",
   "metadata": {
    "execution": {
     "iopub.execute_input": "2024-01-07T09:58:39.752101Z",
     "iopub.status.busy": "2024-01-07T09:58:39.751652Z",
     "iopub.status.idle": "2024-01-07T09:58:39.756985Z",
     "shell.execute_reply": "2024-01-07T09:58:39.756146Z"
    },
    "id": "2e284786",
    "papermill": {
     "duration": 0.020399,
     "end_time": "2024-01-07T09:58:39.758867",
     "exception": false,
     "start_time": "2024-01-07T09:58:39.738468",
     "status": "completed"
    },
    "tags": []
   },
   "outputs": [],
   "source": [
    "def normalize(X_train, X_test):\n",
    "    '''\n",
    "        Utility Function to scale the values of the Train, CV and Test Datasets between 0 and 1.\n",
    "    '''\n",
    "    \n",
    "    for f in X_train.columns:\n",
    "\n",
    "        min_val = X_train[f].min()\n",
    "        max_val = X_train[f].max()\n",
    "        \n",
    "        X_train[f] = (X_train[f]-min_val)/(max_val-min_val)\n",
    "        X_test[f] = (X_test[f]-min_val)/(max_val-min_val)\n",
    "        \n",
    "    return (X_train, X_test)"
   ]
  },
  {
   "cell_type": "code",
   "execution_count": 11,
   "id": "427aa8bb",
   "metadata": {
    "execution": {
     "iopub.execute_input": "2024-01-07T09:58:39.863717Z",
     "iopub.status.busy": "2024-01-07T09:58:39.863280Z",
     "iopub.status.idle": "2024-01-07T09:58:39.869825Z",
     "shell.execute_reply": "2024-01-07T09:58:39.868960Z"
    },
    "id": "bb4acd3e",
    "papermill": {
     "duration": 0.056843,
     "end_time": "2024-01-07T09:58:39.871735",
     "exception": false,
     "start_time": "2024-01-07T09:58:39.814892",
     "status": "completed"
    },
    "tags": []
   },
   "outputs": [],
   "source": [
    "def predict_and_save(prediction, name):\n",
    "    \n",
    "    '''\n",
    "        Utility Function to save the test data predictions locally.\n",
    "    '''\n",
    "\n",
    "    df = pd.DataFrame({'TransactionID':test_ids.reshape(-1), 'isFraud':prediction.reshape(-1)})\n",
    "    df = df.sort_values('TransactionID')\n",
    "    df.to_csv(name, index=False)"
   ]
  },
  {
   "cell_type": "markdown",
   "id": "d37b85bd",
   "metadata": {
    "id": "9dd59e19",
    "papermill": {
     "duration": 0.01242,
     "end_time": "2024-01-07T09:58:39.897622",
     "exception": false,
     "start_time": "2024-01-07T09:58:39.885202",
     "status": "completed"
    },
    "tags": []
   },
   "source": [
    "## Data Preparation\n",
    "<br>"
   ]
  },
  {
   "cell_type": "markdown",
   "id": "e03604da",
   "metadata": {
    "id": "rQTzZJCOXX6R",
    "papermill": {
     "duration": 0.012671,
     "end_time": "2024-01-07T09:58:39.922875",
     "exception": false,
     "start_time": "2024-01-07T09:58:39.910204",
     "status": "completed"
    },
    "tags": []
   },
   "source": [
    "### Splitting the Dataset\n",
    "<br>"
   ]
  },
  {
   "cell_type": "code",
   "execution_count": 12,
   "id": "e48adf57",
   "metadata": {
    "execution": {
     "iopub.execute_input": "2024-01-07T09:58:39.949287Z",
     "iopub.status.busy": "2024-01-07T09:58:39.949027Z",
     "iopub.status.idle": "2024-01-07T09:58:41.621174Z",
     "shell.execute_reply": "2024-01-07T09:58:41.620380Z"
    },
    "id": "e75daf6b",
    "papermill": {
     "duration": 1.687994,
     "end_time": "2024-01-07T09:58:41.623475",
     "exception": false,
     "start_time": "2024-01-07T09:58:39.935481",
     "status": "completed"
    },
    "tags": []
   },
   "outputs": [],
   "source": [
    "X_train = train_data.drop(['isFraud', 'TransactionID'], axis=1)\n",
    "y_train = train_data['isFraud']\n",
    "\n",
    "X_test = test_data.drop(['TransactionID'], axis=1)\n",
    "test_ids = test_data['TransactionID'].values\n",
    "\n",
    "del train_data, test_data"
   ]
  },
  {
   "cell_type": "code",
   "execution_count": 13,
   "id": "77598eaa",
   "metadata": {
    "execution": {
     "iopub.execute_input": "2024-01-07T09:58:41.651034Z",
     "iopub.status.busy": "2024-01-07T09:58:41.649837Z",
     "iopub.status.idle": "2024-01-07T09:58:41.657191Z",
     "shell.execute_reply": "2024-01-07T09:58:41.656193Z"
    },
    "executionInfo": {
     "elapsed": 7,
     "status": "ok",
     "timestamp": 1623157913990,
     "user": {
      "displayName": "Priyank Mishra",
      "photoUrl": "",
      "userId": "18008032652400229851"
     },
     "user_tz": -330
    },
    "id": "08ddc3d8",
    "outputId": "77144020-0d80-4ba8-f282-71736cbbd21d",
    "papermill": {
     "duration": 0.022752,
     "end_time": "2024-01-07T09:58:41.659124",
     "exception": false,
     "start_time": "2024-01-07T09:58:41.636372",
     "status": "completed"
    },
    "scrolled": true,
    "tags": []
   },
   "outputs": [
    {
     "name": "stdout",
     "output_type": "stream",
     "text": [
      "*********************************************\n",
      "\n",
      " Train Data Shape : (590540, 432) \n",
      "\n",
      "\n",
      " Test Data Shape : (506691, 432) \n",
      "\n",
      "*********************************************\n"
     ]
    }
   ],
   "source": [
    "print(\"*\"*45)\n",
    "print(\"\\n Train Data Shape : {} \\n\".format(X_train.shape))\n",
    "print(\"\\n Test Data Shape : {} \\n\".format(X_test.shape))\n",
    "print(\"*\"*45)"
   ]
  },
  {
   "cell_type": "markdown",
   "id": "fc44186a",
   "metadata": {
    "id": "a50561e7",
    "papermill": {
     "duration": 0.012461,
     "end_time": "2024-01-07T09:58:41.684172",
     "exception": false,
     "start_time": "2024-01-07T09:58:41.671711",
     "status": "completed"
    },
    "tags": []
   },
   "source": [
    "#### Label Encoding Categorical Features\n",
    "\n",
    "We will be creating **three sets**, one having imputed missing values to be used with models which do not handle missing values on their own and the other whose missing values will be imputed and also it will be scaled between 0 and 1 to be used with models like **Naive Bayes and Logisitic Regression** and the third which is to be used with model like **XgBoost** which can handle missing values on its own."
   ]
  },
  {
   "cell_type": "code",
   "execution_count": 14,
   "id": "5314a50f",
   "metadata": {
    "execution": {
     "iopub.execute_input": "2024-01-07T09:58:41.711386Z",
     "iopub.status.busy": "2024-01-07T09:58:41.710598Z",
     "iopub.status.idle": "2024-01-07T09:58:43.153094Z",
     "shell.execute_reply": "2024-01-07T09:58:43.151973Z"
    },
    "papermill": {
     "duration": 1.458734,
     "end_time": "2024-01-07T09:58:43.155458",
     "exception": false,
     "start_time": "2024-01-07T09:58:41.696724",
     "status": "completed"
    },
    "tags": []
   },
   "outputs": [
    {
     "name": "stdout",
     "output_type": "stream",
     "text": [
      "Columns in X_train: Index(['TransactionDT', 'TransactionAmt', 'ProductCD', 'card1', 'card2',\n",
      "       'card3', 'card4', 'card5', 'card6', 'addr1',\n",
      "       ...\n",
      "       'id_31', 'id_32', 'id_33', 'id_34', 'id_35', 'id_36', 'id_37', 'id_38',\n",
      "       'DeviceType', 'DeviceInfo'],\n",
      "      dtype='object', length=432)\n",
      "Columns in X_test: Index(['TransactionDT', 'TransactionAmt', 'ProductCD', 'card1', 'card2',\n",
      "       'card3', 'card4', 'card5', 'card6', 'addr1',\n",
      "       ...\n",
      "       'id-31', 'id-32', 'id-33', 'id-34', 'id-35', 'id-36', 'id-37', 'id-38',\n",
      "       'DeviceType', 'DeviceInfo'],\n",
      "      dtype='object', length=432)\n"
     ]
    }
   ],
   "source": [
    "# Check columns in X_train and X_test\n",
    "print(\"Columns in X_train:\", X_train.columns)\n",
    "print(\"Columns in X_test:\", X_test.columns)\n",
    "\n",
    "# Align columns in X_train and X_test\n",
    "common_columns = list(set(X_train.columns) & set(X_test.columns))\n",
    "X_train = X_train[common_columns]\n",
    "X_test = X_test[common_columns]\n",
    "\n",
    "# Storing Categorical and Numerical Feature Names\n",
    "catf, numf = cat_num_features(X_train)\n",
    "categorical_feature_indices = [X_train.columns.get_loc(f) for f in catf]"
   ]
  },
  {
   "cell_type": "code",
   "execution_count": 15,
   "id": "4dfe44e7",
   "metadata": {
    "execution": {
     "iopub.execute_input": "2024-01-07T09:58:43.183055Z",
     "iopub.status.busy": "2024-01-07T09:58:43.182745Z",
     "iopub.status.idle": "2024-01-07T09:59:41.389215Z",
     "shell.execute_reply": "2024-01-07T09:59:41.388378Z"
    },
    "papermill": {
     "duration": 58.222821,
     "end_time": "2024-01-07T09:59:41.391648",
     "exception": false,
     "start_time": "2024-01-07T09:58:43.168827",
     "status": "completed"
    },
    "tags": []
   },
   "outputs": [],
   "source": [
    "# Impute missing values and label encode categorical features\n",
    "\n",
    "# Imputing the missing values of Categorical Columns with \"missing\"\n",
    "X_train[catf] = X_train[catf].fillna('missing')\n",
    "X_test[catf] = X_test[catf].fillna('missing')\n",
    "\n",
    "# Label Encoding Categorical Features\n",
    "X_train, X_test = label_encode(X_train, X_test, catf)"
   ]
  },
  {
   "cell_type": "code",
   "execution_count": 16,
   "id": "4a9adc73",
   "metadata": {
    "execution": {
     "iopub.execute_input": "2024-01-07T09:59:41.419043Z",
     "iopub.status.busy": "2024-01-07T09:59:41.418660Z",
     "iopub.status.idle": "2024-01-07T09:59:47.858573Z",
     "shell.execute_reply": "2024-01-07T09:59:47.857762Z"
    },
    "id": "10320f4d",
    "papermill": {
     "duration": 6.455903,
     "end_time": "2024-01-07T09:59:47.860862",
     "exception": false,
     "start_time": "2024-01-07T09:59:41.404959",
     "status": "completed"
    },
    "tags": []
   },
   "outputs": [],
   "source": [
    "# Set1 (Imputed and Normalized)\n",
    "X_train1 = X_train.fillna(-999)\n",
    "X_test1 = X_test.fillna(-999)\n",
    "X_train1, X_test1 = normalize(X_train1, X_test1)\n",
    "\n",
    "# Set2 (Imputed)\n",
    "X_train2 = X_train.fillna(-999)\n",
    "X_test2 = X_test.fillna(-999)\n",
    "\n",
    "# Set3 (Raw)\n",
    "X_train3 = X_train\n",
    "X_test3 = X_test\n",
    "\n",
    "del X_train, X_test"
   ]
  },
  {
   "cell_type": "code",
   "execution_count": 17,
   "id": "a00f7e91",
   "metadata": {
    "execution": {
     "iopub.execute_input": "2024-01-07T09:59:47.888033Z",
     "iopub.status.busy": "2024-01-07T09:59:47.887725Z",
     "iopub.status.idle": "2024-01-07T09:59:47.900835Z",
     "shell.execute_reply": "2024-01-07T09:59:47.900183Z"
    },
    "id": "f5ba53e8",
    "papermill": {
     "duration": 0.028629,
     "end_time": "2024-01-07T09:59:47.902684",
     "exception": false,
     "start_time": "2024-01-07T09:59:47.874055",
     "status": "completed"
    },
    "tags": []
   },
   "outputs": [],
   "source": [
    "train1 = X_train1\n",
    "train1['isFraud'] = y_train\n",
    "\n",
    "test1 = X_test1\n",
    "\n",
    "del X_train1, X_test1\n",
    "\n",
    "\n",
    "train2 = X_train2\n",
    "train2['isFraud'] = y_train\n",
    "\n",
    "test2 = X_test2\n",
    "\n",
    "del X_train2, X_test2\n",
    "\n",
    "\n",
    "train3 = X_train3\n",
    "train3['isFraud'] = y_train\n",
    "\n",
    "test3 = X_test3\n",
    "\n",
    "del X_train3, y_train, X_test3"
   ]
  },
  {
   "cell_type": "code",
   "execution_count": 18,
   "id": "1df3302b",
   "metadata": {
    "execution": {
     "iopub.execute_input": "2024-01-07T09:59:47.929181Z",
     "iopub.status.busy": "2024-01-07T09:59:47.928881Z",
     "iopub.status.idle": "2024-01-07T09:59:47.941243Z",
     "shell.execute_reply": "2024-01-07T09:59:47.940405Z"
    },
    "id": "385bc132",
    "papermill": {
     "duration": 0.027623,
     "end_time": "2024-01-07T09:59:47.943064",
     "exception": false,
     "start_time": "2024-01-07T09:59:47.915441",
     "status": "completed"
    },
    "tags": []
   },
   "outputs": [],
   "source": [
    "y_train = train1.pop('isFraud')\n",
    "_ = train2.pop('isFraud')\n",
    "_ = train3.pop('isFraud')\n",
    "\n",
    "\n",
    "X_train1 = train1\n",
    "X_test1 = test1 \n",
    "\n",
    "X_train2 = train2\n",
    "X_test2 = test2 \n",
    "\n",
    "X_train3 = train3\n",
    "X_test3 = test3 \n",
    "\n",
    "del train1, train2, train3"
   ]
  },
  {
   "cell_type": "code",
   "execution_count": 19,
   "id": "0aab1e3e",
   "metadata": {
    "execution": {
     "iopub.execute_input": "2024-01-07T09:59:47.969537Z",
     "iopub.status.busy": "2024-01-07T09:59:47.969280Z",
     "iopub.status.idle": "2024-01-07T09:59:47.975343Z",
     "shell.execute_reply": "2024-01-07T09:59:47.974520Z"
    },
    "executionInfo": {
     "elapsed": 14,
     "status": "ok",
     "timestamp": 1623158006995,
     "user": {
      "displayName": "Priyank Mishra",
      "photoUrl": "",
      "userId": "18008032652400229851"
     },
     "user_tz": -330
    },
    "id": "77b932d2",
    "outputId": "9a4b92b6-ec49-4818-c965-6ac6824c73ba",
    "papermill": {
     "duration": 0.021617,
     "end_time": "2024-01-07T09:59:47.977443",
     "exception": false,
     "start_time": "2024-01-07T09:59:47.955826",
     "status": "completed"
    },
    "tags": []
   },
   "outputs": [
    {
     "name": "stdout",
     "output_type": "stream",
     "text": [
      "************************************************************\n",
      "\n",
      " Train Dataset Set1 Shape : (590540, 394) \n",
      "\n",
      "\n",
      " Test Dataset Set1 Shape : (506691, 394) \n",
      "\n",
      "************************************************************\n",
      "\n",
      " Train Dataset Set1 Shape : (590540, 394) \n",
      "\n",
      "\n",
      " Test Dataset Set2 Shape : (506691, 394) \n",
      "\n",
      "************************************************************\n",
      "\n",
      " Train Dataset Set1 Shape : (590540, 394) \n",
      "\n",
      "\n",
      " Test Dataset Set3 Shape : (506691, 394) \n",
      "\n",
      "************************************************************\n"
     ]
    }
   ],
   "source": [
    "print(\"*\"*60)\n",
    "print(\"\\n Train Dataset Set1 Shape : {} \\n\".format(X_train1.shape))\n",
    "print(\"\\n Test Dataset Set1 Shape : {} \\n\".format(X_test1.shape))\n",
    "print(\"*\"*60)\n",
    "print(\"\\n Train Dataset Set1 Shape : {} \\n\".format(X_train1.shape))\n",
    "print(\"\\n Test Dataset Set2 Shape : {} \\n\".format(X_test2.shape))\n",
    "print(\"*\"*60)\n",
    "print(\"\\n Train Dataset Set1 Shape : {} \\n\".format(X_train1.shape))\n",
    "print(\"\\n Test Dataset Set3 Shape : {} \\n\".format(X_test3.shape))\n",
    "print(\"*\"*60)"
   ]
  },
  {
   "cell_type": "markdown",
   "id": "28740cde",
   "metadata": {
    "id": "48d2678b",
    "papermill": {
     "duration": 0.012508,
     "end_time": "2024-01-07T09:59:48.002775",
     "exception": false,
     "start_time": "2024-01-07T09:59:47.990267",
     "status": "completed"
    },
    "tags": []
   },
   "source": [
    "## Base Line Models"
   ]
  },
  {
   "cell_type": "markdown",
   "id": "ce84effc",
   "metadata": {
    "id": "2ba10ea9",
    "papermill": {
     "duration": 0.012596,
     "end_time": "2024-01-07T09:59:48.028201",
     "exception": false,
     "start_time": "2024-01-07T09:59:48.015605",
     "status": "completed"
    },
    "tags": []
   },
   "source": [
    "### 1. Naive Bayes"
   ]
  },
  {
   "cell_type": "code",
   "execution_count": 20,
   "id": "3330d52b",
   "metadata": {
    "execution": {
     "iopub.execute_input": "2024-01-07T09:59:48.055012Z",
     "iopub.status.busy": "2024-01-07T09:59:48.054689Z",
     "iopub.status.idle": "2024-01-07T09:59:51.980071Z",
     "shell.execute_reply": "2024-01-07T09:59:51.979066Z"
    },
    "id": "bc1eab3f",
    "outputId": "24a57974-e8da-4953-ee3b-a6bf1bb027da",
    "papermill": {
     "duration": 3.941157,
     "end_time": "2024-01-07T09:59:51.982132",
     "exception": false,
     "start_time": "2024-01-07T09:59:48.040975",
     "status": "completed"
    },
    "tags": []
   },
   "outputs": [
    {
     "data": {
      "text/html": [
       "<style>#sk-container-id-1 {color: black;background-color: white;}#sk-container-id-1 pre{padding: 0;}#sk-container-id-1 div.sk-toggleable {background-color: white;}#sk-container-id-1 label.sk-toggleable__label {cursor: pointer;display: block;width: 100%;margin-bottom: 0;padding: 0.3em;box-sizing: border-box;text-align: center;}#sk-container-id-1 label.sk-toggleable__label-arrow:before {content: \"▸\";float: left;margin-right: 0.25em;color: #696969;}#sk-container-id-1 label.sk-toggleable__label-arrow:hover:before {color: black;}#sk-container-id-1 div.sk-estimator:hover label.sk-toggleable__label-arrow:before {color: black;}#sk-container-id-1 div.sk-toggleable__content {max-height: 0;max-width: 0;overflow: hidden;text-align: left;background-color: #f0f8ff;}#sk-container-id-1 div.sk-toggleable__content pre {margin: 0.2em;color: black;border-radius: 0.25em;background-color: #f0f8ff;}#sk-container-id-1 input.sk-toggleable__control:checked~div.sk-toggleable__content {max-height: 200px;max-width: 100%;overflow: auto;}#sk-container-id-1 input.sk-toggleable__control:checked~label.sk-toggleable__label-arrow:before {content: \"▾\";}#sk-container-id-1 div.sk-estimator input.sk-toggleable__control:checked~label.sk-toggleable__label {background-color: #d4ebff;}#sk-container-id-1 div.sk-label input.sk-toggleable__control:checked~label.sk-toggleable__label {background-color: #d4ebff;}#sk-container-id-1 input.sk-hidden--visually {border: 0;clip: rect(1px 1px 1px 1px);clip: rect(1px, 1px, 1px, 1px);height: 1px;margin: -1px;overflow: hidden;padding: 0;position: absolute;width: 1px;}#sk-container-id-1 div.sk-estimator {font-family: monospace;background-color: #f0f8ff;border: 1px dotted black;border-radius: 0.25em;box-sizing: border-box;margin-bottom: 0.5em;}#sk-container-id-1 div.sk-estimator:hover {background-color: #d4ebff;}#sk-container-id-1 div.sk-parallel-item::after {content: \"\";width: 100%;border-bottom: 1px solid gray;flex-grow: 1;}#sk-container-id-1 div.sk-label:hover label.sk-toggleable__label {background-color: #d4ebff;}#sk-container-id-1 div.sk-serial::before {content: \"\";position: absolute;border-left: 1px solid gray;box-sizing: border-box;top: 0;bottom: 0;left: 50%;z-index: 0;}#sk-container-id-1 div.sk-serial {display: flex;flex-direction: column;align-items: center;background-color: white;padding-right: 0.2em;padding-left: 0.2em;position: relative;}#sk-container-id-1 div.sk-item {position: relative;z-index: 1;}#sk-container-id-1 div.sk-parallel {display: flex;align-items: stretch;justify-content: center;background-color: white;position: relative;}#sk-container-id-1 div.sk-item::before, #sk-container-id-1 div.sk-parallel-item::before {content: \"\";position: absolute;border-left: 1px solid gray;box-sizing: border-box;top: 0;bottom: 0;left: 50%;z-index: -1;}#sk-container-id-1 div.sk-parallel-item {display: flex;flex-direction: column;z-index: 1;position: relative;background-color: white;}#sk-container-id-1 div.sk-parallel-item:first-child::after {align-self: flex-end;width: 50%;}#sk-container-id-1 div.sk-parallel-item:last-child::after {align-self: flex-start;width: 50%;}#sk-container-id-1 div.sk-parallel-item:only-child::after {width: 0;}#sk-container-id-1 div.sk-dashed-wrapped {border: 1px dashed gray;margin: 0 0.4em 0.5em 0.4em;box-sizing: border-box;padding-bottom: 0.4em;background-color: white;}#sk-container-id-1 div.sk-label label {font-family: monospace;font-weight: bold;display: inline-block;line-height: 1.2em;}#sk-container-id-1 div.sk-label-container {text-align: center;}#sk-container-id-1 div.sk-container {/* jupyter's `normalize.less` sets `[hidden] { display: none; }` but bootstrap.min.css set `[hidden] { display: none !important; }` so we also need the `!important` here to be able to override the default hidden behavior on the sphinx rendered scikit-learn.org. See: https://github.com/scikit-learn/scikit-learn/issues/21755 */display: inline-block !important;position: relative;}#sk-container-id-1 div.sk-text-repr-fallback {display: none;}</style><div id=\"sk-container-id-1\" class=\"sk-top-container\"><div class=\"sk-text-repr-fallback\"><pre>GaussianNB(priors=[0.5, 0.5])</pre><b>In a Jupyter environment, please rerun this cell to show the HTML representation or trust the notebook. <br />On GitHub, the HTML representation is unable to render, please try loading this page with nbviewer.org.</b></div><div class=\"sk-container\" hidden><div class=\"sk-item\"><div class=\"sk-estimator sk-toggleable\"><input class=\"sk-toggleable__control sk-hidden--visually\" id=\"sk-estimator-id-1\" type=\"checkbox\" checked><label for=\"sk-estimator-id-1\" class=\"sk-toggleable__label sk-toggleable__label-arrow\">GaussianNB</label><div class=\"sk-toggleable__content\"><pre>GaussianNB(priors=[0.5, 0.5])</pre></div></div></div></div></div>"
      ],
      "text/plain": [
       "GaussianNB(priors=[0.5, 0.5])"
      ]
     },
     "execution_count": 20,
     "metadata": {},
     "output_type": "execute_result"
    }
   ],
   "source": [
    "nb = GaussianNB(priors=[0.5,0.5]) \n",
    "nb.fit(X_train1, y_train)"
   ]
  },
  {
   "cell_type": "code",
   "execution_count": 21,
   "id": "df72e3f4",
   "metadata": {
    "execution": {
     "iopub.execute_input": "2024-01-07T09:59:52.009989Z",
     "iopub.status.busy": "2024-01-07T09:59:52.009701Z",
     "iopub.status.idle": "2024-01-07T09:59:55.123754Z",
     "shell.execute_reply": "2024-01-07T09:59:55.122970Z"
    },
    "id": "56f447fe",
    "papermill": {
     "duration": 3.130667,
     "end_time": "2024-01-07T09:59:55.126253",
     "exception": false,
     "start_time": "2024-01-07T09:59:51.995586",
     "status": "completed"
    },
    "tags": []
   },
   "outputs": [],
   "source": [
    "nb_test_proba = nb.predict_proba(X_test1)[:,1]"
   ]
  },
  {
   "cell_type": "code",
   "execution_count": 22,
   "id": "e5f2f2e4",
   "metadata": {
    "execution": {
     "iopub.execute_input": "2024-01-07T09:59:55.154944Z",
     "iopub.status.busy": "2024-01-07T09:59:55.154594Z",
     "iopub.status.idle": "2024-01-07T09:59:57.022931Z",
     "shell.execute_reply": "2024-01-07T09:59:57.021955Z"
    },
    "id": "d87c5565",
    "papermill": {
     "duration": 1.885179,
     "end_time": "2024-01-07T09:59:57.025508",
     "exception": false,
     "start_time": "2024-01-07T09:59:55.140329",
     "status": "completed"
    },
    "tags": []
   },
   "outputs": [],
   "source": [
    "predict_and_save(nb_test_proba, 'nb_pred_bl.csv')"
   ]
  },
  {
   "cell_type": "markdown",
   "id": "89c8e721",
   "metadata": {
    "id": "773e6871",
    "papermill": {
     "duration": 0.012994,
     "end_time": "2024-01-07T09:59:57.052222",
     "exception": false,
     "start_time": "2024-01-07T09:59:57.039228",
     "status": "completed"
    },
    "tags": []
   },
   "source": [
    "### 2. Logistic Regression"
   ]
  },
  {
   "cell_type": "code",
   "execution_count": 23,
   "id": "516e4079",
   "metadata": {
    "execution": {
     "iopub.execute_input": "2024-01-07T09:59:57.079962Z",
     "iopub.status.busy": "2024-01-07T09:59:57.079313Z",
     "iopub.status.idle": "2024-01-07T10:00:39.543593Z",
     "shell.execute_reply": "2024-01-07T10:00:39.542386Z"
    },
    "id": "ffe86e7b",
    "outputId": "2581b7b8-8daa-473d-ef00-d5961ac3f4b9",
    "papermill": {
     "duration": 42.494558,
     "end_time": "2024-01-07T10:00:39.559827",
     "exception": false,
     "start_time": "2024-01-07T09:59:57.065269",
     "status": "completed"
    },
    "scrolled": true,
    "tags": []
   },
   "outputs": [
    {
     "name": "stderr",
     "output_type": "stream",
     "text": [
      "/opt/conda/lib/python3.10/site-packages/scipy/__init__.py:146: UserWarning: A NumPy version >=1.16.5 and <1.23.0 is required for this version of SciPy (detected version 1.24.3\n",
      "  warnings.warn(f\"A NumPy version >={np_minversion} and <{np_maxversion}\"\n",
      "/opt/conda/lib/python3.10/site-packages/sklearn/linear_model/_logistic.py:458: ConvergenceWarning: lbfgs failed to converge (status=1):\n",
      "STOP: TOTAL NO. of ITERATIONS REACHED LIMIT.\n",
      "\n",
      "Increase the number of iterations (max_iter) or scale the data as shown in:\n",
      "    https://scikit-learn.org/stable/modules/preprocessing.html\n",
      "Please also refer to the documentation for alternative solver options:\n",
      "    https://scikit-learn.org/stable/modules/linear_model.html#logistic-regression\n",
      "  n_iter_i = _check_optimize_result(\n"
     ]
    },
    {
     "data": {
      "text/html": [
       "<style>#sk-container-id-2 {color: black;background-color: white;}#sk-container-id-2 pre{padding: 0;}#sk-container-id-2 div.sk-toggleable {background-color: white;}#sk-container-id-2 label.sk-toggleable__label {cursor: pointer;display: block;width: 100%;margin-bottom: 0;padding: 0.3em;box-sizing: border-box;text-align: center;}#sk-container-id-2 label.sk-toggleable__label-arrow:before {content: \"▸\";float: left;margin-right: 0.25em;color: #696969;}#sk-container-id-2 label.sk-toggleable__label-arrow:hover:before {color: black;}#sk-container-id-2 div.sk-estimator:hover label.sk-toggleable__label-arrow:before {color: black;}#sk-container-id-2 div.sk-toggleable__content {max-height: 0;max-width: 0;overflow: hidden;text-align: left;background-color: #f0f8ff;}#sk-container-id-2 div.sk-toggleable__content pre {margin: 0.2em;color: black;border-radius: 0.25em;background-color: #f0f8ff;}#sk-container-id-2 input.sk-toggleable__control:checked~div.sk-toggleable__content {max-height: 200px;max-width: 100%;overflow: auto;}#sk-container-id-2 input.sk-toggleable__control:checked~label.sk-toggleable__label-arrow:before {content: \"▾\";}#sk-container-id-2 div.sk-estimator input.sk-toggleable__control:checked~label.sk-toggleable__label {background-color: #d4ebff;}#sk-container-id-2 div.sk-label input.sk-toggleable__control:checked~label.sk-toggleable__label {background-color: #d4ebff;}#sk-container-id-2 input.sk-hidden--visually {border: 0;clip: rect(1px 1px 1px 1px);clip: rect(1px, 1px, 1px, 1px);height: 1px;margin: -1px;overflow: hidden;padding: 0;position: absolute;width: 1px;}#sk-container-id-2 div.sk-estimator {font-family: monospace;background-color: #f0f8ff;border: 1px dotted black;border-radius: 0.25em;box-sizing: border-box;margin-bottom: 0.5em;}#sk-container-id-2 div.sk-estimator:hover {background-color: #d4ebff;}#sk-container-id-2 div.sk-parallel-item::after {content: \"\";width: 100%;border-bottom: 1px solid gray;flex-grow: 1;}#sk-container-id-2 div.sk-label:hover label.sk-toggleable__label {background-color: #d4ebff;}#sk-container-id-2 div.sk-serial::before {content: \"\";position: absolute;border-left: 1px solid gray;box-sizing: border-box;top: 0;bottom: 0;left: 50%;z-index: 0;}#sk-container-id-2 div.sk-serial {display: flex;flex-direction: column;align-items: center;background-color: white;padding-right: 0.2em;padding-left: 0.2em;position: relative;}#sk-container-id-2 div.sk-item {position: relative;z-index: 1;}#sk-container-id-2 div.sk-parallel {display: flex;align-items: stretch;justify-content: center;background-color: white;position: relative;}#sk-container-id-2 div.sk-item::before, #sk-container-id-2 div.sk-parallel-item::before {content: \"\";position: absolute;border-left: 1px solid gray;box-sizing: border-box;top: 0;bottom: 0;left: 50%;z-index: -1;}#sk-container-id-2 div.sk-parallel-item {display: flex;flex-direction: column;z-index: 1;position: relative;background-color: white;}#sk-container-id-2 div.sk-parallel-item:first-child::after {align-self: flex-end;width: 50%;}#sk-container-id-2 div.sk-parallel-item:last-child::after {align-self: flex-start;width: 50%;}#sk-container-id-2 div.sk-parallel-item:only-child::after {width: 0;}#sk-container-id-2 div.sk-dashed-wrapped {border: 1px dashed gray;margin: 0 0.4em 0.5em 0.4em;box-sizing: border-box;padding-bottom: 0.4em;background-color: white;}#sk-container-id-2 div.sk-label label {font-family: monospace;font-weight: bold;display: inline-block;line-height: 1.2em;}#sk-container-id-2 div.sk-label-container {text-align: center;}#sk-container-id-2 div.sk-container {/* jupyter's `normalize.less` sets `[hidden] { display: none; }` but bootstrap.min.css set `[hidden] { display: none !important; }` so we also need the `!important` here to be able to override the default hidden behavior on the sphinx rendered scikit-learn.org. See: https://github.com/scikit-learn/scikit-learn/issues/21755 */display: inline-block !important;position: relative;}#sk-container-id-2 div.sk-text-repr-fallback {display: none;}</style><div id=\"sk-container-id-2\" class=\"sk-top-container\"><div class=\"sk-text-repr-fallback\"><pre>LogisticRegression(class_weight=&#x27;balanced&#x27;, n_jobs=-1, random_state=3)</pre><b>In a Jupyter environment, please rerun this cell to show the HTML representation or trust the notebook. <br />On GitHub, the HTML representation is unable to render, please try loading this page with nbviewer.org.</b></div><div class=\"sk-container\" hidden><div class=\"sk-item\"><div class=\"sk-estimator sk-toggleable\"><input class=\"sk-toggleable__control sk-hidden--visually\" id=\"sk-estimator-id-2\" type=\"checkbox\" checked><label for=\"sk-estimator-id-2\" class=\"sk-toggleable__label sk-toggleable__label-arrow\">LogisticRegression</label><div class=\"sk-toggleable__content\"><pre>LogisticRegression(class_weight=&#x27;balanced&#x27;, n_jobs=-1, random_state=3)</pre></div></div></div></div></div>"
      ],
      "text/plain": [
       "LogisticRegression(class_weight='balanced', n_jobs=-1, random_state=3)"
      ]
     },
     "execution_count": 23,
     "metadata": {},
     "output_type": "execute_result"
    }
   ],
   "source": [
    "lr = LogisticRegression(n_jobs = -1, class_weight = 'balanced', random_state = 3) \n",
    "lr.fit(X_train1, y_train)"
   ]
  },
  {
   "cell_type": "code",
   "execution_count": 24,
   "id": "d6d4287e",
   "metadata": {
    "execution": {
     "iopub.execute_input": "2024-01-07T10:00:39.588893Z",
     "iopub.status.busy": "2024-01-07T10:00:39.588609Z",
     "iopub.status.idle": "2024-01-07T10:00:40.294793Z",
     "shell.execute_reply": "2024-01-07T10:00:40.293436Z"
    },
    "id": "82b04f35",
    "papermill": {
     "duration": 0.724632,
     "end_time": "2024-01-07T10:00:40.298554",
     "exception": false,
     "start_time": "2024-01-07T10:00:39.573922",
     "status": "completed"
    },
    "tags": []
   },
   "outputs": [],
   "source": [
    "lr_test_proba = lr.predict_proba(X_test1)[:,1]"
   ]
  },
  {
   "cell_type": "code",
   "execution_count": 25,
   "id": "a67b733f",
   "metadata": {
    "execution": {
     "iopub.execute_input": "2024-01-07T10:00:40.358880Z",
     "iopub.status.busy": "2024-01-07T10:00:40.358297Z",
     "iopub.status.idle": "2024-01-07T10:00:42.187095Z",
     "shell.execute_reply": "2024-01-07T10:00:42.186271Z"
    },
    "id": "8441e4ca",
    "papermill": {
     "duration": 1.861339,
     "end_time": "2024-01-07T10:00:42.189458",
     "exception": false,
     "start_time": "2024-01-07T10:00:40.328119",
     "status": "completed"
    },
    "tags": []
   },
   "outputs": [],
   "source": [
    "predict_and_save(lr_test_proba, 'lr_pred_bl.csv')"
   ]
  },
  {
   "cell_type": "markdown",
   "id": "6013790f",
   "metadata": {
    "id": "bfec8799",
    "papermill": {
     "duration": 0.013328,
     "end_time": "2024-01-07T10:00:42.216887",
     "exception": false,
     "start_time": "2024-01-07T10:00:42.203559",
     "status": "completed"
    },
    "tags": []
   },
   "source": [
    "### 3. Decision Tree"
   ]
  },
  {
   "cell_type": "code",
   "execution_count": 26,
   "id": "3a329b5e",
   "metadata": {
    "execution": {
     "iopub.execute_input": "2024-01-07T10:00:42.244928Z",
     "iopub.status.busy": "2024-01-07T10:00:42.244633Z",
     "iopub.status.idle": "2024-01-07T10:02:04.143962Z",
     "shell.execute_reply": "2024-01-07T10:02:04.143028Z"
    },
    "id": "efb16011",
    "outputId": "51e48561-7438-4747-90e3-e3534ef385f0",
    "papermill": {
     "duration": 81.931331,
     "end_time": "2024-01-07T10:02:04.161567",
     "exception": false,
     "start_time": "2024-01-07T10:00:42.230236",
     "status": "completed"
    },
    "scrolled": true,
    "tags": []
   },
   "outputs": [
    {
     "data": {
      "text/html": [
       "<style>#sk-container-id-3 {color: black;background-color: white;}#sk-container-id-3 pre{padding: 0;}#sk-container-id-3 div.sk-toggleable {background-color: white;}#sk-container-id-3 label.sk-toggleable__label {cursor: pointer;display: block;width: 100%;margin-bottom: 0;padding: 0.3em;box-sizing: border-box;text-align: center;}#sk-container-id-3 label.sk-toggleable__label-arrow:before {content: \"▸\";float: left;margin-right: 0.25em;color: #696969;}#sk-container-id-3 label.sk-toggleable__label-arrow:hover:before {color: black;}#sk-container-id-3 div.sk-estimator:hover label.sk-toggleable__label-arrow:before {color: black;}#sk-container-id-3 div.sk-toggleable__content {max-height: 0;max-width: 0;overflow: hidden;text-align: left;background-color: #f0f8ff;}#sk-container-id-3 div.sk-toggleable__content pre {margin: 0.2em;color: black;border-radius: 0.25em;background-color: #f0f8ff;}#sk-container-id-3 input.sk-toggleable__control:checked~div.sk-toggleable__content {max-height: 200px;max-width: 100%;overflow: auto;}#sk-container-id-3 input.sk-toggleable__control:checked~label.sk-toggleable__label-arrow:before {content: \"▾\";}#sk-container-id-3 div.sk-estimator input.sk-toggleable__control:checked~label.sk-toggleable__label {background-color: #d4ebff;}#sk-container-id-3 div.sk-label input.sk-toggleable__control:checked~label.sk-toggleable__label {background-color: #d4ebff;}#sk-container-id-3 input.sk-hidden--visually {border: 0;clip: rect(1px 1px 1px 1px);clip: rect(1px, 1px, 1px, 1px);height: 1px;margin: -1px;overflow: hidden;padding: 0;position: absolute;width: 1px;}#sk-container-id-3 div.sk-estimator {font-family: monospace;background-color: #f0f8ff;border: 1px dotted black;border-radius: 0.25em;box-sizing: border-box;margin-bottom: 0.5em;}#sk-container-id-3 div.sk-estimator:hover {background-color: #d4ebff;}#sk-container-id-3 div.sk-parallel-item::after {content: \"\";width: 100%;border-bottom: 1px solid gray;flex-grow: 1;}#sk-container-id-3 div.sk-label:hover label.sk-toggleable__label {background-color: #d4ebff;}#sk-container-id-3 div.sk-serial::before {content: \"\";position: absolute;border-left: 1px solid gray;box-sizing: border-box;top: 0;bottom: 0;left: 50%;z-index: 0;}#sk-container-id-3 div.sk-serial {display: flex;flex-direction: column;align-items: center;background-color: white;padding-right: 0.2em;padding-left: 0.2em;position: relative;}#sk-container-id-3 div.sk-item {position: relative;z-index: 1;}#sk-container-id-3 div.sk-parallel {display: flex;align-items: stretch;justify-content: center;background-color: white;position: relative;}#sk-container-id-3 div.sk-item::before, #sk-container-id-3 div.sk-parallel-item::before {content: \"\";position: absolute;border-left: 1px solid gray;box-sizing: border-box;top: 0;bottom: 0;left: 50%;z-index: -1;}#sk-container-id-3 div.sk-parallel-item {display: flex;flex-direction: column;z-index: 1;position: relative;background-color: white;}#sk-container-id-3 div.sk-parallel-item:first-child::after {align-self: flex-end;width: 50%;}#sk-container-id-3 div.sk-parallel-item:last-child::after {align-self: flex-start;width: 50%;}#sk-container-id-3 div.sk-parallel-item:only-child::after {width: 0;}#sk-container-id-3 div.sk-dashed-wrapped {border: 1px dashed gray;margin: 0 0.4em 0.5em 0.4em;box-sizing: border-box;padding-bottom: 0.4em;background-color: white;}#sk-container-id-3 div.sk-label label {font-family: monospace;font-weight: bold;display: inline-block;line-height: 1.2em;}#sk-container-id-3 div.sk-label-container {text-align: center;}#sk-container-id-3 div.sk-container {/* jupyter's `normalize.less` sets `[hidden] { display: none; }` but bootstrap.min.css set `[hidden] { display: none !important; }` so we also need the `!important` here to be able to override the default hidden behavior on the sphinx rendered scikit-learn.org. See: https://github.com/scikit-learn/scikit-learn/issues/21755 */display: inline-block !important;position: relative;}#sk-container-id-3 div.sk-text-repr-fallback {display: none;}</style><div id=\"sk-container-id-3\" class=\"sk-top-container\"><div class=\"sk-text-repr-fallback\"><pre>DecisionTreeClassifier(class_weight=&#x27;balanced&#x27;, random_state=3)</pre><b>In a Jupyter environment, please rerun this cell to show the HTML representation or trust the notebook. <br />On GitHub, the HTML representation is unable to render, please try loading this page with nbviewer.org.</b></div><div class=\"sk-container\" hidden><div class=\"sk-item\"><div class=\"sk-estimator sk-toggleable\"><input class=\"sk-toggleable__control sk-hidden--visually\" id=\"sk-estimator-id-3\" type=\"checkbox\" checked><label for=\"sk-estimator-id-3\" class=\"sk-toggleable__label sk-toggleable__label-arrow\">DecisionTreeClassifier</label><div class=\"sk-toggleable__content\"><pre>DecisionTreeClassifier(class_weight=&#x27;balanced&#x27;, random_state=3)</pre></div></div></div></div></div>"
      ],
      "text/plain": [
       "DecisionTreeClassifier(class_weight='balanced', random_state=3)"
      ]
     },
     "execution_count": 26,
     "metadata": {},
     "output_type": "execute_result"
    }
   ],
   "source": [
    "dt =  DecisionTreeClassifier(random_state=3, class_weight='balanced')\n",
    "dt.fit(X_train2, y_train)"
   ]
  },
  {
   "cell_type": "code",
   "execution_count": 27,
   "id": "930404ea",
   "metadata": {
    "execution": {
     "iopub.execute_input": "2024-01-07T10:02:04.190727Z",
     "iopub.status.busy": "2024-01-07T10:02:04.190391Z",
     "iopub.status.idle": "2024-01-07T10:02:05.203412Z",
     "shell.execute_reply": "2024-01-07T10:02:05.202605Z"
    },
    "id": "23965755",
    "papermill": {
     "duration": 1.030316,
     "end_time": "2024-01-07T10:02:05.205803",
     "exception": false,
     "start_time": "2024-01-07T10:02:04.175487",
     "status": "completed"
    },
    "tags": []
   },
   "outputs": [],
   "source": [
    "dt_test_proba = dt.predict_proba(X_test2)[:,1]"
   ]
  },
  {
   "cell_type": "code",
   "execution_count": 28,
   "id": "4bf10ae4",
   "metadata": {
    "execution": {
     "iopub.execute_input": "2024-01-07T10:02:05.235569Z",
     "iopub.status.busy": "2024-01-07T10:02:05.235212Z",
     "iopub.status.idle": "2024-01-07T10:02:06.451046Z",
     "shell.execute_reply": "2024-01-07T10:02:06.450166Z"
    },
    "id": "3yHe8gNOH8Fl",
    "papermill": {
     "duration": 1.233245,
     "end_time": "2024-01-07T10:02:06.453275",
     "exception": false,
     "start_time": "2024-01-07T10:02:05.220030",
     "status": "completed"
    },
    "tags": []
   },
   "outputs": [],
   "source": [
    "predict_and_save(dt_test_proba, 'dt_pred_bl.csv')"
   ]
  },
  {
   "cell_type": "markdown",
   "id": "b55c2cea",
   "metadata": {
    "id": "2ae3eb8c",
    "papermill": {
     "duration": 0.01481,
     "end_time": "2024-01-07T10:02:06.482197",
     "exception": false,
     "start_time": "2024-01-07T10:02:06.467387",
     "status": "completed"
    },
    "tags": []
   },
   "source": [
    "### 4. Random Forest"
   ]
  },
  {
   "cell_type": "code",
   "execution_count": 29,
   "id": "b22a77d6",
   "metadata": {
    "execution": {
     "iopub.execute_input": "2024-01-07T10:02:06.521906Z",
     "iopub.status.busy": "2024-01-07T10:02:06.521550Z",
     "iopub.status.idle": "2024-01-07T10:04:23.244166Z",
     "shell.execute_reply": "2024-01-07T10:04:23.243197Z"
    },
    "id": "dc4b60d0",
    "outputId": "0ef5eb03-9917-4a33-ba85-75a4a298f398",
    "papermill": {
     "duration": 136.76021,
     "end_time": "2024-01-07T10:04:23.260355",
     "exception": false,
     "start_time": "2024-01-07T10:02:06.500145",
     "status": "completed"
    },
    "tags": []
   },
   "outputs": [
    {
     "data": {
      "text/html": [
       "<style>#sk-container-id-4 {color: black;background-color: white;}#sk-container-id-4 pre{padding: 0;}#sk-container-id-4 div.sk-toggleable {background-color: white;}#sk-container-id-4 label.sk-toggleable__label {cursor: pointer;display: block;width: 100%;margin-bottom: 0;padding: 0.3em;box-sizing: border-box;text-align: center;}#sk-container-id-4 label.sk-toggleable__label-arrow:before {content: \"▸\";float: left;margin-right: 0.25em;color: #696969;}#sk-container-id-4 label.sk-toggleable__label-arrow:hover:before {color: black;}#sk-container-id-4 div.sk-estimator:hover label.sk-toggleable__label-arrow:before {color: black;}#sk-container-id-4 div.sk-toggleable__content {max-height: 0;max-width: 0;overflow: hidden;text-align: left;background-color: #f0f8ff;}#sk-container-id-4 div.sk-toggleable__content pre {margin: 0.2em;color: black;border-radius: 0.25em;background-color: #f0f8ff;}#sk-container-id-4 input.sk-toggleable__control:checked~div.sk-toggleable__content {max-height: 200px;max-width: 100%;overflow: auto;}#sk-container-id-4 input.sk-toggleable__control:checked~label.sk-toggleable__label-arrow:before {content: \"▾\";}#sk-container-id-4 div.sk-estimator input.sk-toggleable__control:checked~label.sk-toggleable__label {background-color: #d4ebff;}#sk-container-id-4 div.sk-label input.sk-toggleable__control:checked~label.sk-toggleable__label {background-color: #d4ebff;}#sk-container-id-4 input.sk-hidden--visually {border: 0;clip: rect(1px 1px 1px 1px);clip: rect(1px, 1px, 1px, 1px);height: 1px;margin: -1px;overflow: hidden;padding: 0;position: absolute;width: 1px;}#sk-container-id-4 div.sk-estimator {font-family: monospace;background-color: #f0f8ff;border: 1px dotted black;border-radius: 0.25em;box-sizing: border-box;margin-bottom: 0.5em;}#sk-container-id-4 div.sk-estimator:hover {background-color: #d4ebff;}#sk-container-id-4 div.sk-parallel-item::after {content: \"\";width: 100%;border-bottom: 1px solid gray;flex-grow: 1;}#sk-container-id-4 div.sk-label:hover label.sk-toggleable__label {background-color: #d4ebff;}#sk-container-id-4 div.sk-serial::before {content: \"\";position: absolute;border-left: 1px solid gray;box-sizing: border-box;top: 0;bottom: 0;left: 50%;z-index: 0;}#sk-container-id-4 div.sk-serial {display: flex;flex-direction: column;align-items: center;background-color: white;padding-right: 0.2em;padding-left: 0.2em;position: relative;}#sk-container-id-4 div.sk-item {position: relative;z-index: 1;}#sk-container-id-4 div.sk-parallel {display: flex;align-items: stretch;justify-content: center;background-color: white;position: relative;}#sk-container-id-4 div.sk-item::before, #sk-container-id-4 div.sk-parallel-item::before {content: \"\";position: absolute;border-left: 1px solid gray;box-sizing: border-box;top: 0;bottom: 0;left: 50%;z-index: -1;}#sk-container-id-4 div.sk-parallel-item {display: flex;flex-direction: column;z-index: 1;position: relative;background-color: white;}#sk-container-id-4 div.sk-parallel-item:first-child::after {align-self: flex-end;width: 50%;}#sk-container-id-4 div.sk-parallel-item:last-child::after {align-self: flex-start;width: 50%;}#sk-container-id-4 div.sk-parallel-item:only-child::after {width: 0;}#sk-container-id-4 div.sk-dashed-wrapped {border: 1px dashed gray;margin: 0 0.4em 0.5em 0.4em;box-sizing: border-box;padding-bottom: 0.4em;background-color: white;}#sk-container-id-4 div.sk-label label {font-family: monospace;font-weight: bold;display: inline-block;line-height: 1.2em;}#sk-container-id-4 div.sk-label-container {text-align: center;}#sk-container-id-4 div.sk-container {/* jupyter's `normalize.less` sets `[hidden] { display: none; }` but bootstrap.min.css set `[hidden] { display: none !important; }` so we also need the `!important` here to be able to override the default hidden behavior on the sphinx rendered scikit-learn.org. See: https://github.com/scikit-learn/scikit-learn/issues/21755 */display: inline-block !important;position: relative;}#sk-container-id-4 div.sk-text-repr-fallback {display: none;}</style><div id=\"sk-container-id-4\" class=\"sk-top-container\"><div class=\"sk-text-repr-fallback\"><pre>RandomForestClassifier(class_weight=&#x27;balanced&#x27;, n_jobs=-1, random_state=3)</pre><b>In a Jupyter environment, please rerun this cell to show the HTML representation or trust the notebook. <br />On GitHub, the HTML representation is unable to render, please try loading this page with nbviewer.org.</b></div><div class=\"sk-container\" hidden><div class=\"sk-item\"><div class=\"sk-estimator sk-toggleable\"><input class=\"sk-toggleable__control sk-hidden--visually\" id=\"sk-estimator-id-4\" type=\"checkbox\" checked><label for=\"sk-estimator-id-4\" class=\"sk-toggleable__label sk-toggleable__label-arrow\">RandomForestClassifier</label><div class=\"sk-toggleable__content\"><pre>RandomForestClassifier(class_weight=&#x27;balanced&#x27;, n_jobs=-1, random_state=3)</pre></div></div></div></div></div>"
      ],
      "text/plain": [
       "RandomForestClassifier(class_weight='balanced', n_jobs=-1, random_state=3)"
      ]
     },
     "execution_count": 29,
     "metadata": {},
     "output_type": "execute_result"
    }
   ],
   "source": [
    "rf =  RandomForestClassifier(n_jobs = -1, class_weight = 'balanced', random_state = 3)\n",
    "rf.fit(X_train2, y_train)"
   ]
  },
  {
   "cell_type": "code",
   "execution_count": 30,
   "id": "dbf822ad",
   "metadata": {
    "execution": {
     "iopub.execute_input": "2024-01-07T10:04:23.289424Z",
     "iopub.status.busy": "2024-01-07T10:04:23.289109Z",
     "iopub.status.idle": "2024-01-07T10:04:30.926433Z",
     "shell.execute_reply": "2024-01-07T10:04:30.925434Z"
    },
    "id": "ac0cd53a",
    "papermill": {
     "duration": 7.65471,
     "end_time": "2024-01-07T10:04:30.928875",
     "exception": false,
     "start_time": "2024-01-07T10:04:23.274165",
     "status": "completed"
    },
    "tags": []
   },
   "outputs": [],
   "source": [
    "rf_test_proba = rf.predict_proba(X_test2)[:,1]"
   ]
  },
  {
   "cell_type": "code",
   "execution_count": 31,
   "id": "5fb3b38e",
   "metadata": {
    "execution": {
     "iopub.execute_input": "2024-01-07T10:04:30.958444Z",
     "iopub.status.busy": "2024-01-07T10:04:30.958142Z",
     "iopub.status.idle": "2024-01-07T10:04:32.204657Z",
     "shell.execute_reply": "2024-01-07T10:04:32.203875Z"
    },
    "id": "PU_on3-vH8Fn",
    "papermill": {
     "duration": 1.26375,
     "end_time": "2024-01-07T10:04:32.206981",
     "exception": false,
     "start_time": "2024-01-07T10:04:30.943231",
     "status": "completed"
    },
    "tags": []
   },
   "outputs": [],
   "source": [
    "predict_and_save(rf_test_proba, 'rf_pred_bl.csv')"
   ]
  },
  {
   "cell_type": "markdown",
   "id": "cc0ebeba",
   "metadata": {
    "id": "56ea2aee",
    "papermill": {
     "duration": 0.013726,
     "end_time": "2024-01-07T10:04:32.235115",
     "exception": false,
     "start_time": "2024-01-07T10:04:32.221389",
     "status": "completed"
    },
    "tags": []
   },
   "source": [
    "### 5. Adaptive Boosting"
   ]
  },
  {
   "cell_type": "code",
   "execution_count": 32,
   "id": "45a011fa",
   "metadata": {
    "execution": {
     "iopub.execute_input": "2024-01-07T10:04:32.264532Z",
     "iopub.status.busy": "2024-01-07T10:04:32.264185Z",
     "iopub.status.idle": "2024-01-07T10:09:16.238363Z",
     "shell.execute_reply": "2024-01-07T10:09:16.237433Z"
    },
    "id": "2be1c5c7",
    "outputId": "b25c7d0a-91f0-42b1-9b73-0299c745a092",
    "papermill": {
     "duration": 284.008901,
     "end_time": "2024-01-07T10:09:16.257801",
     "exception": false,
     "start_time": "2024-01-07T10:04:32.248900",
     "status": "completed"
    },
    "tags": []
   },
   "outputs": [
    {
     "data": {
      "text/html": [
       "<style>#sk-container-id-5 {color: black;background-color: white;}#sk-container-id-5 pre{padding: 0;}#sk-container-id-5 div.sk-toggleable {background-color: white;}#sk-container-id-5 label.sk-toggleable__label {cursor: pointer;display: block;width: 100%;margin-bottom: 0;padding: 0.3em;box-sizing: border-box;text-align: center;}#sk-container-id-5 label.sk-toggleable__label-arrow:before {content: \"▸\";float: left;margin-right: 0.25em;color: #696969;}#sk-container-id-5 label.sk-toggleable__label-arrow:hover:before {color: black;}#sk-container-id-5 div.sk-estimator:hover label.sk-toggleable__label-arrow:before {color: black;}#sk-container-id-5 div.sk-toggleable__content {max-height: 0;max-width: 0;overflow: hidden;text-align: left;background-color: #f0f8ff;}#sk-container-id-5 div.sk-toggleable__content pre {margin: 0.2em;color: black;border-radius: 0.25em;background-color: #f0f8ff;}#sk-container-id-5 input.sk-toggleable__control:checked~div.sk-toggleable__content {max-height: 200px;max-width: 100%;overflow: auto;}#sk-container-id-5 input.sk-toggleable__control:checked~label.sk-toggleable__label-arrow:before {content: \"▾\";}#sk-container-id-5 div.sk-estimator input.sk-toggleable__control:checked~label.sk-toggleable__label {background-color: #d4ebff;}#sk-container-id-5 div.sk-label input.sk-toggleable__control:checked~label.sk-toggleable__label {background-color: #d4ebff;}#sk-container-id-5 input.sk-hidden--visually {border: 0;clip: rect(1px 1px 1px 1px);clip: rect(1px, 1px, 1px, 1px);height: 1px;margin: -1px;overflow: hidden;padding: 0;position: absolute;width: 1px;}#sk-container-id-5 div.sk-estimator {font-family: monospace;background-color: #f0f8ff;border: 1px dotted black;border-radius: 0.25em;box-sizing: border-box;margin-bottom: 0.5em;}#sk-container-id-5 div.sk-estimator:hover {background-color: #d4ebff;}#sk-container-id-5 div.sk-parallel-item::after {content: \"\";width: 100%;border-bottom: 1px solid gray;flex-grow: 1;}#sk-container-id-5 div.sk-label:hover label.sk-toggleable__label {background-color: #d4ebff;}#sk-container-id-5 div.sk-serial::before {content: \"\";position: absolute;border-left: 1px solid gray;box-sizing: border-box;top: 0;bottom: 0;left: 50%;z-index: 0;}#sk-container-id-5 div.sk-serial {display: flex;flex-direction: column;align-items: center;background-color: white;padding-right: 0.2em;padding-left: 0.2em;position: relative;}#sk-container-id-5 div.sk-item {position: relative;z-index: 1;}#sk-container-id-5 div.sk-parallel {display: flex;align-items: stretch;justify-content: center;background-color: white;position: relative;}#sk-container-id-5 div.sk-item::before, #sk-container-id-5 div.sk-parallel-item::before {content: \"\";position: absolute;border-left: 1px solid gray;box-sizing: border-box;top: 0;bottom: 0;left: 50%;z-index: -1;}#sk-container-id-5 div.sk-parallel-item {display: flex;flex-direction: column;z-index: 1;position: relative;background-color: white;}#sk-container-id-5 div.sk-parallel-item:first-child::after {align-self: flex-end;width: 50%;}#sk-container-id-5 div.sk-parallel-item:last-child::after {align-self: flex-start;width: 50%;}#sk-container-id-5 div.sk-parallel-item:only-child::after {width: 0;}#sk-container-id-5 div.sk-dashed-wrapped {border: 1px dashed gray;margin: 0 0.4em 0.5em 0.4em;box-sizing: border-box;padding-bottom: 0.4em;background-color: white;}#sk-container-id-5 div.sk-label label {font-family: monospace;font-weight: bold;display: inline-block;line-height: 1.2em;}#sk-container-id-5 div.sk-label-container {text-align: center;}#sk-container-id-5 div.sk-container {/* jupyter's `normalize.less` sets `[hidden] { display: none; }` but bootstrap.min.css set `[hidden] { display: none !important; }` so we also need the `!important` here to be able to override the default hidden behavior on the sphinx rendered scikit-learn.org. See: https://github.com/scikit-learn/scikit-learn/issues/21755 */display: inline-block !important;position: relative;}#sk-container-id-5 div.sk-text-repr-fallback {display: none;}</style><div id=\"sk-container-id-5\" class=\"sk-top-container\"><div class=\"sk-text-repr-fallback\"><pre>AdaBoostClassifier(random_state=3)</pre><b>In a Jupyter environment, please rerun this cell to show the HTML representation or trust the notebook. <br />On GitHub, the HTML representation is unable to render, please try loading this page with nbviewer.org.</b></div><div class=\"sk-container\" hidden><div class=\"sk-item\"><div class=\"sk-estimator sk-toggleable\"><input class=\"sk-toggleable__control sk-hidden--visually\" id=\"sk-estimator-id-5\" type=\"checkbox\" checked><label for=\"sk-estimator-id-5\" class=\"sk-toggleable__label sk-toggleable__label-arrow\">AdaBoostClassifier</label><div class=\"sk-toggleable__content\"><pre>AdaBoostClassifier(random_state=3)</pre></div></div></div></div></div>"
      ],
      "text/plain": [
       "AdaBoostClassifier(random_state=3)"
      ]
     },
     "execution_count": 32,
     "metadata": {},
     "output_type": "execute_result"
    }
   ],
   "source": [
    "ab =  AdaBoostClassifier(random_state = 3)\n",
    "ab.fit(X_train2, y_train)"
   ]
  },
  {
   "cell_type": "code",
   "execution_count": 33,
   "id": "261e6b2f",
   "metadata": {
    "execution": {
     "iopub.execute_input": "2024-01-07T10:09:16.299405Z",
     "iopub.status.busy": "2024-01-07T10:09:16.298158Z",
     "iopub.status.idle": "2024-01-07T10:09:37.612725Z",
     "shell.execute_reply": "2024-01-07T10:09:37.611896Z"
    },
    "id": "6046bc34",
    "papermill": {
     "duration": 21.33725,
     "end_time": "2024-01-07T10:09:37.615327",
     "exception": false,
     "start_time": "2024-01-07T10:09:16.278077",
     "status": "completed"
    },
    "tags": []
   },
   "outputs": [],
   "source": [
    "ab_test_proba = ab.predict_proba(X_test2)[:,1]"
   ]
  },
  {
   "cell_type": "code",
   "execution_count": 34,
   "id": "2fc6ea8b",
   "metadata": {
    "execution": {
     "iopub.execute_input": "2024-01-07T10:09:37.648373Z",
     "iopub.status.busy": "2024-01-07T10:09:37.648065Z",
     "iopub.status.idle": "2024-01-07T10:09:39.492491Z",
     "shell.execute_reply": "2024-01-07T10:09:39.491674Z"
    },
    "id": "rGJKo8uoH8Fq",
    "papermill": {
     "duration": 1.86325,
     "end_time": "2024-01-07T10:09:39.494845",
     "exception": false,
     "start_time": "2024-01-07T10:09:37.631595",
     "status": "completed"
    },
    "tags": []
   },
   "outputs": [],
   "source": [
    "predict_and_save(ab_test_proba, 'ab_pred_bl.csv')"
   ]
  },
  {
   "cell_type": "markdown",
   "id": "1f1a9acb",
   "metadata": {
    "id": "1a02f819",
    "papermill": {
     "duration": 0.013874,
     "end_time": "2024-01-07T10:09:39.523958",
     "exception": false,
     "start_time": "2024-01-07T10:09:39.510084",
     "status": "completed"
    },
    "tags": []
   },
   "source": [
    "### 6. Gradient Boosted Decision Tree (XGBoost)"
   ]
  },
  {
   "cell_type": "code",
   "execution_count": 35,
   "id": "d29a2996",
   "metadata": {
    "execution": {
     "iopub.execute_input": "2024-01-07T10:09:39.553703Z",
     "iopub.status.busy": "2024-01-07T10:09:39.552888Z",
     "iopub.status.idle": "2024-01-07T10:09:39.569460Z",
     "shell.execute_reply": "2024-01-07T10:09:39.568538Z"
    },
    "id": "b6d72d7e",
    "papermill": {
     "duration": 0.033462,
     "end_time": "2024-01-07T10:09:39.571389",
     "exception": false,
     "start_time": "2024-01-07T10:09:39.537927",
     "status": "completed"
    },
    "tags": []
   },
   "outputs": [],
   "source": [
    "weight = y_train.value_counts()[0]/y_train.value_counts()[1]"
   ]
  },
  {
   "cell_type": "code",
   "execution_count": 36,
   "id": "74c92ce4",
   "metadata": {
    "execution": {
     "iopub.execute_input": "2024-01-07T10:09:39.602197Z",
     "iopub.status.busy": "2024-01-07T10:09:39.601498Z",
     "iopub.status.idle": "2024-01-07T10:10:00.786294Z",
     "shell.execute_reply": "2024-01-07T10:10:00.785351Z"
    },
    "id": "6b91aa61",
    "outputId": "2375d62a-c3a5-4d35-b6b5-00b032fdc0d9",
    "papermill": {
     "duration": 21.20264,
     "end_time": "2024-01-07T10:10:00.788314",
     "exception": false,
     "start_time": "2024-01-07T10:09:39.585674",
     "status": "completed"
    },
    "tags": []
   },
   "outputs": [
    {
     "data": {
      "text/html": [
       "<style>#sk-container-id-6 {color: black;background-color: white;}#sk-container-id-6 pre{padding: 0;}#sk-container-id-6 div.sk-toggleable {background-color: white;}#sk-container-id-6 label.sk-toggleable__label {cursor: pointer;display: block;width: 100%;margin-bottom: 0;padding: 0.3em;box-sizing: border-box;text-align: center;}#sk-container-id-6 label.sk-toggleable__label-arrow:before {content: \"▸\";float: left;margin-right: 0.25em;color: #696969;}#sk-container-id-6 label.sk-toggleable__label-arrow:hover:before {color: black;}#sk-container-id-6 div.sk-estimator:hover label.sk-toggleable__label-arrow:before {color: black;}#sk-container-id-6 div.sk-toggleable__content {max-height: 0;max-width: 0;overflow: hidden;text-align: left;background-color: #f0f8ff;}#sk-container-id-6 div.sk-toggleable__content pre {margin: 0.2em;color: black;border-radius: 0.25em;background-color: #f0f8ff;}#sk-container-id-6 input.sk-toggleable__control:checked~div.sk-toggleable__content {max-height: 200px;max-width: 100%;overflow: auto;}#sk-container-id-6 input.sk-toggleable__control:checked~label.sk-toggleable__label-arrow:before {content: \"▾\";}#sk-container-id-6 div.sk-estimator input.sk-toggleable__control:checked~label.sk-toggleable__label {background-color: #d4ebff;}#sk-container-id-6 div.sk-label input.sk-toggleable__control:checked~label.sk-toggleable__label {background-color: #d4ebff;}#sk-container-id-6 input.sk-hidden--visually {border: 0;clip: rect(1px 1px 1px 1px);clip: rect(1px, 1px, 1px, 1px);height: 1px;margin: -1px;overflow: hidden;padding: 0;position: absolute;width: 1px;}#sk-container-id-6 div.sk-estimator {font-family: monospace;background-color: #f0f8ff;border: 1px dotted black;border-radius: 0.25em;box-sizing: border-box;margin-bottom: 0.5em;}#sk-container-id-6 div.sk-estimator:hover {background-color: #d4ebff;}#sk-container-id-6 div.sk-parallel-item::after {content: \"\";width: 100%;border-bottom: 1px solid gray;flex-grow: 1;}#sk-container-id-6 div.sk-label:hover label.sk-toggleable__label {background-color: #d4ebff;}#sk-container-id-6 div.sk-serial::before {content: \"\";position: absolute;border-left: 1px solid gray;box-sizing: border-box;top: 0;bottom: 0;left: 50%;z-index: 0;}#sk-container-id-6 div.sk-serial {display: flex;flex-direction: column;align-items: center;background-color: white;padding-right: 0.2em;padding-left: 0.2em;position: relative;}#sk-container-id-6 div.sk-item {position: relative;z-index: 1;}#sk-container-id-6 div.sk-parallel {display: flex;align-items: stretch;justify-content: center;background-color: white;position: relative;}#sk-container-id-6 div.sk-item::before, #sk-container-id-6 div.sk-parallel-item::before {content: \"\";position: absolute;border-left: 1px solid gray;box-sizing: border-box;top: 0;bottom: 0;left: 50%;z-index: -1;}#sk-container-id-6 div.sk-parallel-item {display: flex;flex-direction: column;z-index: 1;position: relative;background-color: white;}#sk-container-id-6 div.sk-parallel-item:first-child::after {align-self: flex-end;width: 50%;}#sk-container-id-6 div.sk-parallel-item:last-child::after {align-self: flex-start;width: 50%;}#sk-container-id-6 div.sk-parallel-item:only-child::after {width: 0;}#sk-container-id-6 div.sk-dashed-wrapped {border: 1px dashed gray;margin: 0 0.4em 0.5em 0.4em;box-sizing: border-box;padding-bottom: 0.4em;background-color: white;}#sk-container-id-6 div.sk-label label {font-family: monospace;font-weight: bold;display: inline-block;line-height: 1.2em;}#sk-container-id-6 div.sk-label-container {text-align: center;}#sk-container-id-6 div.sk-container {/* jupyter's `normalize.less` sets `[hidden] { display: none; }` but bootstrap.min.css set `[hidden] { display: none !important; }` so we also need the `!important` here to be able to override the default hidden behavior on the sphinx rendered scikit-learn.org. See: https://github.com/scikit-learn/scikit-learn/issues/21755 */display: inline-block !important;position: relative;}#sk-container-id-6 div.sk-text-repr-fallback {display: none;}</style><div id=\"sk-container-id-6\" class=\"sk-top-container\"><div class=\"sk-text-repr-fallback\"><pre>XGBClassifier(base_score=None, booster=None, callbacks=None,\n",
       "              colsample_bylevel=None, colsample_bynode=None,\n",
       "              colsample_bytree=None, device=None, early_stopping_rounds=None,\n",
       "              enable_categorical=False, eval_metric=&#x27;auc&#x27;, feature_types=None,\n",
       "              gamma=None, gpu_id=0, grow_policy=None, importance_type=None,\n",
       "              interaction_constraints=None, learning_rate=None, max_bin=None,\n",
       "              max_cat_threshold=None, max_cat_to_onehot=None,\n",
       "              max_delta_step=None, max_depth=None, max_leaves=None,\n",
       "              min_child_weight=None, missing=nan, monotone_constraints=None,\n",
       "              multi_strategy=None, n_estimators=None, n_jobs=None,\n",
       "              num_parallel_tree=None, ...)</pre><b>In a Jupyter environment, please rerun this cell to show the HTML representation or trust the notebook. <br />On GitHub, the HTML representation is unable to render, please try loading this page with nbviewer.org.</b></div><div class=\"sk-container\" hidden><div class=\"sk-item\"><div class=\"sk-estimator sk-toggleable\"><input class=\"sk-toggleable__control sk-hidden--visually\" id=\"sk-estimator-id-6\" type=\"checkbox\" checked><label for=\"sk-estimator-id-6\" class=\"sk-toggleable__label sk-toggleable__label-arrow\">XGBClassifier</label><div class=\"sk-toggleable__content\"><pre>XGBClassifier(base_score=None, booster=None, callbacks=None,\n",
       "              colsample_bylevel=None, colsample_bynode=None,\n",
       "              colsample_bytree=None, device=None, early_stopping_rounds=None,\n",
       "              enable_categorical=False, eval_metric=&#x27;auc&#x27;, feature_types=None,\n",
       "              gamma=None, gpu_id=0, grow_policy=None, importance_type=None,\n",
       "              interaction_constraints=None, learning_rate=None, max_bin=None,\n",
       "              max_cat_threshold=None, max_cat_to_onehot=None,\n",
       "              max_delta_step=None, max_depth=None, max_leaves=None,\n",
       "              min_child_weight=None, missing=nan, monotone_constraints=None,\n",
       "              multi_strategy=None, n_estimators=None, n_jobs=None,\n",
       "              num_parallel_tree=None, ...)</pre></div></div></div></div></div>"
      ],
      "text/plain": [
       "XGBClassifier(base_score=None, booster=None, callbacks=None,\n",
       "              colsample_bylevel=None, colsample_bynode=None,\n",
       "              colsample_bytree=None, device=None, early_stopping_rounds=None,\n",
       "              enable_categorical=False, eval_metric='auc', feature_types=None,\n",
       "              gamma=None, gpu_id=0, grow_policy=None, importance_type=None,\n",
       "              interaction_constraints=None, learning_rate=None, max_bin=None,\n",
       "              max_cat_threshold=None, max_cat_to_onehot=None,\n",
       "              max_delta_step=None, max_depth=None, max_leaves=None,\n",
       "              min_child_weight=None, missing=nan, monotone_constraints=None,\n",
       "              multi_strategy=None, n_estimators=None, n_jobs=None,\n",
       "              num_parallel_tree=None, ...)"
      ]
     },
     "execution_count": 36,
     "metadata": {},
     "output_type": "execute_result"
    }
   ],
   "source": [
    "xgboost =  XGBClassifier(scale_pos_weight = weight, objective='binary:logistic', eval_metric = 'auc', random_state = 3, tree_method = 'gpu_hist', gpu_id=0)\n",
    "xgboost.fit(X_train3, y_train)"
   ]
  },
  {
   "cell_type": "code",
   "execution_count": 37,
   "id": "0128f319",
   "metadata": {
    "execution": {
     "iopub.execute_input": "2024-01-07T10:10:00.819810Z",
     "iopub.status.busy": "2024-01-07T10:10:00.819467Z",
     "iopub.status.idle": "2024-01-07T10:10:05.244551Z",
     "shell.execute_reply": "2024-01-07T10:10:05.243540Z"
    },
    "id": "40974125",
    "papermill": {
     "duration": 4.443731,
     "end_time": "2024-01-07T10:10:05.247031",
     "exception": false,
     "start_time": "2024-01-07T10:10:00.803300",
     "status": "completed"
    },
    "tags": []
   },
   "outputs": [],
   "source": [
    "xgboost_test_proba = xgboost.predict_proba(X_test3)[:,1]"
   ]
  },
  {
   "cell_type": "code",
   "execution_count": 38,
   "id": "1d2f374d",
   "metadata": {
    "execution": {
     "iopub.execute_input": "2024-01-07T10:10:05.278375Z",
     "iopub.status.busy": "2024-01-07T10:10:05.277640Z",
     "iopub.status.idle": "2024-01-07T10:10:06.817043Z",
     "shell.execute_reply": "2024-01-07T10:10:06.816200Z"
    },
    "id": "_i-h6_RNH8Ft",
    "papermill": {
     "duration": 1.557504,
     "end_time": "2024-01-07T10:10:06.819414",
     "exception": false,
     "start_time": "2024-01-07T10:10:05.261910",
     "status": "completed"
    },
    "tags": []
   },
   "outputs": [],
   "source": [
    "predict_and_save(xgboost_test_proba, 'xgboost_pred_bl.csv')"
   ]
  },
  {
   "cell_type": "markdown",
   "id": "b2763fa5",
   "metadata": {
    "id": "8_pzo2WEGnqf",
    "papermill": {
     "duration": 0.014282,
     "end_time": "2024-01-07T10:10:06.849061",
     "exception": false,
     "start_time": "2024-01-07T10:10:06.834779",
     "status": "completed"
    },
    "tags": []
   },
   "source": [
    "## Conclusion"
   ]
  },
  {
   "cell_type": "markdown",
   "id": "304f87e0",
   "metadata": {
    "id": "KhzqLd6tGply",
    "papermill": {
     "duration": 0.014461,
     "end_time": "2024-01-07T10:10:06.878139",
     "exception": false,
     "start_time": "2024-01-07T10:10:06.863678",
     "status": "completed"
    },
    "tags": []
   },
   "source": [
    "From the above results, it is quite clear that the Decision Tree based Ensemble is working best for our problem. Hence, from now on we will be using Tree based Ensemble only and will try to optimize the data and models to get more better score."
   ]
  }
 ],
 "metadata": {
  "accelerator": "GPU",
  "colab": {
   "collapsed_sections": [],
   "machine_shape": "hm",
   "name": "2.Baseline Models.ipynb",
   "provenance": []
  },
  "kaggle": {
   "accelerator": "gpu",
   "dataSources": [
    {
     "databundleVersionId": 568274,
     "sourceId": 14242,
     "sourceType": "competition"
    }
   ],
   "isGpuEnabled": true,
   "isInternetEnabled": true,
   "language": "python",
   "sourceType": "notebook"
  },
  "kernelspec": {
   "display_name": "Python 3",
   "language": "python",
   "name": "python3"
  },
  "language_info": {
   "codemirror_mode": {
    "name": "ipython",
    "version": 3
   },
   "file_extension": ".py",
   "mimetype": "text/x-python",
   "name": "python",
   "nbconvert_exporter": "python",
   "pygments_lexer": "ipython3",
   "version": "3.10.12"
  },
  "papermill": {
   "default_parameters": {},
   "duration": 761.750181,
   "end_time": "2024-01-07T10:10:09.714060",
   "environment_variables": {},
   "exception": null,
   "input_path": "__notebook__.ipynb",
   "output_path": "__notebook__.ipynb",
   "parameters": {},
   "start_time": "2024-01-07T09:57:27.963879",
   "version": "2.4.0"
  }
 },
 "nbformat": 4,
 "nbformat_minor": 5
}
