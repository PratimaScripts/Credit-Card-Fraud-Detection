{
 "cells": [
  {
   "cell_type": "code",
   "execution_count": null,
   "id": "da6213d9",
   "metadata": {
    "executionInfo": {
     "elapsed": 533,
     "status": "ok",
     "timestamp": 1623515597371,
     "user": {
      "displayName": "Priyank Mishra",
      "photoUrl": "",
      "userId": "18008032652400229851"
     },
     "user_tz": -330
    },
    "id": "da6213d9"
   },
   "outputs": [],
   "source": [
    "import random\n",
    "import copy\n",
    "import pickle\n",
    "import numpy as np\n",
    "import pandas as pd\n",
    "import seaborn as sns\n",
    "import matplotlib.pyplot as plt\n",
    "%matplotlib inline\n",
    "import sklearn\n",
    "from sklearn import metrics\n",
    "import xgboost as xgb\n",
    "from xgboost import XGBClassifier\n",
    "from sklearn.model_selection import train_test_split\n",
    "from sklearn.preprocessing import LabelEncoder\n",
    "from sklearn.metrics import roc_auc_score\n",
    "import warnings\n",
    "warnings.filterwarnings(\"ignore\")"
   ]
  },
  {
   "cell_type": "code",
   "execution_count": null,
   "id": "60b38f7a",
   "metadata": {},
   "outputs": [],
   "source": [
    "train_transaction=pd.read_csv('../input/ieee-fraud-detection/train_transaction.csv')\n",
    "train_identity=pd.read_csv('../input/ieee-fraud-detection/train_identity.csv')\n",
    "test_transaction=pd.read_csv('../input/ieee-fraud-detection/test_transaction.csv')\n",
    "test_identity=pd.read_csv('../input/ieee-fraud-detection/test_identity.csv')\n",
    "sample_submission=pd.read_csv('../input/ieee-fraud-detection/sample_submission.csv')"
   ]
  },
  {
   "cell_type": "code",
   "execution_count": null,
   "id": "11ab3213",
   "metadata": {},
   "outputs": [],
   "source": [
    "# Merging the transaction and identity dataset\n",
    "\n",
    "train_data = train_transaction.merge(train_identity, how='left', on='TransactionID')\n",
    "del train_transaction, train_identity\n",
    "\n",
    "test_data = test_transaction.merge(test_identity, how='left', on='TransactionID')\n",
    "del test_transaction, test_identity"
   ]
  },
  {
   "cell_type": "code",
   "execution_count": null,
   "id": "f1fe45c2",
   "metadata": {},
   "outputs": [],
   "source": [
    "# Sorting the Dataframe by the TransactionDT column\n",
    "\n",
    "train_data.sort_values(by='TransactionDT' ,inplace=True)\n",
    "test_data.sort_values(by='TransactionDT' , inplace=True)"
   ]
  },
  {
   "cell_type": "code",
   "execution_count": null,
   "id": "b5b99593",
   "metadata": {},
   "outputs": [],
   "source": [
    "# Saving the merged train and test dataset into pickle format\n",
    "\n",
    "train_data.to_pickle('merged_train.pkl')\n",
    "test_data.to_pickle('merged_test.pkl')\n",
    "\n",
    "del train_data, test_data"
   ]
  },
  {
   "cell_type": "code",
   "execution_count": null,
   "id": "8bbc073b",
   "metadata": {
    "executionInfo": {
     "elapsed": 37926,
     "status": "ok",
     "timestamp": 1623515635292,
     "user": {
      "displayName": "Priyank Mishra",
      "photoUrl": "",
      "userId": "18008032652400229851"
     },
     "user_tz": -330
    },
    "id": "8bbc073b"
   },
   "outputs": [],
   "source": [
    "# Loading the merged train and test dataset\n",
    "\n",
    "train_data = pd.read_pickle('merged_train.pkl')\n",
    "test_data = pd.read_pickle('merged_test.pkl')"
   ]
  },
  {
   "cell_type": "code",
   "execution_count": null,
   "id": "0480f790",
   "metadata": {
    "colab": {
     "base_uri": "https://localhost:8080/"
    },
    "executionInfo": {
     "elapsed": 25,
     "status": "ok",
     "timestamp": 1623515635295,
     "user": {
      "displayName": "Priyank Mishra",
      "photoUrl": "",
      "userId": "18008032652400229851"
     },
     "user_tz": -330
    },
    "id": "0480f790",
    "outputId": "d21ddcd9-37a1-431f-daa7-9ac2bc5d5382"
   },
   "outputs": [],
   "source": [
    "print(\"*\"*45)\n",
    "print(\"\\n Train Data Shape : {} \\n\".format(train_data.shape))\n",
    "print(\"\\n Test Data Shape : {} \\n\".format(test_data.shape))\n",
    "print(\"*\"*45)"
   ]
  },
  {
   "cell_type": "markdown",
   "id": "eaTgbeu00_x2",
   "metadata": {
    "id": "eaTgbeu00_x2"
   },
   "source": [
    "## Utility Functions\n",
    "<br>"
   ]
  },
  {
   "cell_type": "code",
   "execution_count": null,
   "id": "780a3e54",
   "metadata": {
    "executionInfo": {
     "elapsed": 20,
     "status": "ok",
     "timestamp": 1623515635297,
     "user": {
      "displayName": "Priyank Mishra",
      "photoUrl": "",
      "userId": "18008032652400229851"
     },
     "user_tz": -330
    },
    "id": "780a3e54"
   },
   "outputs": [],
   "source": [
    "def cat_num_features(df):\n",
    "    \n",
    "    '''\n",
    "        Utility Function to get the names of Categorical Features and \n",
    "        Numerical Features of the given Dataset.\n",
    "    '''\n",
    "    \n",
    "    catf = []\n",
    "    numf = []\n",
    "    \n",
    "    # Given Categorical Features \n",
    "    catf = ['ProductCD', 'card1', 'card2', 'card3', 'card4', 'card5', \\\n",
    "            'card6', 'addr1', 'addr2', 'P_emaildomain', 'R_emaildomain', 'M1', 'M2', \\\n",
    "            'M3', 'M4', 'M5', 'M6', 'M7', 'M8', 'M9', \\\n",
    "            'DeviceType', 'DeviceInfo']\n",
    "    catf+=['id_'+str(i) for i in range(12,39)]\n",
    "\n",
    "\n",
    "    # Updating the Categorical Feature Names List based on the columns present in the dataframe\n",
    "    catf = [feature for feature in catf if feature in df.columns.values]\n",
    "    numf = [feature for feature in df.columns if feature not in catf and not feature == 'isFraud']\n",
    "    \n",
    "    return (catf, numf)  "
   ]
  },
  {
   "cell_type": "code",
   "execution_count": null,
   "id": "dc6e1c9b",
   "metadata": {
    "executionInfo": {
     "elapsed": 2154,
     "status": "ok",
     "timestamp": 1623515637434,
     "user": {
      "displayName": "Priyank Mishra",
      "photoUrl": "",
      "userId": "18008032652400229851"
     },
     "user_tz": -330
    },
    "id": "dc6e1c9b"
   },
   "outputs": [],
   "source": [
    "def label_encode(X_train, X_test, catf):\n",
    "  \n",
    "  '''\n",
    "    Utility Function to Encode Categorical Features.\n",
    "  '''\n",
    "\n",
    "  for f in catf:\n",
    "    \n",
    "    X_train[f] = X_train[f].astype(str)\n",
    "    X_test[f] = X_test[f].astype(str)\n",
    "    \n",
    "    le = LabelEncoder()\n",
    "    le.fit(X_train[f])\n",
    "    mapping = dict(zip(le.classes_, le.transform(le.classes_)))\n",
    "    X_train[f] = le.transform(X_train[f])\n",
    "    \n",
    "    # Manually Encoding the CV and Test Dataset so as to avoid error for any category which is not present in train set\n",
    "    \n",
    "    # All the categories which are not present in train datset are encoded as -1    \n",
    "    X_test[f] = [-1 if mapping.get(v, -1)==-1 else mapping[v] for v in X_test[f].values ]\n",
    "\n",
    "  return (X_train, X_test)"
   ]
  },
  {
   "cell_type": "code",
   "execution_count": null,
   "id": "KsV2qK8dEo6E",
   "metadata": {
    "executionInfo": {
     "elapsed": 470,
     "status": "ok",
     "timestamp": 1623528023919,
     "user": {
      "displayName": "Priyank Mishra",
      "photoUrl": "",
      "userId": "18008032652400229851"
     },
     "user_tz": -330
    },
    "id": "KsV2qK8dEo6E"
   },
   "outputs": [],
   "source": [
    "def hyperparam_vs_auc(train_roc_auc, cv_roc_auc):\n",
    "    \n",
    "    '''\n",
    "        Utility Function to plot the Training and Cross Validation ROC-AUC Values\n",
    "        for different Hyperparameter.\n",
    "    '''\n",
    "    \n",
    "    plt.plot(range(len(train_roc_auc)), train_roc_auc, label='Train AUC')\n",
    "    plt.plot(range(len(cv_roc_auc)), cv_roc_auc, label='CV AUC')\n",
    "\n",
    "    plt.scatter(range(len(train_roc_auc)), train_roc_auc, label='Train AUC points')\n",
    "    plt.scatter(range(len(cv_roc_auc)), cv_roc_auc, label='CV AUC points')\n",
    "    \n",
    "    plt.xticks(range(len(train_roc_auc)))\n",
    "    plt.legend()\n",
    "    plt.xlabel(\"Hyperparameter Index\")\n",
    "    plt.ylabel(\"AUC\")\n",
    "    plt.title(\"\\n Hyperparameter vs ROC-AUC \\n\")\n",
    "    plt.grid()\n",
    "    plt.show()"
   ]
  },
  {
   "cell_type": "markdown",
   "id": "9dd59e19",
   "metadata": {
    "id": "9dd59e19"
   },
   "source": [
    "## Data Preparation\n",
    "<br>"
   ]
  },
  {
   "cell_type": "markdown",
   "id": "rQTzZJCOXX6R",
   "metadata": {
    "id": "rQTzZJCOXX6R"
   },
   "source": [
    "### Splitting the Dataset\n",
    "<br>"
   ]
  },
  {
   "cell_type": "code",
   "execution_count": null,
   "id": "e75daf6b",
   "metadata": {
    "executionInfo": {
     "elapsed": 1888,
     "status": "ok",
     "timestamp": 1623515639834,
     "user": {
      "displayName": "Priyank Mishra",
      "photoUrl": "",
      "userId": "18008032652400229851"
     },
     "user_tz": -330
    },
    "id": "e75daf6b"
   },
   "outputs": [],
   "source": [
    "X_train = train_data.drop(['isFraud', 'TransactionID'], axis=1)\n",
    "y_train = train_data['isFraud']\n",
    "\n",
    "X_test = test_data.drop(['TransactionID'], axis=1)\n",
    "\n",
    "del train_data, test_data"
   ]
  },
  {
   "cell_type": "code",
   "execution_count": null,
   "id": "08ddc3d8",
   "metadata": {
    "colab": {
     "base_uri": "https://localhost:8080/"
    },
    "executionInfo": {
     "elapsed": 5,
     "status": "ok",
     "timestamp": 1623515639835,
     "user": {
      "displayName": "Priyank Mishra",
      "photoUrl": "",
      "userId": "18008032652400229851"
     },
     "user_tz": -330
    },
    "id": "08ddc3d8",
    "outputId": "11e4b68e-33d5-4c2f-f513-bbd456bf753d"
   },
   "outputs": [],
   "source": [
    "print(\"*\"*45)\n",
    "print(\"\\n Train Data Shape : {} \\n\".format(X_train.shape))\n",
    "print(\"\\n Test Data Shape : {} \\n\".format(X_test.shape))\n",
    "print(\"*\"*45)"
   ]
  },
  {
   "cell_type": "code",
   "execution_count": null,
   "id": "712e6afc",
   "metadata": {
    "executionInfo": {
     "elapsed": 4,
     "status": "ok",
     "timestamp": 1623515639835,
     "user": {
      "displayName": "Priyank Mishra",
      "photoUrl": "",
      "userId": "18008032652400229851"
     },
     "user_tz": -330
    },
    "id": "712e6afc"
   },
   "outputs": [],
   "source": [
    "# Align columns in X_train and X_test\n",
    "\n",
    "common_columns = list(set(X_train.columns) & set(X_test.columns))\n",
    "X_train = X_train[common_columns]\n",
    "X_test = X_test[common_columns]\n",
    "\n",
    "# Storing Categorical and Numerical Feature Names \n",
    "\n",
    "catf, numf = cat_num_features(X_train)"
   ]
  },
  {
   "cell_type": "markdown",
   "id": "a50561e7",
   "metadata": {
    "id": "a50561e7"
   },
   "source": [
    "#### Label Encoding Categorical Features\n",
    "<br>"
   ]
  },
  {
   "cell_type": "code",
   "execution_count": null,
   "id": "3432d35f",
   "metadata": {
    "executionInfo": {
     "elapsed": 58472,
     "status": "ok",
     "timestamp": 1623515698304,
     "user": {
      "displayName": "Priyank Mishra",
      "photoUrl": "",
      "userId": "18008032652400229851"
     },
     "user_tz": -330
    },
    "id": "3432d35f"
   },
   "outputs": [],
   "source": [
    "# Imputing the missing values of Categorical Columns with \"missing\"\n",
    "\n",
    "X_train[catf] = X_train[catf].fillna('missing')\n",
    "X_test[catf] = X_test[catf].fillna('missing')\n",
    "\n",
    "\n",
    "# Label Encoding Categorical Features\n",
    "\n",
    "X_train, X_test = label_encode(X_train, X_test, catf)"
   ]
  },
  {
   "cell_type": "markdown",
   "id": "1a02f819",
   "metadata": {
    "id": "1a02f819"
   },
   "source": [
    "<br>\n",
    "\n",
    "## Hyperparameter Tuning\n",
    "\n",
    "<br>"
   ]
  },
  {
   "cell_type": "code",
   "execution_count": null,
   "id": "4r8L_pBM2Nim",
   "metadata": {
    "executionInfo": {
     "elapsed": 33,
     "status": "ok",
     "timestamp": 1623515698306,
     "user": {
      "displayName": "Priyank Mishra",
      "photoUrl": "",
      "userId": "18008032652400229851"
     },
     "user_tz": -330
    },
    "id": "4r8L_pBM2Nim"
   },
   "outputs": [],
   "source": [
    "# Hyperparameters\n",
    "\n",
    "learning_rate = [2e-2, 3e-1, 1e-1]\n",
    "max_depth = [8, 12, 16]\n",
    "subsample = [0.6,0.8,1]\n",
    "colsample_bytree = [0.6,0.8,1]"
   ]
  },
  {
   "cell_type": "code",
   "execution_count": null,
   "id": "QAbDPqes3VD5",
   "metadata": {
    "colab": {
     "base_uri": "https://localhost:8080/"
    },
    "executionInfo": {
     "elapsed": 12322754,
     "status": "ok",
     "timestamp": 1623528021042,
     "user": {
      "displayName": "Priyank Mishra",
      "photoUrl": "",
      "userId": "18008032652400229851"
     },
     "user_tz": -330
    },
    "id": "QAbDPqes3VD5",
    "outputId": "6cffcd0e-1add-4bd8-a1a9-eaa6b2a5b3dd"
   },
   "outputs": [],
   "source": [
    "results = {}\n",
    "\n",
    "dtrain = xgb.DMatrix(X_train, label=y_train)\n",
    "\n",
    "for rate in learning_rate:\n",
    "  for depth in max_depth:\n",
    "    for sample in subsample:\n",
    "      for colsample in colsample_bytree:\n",
    "\n",
    "        params = {\n",
    "          'objective' : 'binary:logistic',\n",
    "          'eval_metric' : 'auc',\n",
    "          'learning_rate' : rate,\n",
    "          'max_depth' : depth,\n",
    "          'subsample' : sample,\n",
    "          'colsample_bytree' : colsample,\n",
    "          'tree_method' : 'gpu_hist',\n",
    "          'random_state' : 3,\n",
    "        }\n",
    "\n",
    "        history = xgb.cv(\n",
    "            params,\n",
    "            dtrain,\n",
    "            num_boost_round = 3000,\n",
    "            nfold = 3,\n",
    "            metrics ='auc',\n",
    "            early_stopping_rounds = 100,\n",
    "            verbose_eval=100,\n",
    "            seed=3,\n",
    "            shuffle = False\n",
    "        )\n",
    "\n",
    "        name = \"learning_rate : \"+str(rate)+\" max_depth : \"+str(depth)+\" subsample : \"+str(sample)+\" colsample_bytree : \"+str(colsample)\n",
    "        results[name] = (history.iloc[-1]['train-auc-mean'],history.iloc[-1]['test-auc-mean'])"
   ]
  },
  {
   "cell_type": "code",
   "execution_count": null,
   "id": "y4V48BXTmSGG",
   "metadata": {
    "executionInfo": {
     "elapsed": 750,
     "status": "ok",
     "timestamp": 1623528295219,
     "user": {
      "displayName": "Priyank Mishra",
      "photoUrl": "",
      "userId": "18008032652400229851"
     },
     "user_tz": -330
    },
    "id": "y4V48BXTmSGG"
   },
   "outputs": [],
   "source": [
    "train_roc_auc = [auc[0] for auc in results.values()]\n",
    "cv_roc_auc = [auc[1] for auc in results.values()]"
   ]
  },
  {
   "cell_type": "code",
   "execution_count": null,
   "id": "TadUczwYmSAQ",
   "metadata": {
    "colab": {
     "base_uri": "https://localhost:8080/",
     "height": 543
    },
    "executionInfo": {
     "elapsed": 1931,
     "status": "ok",
     "timestamp": 1623528506027,
     "user": {
      "displayName": "Priyank Mishra",
      "photoUrl": "",
      "userId": "18008032652400229851"
     },
     "user_tz": -330
    },
    "id": "TadUczwYmSAQ",
    "outputId": "e22123e4-7214-481f-eb4e-cd3e8a15b855"
   },
   "outputs": [],
   "source": [
    "plt.figure(figsize=(25,8))\n",
    "hyperparam_vs_auc(train_roc_auc, cv_roc_auc)"
   ]
  },
  {
   "cell_type": "markdown",
   "id": "V_0bkUEc1SgB",
   "metadata": {
    "id": "V_0bkUEc1SgB"
   },
   "source": [
    "From the above plot, the best hyperaparameter index is 12.\n",
    "<br><br>"
   ]
  },
  {
   "cell_type": "code",
   "execution_count": null,
   "id": "aEnR5hod0s7D",
   "metadata": {
    "executionInfo": {
     "elapsed": 549,
     "status": "ok",
     "timestamp": 1623528434608,
     "user": {
      "displayName": "Priyank Mishra",
      "photoUrl": "",
      "userId": "18008032652400229851"
     },
     "user_tz": -330
    },
    "id": "aEnR5hod0s7D"
   },
   "outputs": [],
   "source": [
    "best_params = list(results.keys())[12]"
   ]
  },
  {
   "cell_type": "code",
   "execution_count": null,
   "id": "PKXzBMCX1eM7",
   "metadata": {
    "colab": {
     "base_uri": "https://localhost:8080/"
    },
    "executionInfo": {
     "elapsed": 562,
     "status": "ok",
     "timestamp": 1623528456090,
     "user": {
      "displayName": "Priyank Mishra",
      "photoUrl": "",
      "userId": "18008032652400229851"
     },
     "user_tz": -330
    },
    "id": "PKXzBMCX1eM7",
    "outputId": "07f4d477-1135-4b2f-cf5d-51de14def1d2"
   },
   "outputs": [],
   "source": [
    "print(\"The Best Paramaters are {} \".format(best_params))"
   ]
  }
 ],
 "metadata": {
  "accelerator": "GPU",
  "colab": {
   "collapsed_sections": [],
   "machine_shape": "hm",
   "name": "3.Hyperparameter Tuning.ipynb",
   "provenance": []
  },
  "kernelspec": {
   "display_name": "base",
   "language": "python",
   "name": "python3"
  },
  "language_info": {
   "codemirror_mode": {
    "name": "ipython",
    "version": 3
   },
   "file_extension": ".py",
   "mimetype": "text/x-python",
   "name": "python",
   "nbconvert_exporter": "python",
   "pygments_lexer": "ipython3",
   "version": "3.11.5"
  }
 },
 "nbformat": 4,
 "nbformat_minor": 5
}
