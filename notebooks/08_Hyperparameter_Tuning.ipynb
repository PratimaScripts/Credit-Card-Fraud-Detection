{
 "cells": [
  {
   "cell_type": "code",
   "execution_count": 1,
   "id": "e5af0d03",
   "metadata": {
    "execution": {
     "iopub.execute_input": "2024-01-07T13:33:15.247900Z",
     "iopub.status.busy": "2024-01-07T13:33:15.247558Z",
     "iopub.status.idle": "2024-01-07T13:33:17.265810Z",
     "shell.execute_reply": "2024-01-07T13:33:17.264825Z"
    },
    "executionInfo": {
     "elapsed": 533,
     "status": "ok",
     "timestamp": 1623515597371,
     "user": {
      "displayName": "Priyank Mishra",
      "photoUrl": "",
      "userId": "18008032652400229851"
     },
     "user_tz": -330
    },
    "id": "da6213d9",
    "papermill": {
     "duration": 2.030816,
     "end_time": "2024-01-07T13:33:17.268198",
     "exception": false,
     "start_time": "2024-01-07T13:33:15.237382",
     "status": "completed"
    },
    "tags": []
   },
   "outputs": [
    {
     "name": "stderr",
     "output_type": "stream",
     "text": [
      "/opt/conda/lib/python3.10/site-packages/scipy/__init__.py:146: UserWarning: A NumPy version >=1.16.5 and <1.23.0 is required for this version of SciPy (detected version 1.24.3\n",
      "  warnings.warn(f\"A NumPy version >={np_minversion} and <{np_maxversion}\"\n"
     ]
    }
   ],
   "source": [
    "import random\n",
    "import copy\n",
    "import pickle\n",
    "import numpy as np\n",
    "import pandas as pd\n",
    "import seaborn as sns\n",
    "import matplotlib.pyplot as plt\n",
    "%matplotlib inline\n",
    "import sklearn\n",
    "from sklearn import metrics\n",
    "import xgboost as xgb\n",
    "from xgboost import XGBClassifier\n",
    "from sklearn.model_selection import train_test_split\n",
    "from sklearn.preprocessing import LabelEncoder\n",
    "from sklearn.metrics import roc_auc_score\n",
    "import warnings\n",
    "warnings.filterwarnings(\"ignore\")"
   ]
  },
  {
   "cell_type": "code",
   "execution_count": 2,
   "id": "ec39d809",
   "metadata": {
    "execution": {
     "iopub.execute_input": "2024-01-07T13:33:17.286806Z",
     "iopub.status.busy": "2024-01-07T13:33:17.286384Z",
     "iopub.status.idle": "2024-01-07T13:34:12.427849Z",
     "shell.execute_reply": "2024-01-07T13:34:12.426827Z"
    },
    "papermill": {
     "duration": 55.153314,
     "end_time": "2024-01-07T13:34:12.430369",
     "exception": false,
     "start_time": "2024-01-07T13:33:17.277055",
     "status": "completed"
    },
    "tags": []
   },
   "outputs": [],
   "source": [
    "train_transaction=pd.read_csv('../input/ieee-fraud-detection/train_transaction.csv')\n",
    "train_identity=pd.read_csv('../input/ieee-fraud-detection/train_identity.csv')\n",
    "test_transaction=pd.read_csv('../input/ieee-fraud-detection/test_transaction.csv')\n",
    "test_identity=pd.read_csv('../input/ieee-fraud-detection/test_identity.csv')\n",
    "sample_submission=pd.read_csv('../input/ieee-fraud-detection/sample_submission.csv')"
   ]
  },
  {
   "cell_type": "code",
   "execution_count": 3,
   "id": "9e6950a8",
   "metadata": {
    "execution": {
     "iopub.execute_input": "2024-01-07T13:34:12.453424Z",
     "iopub.status.busy": "2024-01-07T13:34:12.453093Z",
     "iopub.status.idle": "2024-01-07T13:34:14.536514Z",
     "shell.execute_reply": "2024-01-07T13:34:14.535653Z"
    },
    "papermill": {
     "duration": 2.097768,
     "end_time": "2024-01-07T13:34:14.538962",
     "exception": false,
     "start_time": "2024-01-07T13:34:12.441194",
     "status": "completed"
    },
    "tags": []
   },
   "outputs": [],
   "source": [
    "# Merging the transaction and identity dataset\n",
    "\n",
    "train_data = train_transaction.merge(train_identity, how='left', on='TransactionID')\n",
    "del train_transaction, train_identity\n",
    "\n",
    "test_data = test_transaction.merge(test_identity, how='left', on='TransactionID')\n",
    "del test_transaction, test_identity"
   ]
  },
  {
   "cell_type": "code",
   "execution_count": 4,
   "id": "ef76101d",
   "metadata": {
    "execution": {
     "iopub.execute_input": "2024-01-07T13:34:14.557890Z",
     "iopub.status.busy": "2024-01-07T13:34:14.557559Z",
     "iopub.status.idle": "2024-01-07T13:34:16.261019Z",
     "shell.execute_reply": "2024-01-07T13:34:16.260123Z"
    },
    "papermill": {
     "duration": 1.715329,
     "end_time": "2024-01-07T13:34:16.263463",
     "exception": false,
     "start_time": "2024-01-07T13:34:14.548134",
     "status": "completed"
    },
    "tags": []
   },
   "outputs": [],
   "source": [
    "# Sorting the Dataframe by the TransactionDT column\n",
    "\n",
    "train_data.sort_values(by='TransactionDT' ,inplace=True)\n",
    "test_data.sort_values(by='TransactionDT' , inplace=True)"
   ]
  },
  {
   "cell_type": "code",
   "execution_count": 5,
   "id": "81f3a9c8",
   "metadata": {
    "execution": {
     "iopub.execute_input": "2024-01-07T13:34:16.282052Z",
     "iopub.status.busy": "2024-01-07T13:34:16.281751Z",
     "iopub.status.idle": "2024-01-07T13:34:21.070772Z",
     "shell.execute_reply": "2024-01-07T13:34:21.069714Z"
    },
    "papermill": {
     "duration": 4.802327,
     "end_time": "2024-01-07T13:34:21.074684",
     "exception": false,
     "start_time": "2024-01-07T13:34:16.272357",
     "status": "completed"
    },
    "tags": []
   },
   "outputs": [],
   "source": [
    "# Saving the merged train and test dataset into pickle format\n",
    "\n",
    "train_data.to_pickle('merged_train.pkl')\n",
    "test_data.to_pickle('merged_test.pkl')\n",
    "\n",
    "del train_data, test_data"
   ]
  },
  {
   "cell_type": "code",
   "execution_count": 6,
   "id": "65876538",
   "metadata": {
    "execution": {
     "iopub.execute_input": "2024-01-07T13:34:21.156668Z",
     "iopub.status.busy": "2024-01-07T13:34:21.155658Z",
     "iopub.status.idle": "2024-01-07T13:34:25.992459Z",
     "shell.execute_reply": "2024-01-07T13:34:25.991606Z"
    },
    "executionInfo": {
     "elapsed": 37926,
     "status": "ok",
     "timestamp": 1623515635292,
     "user": {
      "displayName": "Priyank Mishra",
      "photoUrl": "",
      "userId": "18008032652400229851"
     },
     "user_tz": -330
    },
    "id": "8bbc073b",
    "papermill": {
     "duration": 4.887898,
     "end_time": "2024-01-07T13:34:25.994878",
     "exception": false,
     "start_time": "2024-01-07T13:34:21.106980",
     "status": "completed"
    },
    "tags": []
   },
   "outputs": [],
   "source": [
    "# Loading the merged train and test dataset\n",
    "\n",
    "train_data = pd.read_pickle('merged_train.pkl')\n",
    "test_data = pd.read_pickle('merged_test.pkl')"
   ]
  },
  {
   "cell_type": "code",
   "execution_count": 7,
   "id": "43e4585d",
   "metadata": {
    "execution": {
     "iopub.execute_input": "2024-01-07T13:34:26.013591Z",
     "iopub.status.busy": "2024-01-07T13:34:26.013281Z",
     "iopub.status.idle": "2024-01-07T13:34:26.018487Z",
     "shell.execute_reply": "2024-01-07T13:34:26.017666Z"
    },
    "executionInfo": {
     "elapsed": 25,
     "status": "ok",
     "timestamp": 1623515635295,
     "user": {
      "displayName": "Priyank Mishra",
      "photoUrl": "",
      "userId": "18008032652400229851"
     },
     "user_tz": -330
    },
    "id": "0480f790",
    "outputId": "d21ddcd9-37a1-431f-daa7-9ac2bc5d5382",
    "papermill": {
     "duration": 0.017112,
     "end_time": "2024-01-07T13:34:26.020871",
     "exception": false,
     "start_time": "2024-01-07T13:34:26.003759",
     "status": "completed"
    },
    "tags": []
   },
   "outputs": [
    {
     "name": "stdout",
     "output_type": "stream",
     "text": [
      "*********************************************\n",
      "\n",
      " Train Data Shape : (590540, 434) \n",
      "\n",
      "\n",
      " Test Data Shape : (506691, 433) \n",
      "\n",
      "*********************************************\n"
     ]
    }
   ],
   "source": [
    "print(\"*\"*45)\n",
    "print(\"\\n Train Data Shape : {} \\n\".format(train_data.shape))\n",
    "print(\"\\n Test Data Shape : {} \\n\".format(test_data.shape))\n",
    "print(\"*\"*45)"
   ]
  },
  {
   "cell_type": "markdown",
   "id": "ed95e450",
   "metadata": {
    "id": "eaTgbeu00_x2",
    "papermill": {
     "duration": 0.008144,
     "end_time": "2024-01-07T13:34:26.037631",
     "exception": false,
     "start_time": "2024-01-07T13:34:26.029487",
     "status": "completed"
    },
    "tags": []
   },
   "source": [
    "## Utility Functions\n",
    "<br>"
   ]
  },
  {
   "cell_type": "code",
   "execution_count": 8,
   "id": "333f1879",
   "metadata": {
    "execution": {
     "iopub.execute_input": "2024-01-07T13:34:26.057053Z",
     "iopub.status.busy": "2024-01-07T13:34:26.056313Z",
     "iopub.status.idle": "2024-01-07T13:34:26.063685Z",
     "shell.execute_reply": "2024-01-07T13:34:26.062784Z"
    },
    "executionInfo": {
     "elapsed": 20,
     "status": "ok",
     "timestamp": 1623515635297,
     "user": {
      "displayName": "Priyank Mishra",
      "photoUrl": "",
      "userId": "18008032652400229851"
     },
     "user_tz": -330
    },
    "id": "780a3e54",
    "papermill": {
     "duration": 0.019872,
     "end_time": "2024-01-07T13:34:26.065769",
     "exception": false,
     "start_time": "2024-01-07T13:34:26.045897",
     "status": "completed"
    },
    "tags": []
   },
   "outputs": [],
   "source": [
    "def cat_num_features(df):\n",
    "    \n",
    "    '''\n",
    "        Utility Function to get the names of Categorical Features and \n",
    "        Numerical Features of the given Dataset.\n",
    "    '''\n",
    "    \n",
    "    catf = []\n",
    "    numf = []\n",
    "    \n",
    "    # Given Categorical Features \n",
    "    catf = ['ProductCD', 'card1', 'card2', 'card3', 'card4', 'card5', \\\n",
    "            'card6', 'addr1', 'addr2', 'P_emaildomain', 'R_emaildomain', 'M1', 'M2', \\\n",
    "            'M3', 'M4', 'M5', 'M6', 'M7', 'M8', 'M9', \\\n",
    "            'DeviceType', 'DeviceInfo']\n",
    "    catf+=['id_'+str(i) for i in range(12,39)]\n",
    "\n",
    "\n",
    "    # Updating the Categorical Feature Names List based on the columns present in the dataframe\n",
    "    catf = [feature for feature in catf if feature in df.columns.values]\n",
    "    numf = [feature for feature in df.columns if feature not in catf and not feature == 'isFraud']\n",
    "    \n",
    "    return (catf, numf)  "
   ]
  },
  {
   "cell_type": "code",
   "execution_count": 9,
   "id": "7344330e",
   "metadata": {
    "execution": {
     "iopub.execute_input": "2024-01-07T13:34:26.084090Z",
     "iopub.status.busy": "2024-01-07T13:34:26.083814Z",
     "iopub.status.idle": "2024-01-07T13:34:26.090371Z",
     "shell.execute_reply": "2024-01-07T13:34:26.089639Z"
    },
    "executionInfo": {
     "elapsed": 2154,
     "status": "ok",
     "timestamp": 1623515637434,
     "user": {
      "displayName": "Priyank Mishra",
      "photoUrl": "",
      "userId": "18008032652400229851"
     },
     "user_tz": -330
    },
    "id": "dc6e1c9b",
    "papermill": {
     "duration": 0.017759,
     "end_time": "2024-01-07T13:34:26.092261",
     "exception": false,
     "start_time": "2024-01-07T13:34:26.074502",
     "status": "completed"
    },
    "tags": []
   },
   "outputs": [],
   "source": [
    "def label_encode(X_train, X_test, catf):\n",
    "  \n",
    "  '''\n",
    "    Utility Function to Encode Categorical Features.\n",
    "  '''\n",
    "\n",
    "  for f in catf:\n",
    "    \n",
    "    X_train[f] = X_train[f].astype(str)\n",
    "    X_test[f] = X_test[f].astype(str)\n",
    "    \n",
    "    le = LabelEncoder()\n",
    "    le.fit(X_train[f])\n",
    "    mapping = dict(zip(le.classes_, le.transform(le.classes_)))\n",
    "    X_train[f] = le.transform(X_train[f])\n",
    "    \n",
    "    # Manually Encoding the CV and Test Dataset so as to avoid error for any category which is not present in train set\n",
    "    \n",
    "    # All the categories which are not present in train datset are encoded as -1    \n",
    "    X_test[f] = [-1 if mapping.get(v, -1)==-1 else mapping[v] for v in X_test[f].values ]\n",
    "\n",
    "  return (X_train, X_test)"
   ]
  },
  {
   "cell_type": "code",
   "execution_count": 10,
   "id": "6c5ca1a1",
   "metadata": {
    "execution": {
     "iopub.execute_input": "2024-01-07T13:34:26.111061Z",
     "iopub.status.busy": "2024-01-07T13:34:26.110531Z",
     "iopub.status.idle": "2024-01-07T13:34:26.117144Z",
     "shell.execute_reply": "2024-01-07T13:34:26.116255Z"
    },
    "executionInfo": {
     "elapsed": 470,
     "status": "ok",
     "timestamp": 1623528023919,
     "user": {
      "displayName": "Priyank Mishra",
      "photoUrl": "",
      "userId": "18008032652400229851"
     },
     "user_tz": -330
    },
    "id": "KsV2qK8dEo6E",
    "papermill": {
     "duration": 0.018387,
     "end_time": "2024-01-07T13:34:26.119229",
     "exception": false,
     "start_time": "2024-01-07T13:34:26.100842",
     "status": "completed"
    },
    "tags": []
   },
   "outputs": [],
   "source": [
    "def hyperparam_vs_auc(train_roc_auc, cv_roc_auc):\n",
    "    \n",
    "    '''\n",
    "        Utility Function to plot the Training and Cross Validation ROC-AUC Values\n",
    "        for different Hyperparameter.\n",
    "    '''\n",
    "    \n",
    "    plt.plot(range(len(train_roc_auc)), train_roc_auc, label='Train AUC')\n",
    "    plt.plot(range(len(cv_roc_auc)), cv_roc_auc, label='CV AUC')\n",
    "\n",
    "    plt.scatter(range(len(train_roc_auc)), train_roc_auc, label='Train AUC points')\n",
    "    plt.scatter(range(len(cv_roc_auc)), cv_roc_auc, label='CV AUC points')\n",
    "    \n",
    "    plt.xticks(range(len(train_roc_auc)))\n",
    "    plt.legend()\n",
    "    plt.xlabel(\"Hyperparameter Index\")\n",
    "    plt.ylabel(\"AUC\")\n",
    "    plt.title(\"\\n Hyperparameter vs ROC-AUC \\n\")\n",
    "    plt.grid()\n",
    "    plt.show()"
   ]
  },
  {
   "cell_type": "markdown",
   "id": "fbd086f6",
   "metadata": {
    "id": "9dd59e19",
    "papermill": {
     "duration": 0.008037,
     "end_time": "2024-01-07T13:34:26.135583",
     "exception": false,
     "start_time": "2024-01-07T13:34:26.127546",
     "status": "completed"
    },
    "tags": []
   },
   "source": [
    "## Data Preparation\n",
    "<br>"
   ]
  },
  {
   "cell_type": "markdown",
   "id": "5a7a201b",
   "metadata": {
    "id": "rQTzZJCOXX6R",
    "papermill": {
     "duration": 0.008309,
     "end_time": "2024-01-07T13:34:26.152178",
     "exception": false,
     "start_time": "2024-01-07T13:34:26.143869",
     "status": "completed"
    },
    "tags": []
   },
   "source": [
    "### Splitting the Dataset\n",
    "<br>"
   ]
  },
  {
   "cell_type": "code",
   "execution_count": 11,
   "id": "983fd2db",
   "metadata": {
    "execution": {
     "iopub.execute_input": "2024-01-07T13:34:26.170166Z",
     "iopub.status.busy": "2024-01-07T13:34:26.169906Z",
     "iopub.status.idle": "2024-01-07T13:34:27.782481Z",
     "shell.execute_reply": "2024-01-07T13:34:27.781616Z"
    },
    "executionInfo": {
     "elapsed": 1888,
     "status": "ok",
     "timestamp": 1623515639834,
     "user": {
      "displayName": "Priyank Mishra",
      "photoUrl": "",
      "userId": "18008032652400229851"
     },
     "user_tz": -330
    },
    "id": "e75daf6b",
    "papermill": {
     "duration": 1.62434,
     "end_time": "2024-01-07T13:34:27.784902",
     "exception": false,
     "start_time": "2024-01-07T13:34:26.160562",
     "status": "completed"
    },
    "tags": []
   },
   "outputs": [],
   "source": [
    "X_train = train_data.drop(['isFraud', 'TransactionID'], axis=1)\n",
    "y_train = train_data['isFraud']\n",
    "\n",
    "X_test = test_data.drop(['TransactionID'], axis=1)\n",
    "\n",
    "del train_data, test_data"
   ]
  },
  {
   "cell_type": "code",
   "execution_count": 12,
   "id": "980366ae",
   "metadata": {
    "execution": {
     "iopub.execute_input": "2024-01-07T13:34:27.803751Z",
     "iopub.status.busy": "2024-01-07T13:34:27.803430Z",
     "iopub.status.idle": "2024-01-07T13:34:27.808716Z",
     "shell.execute_reply": "2024-01-07T13:34:27.807804Z"
    },
    "executionInfo": {
     "elapsed": 5,
     "status": "ok",
     "timestamp": 1623515639835,
     "user": {
      "displayName": "Priyank Mishra",
      "photoUrl": "",
      "userId": "18008032652400229851"
     },
     "user_tz": -330
    },
    "id": "08ddc3d8",
    "outputId": "11e4b68e-33d5-4c2f-f513-bbd456bf753d",
    "papermill": {
     "duration": 0.01681,
     "end_time": "2024-01-07T13:34:27.810715",
     "exception": false,
     "start_time": "2024-01-07T13:34:27.793905",
     "status": "completed"
    },
    "tags": []
   },
   "outputs": [
    {
     "name": "stdout",
     "output_type": "stream",
     "text": [
      "*********************************************\n",
      "\n",
      " Train Data Shape : (590540, 432) \n",
      "\n",
      "\n",
      " Test Data Shape : (506691, 432) \n",
      "\n",
      "*********************************************\n"
     ]
    }
   ],
   "source": [
    "print(\"*\"*45)\n",
    "print(\"\\n Train Data Shape : {} \\n\".format(X_train.shape))\n",
    "print(\"\\n Test Data Shape : {} \\n\".format(X_test.shape))\n",
    "print(\"*\"*45)"
   ]
  },
  {
   "cell_type": "code",
   "execution_count": 13,
   "id": "c4f1c2b3",
   "metadata": {
    "execution": {
     "iopub.execute_input": "2024-01-07T13:34:27.828990Z",
     "iopub.status.busy": "2024-01-07T13:34:27.828639Z",
     "iopub.status.idle": "2024-01-07T13:34:29.294094Z",
     "shell.execute_reply": "2024-01-07T13:34:29.293229Z"
    },
    "executionInfo": {
     "elapsed": 4,
     "status": "ok",
     "timestamp": 1623515639835,
     "user": {
      "displayName": "Priyank Mishra",
      "photoUrl": "",
      "userId": "18008032652400229851"
     },
     "user_tz": -330
    },
    "id": "712e6afc",
    "papermill": {
     "duration": 1.477412,
     "end_time": "2024-01-07T13:34:29.296518",
     "exception": false,
     "start_time": "2024-01-07T13:34:27.819106",
     "status": "completed"
    },
    "tags": []
   },
   "outputs": [],
   "source": [
    "# Align columns in X_train and X_test\n",
    "\n",
    "common_columns = list(set(X_train.columns) & set(X_test.columns))\n",
    "X_train = X_train[common_columns]\n",
    "X_test = X_test[common_columns]\n",
    "\n",
    "# Storing Categorical and Numerical Feature Names \n",
    "\n",
    "catf, numf = cat_num_features(X_train)"
   ]
  },
  {
   "cell_type": "markdown",
   "id": "9a365fad",
   "metadata": {
    "id": "a50561e7",
    "papermill": {
     "duration": 0.00843,
     "end_time": "2024-01-07T13:34:29.313824",
     "exception": false,
     "start_time": "2024-01-07T13:34:29.305394",
     "status": "completed"
    },
    "tags": []
   },
   "source": [
    "#### Label Encoding Categorical Features\n",
    "<br>"
   ]
  },
  {
   "cell_type": "code",
   "execution_count": 14,
   "id": "4c5a5b5b",
   "metadata": {
    "execution": {
     "iopub.execute_input": "2024-01-07T13:34:29.332276Z",
     "iopub.status.busy": "2024-01-07T13:34:29.331970Z",
     "iopub.status.idle": "2024-01-07T13:35:28.905986Z",
     "shell.execute_reply": "2024-01-07T13:35:28.904865Z"
    },
    "executionInfo": {
     "elapsed": 58472,
     "status": "ok",
     "timestamp": 1623515698304,
     "user": {
      "displayName": "Priyank Mishra",
      "photoUrl": "",
      "userId": "18008032652400229851"
     },
     "user_tz": -330
    },
    "id": "3432d35f",
    "papermill": {
     "duration": 59.586102,
     "end_time": "2024-01-07T13:35:28.908496",
     "exception": false,
     "start_time": "2024-01-07T13:34:29.322394",
     "status": "completed"
    },
    "tags": []
   },
   "outputs": [],
   "source": [
    "# Imputing the missing values of Categorical Columns with \"missing\"\n",
    "\n",
    "X_train[catf] = X_train[catf].fillna('missing')\n",
    "X_test[catf] = X_test[catf].fillna('missing')\n",
    "\n",
    "\n",
    "# Label Encoding Categorical Features\n",
    "\n",
    "X_train, X_test = label_encode(X_train, X_test, catf)"
   ]
  },
  {
   "cell_type": "markdown",
   "id": "2c377b2a",
   "metadata": {
    "id": "1a02f819",
    "papermill": {
     "duration": 0.008525,
     "end_time": "2024-01-07T13:35:28.925994",
     "exception": false,
     "start_time": "2024-01-07T13:35:28.917469",
     "status": "completed"
    },
    "tags": []
   },
   "source": [
    "<br>\n",
    "\n",
    "## Hyperparameter Tuning\n",
    "\n",
    "<br>"
   ]
  },
  {
   "cell_type": "code",
   "execution_count": 15,
   "id": "ea337ac9",
   "metadata": {
    "execution": {
     "iopub.execute_input": "2024-01-07T13:35:28.944253Z",
     "iopub.status.busy": "2024-01-07T13:35:28.943959Z",
     "iopub.status.idle": "2024-01-07T13:35:28.948559Z",
     "shell.execute_reply": "2024-01-07T13:35:28.947711Z"
    },
    "executionInfo": {
     "elapsed": 33,
     "status": "ok",
     "timestamp": 1623515698306,
     "user": {
      "displayName": "Priyank Mishra",
      "photoUrl": "",
      "userId": "18008032652400229851"
     },
     "user_tz": -330
    },
    "id": "4r8L_pBM2Nim",
    "papermill": {
     "duration": 0.015953,
     "end_time": "2024-01-07T13:35:28.950491",
     "exception": false,
     "start_time": "2024-01-07T13:35:28.934538",
     "status": "completed"
    },
    "tags": []
   },
   "outputs": [],
   "source": [
    "# Hyperparameters\n",
    "\n",
    "learning_rate = [2e-2, 3e-1, 1e-1]\n",
    "max_depth = [8, 12, 16]\n",
    "subsample = [0.6,0.8,1]\n",
    "colsample_bytree = [0.6,0.8,1]"
   ]
  },
  {
   "cell_type": "code",
   "execution_count": 16,
   "id": "8deb47eb",
   "metadata": {
    "execution": {
     "iopub.execute_input": "2024-01-07T13:35:28.968887Z",
     "iopub.status.busy": "2024-01-07T13:35:28.968292Z",
     "iopub.status.idle": "2024-01-07T15:08:34.350766Z",
     "shell.execute_reply": "2024-01-07T15:08:34.349599Z"
    },
    "executionInfo": {
     "elapsed": 12322754,
     "status": "ok",
     "timestamp": 1623528021042,
     "user": {
      "displayName": "Priyank Mishra",
      "photoUrl": "",
      "userId": "18008032652400229851"
     },
     "user_tz": -330
    },
    "id": "QAbDPqes3VD5",
    "outputId": "6cffcd0e-1add-4bd8-a1a9-eaa6b2a5b3dd",
    "papermill": {
     "duration": 5585.394417,
     "end_time": "2024-01-07T15:08:34.353312",
     "exception": false,
     "start_time": "2024-01-07T13:35:28.958895",
     "status": "completed"
    },
    "tags": []
   },
   "outputs": [
    {
     "name": "stdout",
     "output_type": "stream",
     "text": [
      "[0]\ttrain-auc:0.80459+0.02025\ttest-auc:0.77792+0.01926\n",
      "[100]\ttrain-auc:0.90532+0.00403\ttest-auc:0.87673+0.00629\n",
      "[200]\ttrain-auc:0.93693+0.00098\ttest-auc:0.89196+0.00738\n",
      "[300]\ttrain-auc:0.95209+0.00052\ttest-auc:0.89997+0.00733\n",
      "[400]\ttrain-auc:0.95996+0.00041\ttest-auc:0.90444+0.00689\n",
      "[500]\ttrain-auc:0.96555+0.00050\ttest-auc:0.90711+0.00660\n",
      "[600]\ttrain-auc:0.97003+0.00038\ttest-auc:0.90853+0.00670\n",
      "[700]\ttrain-auc:0.97383+0.00027\ttest-auc:0.90959+0.00688\n",
      "[800]\ttrain-auc:0.97687+0.00028\ttest-auc:0.91037+0.00718\n",
      "[900]\ttrain-auc:0.97948+0.00031\ttest-auc:0.91040+0.00748\n",
      "[1000]\ttrain-auc:0.98170+0.00029\ttest-auc:0.91099+0.00768\n",
      "[1100]\ttrain-auc:0.98372+0.00032\ttest-auc:0.91110+0.00783\n",
      "[1200]\ttrain-auc:0.98547+0.00027\ttest-auc:0.91130+0.00827\n",
      "[1260]\ttrain-auc:0.98637+0.00025\ttest-auc:0.91132+0.00842\n",
      "[0]\ttrain-auc:0.81878+0.01598\ttest-auc:0.80436+0.01198\n",
      "[100]\ttrain-auc:0.90661+0.00372\ttest-auc:0.87672+0.00610\n",
      "[200]\ttrain-auc:0.93892+0.00095\ttest-auc:0.89265+0.00727\n",
      "[300]\ttrain-auc:0.95368+0.00041\ttest-auc:0.90110+0.00677\n",
      "[400]\ttrain-auc:0.96138+0.00046\ttest-auc:0.90562+0.00715\n",
      "[500]\ttrain-auc:0.96675+0.00042\ttest-auc:0.90816+0.00703\n",
      "[600]\ttrain-auc:0.97162+0.00022\ttest-auc:0.91001+0.00714\n",
      "[700]\ttrain-auc:0.97537+0.00020\ttest-auc:0.91072+0.00746\n",
      "[800]\ttrain-auc:0.97859+0.00039\ttest-auc:0.91140+0.00753\n",
      "[900]\ttrain-auc:0.98116+0.00041\ttest-auc:0.91150+0.00792\n",
      "[990]\ttrain-auc:0.98306+0.00038\ttest-auc:0.91133+0.00844\n",
      "[0]\ttrain-auc:0.82628+0.01673\ttest-auc:0.80857+0.01506\n",
      "[100]\ttrain-auc:0.90679+0.00429\ttest-auc:0.87667+0.00553\n",
      "[200]\ttrain-auc:0.93973+0.00125\ttest-auc:0.89272+0.00648\n",
      "[300]\ttrain-auc:0.95464+0.00054\ttest-auc:0.90119+0.00662\n",
      "[400]\ttrain-auc:0.96214+0.00045\ttest-auc:0.90520+0.00706\n",
      "[500]\ttrain-auc:0.96764+0.00048\ttest-auc:0.90779+0.00734\n",
      "[600]\ttrain-auc:0.97221+0.00022\ttest-auc:0.90926+0.00714\n",
      "[700]\ttrain-auc:0.97592+0.00023\ttest-auc:0.91010+0.00739\n",
      "[800]\ttrain-auc:0.97916+0.00034\ttest-auc:0.91074+0.00780\n",
      "[900]\ttrain-auc:0.98188+0.00036\ttest-auc:0.91104+0.00770\n",
      "[1000]\ttrain-auc:0.98409+0.00031\ttest-auc:0.91092+0.00797\n",
      "[1044]\ttrain-auc:0.98496+0.00024\ttest-auc:0.91080+0.00805\n",
      "[0]\ttrain-auc:0.81595+0.01078\ttest-auc:0.79669+0.00436\n",
      "[100]\ttrain-auc:0.90597+0.00382\ttest-auc:0.87688+0.00675\n",
      "[200]\ttrain-auc:0.93824+0.00085\ttest-auc:0.89324+0.00716\n",
      "[300]\ttrain-auc:0.95340+0.00079\ttest-auc:0.90176+0.00678\n",
      "[400]\ttrain-auc:0.96119+0.00070\ttest-auc:0.90599+0.00675\n",
      "[500]\ttrain-auc:0.96657+0.00063\ttest-auc:0.90834+0.00642\n",
      "[600]\ttrain-auc:0.97077+0.00055\ttest-auc:0.90941+0.00681\n",
      "[700]\ttrain-auc:0.97419+0.00037\ttest-auc:0.91032+0.00695\n",
      "[800]\ttrain-auc:0.97703+0.00045\ttest-auc:0.91088+0.00704\n",
      "[900]\ttrain-auc:0.97937+0.00055\ttest-auc:0.91131+0.00703\n",
      "[1000]\ttrain-auc:0.98162+0.00035\ttest-auc:0.91133+0.00710\n",
      "[1080]\ttrain-auc:0.98312+0.00043\ttest-auc:0.91096+0.00763\n",
      "[0]\ttrain-auc:0.81911+0.01348\ttest-auc:0.80681+0.01683\n",
      "[100]\ttrain-auc:0.90749+0.00400\ttest-auc:0.87720+0.00563\n",
      "[200]\ttrain-auc:0.93997+0.00122\ttest-auc:0.89319+0.00650\n",
      "[300]\ttrain-auc:0.95502+0.00095\ttest-auc:0.90190+0.00591\n",
      "[400]\ttrain-auc:0.96225+0.00069\ttest-auc:0.90599+0.00632\n",
      "[500]\ttrain-auc:0.96770+0.00060\ttest-auc:0.90849+0.00599\n",
      "[600]\ttrain-auc:0.97166+0.00066\ttest-auc:0.90965+0.00623\n",
      "[700]\ttrain-auc:0.97513+0.00054\ttest-auc:0.90994+0.00632\n",
      "[800]\ttrain-auc:0.97809+0.00063\ttest-auc:0.91082+0.00688\n",
      "[900]\ttrain-auc:0.98058+0.00058\ttest-auc:0.91121+0.00692\n",
      "[1000]\ttrain-auc:0.98274+0.00038\ttest-auc:0.91138+0.00747\n",
      "[1068]\ttrain-auc:0.98393+0.00047\ttest-auc:0.91137+0.00769\n",
      "[0]\ttrain-auc:0.81930+0.01385\ttest-auc:0.80448+0.01418\n",
      "[100]\ttrain-auc:0.90754+0.00379\ttest-auc:0.87660+0.00601\n",
      "[200]\ttrain-auc:0.94105+0.00107\ttest-auc:0.89322+0.00698\n",
      "[300]\ttrain-auc:0.95592+0.00057\ttest-auc:0.90173+0.00754\n",
      "[400]\ttrain-auc:0.96291+0.00045\ttest-auc:0.90599+0.00699\n",
      "[500]\ttrain-auc:0.96830+0.00053\ttest-auc:0.90829+0.00669\n",
      "[600]\ttrain-auc:0.97232+0.00072\ttest-auc:0.90988+0.00659\n",
      "[700]\ttrain-auc:0.97575+0.00070\ttest-auc:0.91077+0.00646\n",
      "[800]\ttrain-auc:0.97862+0.00077\ttest-auc:0.91124+0.00638\n",
      "[900]\ttrain-auc:0.98107+0.00071\ttest-auc:0.91161+0.00655\n",
      "[1000]\ttrain-auc:0.98325+0.00059\ttest-auc:0.91159+0.00705\n",
      "[1060]\ttrain-auc:0.98435+0.00064\ttest-auc:0.91155+0.00715\n",
      "[0]\ttrain-auc:0.81359+0.01169\ttest-auc:0.79294+0.00253\n",
      "[100]\ttrain-auc:0.90651+0.00430\ttest-auc:0.87697+0.00633\n",
      "[200]\ttrain-auc:0.93874+0.00100\ttest-auc:0.89223+0.00718\n",
      "[300]\ttrain-auc:0.95331+0.00089\ttest-auc:0.90056+0.00664\n",
      "[400]\ttrain-auc:0.95934+0.00117\ttest-auc:0.90412+0.00648\n",
      "[500]\ttrain-auc:0.96410+0.00111\ttest-auc:0.90674+0.00611\n",
      "[600]\ttrain-auc:0.96783+0.00111\ttest-auc:0.90794+0.00620\n",
      "[700]\ttrain-auc:0.97054+0.00119\ttest-auc:0.90845+0.00601\n",
      "[800]\ttrain-auc:0.97310+0.00106\ttest-auc:0.90881+0.00613\n",
      "[900]\ttrain-auc:0.97518+0.00100\ttest-auc:0.90913+0.00577\n",
      "[1000]\ttrain-auc:0.97697+0.00107\ttest-auc:0.90911+0.00586\n",
      "[1100]\ttrain-auc:0.97887+0.00105\ttest-auc:0.90965+0.00567\n",
      "[1200]\ttrain-auc:0.98047+0.00104\ttest-auc:0.90965+0.00540\n",
      "[1282]\ttrain-auc:0.98158+0.00123\ttest-auc:0.90954+0.00526\n",
      "[0]\ttrain-auc:0.83168+0.01059\ttest-auc:0.81731+0.01099\n",
      "[100]\ttrain-auc:0.90699+0.00429\ttest-auc:0.87649+0.00539\n",
      "[200]\ttrain-auc:0.94048+0.00097\ttest-auc:0.89265+0.00690\n",
      "[300]\ttrain-auc:0.95377+0.00087\ttest-auc:0.90000+0.00699\n",
      "[400]\ttrain-auc:0.95982+0.00097\ttest-auc:0.90384+0.00667\n",
      "[500]\ttrain-auc:0.96425+0.00085\ttest-auc:0.90613+0.00616\n",
      "[600]\ttrain-auc:0.96759+0.00093\ttest-auc:0.90739+0.00607\n",
      "[700]\ttrain-auc:0.97052+0.00111\ttest-auc:0.90781+0.00625\n",
      "[800]\ttrain-auc:0.97303+0.00093\ttest-auc:0.90798+0.00693\n",
      "[900]\ttrain-auc:0.97532+0.00103\ttest-auc:0.90852+0.00658\n",
      "[1000]\ttrain-auc:0.97732+0.00107\ttest-auc:0.90877+0.00685\n",
      "[1100]\ttrain-auc:0.97919+0.00115\ttest-auc:0.90890+0.00683\n",
      "[1149]\ttrain-auc:0.97998+0.00104\ttest-auc:0.90884+0.00682\n",
      "[0]\ttrain-auc:0.82954+0.01379\ttest-auc:0.81260+0.01241\n",
      "[100]\ttrain-auc:0.90694+0.00317\ttest-auc:0.87539+0.00576\n",
      "[200]\ttrain-auc:0.94027+0.00101\ttest-auc:0.89157+0.00644\n",
      "[300]\ttrain-auc:0.95417+0.00076\ttest-auc:0.89973+0.00601\n",
      "[400]\ttrain-auc:0.96011+0.00086\ttest-auc:0.90340+0.00560\n",
      "[500]\ttrain-auc:0.96455+0.00108\ttest-auc:0.90545+0.00531\n",
      "[600]\ttrain-auc:0.96802+0.00107\ttest-auc:0.90582+0.00594\n",
      "[700]\ttrain-auc:0.97100+0.00108\ttest-auc:0.90632+0.00627\n",
      "[800]\ttrain-auc:0.97359+0.00078\ttest-auc:0.90689+0.00656\n",
      "[900]\ttrain-auc:0.97595+0.00068\ttest-auc:0.90703+0.00693\n",
      "[1000]\ttrain-auc:0.97778+0.00054\ttest-auc:0.90716+0.00700\n",
      "[1100]\ttrain-auc:0.97937+0.00065\ttest-auc:0.90717+0.00686\n",
      "[1200]\ttrain-auc:0.98107+0.00064\ttest-auc:0.90723+0.00686\n",
      "[1288]\ttrain-auc:0.98238+0.00069\ttest-auc:0.90685+0.00695\n",
      "[0]\ttrain-auc:0.84071+0.01006\ttest-auc:0.80691+0.00981\n",
      "[100]\ttrain-auc:0.94021+0.00403\ttest-auc:0.88959+0.00707\n",
      "[200]\ttrain-auc:0.97342+0.00038\ttest-auc:0.90450+0.00967\n",
      "[300]\ttrain-auc:0.98535+0.00017\ttest-auc:0.91088+0.00991\n",
      "[400]\ttrain-auc:0.99021+0.00016\ttest-auc:0.91281+0.01024\n",
      "[500]\ttrain-auc:0.99298+0.00017\ttest-auc:0.91261+0.01065\n",
      "[515]\ttrain-auc:0.99335+0.00018\ttest-auc:0.91246+0.01074\n",
      "[0]\ttrain-auc:0.86104+0.00152\ttest-auc:0.83106+0.01089\n",
      "[100]\ttrain-auc:0.94050+0.00444\ttest-auc:0.88992+0.00641\n",
      "[200]\ttrain-auc:0.97500+0.00082\ttest-auc:0.90601+0.00891\n",
      "[300]\ttrain-auc:0.98595+0.00007\ttest-auc:0.91199+0.00949\n",
      "[400]\ttrain-auc:0.99054+0.00008\ttest-auc:0.91352+0.00987\n",
      "[500]\ttrain-auc:0.99333+0.00014\ttest-auc:0.91352+0.01036\n",
      "[570]\ttrain-auc:0.99481+0.00007\ttest-auc:0.91295+0.01058\n",
      "[0]\ttrain-auc:0.86078+0.00188\ttest-auc:0.82608+0.00956\n",
      "[100]\ttrain-auc:0.94146+0.00481\ttest-auc:0.88870+0.00798\n",
      "[200]\ttrain-auc:0.97626+0.00084\ttest-auc:0.90538+0.01008\n",
      "[300]\ttrain-auc:0.98657+0.00012\ttest-auc:0.91092+0.01057\n",
      "[400]\ttrain-auc:0.99094+0.00003\ttest-auc:0.91268+0.01121\n",
      "[500]\ttrain-auc:0.99383+0.00021\ttest-auc:0.91300+0.01153\n",
      "[577]\ttrain-auc:0.99536+0.00010\ttest-auc:0.91233+0.01203\n",
      "[0]\ttrain-auc:0.84996+0.00912\ttest-auc:0.81134+0.00176\n",
      "[100]\ttrain-auc:0.94192+0.00372\ttest-auc:0.89020+0.00788\n",
      "[200]\ttrain-auc:0.97668+0.00054\ttest-auc:0.90622+0.01057\n",
      "[300]\ttrain-auc:0.98798+0.00029\ttest-auc:0.91242+0.01073\n",
      "[400]\ttrain-auc:0.99188+0.00019\ttest-auc:0.91384+0.01001\n",
      "[500]\ttrain-auc:0.99400+0.00012\ttest-auc:0.91297+0.01007\n",
      "[528]\ttrain-auc:0.99445+0.00009\ttest-auc:0.91284+0.01025\n",
      "[0]\ttrain-auc:0.86414+0.00326\ttest-auc:0.83463+0.00948\n",
      "[100]\ttrain-auc:0.94236+0.00499\ttest-auc:0.89066+0.00660\n",
      "[200]\ttrain-auc:0.97814+0.00081\ttest-auc:0.90617+0.01009\n",
      "[300]\ttrain-auc:0.98834+0.00020\ttest-auc:0.91189+0.01074\n",
      "[400]\ttrain-auc:0.99205+0.00012\ttest-auc:0.91337+0.01078\n",
      "[500]\ttrain-auc:0.99435+0.00018\ttest-auc:0.91325+0.01095\n",
      "[549]\ttrain-auc:0.99517+0.00019\ttest-auc:0.91284+0.01112\n",
      "[0]\ttrain-auc:0.86505+0.00436\ttest-auc:0.83205+0.00570\n",
      "[100]\ttrain-auc:0.94348+0.00448\ttest-auc:0.88894+0.00763\n",
      "[200]\ttrain-auc:0.97899+0.00055\ttest-auc:0.90576+0.01078\n",
      "[300]\ttrain-auc:0.98862+0.00028\ttest-auc:0.91109+0.01066\n",
      "[400]\ttrain-auc:0.99220+0.00028\ttest-auc:0.91241+0.01131\n",
      "[500]\ttrain-auc:0.99455+0.00035\ttest-auc:0.91218+0.01180\n",
      "[563]\ttrain-auc:0.99560+0.00035\ttest-auc:0.91168+0.01197\n",
      "[0]\ttrain-auc:0.84756+0.00659\ttest-auc:0.81381+0.00839\n",
      "[100]\ttrain-auc:0.94344+0.00341\ttest-auc:0.89146+0.00754\n",
      "[200]\ttrain-auc:0.97821+0.00046\ttest-auc:0.90699+0.01013\n",
      "[300]\ttrain-auc:0.98885+0.00028\ttest-auc:0.91254+0.01086\n",
      "[400]\ttrain-auc:0.99166+0.00035\ttest-auc:0.91302+0.01067\n",
      "[469]\ttrain-auc:0.99285+0.00032\ttest-auc:0.91280+0.01052\n",
      "[0]\ttrain-auc:0.86740+0.00234\ttest-auc:0.83572+0.00671\n",
      "[100]\ttrain-auc:0.94381+0.00341\ttest-auc:0.89070+0.00679\n",
      "[200]\ttrain-auc:0.97918+0.00043\ttest-auc:0.90683+0.00946\n",
      "[300]\ttrain-auc:0.98848+0.00033\ttest-auc:0.91166+0.01063\n",
      "[400]\ttrain-auc:0.99140+0.00027\ttest-auc:0.91309+0.01034\n",
      "[500]\ttrain-auc:0.99302+0.00024\ttest-auc:0.91264+0.01052\n",
      "[519]\ttrain-auc:0.99331+0.00025\ttest-auc:0.91237+0.01046\n",
      "[0]\ttrain-auc:0.86705+0.00338\ttest-auc:0.83186+0.00605\n",
      "[100]\ttrain-auc:0.94235+0.00432\ttest-auc:0.88598+0.00914\n",
      "[200]\ttrain-auc:0.97934+0.00086\ttest-auc:0.90429+0.01068\n",
      "[300]\ttrain-auc:0.98860+0.00036\ttest-auc:0.90907+0.01203\n",
      "[400]\ttrain-auc:0.99131+0.00045\ttest-auc:0.90998+0.01176\n",
      "[500]\ttrain-auc:0.99311+0.00079\ttest-auc:0.90967+0.01184\n",
      "[512]\ttrain-auc:0.99326+0.00078\ttest-auc:0.90963+0.01183\n",
      "[0]\ttrain-auc:0.86476+0.00704\ttest-auc:0.79920+0.01778\n",
      "[100]\ttrain-auc:0.96294+0.00248\ttest-auc:0.89574+0.00964\n",
      "[200]\ttrain-auc:0.98919+0.00032\ttest-auc:0.90807+0.01227\n",
      "[300]\ttrain-auc:0.99566+0.00023\ttest-auc:0.91208+0.01256\n",
      "[395]\ttrain-auc:0.99771+0.00011\ttest-auc:0.91175+0.01334\n",
      "[0]\ttrain-auc:0.87727+0.00348\ttest-auc:0.83007+0.00756\n",
      "[100]\ttrain-auc:0.96319+0.00282\ttest-auc:0.89628+0.00868\n",
      "[200]\ttrain-auc:0.99014+0.00017\ttest-auc:0.90817+0.01226\n",
      "[300]\ttrain-auc:0.99593+0.00013\ttest-auc:0.91216+0.01264\n",
      "[400]\ttrain-auc:0.99794+0.00008\ttest-auc:0.91220+0.01340\n",
      "[473]\ttrain-auc:0.99870+0.00005\ttest-auc:0.91166+0.01349\n",
      "[0]\ttrain-auc:0.87877+0.00154\ttest-auc:0.82436+0.01206\n",
      "[100]\ttrain-auc:0.96372+0.00291\ttest-auc:0.89437+0.00859\n",
      "[200]\ttrain-auc:0.99078+0.00019\ttest-auc:0.90717+0.01311\n",
      "[300]\ttrain-auc:0.99611+0.00013\ttest-auc:0.91127+0.01321\n",
      "[400]\ttrain-auc:0.99807+0.00009\ttest-auc:0.91162+0.01360\n",
      "[468]\ttrain-auc:0.99879+0.00005\ttest-auc:0.91123+0.01346\n",
      "[0]\ttrain-auc:0.87235+0.00901\ttest-auc:0.80724+0.01435\n",
      "[100]\ttrain-auc:0.96566+0.00170\ttest-auc:0.89697+0.01014\n",
      "[200]\ttrain-auc:0.99190+0.00006\ttest-auc:0.90867+0.01342\n",
      "[300]\ttrain-auc:0.99706+0.00016\ttest-auc:0.91165+0.01436\n",
      "[400]\ttrain-auc:0.99848+0.00013\ttest-auc:0.91139+0.01405\n",
      "[429]\ttrain-auc:0.99869+0.00009\ttest-auc:0.91114+0.01395\n",
      "[0]\ttrain-auc:0.88297+0.00332\ttest-auc:0.83131+0.00825\n",
      "[100]\ttrain-auc:0.96591+0.00217\ttest-auc:0.89696+0.00863\n",
      "[200]\ttrain-auc:0.99262+0.00009\ttest-auc:0.90861+0.01386\n",
      "[300]\ttrain-auc:0.99721+0.00017\ttest-auc:0.91112+0.01471\n",
      "[388]\ttrain-auc:0.99840+0.00014\ttest-auc:0.91122+0.01442\n",
      "[0]\ttrain-auc:0.88738+0.00568\ttest-auc:0.83317+0.00927\n",
      "[100]\ttrain-auc:0.96700+0.00221\ttest-auc:0.89579+0.00955\n",
      "[200]\ttrain-auc:0.99307+0.00011\ttest-auc:0.90718+0.01446\n",
      "[300]\ttrain-auc:0.99729+0.00015\ttest-auc:0.91065+0.01481\n",
      "[400]\ttrain-auc:0.99859+0.00010\ttest-auc:0.91034+0.01470\n",
      "[451]\ttrain-auc:0.99901+0.00006\ttest-auc:0.90985+0.01460\n",
      "[0]\ttrain-auc:0.87651+0.00663\ttest-auc:0.80297+0.02300\n",
      "[100]\ttrain-auc:0.96863+0.00152\ttest-auc:0.89939+0.00966\n",
      "[200]\ttrain-auc:0.99326+0.00021\ttest-auc:0.91003+0.01358\n",
      "[300]\ttrain-auc:0.99789+0.00028\ttest-auc:0.91179+0.01439\n",
      "[359]\ttrain-auc:0.99845+0.00025\ttest-auc:0.91102+0.01450\n",
      "[0]\ttrain-auc:0.88866+0.00373\ttest-auc:0.83576+0.01070\n",
      "[100]\ttrain-auc:0.96786+0.00121\ttest-auc:0.89734+0.00876\n",
      "[200]\ttrain-auc:0.99397+0.00016\ttest-auc:0.90765+0.01493\n",
      "[300]\ttrain-auc:0.99760+0.00034\ttest-auc:0.90880+0.01494\n",
      "[361]\ttrain-auc:0.99820+0.00030\ttest-auc:0.90829+0.01503\n",
      "[0]\ttrain-auc:0.89211+0.00440\ttest-auc:0.83436+0.00728\n",
      "[100]\ttrain-auc:0.96673+0.00173\ttest-auc:0.89220+0.00859\n",
      "[200]\ttrain-auc:0.99373+0.00010\ttest-auc:0.90336+0.01450\n",
      "[300]\ttrain-auc:0.99730+0.00023\ttest-auc:0.90529+0.01577\n",
      "[374]\ttrain-auc:0.99810+0.00025\ttest-auc:0.90494+0.01597\n",
      "[0]\ttrain-auc:0.80459+0.02025\ttest-auc:0.77792+0.01926\n",
      "[100]\ttrain-auc:0.98495+0.00061\ttest-auc:0.88330+0.01331\n",
      "[131]\ttrain-auc:0.99003+0.00053\ttest-auc:0.88103+0.01232\n",
      "[0]\ttrain-auc:0.81878+0.01598\ttest-auc:0.80436+0.01198\n",
      "[100]\ttrain-auc:0.98681+0.00018\ttest-auc:0.88822+0.01226\n",
      "[139]\ttrain-auc:0.99192+0.00017\ttest-auc:0.88729+0.01015\n",
      "[0]\ttrain-auc:0.82628+0.01673\ttest-auc:0.80857+0.01506\n",
      "[100]\ttrain-auc:0.98749+0.00064\ttest-auc:0.88819+0.00946\n",
      "[155]\ttrain-auc:0.99461+0.00032\ttest-auc:0.88422+0.01189\n",
      "[0]\ttrain-auc:0.81595+0.01078\ttest-auc:0.79669+0.00436\n",
      "[100]\ttrain-auc:0.98603+0.00044\ttest-auc:0.89026+0.01068\n",
      "[142]\ttrain-auc:0.99164+0.00021\ttest-auc:0.88730+0.01198\n",
      "[0]\ttrain-auc:0.81911+0.01348\ttest-auc:0.80681+0.01683\n",
      "[100]\ttrain-auc:0.98772+0.00037\ttest-auc:0.88792+0.01214\n",
      "[126]\ttrain-auc:0.99175+0.00040\ttest-auc:0.88672+0.01225\n",
      "[0]\ttrain-auc:0.81930+0.01385\ttest-auc:0.80448+0.01418\n",
      "[100]\ttrain-auc:0.98785+0.00026\ttest-auc:0.89113+0.00672\n",
      "[147]\ttrain-auc:0.99440+0.00019\ttest-auc:0.88785+0.00917\n",
      "[0]\ttrain-auc:0.81359+0.01169\ttest-auc:0.79294+0.00253\n",
      "[100]\ttrain-auc:0.98453+0.00109\ttest-auc:0.89423+0.00780\n",
      "[155]\ttrain-auc:0.99196+0.00063\ttest-auc:0.88841+0.00871\n",
      "[0]\ttrain-auc:0.83168+0.01059\ttest-auc:0.81731+0.01099\n",
      "[100]\ttrain-auc:0.98760+0.00096\ttest-auc:0.88981+0.00946\n",
      "[132]\ttrain-auc:0.99106+0.00088\ttest-auc:0.88908+0.00980\n",
      "[0]\ttrain-auc:0.82954+0.01379\ttest-auc:0.81260+0.01241\n",
      "[100]\ttrain-auc:0.98837+0.00051\ttest-auc:0.89140+0.00874\n",
      "[124]\ttrain-auc:0.99154+0.00020\ttest-auc:0.89011+0.01040\n",
      "[0]\ttrain-auc:0.84071+0.01006\ttest-auc:0.80691+0.00981\n",
      "[100]\ttrain-auc:0.99926+0.00005\ttest-auc:0.88008+0.01581\n",
      "[130]\ttrain-auc:0.99983+0.00003\ttest-auc:0.88106+0.01490\n",
      "[0]\ttrain-auc:0.86104+0.00152\ttest-auc:0.83106+0.01089\n",
      "[100]\ttrain-auc:0.99952+0.00007\ttest-auc:0.88288+0.00951\n",
      "[125]\ttrain-auc:0.99986+0.00002\ttest-auc:0.88330+0.01014\n",
      "[0]\ttrain-auc:0.86078+0.00188\ttest-auc:0.82608+0.00956\n",
      "[100]\ttrain-auc:0.99966+0.00005\ttest-auc:0.88021+0.01510\n",
      "[119]\ttrain-auc:0.99990+0.00002\ttest-auc:0.88127+0.01417\n",
      "[0]\ttrain-auc:0.84996+0.00912\ttest-auc:0.81134+0.00176\n",
      "[100]\ttrain-auc:0.99935+0.00001\ttest-auc:0.88732+0.01197\n",
      "[129]\ttrain-auc:0.99986+0.00001\ttest-auc:0.88807+0.01145\n",
      "[0]\ttrain-auc:0.86414+0.00326\ttest-auc:0.83463+0.00948\n",
      "[100]\ttrain-auc:0.99953+0.00012\ttest-auc:0.88609+0.01057\n",
      "[126]\ttrain-auc:0.99990+0.00002\ttest-auc:0.88436+0.00942\n",
      "[0]\ttrain-auc:0.86505+0.00436\ttest-auc:0.83205+0.00570\n",
      "[100]\ttrain-auc:0.99968+0.00004\ttest-auc:0.88653+0.01343\n",
      "[116]\ttrain-auc:0.99988+0.00003\ttest-auc:0.88719+0.01337\n",
      "[0]\ttrain-auc:0.84756+0.00659\ttest-auc:0.81381+0.00839\n",
      "[100]\ttrain-auc:0.99893+0.00019\ttest-auc:0.88700+0.01353\n",
      "[127]\ttrain-auc:0.99949+0.00013\ttest-auc:0.88655+0.01291\n",
      "[0]\ttrain-auc:0.86740+0.00234\ttest-auc:0.83572+0.00671\n",
      "[100]\ttrain-auc:0.99906+0.00019\ttest-auc:0.88834+0.01256\n",
      "[125]\ttrain-auc:0.99954+0.00013\ttest-auc:0.88743+0.01168\n",
      "[0]\ttrain-auc:0.86705+0.00338\ttest-auc:0.83186+0.00605\n",
      "[100]\ttrain-auc:0.99919+0.00019\ttest-auc:0.88678+0.01092\n",
      "[121]\ttrain-auc:0.99968+0.00005\ttest-auc:0.88622+0.00948\n",
      "[0]\ttrain-auc:0.86476+0.00704\ttest-auc:0.79920+0.01778\n",
      "[100]\ttrain-auc:0.99999+0.00000\ttest-auc:0.88611+0.01564\n",
      "[200]\ttrain-auc:1.00000+0.00000\ttest-auc:0.88901+0.01483\n",
      "[300]\ttrain-auc:1.00000+0.00000\ttest-auc:0.88899+0.01355\n",
      "[400]\ttrain-auc:1.00000+0.00000\ttest-auc:0.88921+0.01327\n",
      "[430]\ttrain-auc:1.00000+0.00000\ttest-auc:0.88940+0.01363\n",
      "[0]\ttrain-auc:0.87727+0.00348\ttest-auc:0.83007+0.00756\n",
      "[100]\ttrain-auc:1.00000+0.00000\ttest-auc:0.88858+0.00757\n",
      "[200]\ttrain-auc:1.00000+0.00000\ttest-auc:0.89065+0.00724\n",
      "[300]\ttrain-auc:1.00000+0.00000\ttest-auc:0.89170+0.00734\n",
      "[370]\ttrain-auc:1.00000+0.00000\ttest-auc:0.89178+0.00753\n",
      "[0]\ttrain-auc:0.87877+0.00154\ttest-auc:0.82436+0.01206\n",
      "[100]\ttrain-auc:1.00000+0.00000\ttest-auc:0.88726+0.00933\n",
      "[200]\ttrain-auc:1.00000+0.00000\ttest-auc:0.88929+0.00822\n",
      "[300]\ttrain-auc:1.00000+0.00000\ttest-auc:0.88967+0.00756\n",
      "[400]\ttrain-auc:1.00000+0.00000\ttest-auc:0.88981+0.00769\n",
      "[426]\ttrain-auc:1.00000+0.00000\ttest-auc:0.88980+0.00764\n",
      "[0]\ttrain-auc:0.87235+0.00901\ttest-auc:0.80724+0.01435\n",
      "[100]\ttrain-auc:1.00000+0.00000\ttest-auc:0.89238+0.01176\n",
      "[200]\ttrain-auc:1.00000+0.00000\ttest-auc:0.89460+0.01079\n",
      "[300]\ttrain-auc:1.00000+0.00000\ttest-auc:0.89557+0.00948\n",
      "[400]\ttrain-auc:1.00000+0.00000\ttest-auc:0.89574+0.00898\n",
      "[500]\ttrain-auc:1.00000+0.00000\ttest-auc:0.89589+0.00858\n",
      "[519]\ttrain-auc:1.00000+0.00000\ttest-auc:0.89589+0.00855\n",
      "[0]\ttrain-auc:0.88297+0.00332\ttest-auc:0.83131+0.00825\n",
      "[100]\ttrain-auc:1.00000+0.00000\ttest-auc:0.88918+0.01293\n",
      "[200]\ttrain-auc:1.00000+0.00000\ttest-auc:0.89267+0.01111\n",
      "[300]\ttrain-auc:1.00000+0.00000\ttest-auc:0.89374+0.01066\n",
      "[400]\ttrain-auc:1.00000+0.00000\ttest-auc:0.89402+0.00997\n",
      "[456]\ttrain-auc:1.00000+0.00000\ttest-auc:0.89388+0.00992\n",
      "[0]\ttrain-auc:0.88738+0.00568\ttest-auc:0.83317+0.00927\n",
      "[100]\ttrain-auc:1.00000+0.00000\ttest-auc:0.89256+0.01098\n",
      "[200]\ttrain-auc:1.00000+0.00000\ttest-auc:0.89557+0.00933\n",
      "[300]\ttrain-auc:1.00000+0.00000\ttest-auc:0.89562+0.00884\n",
      "[400]\ttrain-auc:1.00000+0.00000\ttest-auc:0.89653+0.00843\n",
      "[500]\ttrain-auc:1.00000+0.00000\ttest-auc:0.89639+0.00815\n",
      "[540]\ttrain-auc:1.00000+0.00000\ttest-auc:0.89624+0.00800\n",
      "[0]\ttrain-auc:0.87651+0.00663\ttest-auc:0.80297+0.02300\n",
      "[100]\ttrain-auc:0.99998+0.00001\ttest-auc:0.89073+0.01284\n",
      "[200]\ttrain-auc:1.00000+0.00000\ttest-auc:0.89440+0.01118\n",
      "[300]\ttrain-auc:1.00000+0.00000\ttest-auc:0.89616+0.01072\n",
      "[400]\ttrain-auc:1.00000+0.00000\ttest-auc:0.89642+0.01004\n",
      "[420]\ttrain-auc:1.00000+0.00000\ttest-auc:0.89624+0.01004\n",
      "[0]\ttrain-auc:0.88866+0.00373\ttest-auc:0.83576+0.01071\n",
      "[100]\ttrain-auc:0.99998+0.00001\ttest-auc:0.89359+0.01106\n",
      "[200]\ttrain-auc:1.00000+0.00000\ttest-auc:0.89555+0.01093\n",
      "[300]\ttrain-auc:1.00000+0.00000\ttest-auc:0.89621+0.01096\n",
      "[400]\ttrain-auc:1.00000+0.00000\ttest-auc:0.89638+0.01090\n",
      "[468]\ttrain-auc:1.00000+0.00000\ttest-auc:0.89642+0.01056\n",
      "[0]\ttrain-auc:0.89211+0.00440\ttest-auc:0.83436+0.00728\n",
      "[100]\ttrain-auc:0.99999+0.00000\ttest-auc:0.89152+0.00871\n",
      "[200]\ttrain-auc:1.00000+0.00000\ttest-auc:0.89462+0.00859\n",
      "[300]\ttrain-auc:1.00000+0.00000\ttest-auc:0.89526+0.00865\n",
      "[400]\ttrain-auc:1.00000+0.00000\ttest-auc:0.89565+0.00841\n",
      "[500]\ttrain-auc:1.00000+0.00000\ttest-auc:0.89644+0.00824\n",
      "[589]\ttrain-auc:1.00000+0.00000\ttest-auc:0.89614+0.00816\n",
      "[0]\ttrain-auc:0.80459+0.02025\ttest-auc:0.77792+0.01926\n",
      "[100]\ttrain-auc:0.96512+0.00092\ttest-auc:0.90213+0.00709\n",
      "[200]\ttrain-auc:0.98082+0.00015\ttest-auc:0.90542+0.00693\n",
      "[286]\ttrain-auc:0.98771+0.00011\ttest-auc:0.90296+0.00907\n",
      "[0]\ttrain-auc:0.81878+0.01598\ttest-auc:0.80436+0.01198\n",
      "[100]\ttrain-auc:0.96514+0.00065\ttest-auc:0.90332+0.00819\n",
      "[200]\ttrain-auc:0.98188+0.00064\ttest-auc:0.90665+0.00833\n",
      "[300]\ttrain-auc:0.98983+0.00041\ttest-auc:0.90339+0.01018\n",
      "[309]\ttrain-auc:0.99023+0.00038\ttest-auc:0.90319+0.01030\n",
      "[0]\ttrain-auc:0.82628+0.01673\ttest-auc:0.80857+0.01506\n",
      "[100]\ttrain-auc:0.96670+0.00060\ttest-auc:0.90246+0.00581\n",
      "[200]\ttrain-auc:0.98271+0.00024\ttest-auc:0.90322+0.00688\n",
      "[248]\ttrain-auc:0.98701+0.00033\ttest-auc:0.90253+0.00740\n",
      "[0]\ttrain-auc:0.81595+0.01078\ttest-auc:0.79669+0.00436\n",
      "[100]\ttrain-auc:0.96469+0.00048\ttest-auc:0.90415+0.00751\n",
      "[200]\ttrain-auc:0.98031+0.00041\ttest-auc:0.90723+0.00743\n",
      "[268]\ttrain-auc:0.98620+0.00018\ttest-auc:0.90589+0.00890\n",
      "[0]\ttrain-auc:0.81911+0.01348\ttest-auc:0.80681+0.01683\n",
      "[100]\ttrain-auc:0.96702+0.00070\ttest-auc:0.90405+0.00706\n",
      "[200]\ttrain-auc:0.98171+0.00030\ttest-auc:0.90550+0.00947\n",
      "[300]\ttrain-auc:0.98943+0.00040\ttest-auc:0.90295+0.01105\n",
      "[316]\ttrain-auc:0.99033+0.00039\ttest-auc:0.90273+0.01077\n",
      "[0]\ttrain-auc:0.81930+0.01385\ttest-auc:0.80448+0.01418\n",
      "[100]\ttrain-auc:0.96773+0.00050\ttest-auc:0.90370+0.00555\n",
      "[200]\ttrain-auc:0.98246+0.00059\ttest-auc:0.90434+0.00655\n",
      "[289]\ttrain-auc:0.98972+0.00047\ttest-auc:0.90357+0.00711\n",
      "[0]\ttrain-auc:0.81359+0.01169\ttest-auc:0.79294+0.00253\n",
      "[100]\ttrain-auc:0.96547+0.00071\ttest-auc:0.90400+0.00646\n",
      "[200]\ttrain-auc:0.97980+0.00115\ttest-auc:0.90735+0.00570\n",
      "[279]\ttrain-auc:0.98486+0.00050\ttest-auc:0.90625+0.00599\n",
      "[0]\ttrain-auc:0.83168+0.01059\ttest-auc:0.81731+0.01099\n",
      "[100]\ttrain-auc:0.96472+0.00042\ttest-auc:0.90564+0.00679\n",
      "[200]\ttrain-auc:0.97863+0.00112\ttest-auc:0.90833+0.00684\n",
      "[288]\ttrain-auc:0.98541+0.00136\ttest-auc:0.90416+0.00819\n",
      "[0]\ttrain-auc:0.82954+0.01379\ttest-auc:0.81260+0.01241\n",
      "[100]\ttrain-auc:0.96632+0.00083\ttest-auc:0.90328+0.00660\n",
      "[200]\ttrain-auc:0.97976+0.00094\ttest-auc:0.90510+0.00646\n",
      "[255]\ttrain-auc:0.98423+0.00052\ttest-auc:0.90454+0.00661\n",
      "[0]\ttrain-auc:0.84071+0.01006\ttest-auc:0.80691+0.00981\n",
      "[100]\ttrain-auc:0.99164+0.00034\ttest-auc:0.90722+0.01021\n",
      "[168]\ttrain-auc:0.99686+0.00007\ttest-auc:0.90401+0.01223\n",
      "[0]\ttrain-auc:0.86104+0.00152\ttest-auc:0.83106+0.01089\n",
      "[100]\ttrain-auc:0.99231+0.00048\ttest-auc:0.90358+0.01281\n",
      "[171]\ttrain-auc:0.99752+0.00023\ttest-auc:0.90043+0.01311\n",
      "[0]\ttrain-auc:0.86078+0.00188\ttest-auc:0.82608+0.00956\n",
      "[100]\ttrain-auc:0.99311+0.00008\ttest-auc:0.90417+0.01077\n",
      "[165]\ttrain-auc:0.99785+0.00016\ttest-auc:0.90117+0.01100\n",
      "[0]\ttrain-auc:0.84996+0.00912\ttest-auc:0.81134+0.00176\n",
      "[100]\ttrain-auc:0.99325+0.00019\ttest-auc:0.90839+0.01122\n",
      "[175]\ttrain-auc:0.99768+0.00022\ttest-auc:0.90416+0.01326\n",
      "[0]\ttrain-auc:0.86414+0.00326\ttest-auc:0.83463+0.00948\n",
      "[100]\ttrain-auc:0.99355+0.00029\ttest-auc:0.90865+0.01094\n",
      "[186]\ttrain-auc:0.99819+0.00014\ttest-auc:0.90399+0.01281\n",
      "[0]\ttrain-auc:0.86505+0.00436\ttest-auc:0.83205+0.00570\n",
      "[100]\ttrain-auc:0.99392+0.00005\ttest-auc:0.90649+0.01299\n",
      "[180]\ttrain-auc:0.99839+0.00012\ttest-auc:0.90294+0.01273\n",
      "[0]\ttrain-auc:0.84756+0.00659\ttest-auc:0.81381+0.00839\n",
      "[100]\ttrain-auc:0.99350+0.00054\ttest-auc:0.90739+0.01214\n",
      "[176]\ttrain-auc:0.99668+0.00031\ttest-auc:0.90295+0.01144\n",
      "[0]\ttrain-auc:0.86740+0.00234\ttest-auc:0.83572+0.00671\n",
      "[100]\ttrain-auc:0.99336+0.00018\ttest-auc:0.90679+0.01071\n",
      "[174]\ttrain-auc:0.99686+0.00016\ttest-auc:0.90323+0.01033\n",
      "[0]\ttrain-auc:0.86705+0.00338\ttest-auc:0.83186+0.00605\n",
      "[100]\ttrain-auc:0.99370+0.00051\ttest-auc:0.90518+0.01146\n",
      "[164]\ttrain-auc:0.99671+0.00028\ttest-auc:0.90139+0.01211\n",
      "[0]\ttrain-auc:0.86476+0.00704\ttest-auc:0.79920+0.01778\n",
      "[100]\ttrain-auc:0.99843+0.00003\ttest-auc:0.90294+0.01461\n",
      "[167]\ttrain-auc:0.99979+0.00000\ttest-auc:0.90199+0.01242\n",
      "[0]\ttrain-auc:0.87727+0.00348\ttest-auc:0.83007+0.00756\n",
      "[100]\ttrain-auc:0.99856+0.00015\ttest-auc:0.90358+0.01368\n",
      "[168]\ttrain-auc:0.99986+0.00002\ttest-auc:0.90145+0.01269\n",
      "[0]\ttrain-auc:0.87877+0.00154\ttest-auc:0.82436+0.01206\n",
      "[100]\ttrain-auc:0.99880+0.00015\ttest-auc:0.90353+0.01293\n",
      "[181]\ttrain-auc:0.99995+0.00001\ttest-auc:0.90176+0.01195\n",
      "[0]\ttrain-auc:0.87235+0.00901\ttest-auc:0.80724+0.01435\n",
      "[100]\ttrain-auc:0.99892+0.00009\ttest-auc:0.90500+0.01431\n",
      "[154]\ttrain-auc:0.99976+0.00004\ttest-auc:0.90338+0.01329\n",
      "[0]\ttrain-auc:0.88297+0.00332\ttest-auc:0.83131+0.00825\n",
      "[100]\ttrain-auc:0.99895+0.00012\ttest-auc:0.90456+0.01328\n",
      "[168]\ttrain-auc:0.99989+0.00002\ttest-auc:0.90369+0.01349\n",
      "[0]\ttrain-auc:0.88738+0.00568\ttest-auc:0.83317+0.00927\n",
      "[100]\ttrain-auc:0.99909+0.00015\ttest-auc:0.90281+0.01432\n",
      "[182]\ttrain-auc:0.99995+0.00000\ttest-auc:0.90359+0.01236\n",
      "[0]\ttrain-auc:0.87651+0.00663\ttest-auc:0.80297+0.02300\n",
      "[100]\ttrain-auc:0.99902+0.00008\ttest-auc:0.90371+0.01473\n",
      "[155]\ttrain-auc:0.99952+0.00009\ttest-auc:0.90175+0.01442\n",
      "[0]\ttrain-auc:0.88866+0.00373\ttest-auc:0.83576+0.01071\n",
      "[100]\ttrain-auc:0.99892+0.00020\ttest-auc:0.90273+0.01557\n",
      "[155]\ttrain-auc:0.99953+0.00013\ttest-auc:0.90084+0.01329\n",
      "[0]\ttrain-auc:0.89211+0.00440\ttest-auc:0.83436+0.00728\n",
      "[100]\ttrain-auc:0.99885+0.00019\ttest-auc:0.90186+0.01451\n",
      "[150]\ttrain-auc:0.99954+0.00005\ttest-auc:0.89894+0.01419\n"
     ]
    }
   ],
   "source": [
    "results = {}\n",
    "\n",
    "dtrain = xgb.DMatrix(X_train, label=y_train)\n",
    "\n",
    "for rate in learning_rate:\n",
    "  for depth in max_depth:\n",
    "    for sample in subsample:\n",
    "      for colsample in colsample_bytree:\n",
    "\n",
    "        params = {\n",
    "          'objective' : 'binary:logistic',\n",
    "          'eval_metric' : 'auc',\n",
    "          'learning_rate' : rate,\n",
    "          'max_depth' : depth,\n",
    "          'subsample' : sample,\n",
    "          'colsample_bytree' : colsample,\n",
    "          'tree_method' : 'gpu_hist',\n",
    "          'random_state' : 3,\n",
    "        }\n",
    "\n",
    "        history = xgb.cv(\n",
    "            params,\n",
    "            dtrain,\n",
    "            num_boost_round = 3000,\n",
    "            nfold = 3,\n",
    "            metrics ='auc',\n",
    "            early_stopping_rounds = 100,\n",
    "            verbose_eval=100,\n",
    "            seed=3,\n",
    "            shuffle = False\n",
    "        )\n",
    "\n",
    "        name = \"learning_rate : \"+str(rate)+\" max_depth : \"+str(depth)+\" subsample : \"+str(sample)+\" colsample_bytree : \"+str(colsample)\n",
    "        results[name] = (history.iloc[-1]['train-auc-mean'],history.iloc[-1]['test-auc-mean'])"
   ]
  },
  {
   "cell_type": "code",
   "execution_count": 17,
   "id": "cfe92702",
   "metadata": {
    "execution": {
     "iopub.execute_input": "2024-01-07T15:08:34.437025Z",
     "iopub.status.busy": "2024-01-07T15:08:34.436621Z",
     "iopub.status.idle": "2024-01-07T15:08:34.441967Z",
     "shell.execute_reply": "2024-01-07T15:08:34.441014Z"
    },
    "executionInfo": {
     "elapsed": 750,
     "status": "ok",
     "timestamp": 1623528295219,
     "user": {
      "displayName": "Priyank Mishra",
      "photoUrl": "",
      "userId": "18008032652400229851"
     },
     "user_tz": -330
    },
    "id": "y4V48BXTmSGG",
    "papermill": {
     "duration": 0.049598,
     "end_time": "2024-01-07T15:08:34.444072",
     "exception": false,
     "start_time": "2024-01-07T15:08:34.394474",
     "status": "completed"
    },
    "tags": []
   },
   "outputs": [],
   "source": [
    "train_roc_auc = [auc[0] for auc in results.values()]\n",
    "cv_roc_auc = [auc[1] for auc in results.values()]"
   ]
  },
  {
   "cell_type": "code",
   "execution_count": 18,
   "id": "59b74ebf",
   "metadata": {
    "execution": {
     "iopub.execute_input": "2024-01-07T15:08:34.527274Z",
     "iopub.status.busy": "2024-01-07T15:08:34.526916Z",
     "iopub.status.idle": "2024-01-07T15:08:35.361284Z",
     "shell.execute_reply": "2024-01-07T15:08:35.360303Z"
    },
    "executionInfo": {
     "elapsed": 1931,
     "status": "ok",
     "timestamp": 1623528506027,
     "user": {
      "displayName": "Priyank Mishra",
      "photoUrl": "",
      "userId": "18008032652400229851"
     },
     "user_tz": -330
    },
    "id": "TadUczwYmSAQ",
    "outputId": "e22123e4-7214-481f-eb4e-cd3e8a15b855",
    "papermill": {
     "duration": 0.878771,
     "end_time": "2024-01-07T15:08:35.363675",
     "exception": false,
     "start_time": "2024-01-07T15:08:34.484904",
     "status": "completed"
    },
    "tags": []
   },
   "outputs": [
    {
     "data": {
      "image/png": "[encoded data removed]",
      "text/plain": [
       "<Figure size 2500x800 with 1 Axes>"
      ]
     },
     "metadata": {},
     "output_type": "display_data"
    }
   ],
   "source": [
    "plt.figure(figsize=(25,8))\n",
    "hyperparam_vs_auc(train_roc_auc, cv_roc_auc)"
   ]
  },
  {
   "cell_type": "markdown",
   "id": "2626acd6",
   "metadata": {
    "id": "V_0bkUEc1SgB",
    "papermill": {
     "duration": 0.042005,
     "end_time": "2024-01-07T15:08:35.448753",
     "exception": false,
     "start_time": "2024-01-07T15:08:35.406748",
     "status": "completed"
    },
    "tags": []
   },
   "source": [
    "From the above plot, the best hyperaparameter index is 12.\n",
    "<br><br>"
   ]
  },
  {
   "cell_type": "code",
   "execution_count": 19,
   "id": "4ef01f66",
   "metadata": {
    "execution": {
     "iopub.execute_input": "2024-01-07T15:08:35.535148Z",
     "iopub.status.busy": "2024-01-07T15:08:35.534286Z",
     "iopub.status.idle": "2024-01-07T15:08:35.538901Z",
     "shell.execute_reply": "2024-01-07T15:08:35.538030Z"
    },
    "executionInfo": {
     "elapsed": 549,
     "status": "ok",
     "timestamp": 1623528434608,
     "user": {
      "displayName": "Priyank Mishra",
      "photoUrl": "",
      "userId": "18008032652400229851"
     },
     "user_tz": -330
    },
    "id": "aEnR5hod0s7D",
    "papermill": {
     "duration": 0.049862,
     "end_time": "2024-01-07T15:08:35.540817",
     "exception": false,
     "start_time": "2024-01-07T15:08:35.490955",
     "status": "completed"
    },
    "tags": []
   },
   "outputs": [],
   "source": [
    "best_params = list(results.keys())[12]"
   ]
  },
  {
   "cell_type": "code",
   "execution_count": 20,
   "id": "e2236def",
   "metadata": {
    "execution": {
     "iopub.execute_input": "2024-01-07T15:08:35.626855Z",
     "iopub.status.busy": "2024-01-07T15:08:35.626041Z",
     "iopub.status.idle": "2024-01-07T15:08:35.631175Z",
     "shell.execute_reply": "2024-01-07T15:08:35.630224Z"
    },
    "executionInfo": {
     "elapsed": 562,
     "status": "ok",
     "timestamp": 1623528456090,
     "user": {
      "displayName": "Priyank Mishra",
      "photoUrl": "",
      "userId": "18008032652400229851"
     },
     "user_tz": -330
    },
    "id": "PKXzBMCX1eM7",
    "outputId": "07f4d477-1135-4b2f-cf5d-51de14def1d2",
    "papermill": {
     "duration": 0.050302,
     "end_time": "2024-01-07T15:08:35.633246",
     "exception": false,
     "start_time": "2024-01-07T15:08:35.582944",
     "status": "completed"
    },
    "tags": []
   },
   "outputs": [
    {
     "name": "stdout",
     "output_type": "stream",
     "text": [
      "The Best Paramaters are learning_rate : 0.02 max_depth : 12 subsample : 0.8 colsample_bytree : 0.6 \n"
     ]
    }
   ],
   "source": [
    "print(\"The Best Paramaters are {} \".format(best_params))"
   ]
  }
 ],
 "metadata": {
  "accelerator": "GPU",
  "colab": {
   "collapsed_sections": [],
   "machine_shape": "hm",
   "name": "3.Hyperparameter Tuning.ipynb",
   "provenance": []
  },
  "kaggle": {
   "accelerator": "gpu",
   "dataSources": [
    {
     "databundleVersionId": 568274,
     "sourceId": 14242,
     "sourceType": "competition"
    }
   ],
   "dockerImageVersionId": 30627,
   "isGpuEnabled": true,
   "isInternetEnabled": true,
   "language": "python",
   "sourceType": "notebook"
  },
  "kernelspec": {
   "display_name": "Python 3",
   "language": "python",
   "name": "python3"
  },
  "language_info": {
   "codemirror_mode": {
    "name": "ipython",
    "version": 3
   },
   "file_extension": ".py",
   "mimetype": "text/x-python",
   "name": "python",
   "nbconvert_exporter": "python",
   "pygments_lexer": "ipython3",
   "version": "3.10.12"
  },
  "papermill": {
   "default_parameters": {},
   "duration": 5724.41981,
   "end_time": "2024-01-07T15:08:36.306295",
   "environment_variables": {},
   "exception": null,
   "input_path": "__notebook__.ipynb",
   "output_path": "__notebook__.ipynb",
   "parameters": {},
   "start_time": "2024-01-07T13:33:11.886485",
   "version": "2.4.0"
  }
 },
 "nbformat": 4,
 "nbformat_minor": 5
}
