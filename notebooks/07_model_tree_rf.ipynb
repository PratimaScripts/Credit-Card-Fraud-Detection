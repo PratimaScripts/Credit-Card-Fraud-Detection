{
 "cells": [
  {
   "cell_type": "code",
   "execution_count": 1,
   "metadata": {},
   "outputs": [],
   "source": [
    "import json\n",
    "import os\n",
    "import sys\n",
    "import warnings\n",
    "\n",
    "import numpy as np\n",
    "import pandas as pd\n",
    "from datetime import datetime\n",
    "from pprint import pprint\n",
    "from sklearn.preprocessing import StandardScaler\n",
    "from sklearn.impute import SimpleImputer as Imputer\n",
    "from sklearn.pipeline import Pipeline\n",
    "from sklearn.model_selection import GridSearchCV\n",
    "\n",
    "warnings.filterwarnings('ignore')"
   ]
  },
  {
   "cell_type": "code",
   "execution_count": 2,
   "metadata": {},
   "outputs": [],
   "source": [
    "sys.path.append(os.path.join('..', 'src'))"
   ]
  },
  {
   "cell_type": "code",
   "execution_count": 3,
   "metadata": {},
   "outputs": [],
   "source": [
    "import importlib\n",
    "import model\n",
    "importlib.reload(model)\n",
    "\n",
    "from model import get_model_params, timer, measure_prediction_time, apply_ml_model, save_model_parameters, save_model_metrics"
   ]
  },
  {
   "cell_type": "markdown",
   "metadata": {},
   "source": [
    "# set model parameters and capture data"
   ]
  },
  {
   "cell_type": "code",
   "execution_count": 4,
   "metadata": {},
   "outputs": [
    {
     "name": "stdout",
     "output_type": "stream",
     "text": [
      "(7000, 46)\n",
      "(7000, 150)\n",
      "(7000, 1)\n"
     ]
    }
   ],
   "source": [
    "inputs = os.path.join('..', 'data', '03_processed')\n",
    "models_reports = os.path.join('..', 'data', '04_models')\n",
    "model_outputs = os.path.join('..', 'data', '05_model_output')\n",
    "reports = os.path.join('..', 'data', '06_reporting')\n",
    "\n",
    "X_train            = pd.read_csv(os.path.join(inputs, 'X_train.csv'), index_col='id')\n",
    "X_train_onehot         = pd.read_csv(os.path.join(inputs, 'X_train_onehot.csv'), index_col='id')\n",
    "y_train            = pd.read_csv(os.path.join(inputs, 'y_train.csv'), index_col='id')\n",
    "\n",
    "data_list = [X_train, X_train_onehot, y_train]\n",
    "\n",
    "for df in data_list:\n",
    "    print(df.shape)"
   ]
  },
  {
   "cell_type": "markdown",
   "metadata": {},
   "source": [
    "# Machine Learning"
   ]
  },
  {
   "cell_type": "code",
   "execution_count": 5,
   "metadata": {},
   "outputs": [],
   "source": [
    "from sklearn.ensemble import RandomForestClassifier\n",
    "from sklearn.ensemble import RandomForestRegressor"
   ]
  },
  {
   "cell_type": "code",
   "execution_count": 6,
   "metadata": {},
   "outputs": [],
   "source": [
    "model_type = 'tree_rf'\n",
    "ml_dict = {}"
   ]
  },
  {
   "cell_type": "raw",
   "metadata": {},
   "source": [
    "def get_model_params(classifier):\n",
    "    if target_type == 'regression':\n",
    "        classifier.best_score_ = -classifier.best_score_\n",
    "    return classifier.best_params_, classifier.best_score_"
   ]
  },
  {
   "cell_type": "code",
   "execution_count": 7,
   "metadata": {},
   "outputs": [],
   "source": [
    "columns = X_train.columns.to_list()"
   ]
  },
  {
   "cell_type": "code",
   "execution_count": 8,
   "metadata": {},
   "outputs": [
    {
     "name": "stdout",
     "output_type": "stream",
     "text": [
      "test type: True\n",
      "(7000, 46) (7000, 46)\n"
     ]
    }
   ],
   "source": [
    "scoring = 'f1'\n",
    "\n",
    "# Specify the hyperparameter space\n",
    "parameters = {'model__max_features':[1, 2, \"auto\", \"log2\", None],\n",
    "              'model__n_estimators':[100, 200, 300],\n",
    "              'model__n_estimators':[10], # it allows faster tests on pipeline\n",
    "              'model__random_state':[42]}\n",
    "\n",
    "# ml_model = RandomForestRegressor()\n",
    "ml_model = RandomForestClassifier()\n",
    "do_transform_label = None\n",
    "    \n",
    "# df_x = dfs_dict['X_train']\n",
    "# df_y = dfs_dict['y_train']\n",
    "# key = 'standard'\n",
    "ml_dict[model_type] = {}\n",
    "clf, ml_dict[model_type]['train_time'], ml_dict[model_type]['prediction_time'] = apply_ml_model(\n",
    "    X_train, y_train, columns, ml_model, parameters, scoring, \n",
    "    do_build_polynomals=False, do_transform_label=do_transform_label, \n",
    "    do_treat_skewness=False,\n",
    "    imputation=Imputer(strategy='median'), scaler=None, smote=False,\n",
    "    testing=True)\n",
    "\n",
    "ml_dict[model_type]['best_params'], ml_dict[model_type]['best_score']  = get_model_params(clf, scoring)\n",
    "ml_dict[model_type]['columns'] = columns"
   ]
  },
  {
   "cell_type": "code",
   "execution_count": 9,
   "metadata": {
    "scrolled": true
   },
   "outputs": [
    {
     "name": "stdout",
     "output_type": "stream",
     "text": [
      "RESULTS FOR TREE MODEL\n",
      "{'tree_rf': {'best_params': {'model__max_features': None,\n",
      "                             'model__n_estimators': 10,\n",
      "                             'model__random_state': 42},\n",
      "             'best_score': 0.29783632833450374,\n",
      "             'columns': ['transactiondt',\n",
      "                         'transactionamt',\n",
      "                         'productcd',\n",
      "                         'card1',\n",
      "                         'card2',\n",
      "                         'card3',\n",
      "                         'card4',\n",
      "                         'card5',\n",
      "                         'card6',\n",
      "                         'addr1',\n",
      "                         'addr2',\n",
      "                         'dist1',\n",
      "                         'p_emaildomain',\n",
      "                         'r_emaildomain',\n",
      "                         'c1',\n",
      "                         'c2',\n",
      "                         'c3',\n",
      "                         'c4',\n",
      "                         'c5',\n",
      "                         'c6',\n",
      "                         'c7',\n",
      "                         'c8',\n",
      "                         'c9',\n",
      "                         'c10',\n",
      "                         'c11',\n",
      "                         'c12',\n",
      "                         'c13',\n",
      "                         'c14',\n",
      "                         'd1',\n",
      "                         'd2',\n",
      "                         'd3',\n",
      "                         'd4',\n",
      "                         'd5',\n",
      "                         'd10',\n",
      "                         'd11',\n",
      "                         'd15',\n",
      "                         'm1',\n",
      "                         'm2',\n",
      "                         'm3',\n",
      "                         'm4',\n",
      "                         'm5',\n",
      "                         'm6',\n",
      "                         'm7',\n",
      "                         'm8',\n",
      "                         'm9',\n",
      "                         'if_anomaly'],\n",
      "             'prediction_time': 0.0009012,\n",
      "             'train_time': 16.721983}}\n"
     ]
    }
   ],
   "source": [
    "print('RESULTS FOR TREE MODEL')\n",
    "pprint(ml_dict)"
   ]
  },
  {
   "cell_type": "markdown",
   "metadata": {},
   "source": [
    "# save model parameters and metrics"
   ]
  },
  {
   "cell_type": "code",
   "execution_count": 10,
   "metadata": {},
   "outputs": [],
   "source": [
    "save_model_parameters(models_reports, model_type, clf)\n",
    "save_model_metrics(model_outputs, model_type, ml_dict)"
   ]
  },
  {
   "cell_type": "code",
   "execution_count": null,
   "metadata": {},
   "outputs": [],
   "source": []
  }
 ],
 "metadata": {
  "kernelspec": {
   "display_name": "Python 3",
   "language": "python",
   "name": "python3"
  },
  "language_info": {
   "codemirror_mode": {
    "name": "ipython",
    "version": 3
   },
   "file_extension": ".py",
   "mimetype": "text/x-python",
   "name": "python",
   "nbconvert_exporter": "python",
   "pygments_lexer": "ipython3",
   "version": "3.7.5"
  }
 },
 "nbformat": 4,
 "nbformat_minor": 4
}
