{
 "cells": [
  {
   "cell_type": "markdown",
   "id": "9ae7be68",
   "metadata": {
    "id": "chsuJgJz7j6b",
    "papermill": {
     "duration": 0.011271,
     "end_time": "2024-01-13T11:06:15.490746",
     "exception": false,
     "start_time": "2024-01-13T11:06:15.479475",
     "status": "completed"
    },
    "tags": []
   },
   "source": [
    "\n",
    "### <span style='color:red;'><b>Note :</b></span> Majority of the Feature Engineering in this section is inspired from <a href='https://www.kaggle.com/cdeotte/xgb-fraud-with-magic-0-9600'>this</a> competition winning kernel."
   ]
  },
  {
   "cell_type": "code",
   "execution_count": 1,
   "id": "41cbdf6f",
   "metadata": {
    "execution": {
     "iopub.execute_input": "2024-01-13T11:06:15.512054Z",
     "iopub.status.busy": "2024-01-13T11:06:15.511680Z",
     "iopub.status.idle": "2024-01-13T11:06:17.781107Z",
     "shell.execute_reply": "2024-01-13T11:06:17.780117Z"
    },
    "executionInfo": {
     "elapsed": 2,
     "status": "ok",
     "timestamp": 1623668579235,
     "user": {
      "displayName": "Priyank Mishra",
      "photoUrl": "",
      "userId": "18008032652400229851"
     },
     "user_tz": -330
    },
    "id": "0d9741cd",
    "papermill": {
     "duration": 2.283728,
     "end_time": "2024-01-13T11:06:17.784235",
     "exception": false,
     "start_time": "2024-01-13T11:06:15.500507",
     "status": "completed"
    },
    "tags": []
   },
   "outputs": [],
   "source": [
    "import regex as re\n",
    "import gc\n",
    "import datetime\n",
    "import numpy as np\n",
    "import pandas as pd\n",
    "import pickle\n",
    "import seaborn as sns\n",
    "import matplotlib\n",
    "%matplotlib inline\n",
    "import matplotlib.pyplot as plt\n",
    "import xgboost as xgb\n",
    "from xgboost import XGBClassifier\n",
    "from sklearn.metrics import roc_auc_score\n",
    "from sklearn.preprocessing import LabelEncoder\n",
    "from sklearn.model_selection import GroupKFold\n",
    "import warnings\n",
    "warnings.filterwarnings(\"ignore\")"
   ]
  },
  {
   "cell_type": "code",
   "execution_count": 2,
   "id": "209a71e5",
   "metadata": {
    "execution": {
     "iopub.execute_input": "2024-01-13T11:06:17.804889Z",
     "iopub.status.busy": "2024-01-13T11:06:17.804390Z",
     "iopub.status.idle": "2024-01-13T11:06:41.635645Z",
     "shell.execute_reply": "2024-01-13T11:06:41.634633Z"
    },
    "executionInfo": {
     "elapsed": 8665,
     "status": "ok",
     "timestamp": 1623668588728,
     "user": {
      "displayName": "Priyank Mishra",
      "photoUrl": "",
      "userId": "18008032652400229851"
     },
     "user_tz": -330
    },
    "id": "JCYsutppzb2T",
    "papermill": {
     "duration": 23.845039,
     "end_time": "2024-01-13T11:06:41.638607",
     "exception": false,
     "start_time": "2024-01-13T11:06:17.793568",
     "status": "completed"
    },
    "tags": []
   },
   "outputs": [],
   "source": [
    "# Loading the feature engineered train and test dataset\n",
    "\n",
    "train_data = pd.read_pickle('../input/ieee-cis-fraud-detection-basic-fe/basic_fe_train.pkl')\n",
    "test_data = pd.read_pickle('../input/ieee-cis-fraud-detection-basic-fe/basic_fe_test.pkl')"
   ]
  },
  {
   "cell_type": "code",
   "execution_count": 3,
   "id": "e3b68b4b",
   "metadata": {
    "execution": {
     "iopub.execute_input": "2024-01-13T11:06:41.658599Z",
     "iopub.status.busy": "2024-01-13T11:06:41.658223Z",
     "iopub.status.idle": "2024-01-13T11:06:41.663842Z",
     "shell.execute_reply": "2024-01-13T11:06:41.663142Z"
    },
    "executionInfo": {
     "elapsed": 9,
     "status": "ok",
     "timestamp": 1623668588729,
     "user": {
      "displayName": "Priyank Mishra",
      "photoUrl": "",
      "userId": "18008032652400229851"
     },
     "user_tz": -330
    },
    "id": "MweOS8sRzhow",
    "outputId": "d48565e3-8e33-4ea8-dfb8-b379e3b4246d",
    "papermill": {
     "duration": 0.018484,
     "end_time": "2024-01-13T11:06:41.666386",
     "exception": false,
     "start_time": "2024-01-13T11:06:41.647902",
     "status": "completed"
    },
    "tags": []
   },
   "outputs": [
    {
     "name": "stdout",
     "output_type": "stream",
     "text": [
      "***********************************\n",
      "\n",
      " Train Data Shape : (590538, 208) \n",
      "\n",
      "\n",
      " Test Data Shape : (506691, 207) \n",
      "\n",
      "***********************************\n"
     ]
    }
   ],
   "source": [
    "print(\"*\"*35)\n",
    "print(\"\\n Train Data Shape : {} \\n\".format(train_data.shape))\n",
    "print(\"\\n Test Data Shape : {} \\n\".format(test_data.shape))\n",
    "print(\"*\"*35)"
   ]
  },
  {
   "cell_type": "markdown",
   "id": "ee0fad1d",
   "metadata": {
    "id": "g3HAMJ9h6l66",
    "papermill": {
     "duration": 0.008872,
     "end_time": "2024-01-13T11:06:41.684490",
     "exception": false,
     "start_time": "2024-01-13T11:06:41.675618",
     "status": "completed"
    },
    "tags": []
   },
   "source": [
    "## Utility Functions\n",
    "<br>"
   ]
  },
  {
   "cell_type": "code",
   "execution_count": 4,
   "id": "c42bd522",
   "metadata": {
    "execution": {
     "iopub.execute_input": "2024-01-13T11:06:41.704637Z",
     "iopub.status.busy": "2024-01-13T11:06:41.704232Z",
     "iopub.status.idle": "2024-01-13T11:06:41.714492Z",
     "shell.execute_reply": "2024-01-13T11:06:41.713718Z"
    },
    "executionInfo": {
     "elapsed": 6,
     "status": "ok",
     "timestamp": 1623668588729,
     "user": {
      "displayName": "Priyank Mishra",
      "photoUrl": "",
      "userId": "18008032652400229851"
     },
     "user_tz": -330
    },
    "id": "1kot2rZmws2c",
    "papermill": {
     "duration": 0.022986,
     "end_time": "2024-01-13T11:06:41.716609",
     "exception": false,
     "start_time": "2024-01-13T11:06:41.693623",
     "status": "completed"
    },
    "tags": []
   },
   "outputs": [],
   "source": [
    "def cat_num_features(df):\n",
    "    \n",
    "    '''\n",
    "        Utility Function to get the names of Categorical Features and \n",
    "        Numerical Features of the given Dataset.\n",
    "    '''\n",
    "    \n",
    "    catf = []\n",
    "    numf = []\n",
    "    \n",
    "    catf = [\n",
    "            'ProductCD', 'card1', 'card2', 'card3', 'card4', 'card5', \n",
    "            'card6', 'addr1', 'addr2', 'P_emaildomain', 'R_emaildomain', 'M1', 'M2', \n",
    "            'M3', 'M4', 'M5', 'M6', 'M7', 'M8', 'M9', 'DeviceType', 'DeviceInfo',\n",
    "            'TransactionWD', 'card1_div_1000', 'card2_div_10', 'P_parent_domain', \n",
    "            'P_domain_name', 'P_top_level_domain', 'R_parent_domain', 'R_domain_name', \n",
    "            'R_top_level_domain', 'device_name', 'device_version', 'os_name', 'os_version', \n",
    "            'screen_width', 'screen_height', 'card_intr1', 'card_intr2', 'card1_addr1', \n",
    "            'card1_addr2', 'card2_addr1', 'card2_addr2', 'card3_addr1', 'card3_addr2', \n",
    "            'card5_addr1', 'card5_addr2', 'card6_addr1', 'card6_addr2', 'ProductCD_addr1', \n",
    "            'ProductCD_addr2', 'card1_ProductCD', 'card2_ProductCD', 'card5_ProductCD', \n",
    "            'card6_ProductCD', 'addr1_P_emaildomain', 'card1_P_emaildoman', 'card1_addr1_P_emaildomain',\n",
    "            'uid1', 'uid2'\n",
    "            ]\n",
    "\n",
    "    catf+=['id_'+str(i) for i in range(12,39)]\n",
    "\n",
    "\n",
    "    # Updating the Categorical Feature Names List based on the columns present in the dataframe\n",
    "    catf = [feature for feature in catf if feature in df.columns]\n",
    "    numf = [feature for feature in df.columns if feature not in catf and not feature == 'isFraud']\n",
    "    \n",
    "    return (catf, numf)  "
   ]
  },
  {
   "cell_type": "code",
   "execution_count": 5,
   "id": "73be8902",
   "metadata": {
    "execution": {
     "iopub.execute_input": "2024-01-13T11:06:41.737678Z",
     "iopub.status.busy": "2024-01-13T11:06:41.736628Z",
     "iopub.status.idle": "2024-01-13T11:06:41.744855Z",
     "shell.execute_reply": "2024-01-13T11:06:41.743825Z"
    },
    "executionInfo": {
     "elapsed": 6,
     "status": "ok",
     "timestamp": 1623668588730,
     "user": {
      "displayName": "Priyank Mishra",
      "photoUrl": "",
      "userId": "18008032652400229851"
     },
     "user_tz": -330
    },
    "id": "BvRWrOwoSsZY",
    "papermill": {
     "duration": 0.021214,
     "end_time": "2024-01-13T11:06:41.747214",
     "exception": false,
     "start_time": "2024-01-13T11:06:41.726000",
     "status": "completed"
    },
    "tags": []
   },
   "outputs": [],
   "source": [
    "def label_encode(X_train, X_test, catf):\n",
    "  \n",
    "  '''\n",
    "    Utility Function to Encode Categorical Features.\n",
    "  '''\n",
    "\n",
    "  for f in catf:\n",
    "    \n",
    "    X_train[f] = X_train[f].astype(str)\n",
    "    X_test[f] = X_test[f].astype(str)\n",
    "    \n",
    "    le = LabelEncoder()\n",
    "    le.fit(X_train[f])\n",
    "    mapping = dict(zip(le.classes_, le.transform(le.classes_)))\n",
    "    X_train[f] = le.transform(X_train[f])\n",
    "    \n",
    "    # Manually Encoding the test and Test Dataset so as to avoid error for any category which is not present in train set\n",
    "    \n",
    "    # All the categories which are not present in train datset are encoded as -1    \n",
    "    X_test[f] = [-1 if mapping.get(v, -1)==-1 else mapping[v] for v in X_test[f].values ]\n",
    "\n",
    "  return (X_train, X_test)"
   ]
  },
  {
   "cell_type": "markdown",
   "id": "9fca51bf",
   "metadata": {
    "id": "132477c4",
    "papermill": {
     "duration": 0.008804,
     "end_time": "2024-01-13T11:06:41.765226",
     "exception": false,
     "start_time": "2024-01-13T11:06:41.756422",
     "status": "completed"
    },
    "tags": []
   },
   "source": [
    "### Encoding Functions\n",
    "<br>"
   ]
  },
  {
   "cell_type": "code",
   "execution_count": 6,
   "id": "1b807596",
   "metadata": {
    "execution": {
     "iopub.execute_input": "2024-01-13T11:06:41.784834Z",
     "iopub.status.busy": "2024-01-13T11:06:41.784435Z",
     "iopub.status.idle": "2024-01-13T11:06:41.799692Z",
     "shell.execute_reply": "2024-01-13T11:06:41.798605Z"
    },
    "executionInfo": {
     "elapsed": 5,
     "status": "ok",
     "timestamp": 1623668588730,
     "user": {
      "displayName": "Priyank Mishra",
      "photoUrl": "",
      "userId": "18008032652400229851"
     },
     "user_tz": -330
    },
    "id": "a62fa566",
    "papermill": {
     "duration": 0.027647,
     "end_time": "2024-01-13T11:06:41.801930",
     "exception": false,
     "start_time": "2024-01-13T11:06:41.774283",
     "status": "completed"
    },
    "tags": []
   },
   "outputs": [],
   "source": [
    "def frequency_encode(train_df, test_df, features):\n",
    "\n",
    "  '''\n",
    "    Utility Function to perform frequency encoding for a feature.\n",
    "  '''\n",
    "\n",
    "  for f in features:\n",
    "      \n",
    "      value_count_dict = train_df[f].value_counts(dropna=True, normalize=True).to_dict()\n",
    "      name = f+'_FE'  \n",
    "      train_df[name] = train_df[f].map(value_count_dict) \n",
    "      \n",
    "      # Manually Encoding the feature in test dataset so as to avoid error for a feature value which is not in train set\n",
    "      \n",
    "      # Assigning -1 to all the values of the test feature which are not in train set\n",
    "      test_df[name] = [value_count_dict.get(val, -1) for val in test_df[f].values]\n",
    "\n",
    "      print(name)\n",
    "      \n",
    "\n",
    "\n",
    "\n",
    "# https://www.kaggle.com/kyakovlev/ieee-fe-with-some-eda\n",
    "\n",
    "def feature_aggregation1(features, uids, train_df, test_df, aggregations=['mean']):\n",
    "    \n",
    "    '''\n",
    "      Utility Function to perform aggregation of a given feature with uid for given statistic.\n",
    "    '''\n",
    "\n",
    "    for f in features:  \n",
    "        for uid in uids:\n",
    "            for agg_type in aggregations:\n",
    "                \n",
    "                name = f+'_'+uid+'_'+agg_type\n",
    "\n",
    "                temp_df = train_df.groupby([uid])[f].agg([agg_type]).reset_index().rename(columns={agg_type: name})\n",
    "\n",
    "                temp_df.index = list(temp_df[uid])\n",
    "                temp_df = temp_df[name].to_dict()   \n",
    "\n",
    "                train_df[name] = train_df[uid].map(temp_df)\n",
    "\n",
    "                # Manually Encoding the feature in test dataset so as to avoid error for a feature value which is not in train set\n",
    "        \n",
    "                # Assigning -1 to all the values of the test feature which are not in train set\n",
    "                test_df[name] = [temp_df.get(uid, -1) for uid in test_df[uid].values]\n",
    "\n",
    "                print(name)\n",
    "\n",
    "        \n",
    "\n",
    "\n",
    "def feature_aggregation2(features, uids, train_df, test_df):\n",
    "  '''\n",
    "    Utility Function to perform Aggregation based on the number of unique values present in a feature.\n",
    "  '''\n",
    "\n",
    "  for f in features:  \n",
    "      for uid in uids:\n",
    "\n",
    "          temp_df = train_df[[uid]+[f]]\n",
    "          \n",
    "          mp = temp_df.groupby(uid)[f].agg(['nunique'])['nunique'].to_dict()\n",
    "          \n",
    "          name = uid+'_'+f+'_ct'\n",
    "\n",
    "          train_df[name] = train_df[uid].map(mp)\n",
    "\n",
    "          # Manually Encoding the feature in test dataset so as to avoid error for a feature value which is not in train set\n",
    "      \n",
    "          # Assigning -1 to all the values of the test feature which are not in train set\n",
    "          test_df[name] = [mp.get(uid, -1) for uid in test_df[uid].values]\n",
    "\n",
    "          print(name)"
   ]
  },
  {
   "cell_type": "markdown",
   "id": "61e5e124",
   "metadata": {
    "id": "lWPaUlzh8YGr",
    "papermill": {
     "duration": 0.009113,
     "end_time": "2024-01-13T11:06:41.820640",
     "exception": false,
     "start_time": "2024-01-13T11:06:41.811527",
     "status": "completed"
    },
    "tags": []
   },
   "source": [
    "## Data Preparation\n",
    "<br>"
   ]
  },
  {
   "cell_type": "code",
   "execution_count": 7,
   "id": "f514ab8b",
   "metadata": {
    "execution": {
     "iopub.execute_input": "2024-01-13T11:06:41.840802Z",
     "iopub.status.busy": "2024-01-13T11:06:41.840381Z",
     "iopub.status.idle": "2024-01-13T11:06:42.997957Z",
     "shell.execute_reply": "2024-01-13T11:06:42.996767Z"
    },
    "executionInfo": {
     "elapsed": 834,
     "status": "ok",
     "timestamp": 1623668589559,
     "user": {
      "displayName": "Priyank Mishra",
      "photoUrl": "",
      "userId": "18008032652400229851"
     },
     "user_tz": -330
    },
    "id": "b27733b6",
    "papermill": {
     "duration": 1.170966,
     "end_time": "2024-01-13T11:06:43.000780",
     "exception": false,
     "start_time": "2024-01-13T11:06:41.829814",
     "status": "completed"
    },
    "tags": []
   },
   "outputs": [],
   "source": [
    "X_train = train_data.drop(['isFraud'], axis=1)\n",
    "y_train = train_data['isFraud']\n",
    "\n",
    "X_test = test_data\n",
    "\n",
    "del train_data, test_data"
   ]
  },
  {
   "cell_type": "code",
   "execution_count": 8,
   "id": "cd4a1d2c",
   "metadata": {
    "execution": {
     "iopub.execute_input": "2024-01-13T11:06:43.022508Z",
     "iopub.status.busy": "2024-01-13T11:06:43.021840Z",
     "iopub.status.idle": "2024-01-13T11:06:43.026375Z",
     "shell.execute_reply": "2024-01-13T11:06:43.025617Z"
    },
    "executionInfo": {
     "elapsed": 3,
     "status": "ok",
     "timestamp": 1623668589560,
     "user": {
      "displayName": "Priyank Mishra",
      "photoUrl": "",
      "userId": "18008032652400229851"
     },
     "user_tz": -330
    },
    "id": "W7znSr1bwsz5",
    "papermill": {
     "duration": 0.018056,
     "end_time": "2024-01-13T11:06:43.028398",
     "exception": false,
     "start_time": "2024-01-13T11:06:43.010342",
     "status": "completed"
    },
    "tags": []
   },
   "outputs": [],
   "source": [
    "# Storing Categorical and Numerical Feature Names \n",
    "\n",
    "catf, numf = cat_num_features(X_train)"
   ]
  },
  {
   "cell_type": "code",
   "execution_count": 9,
   "id": "23975825",
   "metadata": {
    "execution": {
     "iopub.execute_input": "2024-01-13T11:06:43.049275Z",
     "iopub.status.busy": "2024-01-13T11:06:43.048291Z",
     "iopub.status.idle": "2024-01-13T11:10:39.449186Z",
     "shell.execute_reply": "2024-01-13T11:10:39.447669Z"
    },
    "executionInfo": {
     "elapsed": 76108,
     "status": "ok",
     "timestamp": 1623668665666,
     "user": {
      "displayName": "Priyank Mishra",
      "photoUrl": "",
      "userId": "18008032652400229851"
     },
     "user_tz": -330
    },
    "id": "yINKR0_ZwoIv",
    "papermill": {
     "duration": 236.41479,
     "end_time": "2024-01-13T11:10:39.452530",
     "exception": false,
     "start_time": "2024-01-13T11:06:43.037740",
     "status": "completed"
    },
    "tags": []
   },
   "outputs": [],
   "source": [
    "# Encoding the Categorical Features\n",
    "\n",
    "X_train[catf] = X_train[catf].fillna('missing')\n",
    "X_test[catf] = X_test[catf].fillna('missing')\n",
    "\n",
    "X_train, X_test = label_encode(X_train, X_test, catf)"
   ]
  },
  {
   "cell_type": "markdown",
   "id": "e3209cfa",
   "metadata": {
    "id": "905365ac",
    "papermill": {
     "duration": 0.009156,
     "end_time": "2024-01-13T11:10:39.471224",
     "exception": false,
     "start_time": "2024-01-13T11:10:39.462068",
     "status": "completed"
    },
    "tags": []
   },
   "source": [
    "## Feature Engineering\n",
    "<br>"
   ]
  },
  {
   "cell_type": "code",
   "execution_count": 10,
   "id": "62cb1884",
   "metadata": {
    "execution": {
     "iopub.execute_input": "2024-01-13T11:10:39.491962Z",
     "iopub.status.busy": "2024-01-13T11:10:39.491004Z",
     "iopub.status.idle": "2024-01-13T11:10:49.378189Z",
     "shell.execute_reply": "2024-01-13T11:10:49.376857Z"
    },
    "executionInfo": {
     "elapsed": 9562,
     "status": "ok",
     "timestamp": 1623668675202,
     "user": {
      "displayName": "Priyank Mishra",
      "photoUrl": "",
      "userId": "18008032652400229851"
     },
     "user_tz": -330
    },
    "id": "VwYY_OItxfyW",
    "outputId": "503d4efb-7bf7-4f6c-aa4d-647b1345c7bb",
    "papermill": {
     "duration": 9.900705,
     "end_time": "2024-01-13T11:10:49.380987",
     "exception": false,
     "start_time": "2024-01-13T11:10:39.480282",
     "status": "completed"
    },
    "tags": []
   },
   "outputs": [
    {
     "name": "stdout",
     "output_type": "stream",
     "text": [
      "addr1_FE\n",
      "card1_FE\n",
      "card2_FE\n",
      "card3_FE\n",
      "P_emaildomain_FE\n",
      "card1_addr1_FE\n",
      "card1_addr1_P_emaildomain_FE\n",
      "TransactionAmt_card1_mean\n",
      "TransactionAmt_card1_std\n",
      "TransactionAmt_card1_addr1_mean\n",
      "TransactionAmt_card1_addr1_std\n",
      "TransactionAmt_card1_addr1_P_emaildomain_mean\n",
      "TransactionAmt_card1_addr1_P_emaildomain_std\n",
      "D9_card1_mean\n",
      "D9_card1_std\n",
      "D9_card1_addr1_mean\n",
      "D9_card1_addr1_std\n",
      "D9_card1_addr1_P_emaildomain_mean\n",
      "D9_card1_addr1_P_emaildomain_std\n",
      "D11_card1_mean\n",
      "D11_card1_std\n",
      "D11_card1_addr1_mean\n",
      "D11_card1_addr1_std\n",
      "D11_card1_addr1_P_emaildomain_mean\n",
      "D11_card1_addr1_P_emaildomain_std\n"
     ]
    }
   ],
   "source": [
    "# Frequency Encoding\n",
    "\n",
    "frequency_encode(X_train,X_test,['addr1','card1','card2','card3','P_emaildomain'])\n",
    "frequency_encode(X_train,X_test,['card1_addr1','card1_addr1_P_emaildomain'])\n",
    "\n",
    "\n",
    "# Feature Aggregation\n",
    "\n",
    "feature_aggregation1(['TransactionAmt','D9','D11'],['card1','card1_addr1','card1_addr1_P_emaildomain'],X_train, X_test, ['mean','std'])"
   ]
  },
  {
   "cell_type": "code",
   "execution_count": 11,
   "id": "1810bf24",
   "metadata": {
    "execution": {
     "iopub.execute_input": "2024-01-13T11:10:49.406593Z",
     "iopub.status.busy": "2024-01-13T11:10:49.406095Z",
     "iopub.status.idle": "2024-01-13T11:10:52.961683Z",
     "shell.execute_reply": "2024-01-13T11:10:52.960728Z"
    },
    "executionInfo": {
     "elapsed": 2198,
     "status": "ok",
     "timestamp": 1623668677385,
     "user": {
      "displayName": "Priyank Mishra",
      "photoUrl": "",
      "userId": "18008032652400229851"
     },
     "user_tz": -330
    },
    "id": "MWCNioFz8tIp",
    "papermill": {
     "duration": 3.571458,
     "end_time": "2024-01-13T11:10:52.964292",
     "exception": false,
     "start_time": "2024-01-13T11:10:49.392834",
     "status": "completed"
    },
    "tags": []
   },
   "outputs": [],
   "source": [
    "# Adding Month Feature, this will also be used while making final predictions\n",
    "\n",
    "START_DATE = datetime.datetime.strptime('2017-11-30', '%Y-%m-%d')\n",
    "X_train['DT_M'] = X_train['TransactionDT'].apply(lambda x: (START_DATE + datetime.timedelta(seconds = x)))\n",
    "X_train['DT_M'] = (X_train['DT_M'].dt.year-2017)*12 + X_train['DT_M'].dt.month \n",
    "\n",
    "X_test['DT_M'] = X_test['TransactionDT'].apply(lambda x: (START_DATE + datetime.timedelta(seconds = x)))\n",
    "X_test['DT_M'] = (X_test['DT_M'].dt.year-2017)*12 + X_test['DT_M'].dt.month "
   ]
  },
  {
   "cell_type": "code",
   "execution_count": 12,
   "id": "154f6cbd",
   "metadata": {
    "execution": {
     "iopub.execute_input": "2024-01-13T11:10:52.989032Z",
     "iopub.status.busy": "2024-01-13T11:10:52.988682Z",
     "iopub.status.idle": "2024-01-13T11:11:37.153748Z",
     "shell.execute_reply": "2024-01-13T11:11:37.152506Z"
    },
    "executionInfo": {
     "elapsed": 48162,
     "status": "ok",
     "timestamp": 1623668725540,
     "user": {
      "displayName": "Priyank Mishra",
      "photoUrl": "",
      "userId": "18008032652400229851"
     },
     "user_tz": -330
    },
    "id": "TSICYFhHQ2d0",
    "outputId": "73f51a30-d68c-4b59-a92c-bb4537ce4229",
    "papermill": {
     "duration": 44.180372,
     "end_time": "2024-01-13T11:11:37.156282",
     "exception": false,
     "start_time": "2024-01-13T11:10:52.975910",
     "status": "completed"
    },
    "tags": []
   },
   "outputs": [
    {
     "name": "stdout",
     "output_type": "stream",
     "text": [
      "uid1_FE\n",
      "uid2_FE\n",
      "TransactionAmt_uid1_mean\n",
      "TransactionAmt_uid1_std\n",
      "TransactionAmt_uid2_mean\n",
      "TransactionAmt_uid2_std\n",
      "D4_uid1_mean\n",
      "D4_uid1_std\n",
      "D4_uid2_mean\n",
      "D4_uid2_std\n",
      "D9_uid1_mean\n",
      "D9_uid1_std\n",
      "D9_uid2_mean\n",
      "D9_uid2_std\n",
      "D10_uid1_mean\n",
      "D10_uid1_std\n",
      "D10_uid2_mean\n",
      "D10_uid2_std\n",
      "D15_uid1_mean\n",
      "D15_uid1_std\n",
      "D15_uid2_mean\n",
      "D15_uid2_std\n",
      "C1_uid1_mean\n",
      "C1_uid2_mean\n",
      "C2_uid1_mean\n",
      "C2_uid2_mean\n",
      "C4_uid1_mean\n",
      "C4_uid2_mean\n",
      "C5_uid1_mean\n",
      "C5_uid2_mean\n",
      "C6_uid1_mean\n",
      "C6_uid2_mean\n",
      "C7_uid1_mean\n",
      "C7_uid2_mean\n",
      "C8_uid1_mean\n",
      "C8_uid2_mean\n",
      "C9_uid1_mean\n",
      "C9_uid2_mean\n",
      "C13_uid1_mean\n",
      "C13_uid2_mean\n",
      "C14_uid1_mean\n",
      "C14_uid2_mean\n",
      "M1_uid1_mean\n",
      "M1_uid2_mean\n",
      "M2_uid1_mean\n",
      "M2_uid2_mean\n",
      "M3_uid1_mean\n",
      "M3_uid2_mean\n",
      "M4_uid1_mean\n",
      "M4_uid2_mean\n",
      "M5_uid1_mean\n",
      "M5_uid2_mean\n",
      "M6_uid1_mean\n",
      "M6_uid2_mean\n",
      "M7_uid1_mean\n",
      "M7_uid2_mean\n",
      "M8_uid1_mean\n",
      "M8_uid2_mean\n",
      "M9_uid1_mean\n",
      "M9_uid2_mean\n",
      "C14_uid1_std\n",
      "C14_uid2_std\n",
      "uid1_P_emaildomain_ct\n",
      "uid2_P_emaildomain_ct\n",
      "uid1_dist1_ct\n",
      "uid2_dist1_ct\n",
      "uid1_DT_M_ct\n",
      "uid2_DT_M_ct\n",
      "uid1_id_02_ct\n",
      "uid2_id_02_ct\n",
      "uid1_cents_ct\n",
      "uid2_cents_ct\n",
      "uid1_V127_ct\n",
      "uid2_V127_ct\n",
      "uid1_V307_ct\n",
      "uid2_V307_ct\n"
     ]
    }
   ],
   "source": [
    "# FREQUENCY ENCODE UID\n",
    "\n",
    "frequency_encode(X_train,X_test,['uid1', 'uid2'])\n",
    "\n",
    "\n",
    "# AGGREGATE UID\n",
    "\n",
    "feature_aggregation1(['TransactionAmt','D4','D9','D10','D15'],['uid1', 'uid2'],X_train, X_test,['mean','std'])\n",
    "feature_aggregation1(['C'+str(i) for i in range(1,15) if 'C'+str(i) in X_train.columns],['uid1', 'uid2'],X_train,X_test,['mean'])\n",
    "feature_aggregation1(['M'+str(i) for i in range(1,10) if 'M'+str(i) in X_train.columns],['uid1', 'uid2'], X_train, X_test,['mean'])\n",
    "feature_aggregation1(['C14'],['uid1', 'uid2'],X_train,X_test,['std'])\n",
    "\n",
    "\n",
    "feature_aggregation2(['P_emaildomain','dist1','DT_M','id_02','cents'], ['uid1', 'uid2'],X_train,X_test)\n",
    "feature_aggregation2(['V127','V307'],['uid1', 'uid2'],X_train,X_test)"
   ]
  },
  {
   "cell_type": "code",
   "execution_count": 13,
   "id": "7dfb96cd",
   "metadata": {
    "execution": {
     "iopub.execute_input": "2024-01-13T11:11:37.195095Z",
     "iopub.status.busy": "2024-01-13T11:11:37.194718Z",
     "iopub.status.idle": "2024-01-13T11:11:37.212208Z",
     "shell.execute_reply": "2024-01-13T11:11:37.210773Z"
    },
    "executionInfo": {
     "elapsed": 14,
     "status": "ok",
     "timestamp": 1623668725541,
     "user": {
      "displayName": "Priyank Mishra",
      "photoUrl": "",
      "userId": "18008032652400229851"
     },
     "user_tz": -330
    },
    "id": "PINEY_qQQC0X",
    "outputId": "e95e1924-df25-45f2-9b64-c611a7b8f88b",
    "papermill": {
     "duration": 0.039787,
     "end_time": "2024-01-13T11:11:37.214687",
     "exception": false,
     "start_time": "2024-01-13T11:11:37.174900",
     "status": "completed"
    },
    "tags": []
   },
   "outputs": [
    {
     "name": "stdout",
     "output_type": "stream",
     "text": [
      "0         1\n",
      "1         0\n",
      "2         1\n",
      "3         0\n",
      "4         0\n",
      "         ..\n",
      "590535    1\n",
      "590536    0\n",
      "590537    0\n",
      "590538    0\n",
      "590539    0\n",
      "Name: outsider15, Length: 590538, dtype: int8\n",
      "0         1\n",
      "1         1\n",
      "2         1\n",
      "3         1\n",
      "4         0\n",
      "         ..\n",
      "506686    0\n",
      "506687    0\n",
      "506688    0\n",
      "506689    0\n",
      "506690    0\n",
      "Name: outsider15, Length: 506691, dtype: int8\n"
     ]
    }
   ],
   "source": [
    "# New Feature \n",
    "\n",
    "X_train['outsider15'] = (np.abs(X_train.D1-X_train.D15)>3).astype('int8')\n",
    "X_test['outsider15'] = (np.abs(X_test.D1-X_test.D15)>3).astype('int8')\n",
    "print(X_train['outsider15'])\n",
    "print(X_test['outsider15'])"
   ]
  },
  {
   "cell_type": "code",
   "execution_count": 14,
   "id": "e635a5a0",
   "metadata": {
    "execution": {
     "iopub.execute_input": "2024-01-13T11:11:37.253887Z",
     "iopub.status.busy": "2024-01-13T11:11:37.253505Z",
     "iopub.status.idle": "2024-01-13T11:11:38.653796Z",
     "shell.execute_reply": "2024-01-13T11:11:38.652833Z"
    },
    "executionInfo": {
     "elapsed": 1805,
     "status": "ok",
     "timestamp": 1623668727341,
     "user": {
      "displayName": "Priyank Mishra",
      "photoUrl": "",
      "userId": "18008032652400229851"
     },
     "user_tz": -330
    },
    "id": "1bm8K322Gy8k",
    "papermill": {
     "duration": 1.423196,
     "end_time": "2024-01-13T11:11:38.656478",
     "exception": false,
     "start_time": "2024-01-13T11:11:37.233282",
     "status": "completed"
    },
    "tags": []
   },
   "outputs": [],
   "source": [
    "X_train.drop(['uid1', 'uid2'], axis=1, inplace=True)\n",
    "X_test.drop(['uid1', 'uid2'], axis=1, inplace=True)"
   ]
  },
  {
   "cell_type": "code",
   "execution_count": 15,
   "id": "85e8e24e",
   "metadata": {
    "execution": {
     "iopub.execute_input": "2024-01-13T11:11:38.695948Z",
     "iopub.status.busy": "2024-01-13T11:11:38.695592Z",
     "iopub.status.idle": "2024-01-13T11:11:38.701280Z",
     "shell.execute_reply": "2024-01-13T11:11:38.700251Z"
    },
    "executionInfo": {
     "elapsed": 22,
     "status": "ok",
     "timestamp": 1623668727351,
     "user": {
      "displayName": "Priyank Mishra",
      "photoUrl": "",
      "userId": "18008032652400229851"
     },
     "user_tz": -330
    },
    "id": "tyUblVkz1cRI",
    "outputId": "5e04eb31-84ea-4609-82d4-482eab0c55e1",
    "papermill": {
     "duration": 0.02881,
     "end_time": "2024-01-13T11:11:38.704067",
     "exception": false,
     "start_time": "2024-01-13T11:11:38.675257",
     "status": "completed"
    },
    "tags": []
   },
   "outputs": [
    {
     "name": "stdout",
     "output_type": "stream",
     "text": [
      "***********************************\n",
      "\n",
      " Train Data Shape : (590538, 308) \n",
      "\n",
      "\n",
      " Test Data Shape : (506691, 308) \n",
      "\n",
      "***********************************\n"
     ]
    }
   ],
   "source": [
    "print(\"*\"*35)\n",
    "print(\"\\n Train Data Shape : {} \\n\".format(X_train.shape))\n",
    "print(\"\\n Test Data Shape : {} \\n\".format(X_test.shape))\n",
    "print(\"*\"*35)"
   ]
  },
  {
   "cell_type": "code",
   "execution_count": 16,
   "id": "ae191651",
   "metadata": {
    "execution": {
     "iopub.execute_input": "2024-01-13T11:11:38.805350Z",
     "iopub.status.busy": "2024-01-13T11:11:38.804943Z",
     "iopub.status.idle": "2024-01-13T11:11:38.811517Z",
     "shell.execute_reply": "2024-01-13T11:11:38.810575Z"
    },
    "executionInfo": {
     "elapsed": 19,
     "status": "ok",
     "timestamp": 1623668727354,
     "user": {
      "displayName": "Priyank Mishra",
      "photoUrl": "",
      "userId": "18008032652400229851"
     },
     "user_tz": -330
    },
    "id": "ypGSfidtQLju",
    "papermill": {
     "duration": 0.029047,
     "end_time": "2024-01-13T11:11:38.813870",
     "exception": false,
     "start_time": "2024-01-13T11:11:38.784823",
     "status": "completed"
    },
    "tags": []
   },
   "outputs": [],
   "source": [
    "X_train['isFraud'] = y_train"
   ]
  },
  {
   "cell_type": "code",
   "execution_count": 17,
   "id": "e372a6b4",
   "metadata": {
    "execution": {
     "iopub.execute_input": "2024-01-13T11:11:38.853341Z",
     "iopub.status.busy": "2024-01-13T11:11:38.852951Z",
     "iopub.status.idle": "2024-01-13T11:11:41.183064Z",
     "shell.execute_reply": "2024-01-13T11:11:41.182123Z"
    },
    "executionInfo": {
     "elapsed": 16396,
     "status": "ok",
     "timestamp": 1623668743732,
     "user": {
      "displayName": "Priyank Mishra",
      "photoUrl": "",
      "userId": "18008032652400229851"
     },
     "user_tz": -330
    },
    "id": "dd7706d0",
    "papermill": {
     "duration": 2.35373,
     "end_time": "2024-01-13T11:11:41.186499",
     "exception": false,
     "start_time": "2024-01-13T11:11:38.832769",
     "status": "completed"
    },
    "tags": []
   },
   "outputs": [],
   "source": [
    "# Saving the Feature Engineered Datasets\n",
    "\n",
    "X_train.to_pickle('advanced_fe_train.pkl')\n",
    "X_test.to_pickle('advanced_fe_test.pkl')"
   ]
  }
 ],
 "metadata": {
  "accelerator": "GPU",
  "colab": {
   "collapsed_sections": [],
   "machine_shape": "hm",
   "name": "7.Advanced Feature Engineering.ipynb",
   "provenance": []
  },
  "kaggle": {
   "accelerator": "none",
   "dataSources": [
    {
     "datasetId": 4298967,
     "sourceId": 7394442,
     "sourceType": "datasetVersion"
    }
   ],
   "dockerImageVersionId": 30635,
   "isGpuEnabled": false,
   "isInternetEnabled": true,
   "language": "python",
   "sourceType": "notebook"
  },
  "kernelspec": {
   "display_name": "Python 3",
   "language": "python",
   "name": "python3"
  },
  "language_info": {
   "codemirror_mode": {
    "name": "ipython",
    "version": 3
   },
   "file_extension": ".py",
   "mimetype": "text/x-python",
   "name": "python",
   "nbconvert_exporter": "python",
   "pygments_lexer": "ipython3",
   "version": "3.10.12"
  },
  "papermill": {
   "default_parameters": {},
   "duration": 329.830862,
   "end_time": "2024-01-13T11:11:41.928208",
   "environment_variables": {},
   "exception": null,
   "input_path": "__notebook__.ipynb",
   "output_path": "__notebook__.ipynb",
   "parameters": {},
   "start_time": "2024-01-13T11:06:12.097346",
   "version": "2.4.0"
  }
 },
 "nbformat": 4,
 "nbformat_minor": 5
}
