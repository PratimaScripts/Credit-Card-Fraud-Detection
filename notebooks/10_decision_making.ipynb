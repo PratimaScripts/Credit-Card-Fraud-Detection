{
 "cells": [
  {
   "cell_type": "code",
   "execution_count": 133,
   "metadata": {},
   "outputs": [],
   "source": [
    "import json\n",
    "import math\n",
    "import os\n",
    "import sys\n",
    "import warnings\n",
    "\n",
    "import matplotlib.pyplot as plt\n",
    "import numpy as np\n",
    "import pandas as pd\n",
    "import pickle\n",
    "import seaborn as sns\n",
    "import statistics\n",
    "import statsmodels.api as sm\n",
    "\n",
    "warnings.filterwarnings('ignore')"
   ]
  },
  {
   "cell_type": "code",
   "execution_count": 134,
   "metadata": {},
   "outputs": [],
   "source": [
    "from sklearn.preprocessing import StandardScaler\n",
    "from sklearn.impute import SimpleImputer as Imputer\n",
    "from sklearn.pipeline import Pipeline\n",
    "from sklearn.model_selection import train_test_split, GridSearchCV\n",
    "from sklearn.metrics import classification_report, roc_curve, precision_recall_curve, confusion_matrix, plot_confusion_matrix\n",
    "from sklearn.metrics import accuracy_score, log_loss, f1_score\n",
    "from sklearn.metrics import mean_absolute_error, mean_squared_error, r2_score"
   ]
  },
  {
   "cell_type": "code",
   "execution_count": 135,
   "metadata": {},
   "outputs": [],
   "source": [
    "sys.path.append(os.path.join('..', 'src'))"
   ]
  },
  {
   "cell_type": "code",
   "execution_count": 136,
   "metadata": {},
   "outputs": [],
   "source": [
    "import importlib\n",
    "import s05_2_feature_engineering\n",
    "# importlib.reload(model)\n",
    "importlib.reload(s05_2_feature_engineering)\n",
    "from s05_2_feature_engineering import build_polynomials, transform_label, treat_skewness"
   ]
  },
  {
   "cell_type": "markdown",
   "metadata": {},
   "source": [
    "# Data capture"
   ]
  },
  {
   "cell_type": "code",
   "execution_count": 137,
   "metadata": {},
   "outputs": [],
   "source": [
    "inputs = os.path.join('..', 'data', '03_processed')\n",
    "models_reports = os.path.join('..', 'data', '04_models')\n",
    "model_outputs = os.path.join('..', 'data', '05_model_output')\n",
    "reports = os.path.join('..', 'data', '06_reporting')\n",
    "\n",
    "X_train           = pd.read_csv(os.path.join(inputs, 'X_train.csv'), index_col='id')\n",
    "X_test            = pd.read_csv(os.path.join(inputs, 'X_test.csv'), index_col='id')\n",
    "y_pred            = pd.read_csv(os.path.join(inputs, 'y_pred.csv'))\n",
    "y_test            = pd.read_csv(os.path.join(inputs, 'y_test.csv'), index_col='id')"
   ]
  },
  {
   "cell_type": "code",
   "execution_count": 138,
   "metadata": {},
   "outputs": [],
   "source": [
    "def plot_confusion_matrix(arr, file):\n",
    "    arr = np.round(arr, 3)\n",
    "\n",
    "    fig, ax = plt.subplots()\n",
    "    im = ax.imshow(arr, cmap='Blues')\n",
    "\n",
    "    # Loop over data dimensions and create text annotations.\n",
    "    for i in range(len(arr[0])):\n",
    "        for j in range(len(arr[1])):\n",
    "            text = ax.text(j, i, arr[i, j],\n",
    "                           ha=\"center\", va=\"center\", color=\"black\")\n",
    "\n",
    "    ax.set_title(\"Confusion Matrix\")\n",
    "    ax.set_xticks([0,1])\n",
    "    ax.set_yticks([0,1])\n",
    "    ax.set_xlabel('predicted label')\n",
    "    ax.set_ylabel('true label')\n",
    "#     fig.tight_layout()\n",
    "#     plt.show();\n",
    "    plt.savefig(os.path.join(reports,file), bbox_inches = \"tight\");"
   ]
  },
  {
   "cell_type": "code",
   "execution_count": 139,
   "metadata": {},
   "outputs": [
    {
     "data": {
      "image/png": "[encoded data removed]",
      "text/plain": [
       "<Figure size 432x288 with 1 Axes>"
      ]
     },
     "metadata": {
      "needs_background": "light"
     },
     "output_type": "display_data"
    }
   ],
   "source": [
    "y_pred_thres = y_pred > 0.5\n",
    "cm = confusion_matrix(y_test, y_pred_thres, normalize='all')\n",
    "plot_confusion_matrix(cm, 'confusion_baseline.jpg')"
   ]
  },
  {
   "cell_type": "markdown",
   "metadata": {},
   "source": [
    "# Decision making"
   ]
  },
  {
   "cell_type": "markdown",
   "metadata": {},
   "source": [
    "# Sort entries\n",
    "Retrieve IDs e and sort them by probability."
   ]
  },
  {
   "cell_type": "markdown",
   "metadata": {},
   "source": [
    "# compare estimated value with true value for sample"
   ]
  },
  {
   "cell_type": "code",
   "execution_count": 140,
   "metadata": {},
   "outputs": [
    {
     "data": {
      "text/html": [
       "<div>\n",
       "<style scoped>\n",
       "    .dataframe tbody tr th:only-of-type {\n",
       "        vertical-align: middle;\n",
       "    }\n",
       "\n",
       "    .dataframe tbody tr th {\n",
       "        vertical-align: top;\n",
       "    }\n",
       "\n",
       "    .dataframe thead th {\n",
       "        text-align: right;\n",
       "    }\n",
       "</style>\n",
       "<table border=\"1\" class=\"dataframe\">\n",
       "  <thead>\n",
       "    <tr style=\"text-align: right;\">\n",
       "      <th></th>\n",
       "      <th>estimated probability</th>\n",
       "      <th>true value</th>\n",
       "    </tr>\n",
       "    <tr>\n",
       "      <th>id</th>\n",
       "      <th></th>\n",
       "      <th></th>\n",
       "    </tr>\n",
       "  </thead>\n",
       "  <tbody>\n",
       "    <tr>\n",
       "      <th>3390348</th>\n",
       "      <td>0.972517</td>\n",
       "      <td>1.0</td>\n",
       "    </tr>\n",
       "    <tr>\n",
       "      <th>3378721</th>\n",
       "      <td>0.969419</td>\n",
       "      <td>1.0</td>\n",
       "    </tr>\n",
       "    <tr>\n",
       "      <th>3300259</th>\n",
       "      <td>0.965886</td>\n",
       "      <td>0.0</td>\n",
       "    </tr>\n",
       "    <tr>\n",
       "      <th>3494143</th>\n",
       "      <td>0.946366</td>\n",
       "      <td>1.0</td>\n",
       "    </tr>\n",
       "    <tr>\n",
       "      <th>3270767</th>\n",
       "      <td>0.928240</td>\n",
       "      <td>1.0</td>\n",
       "    </tr>\n",
       "    <tr>\n",
       "      <th>...</th>\n",
       "      <td>...</td>\n",
       "      <td>...</td>\n",
       "    </tr>\n",
       "    <tr>\n",
       "      <th>3057490</th>\n",
       "      <td>0.006263</td>\n",
       "      <td>0.0</td>\n",
       "    </tr>\n",
       "    <tr>\n",
       "      <th>3055966</th>\n",
       "      <td>0.006105</td>\n",
       "      <td>0.0</td>\n",
       "    </tr>\n",
       "    <tr>\n",
       "      <th>3375392</th>\n",
       "      <td>0.005985</td>\n",
       "      <td>0.0</td>\n",
       "    </tr>\n",
       "    <tr>\n",
       "      <th>2993601</th>\n",
       "      <td>0.005985</td>\n",
       "      <td>0.0</td>\n",
       "    </tr>\n",
       "    <tr>\n",
       "      <th>3341846</th>\n",
       "      <td>0.005985</td>\n",
       "      <td>0.0</td>\n",
       "    </tr>\n",
       "  </tbody>\n",
       "</table>\n",
       "<p>3000 rows × 2 columns</p>\n",
       "</div>"
      ],
      "text/plain": [
       "         estimated probability  true value\n",
       "id                                        \n",
       "3390348               0.972517         1.0\n",
       "3378721               0.969419         1.0\n",
       "3300259               0.965886         0.0\n",
       "3494143               0.946366         1.0\n",
       "3270767               0.928240         1.0\n",
       "...                        ...         ...\n",
       "3057490               0.006263         0.0\n",
       "3055966               0.006105         0.0\n",
       "3375392               0.005985         0.0\n",
       "2993601               0.005985         0.0\n",
       "3341846               0.005985         0.0\n",
       "\n",
       "[3000 rows x 2 columns]"
      ]
     },
     "execution_count": 140,
     "metadata": {},
     "output_type": "execute_result"
    }
   ],
   "source": [
    "index_name = X_train.index.name\n",
    "# y_pred = y_pred_prob\n",
    "ordered_users = pd.DataFrame(list(zip(X_test.index, y_pred['y'], y_test['y'])), columns = [index_name, 'estimated probability', 'true value']).set_index(index_name)\n",
    "ordered_users.sort_values(by='estimated probability', ascending=False, inplace=True)\n",
    "ordered_users"
   ]
  },
  {
   "cell_type": "markdown",
   "metadata": {},
   "source": [
    "Now let's see the number of observations from testset and how many of them are positive or negative."
   ]
  },
  {
   "cell_type": "code",
   "execution_count": 141,
   "metadata": {},
   "outputs": [
    {
     "name": "stdout",
     "output_type": "stream",
     "text": [
      "Size of test set: 3000\n",
      "number of positive cases: 101 ou 3.37% do total\n",
      "number of negative cases: 2899 ou 96.63% do total\n"
     ]
    }
   ],
   "source": [
    "users_total = len(ordered_users)\n",
    "users_yes = len(ordered_users[ordered_users['true value'] == 1])\n",
    "users_no = users_total - users_yes\n",
    "print('Size of test set:', users_total)\n",
    "print('number of positive cases:', users_yes, 'ou {}% do total'.format(round(users_yes/users_total*100, 2)))\n",
    "print('number of negative cases:', users_no, 'ou {}% do total'.format(round(users_no/users_total*100, 2)))"
   ]
  },
  {
   "cell_type": "markdown",
   "metadata": {},
   "source": [
    "# Análise de thresholds\n",
    "Let's compare the probability thresholds for decision making. Assuming 1 for positive cases, and 0 for negative ones."
   ]
  },
  {
   "cell_type": "markdown",
   "metadata": {},
   "source": [
    "### Precision Recall Curve"
   ]
  },
  {
   "cell_type": "markdown",
   "metadata": {},
   "source": [
    "TP=True Positives, FP=False Positives, TN=True Negatives, and FN=False Negatives:\n",
    "* Precision is given by: $\\frac{TP}{TP+FP}$\n",
    "* Recall (sensitivity) is given by: $\\frac{TP}{TP+FN}$\n",
    "\n",
    "FP are those cases where the model mistakenly classifies negative cases as positive. While recall measures the proportion of correctly classified as positives from the positive population (focus on FN), precision measures the proportion of true positives from the cases classified as positives (focus on FP)\n",
    "\n",
    "There are other metrics for binary classification. For instance, ROC curve (receiver operating characteristic) shows how much of a rise of TPR (True Positive Rate) also increses FPR (False Positive Rate). Despite the usefulness of that graphic, we believe that precision-recall curve is enough."
   ]
  },
  {
   "cell_type": "code",
   "execution_count": 142,
   "metadata": {},
   "outputs": [
    {
     "data": {
      "image/png": "[encoded data removed]",
      "text/plain": [
       "<Figure size 1080x360 with 1 Axes>"
      ]
     },
     "metadata": {
      "needs_background": "light"
     },
     "output_type": "display_data"
    }
   ],
   "source": [
    "fig, ax1 = plt.subplots(1,1,figsize=(15,5))\n",
    "ax1 = sns.distplot( y_pred, hist=True, kde=False, bins=int(180/1), ax=ax1 )\n",
    "ax1.set_title('histogram of probabilities');\n",
    "\n",
    "# save file\n",
    "file = '09hist_prob.jpg'\n",
    "plt.savefig(os.path.join(reports,file), bbox_inches = \"tight\")"
   ]
  },
  {
   "cell_type": "code",
   "execution_count": 143,
   "metadata": {},
   "outputs": [
    {
     "data": {
      "image/png": "[encoded data removed]",
      "text/plain": [
       "<Figure size 432x288 with 1 Axes>"
      ]
     },
     "metadata": {
      "needs_background": "light"
     },
     "output_type": "display_data"
    }
   ],
   "source": [
    "precisions, recalls, thresholds = precision_recall_curve(y_test, y_pred)\n",
    "plt.plot([0, 1], [0, 1], 'k--')\n",
    "plt.plot(recalls, precisions)\n",
    "plt.grid()\n",
    "plt.xlabel('Recall')\n",
    "plt.ylabel('Precision')\n",
    "plt.title('Precision Recall Curve')\n",
    "plt.show()"
   ]
  },
  {
   "cell_type": "markdown",
   "metadata": {},
   "source": [
    "As we can see in this graphic, it is possible to increase recall withouth too much sacrifice in precision until the level of 0.95."
   ]
  },
  {
   "cell_type": "markdown",
   "metadata": {},
   "source": [
    "If we consider a threshold of 50%, we get a precision of 40% and reach 22% of cases of interest."
   ]
  },
  {
   "cell_type": "code",
   "execution_count": 144,
   "metadata": {},
   "outputs": [],
   "source": [
    "def print_thresholds(thres_list, thres=0.5):\n",
    "    thres_index = np.where(thres_list>=thres)[0][0]\n",
    "    print('threshold:', round(thres_list[thres_index],2))\n",
    "    print('precision:', round(precisions[thres_index],2))\n",
    "    print('recall:', round(recalls[thres_index],2))"
   ]
  },
  {
   "cell_type": "code",
   "execution_count": 145,
   "metadata": {},
   "outputs": [
    {
     "name": "stdout",
     "output_type": "stream",
     "text": [
      "threshold: 0.54\n",
      "precision: 0.71\n",
      "recall: 0.25\n"
     ]
    }
   ],
   "source": [
    "print_thresholds(thresholds, thres=0.5)"
   ]
  },
  {
   "cell_type": "markdown",
   "metadata": {},
   "source": [
    "Let's reduce the threshold and see what happens"
   ]
  },
  {
   "cell_type": "markdown",
   "metadata": {},
   "source": [
    "Up until now, it seems that it makes sense to lower the threshold in order to reach a higher recall."
   ]
  },
  {
   "cell_type": "code",
   "execution_count": 146,
   "metadata": {},
   "outputs": [
    {
     "name": "stdout",
     "output_type": "stream",
     "text": [
      "threshold: 0.3\n",
      "precision: 0.56\n",
      "recall: 0.31\n"
     ]
    }
   ],
   "source": [
    "print_thresholds(thresholds, thres=0.3)"
   ]
  },
  {
   "cell_type": "code",
   "execution_count": 147,
   "metadata": {},
   "outputs": [
    {
     "name": "stdout",
     "output_type": "stream",
     "text": [
      "threshold: 0.15\n",
      "precision: 0.42\n",
      "recall: 0.41\n"
     ]
    }
   ],
   "source": [
    "print_thresholds(thresholds, thres=0.15)"
   ]
  },
  {
   "cell_type": "code",
   "execution_count": 148,
   "metadata": {},
   "outputs": [
    {
     "name": "stdout",
     "output_type": "stream",
     "text": [
      "threshold: 0.03\n",
      "precision: 0.09\n",
      "recall: 0.75\n"
     ]
    }
   ],
   "source": [
    "print_thresholds(thresholds, thres=0.03)"
   ]
  },
  {
   "cell_type": "markdown",
   "metadata": {},
   "source": [
    "After reducing excessively the threshold, we might attain to cover all machine failures, but to the cost of a low precision. By assuring that all failures are prevented (no False Negative), we would be investing too much money on False Positives (by fixing machines which have low risk of failing). Depending on the costs, we risk having a lower ROI (Return on Investment)."
   ]
  },
  {
   "cell_type": "markdown",
   "metadata": {},
   "source": [
    "Let's evaluate absolute values"
   ]
  },
  {
   "cell_type": "markdown",
   "metadata": {},
   "source": [
    "### Build list of accumulated values"
   ]
  },
  {
   "cell_type": "code",
   "execution_count": 149,
   "metadata": {},
   "outputs": [],
   "source": [
    "ordered_users['unique_prob'] = ~ordered_users.duplicated(subset = 'estimated probability', keep='last')\n",
    "\n",
    "ordered_users['in_threshold'] = ordered_users[ (ordered_users['unique_prob'] == True) \n",
    "                                              & (ordered_users['estimated probability'].isin(thresholds)) ]['estimated probability']\n",
    "\n",
    "unique_prob = ordered_users['unique_prob'].to_list()\n",
    "in_threshold = ordered_users['in_threshold'].to_list()\n",
    "ordered_users.drop(['in_threshold', 'unique_prob'], axis=1, inplace=True)"
   ]
  },
  {
   "cell_type": "markdown",
   "metadata": {},
   "source": [
    "build list of cumulative values"
   ]
  },
  {
   "cell_type": "code",
   "execution_count": 150,
   "metadata": {},
   "outputs": [
    {
     "data": {
      "text/html": [
       "<div>\n",
       "<style scoped>\n",
       "    .dataframe tbody tr th:only-of-type {\n",
       "        vertical-align: middle;\n",
       "    }\n",
       "\n",
       "    .dataframe tbody tr th {\n",
       "        vertical-align: top;\n",
       "    }\n",
       "\n",
       "    .dataframe thead th {\n",
       "        text-align: right;\n",
       "    }\n",
       "</style>\n",
       "<table border=\"1\" class=\"dataframe\">\n",
       "  <thead>\n",
       "    <tr style=\"text-align: right;\">\n",
       "      <th></th>\n",
       "      <th>estimated probability</th>\n",
       "      <th>true value</th>\n",
       "    </tr>\n",
       "    <tr>\n",
       "      <th>id</th>\n",
       "      <th></th>\n",
       "      <th></th>\n",
       "    </tr>\n",
       "  </thead>\n",
       "  <tbody>\n",
       "    <tr>\n",
       "      <th>3390348</th>\n",
       "      <td>0.972517</td>\n",
       "      <td>1.0</td>\n",
       "    </tr>\n",
       "    <tr>\n",
       "      <th>3378721</th>\n",
       "      <td>0.969419</td>\n",
       "      <td>1.0</td>\n",
       "    </tr>\n",
       "    <tr>\n",
       "      <th>3300259</th>\n",
       "      <td>0.965886</td>\n",
       "      <td>0.0</td>\n",
       "    </tr>\n",
       "    <tr>\n",
       "      <th>3494143</th>\n",
       "      <td>0.946366</td>\n",
       "      <td>1.0</td>\n",
       "    </tr>\n",
       "    <tr>\n",
       "      <th>3270767</th>\n",
       "      <td>0.928240</td>\n",
       "      <td>1.0</td>\n",
       "    </tr>\n",
       "    <tr>\n",
       "      <th>...</th>\n",
       "      <td>...</td>\n",
       "      <td>...</td>\n",
       "    </tr>\n",
       "    <tr>\n",
       "      <th>3057490</th>\n",
       "      <td>0.006263</td>\n",
       "      <td>0.0</td>\n",
       "    </tr>\n",
       "    <tr>\n",
       "      <th>3055966</th>\n",
       "      <td>0.006105</td>\n",
       "      <td>0.0</td>\n",
       "    </tr>\n",
       "    <tr>\n",
       "      <th>3375392</th>\n",
       "      <td>0.005985</td>\n",
       "      <td>0.0</td>\n",
       "    </tr>\n",
       "    <tr>\n",
       "      <th>2993601</th>\n",
       "      <td>0.005985</td>\n",
       "      <td>0.0</td>\n",
       "    </tr>\n",
       "    <tr>\n",
       "      <th>3341846</th>\n",
       "      <td>0.005985</td>\n",
       "      <td>0.0</td>\n",
       "    </tr>\n",
       "  </tbody>\n",
       "</table>\n",
       "<p>3000 rows × 2 columns</p>\n",
       "</div>"
      ],
      "text/plain": [
       "         estimated probability  true value\n",
       "id                                        \n",
       "3390348               0.972517         1.0\n",
       "3378721               0.969419         1.0\n",
       "3300259               0.965886         0.0\n",
       "3494143               0.946366         1.0\n",
       "3270767               0.928240         1.0\n",
       "...                        ...         ...\n",
       "3057490               0.006263         0.0\n",
       "3055966               0.006105         0.0\n",
       "3375392               0.005985         0.0\n",
       "2993601               0.005985         0.0\n",
       "3341846               0.005985         0.0\n",
       "\n",
       "[3000 rows x 2 columns]"
      ]
     },
     "execution_count": 150,
     "metadata": {},
     "output_type": "execute_result"
    }
   ],
   "source": [
    "ordered_users"
   ]
  },
  {
   "cell_type": "code",
   "execution_count": 151,
   "metadata": {},
   "outputs": [],
   "source": [
    "cum_positive = ordered_users['true value'].cumsum().to_list()\n",
    "\n",
    "cum_positive_filtered = []\n",
    "cum_target_users = []\n",
    "for i,val in enumerate(in_threshold):\n",
    "    if not math.isnan(val):\n",
    "        cum_value_pos = cum_positive[i]\n",
    "        cum_positive_filtered.append(cum_value_pos)\n",
    "        cum_target_users.append(i)\n",
    "        \n",
    "cum_positive_filtered = list(reversed(cum_positive_filtered))\n",
    "cum_target_users = list(reversed(cum_target_users))"
   ]
  },
  {
   "cell_type": "markdown",
   "metadata": {},
   "source": [
    "## Compare absolute numbers\n",
    "Let's compare absolute numbers to see the real effect "
   ]
  },
  {
   "cell_type": "code",
   "execution_count": 152,
   "metadata": {},
   "outputs": [],
   "source": [
    "cum_positive_filtered.append(cum_positive_filtered[-1])\n",
    "cum_target_users.append(cum_target_users[-1])"
   ]
  },
  {
   "cell_type": "code",
   "execution_count": 153,
   "metadata": {},
   "outputs": [
    {
     "data": {
      "image/png": "[encoded data removed]",
      "text/plain": [
       "<Figure size 432x288 with 1 Axes>"
      ]
     },
     "metadata": {
      "needs_background": "light"
     },
     "output_type": "display_data"
    }
   ],
   "source": [
    "plt.plot(cum_target_users, recalls)\n",
    "plt.plot(cum_target_users, precisions)\n",
    "plt.plot([0, max(cum_target_users)], [0, 1], 'k--')\n",
    "plt.grid()\n",
    "plt.legend(labels  = ['Recall', 'Precision'])\n",
    "plt.xlabel('Covered cases')\n",
    "plt.ylabel('Score')\n",
    "plt.title('Score by number of covered cases')\n",
    "plt.show()"
   ]
  },
  {
   "cell_type": "markdown",
   "metadata": {},
   "source": [
    "<!-- ### Compara resultados positivos com números absolutos em cada threshold\n",
    "Note que essa curva é idêntica ao recall, mas é agora em número absolutos em vez de proporção. -->"
   ]
  },
  {
   "cell_type": "code",
   "execution_count": 154,
   "metadata": {
    "scrolled": true
   },
   "outputs": [
    {
     "data": {
      "image/png": "[encoded data removed]",
      "text/plain": [
       "<Figure size 432x288 with 1 Axes>"
      ]
     },
     "metadata": {
      "needs_background": "light"
     },
     "output_type": "display_data"
    }
   ],
   "source": [
    "plt.plot(cum_target_users, cum_positive_filtered)\n",
    "plt.grid()\n",
    "plt.xlabel('Invested cases')\n",
    "plt.ylabel('Positive results')\n",
    "plt.title('Positive results by number of invested cases')\n",
    "plt.show()"
   ]
  },
  {
   "cell_type": "markdown",
   "metadata": {},
   "source": [
    "# change threshold for comparison"
   ]
  },
  {
   "cell_type": "code",
   "execution_count": 155,
   "metadata": {},
   "outputs": [
    {
     "data": {
      "image/png": "[encoded data removed]",
      "text/plain": [
       "<Figure size 432x288 with 1 Axes>"
      ]
     },
     "metadata": {
      "needs_background": "light"
     },
     "output_type": "display_data"
    }
   ],
   "source": [
    "y_pred_thres = y_pred > 0.3\n",
    "cm = confusion_matrix(y_test, y_pred_thres, normalize='all')\n",
    "plot_confusion_matrix(cm, 'confusion_03.jpg')"
   ]
  },
  {
   "cell_type": "code",
   "execution_count": 156,
   "metadata": {},
   "outputs": [
    {
     "data": {
      "image/png": "[encoded data removed]",
      "text/plain": [
       "<Figure size 432x288 with 1 Axes>"
      ]
     },
     "metadata": {
      "needs_background": "light"
     },
     "output_type": "display_data"
    }
   ],
   "source": [
    "y_pred_thres = y_pred > 0.15\n",
    "cm = confusion_matrix(y_test, y_pred_thres, normalize='all')\n",
    "plot_confusion_matrix(cm, 'confusion_015.jpg')"
   ]
  },
  {
   "cell_type": "code",
   "execution_count": 157,
   "metadata": {},
   "outputs": [
    {
     "data": {
      "image/png": "[encoded data removed]",
      "text/plain": [
       "<Figure size 432x288 with 1 Axes>"
      ]
     },
     "metadata": {
      "needs_background": "light"
     },
     "output_type": "display_data"
    }
   ],
   "source": [
    "y_pred_thres = y_pred > 0.03\n",
    "cm = confusion_matrix(y_test, y_pred_thres, normalize='all')\n",
    "plot_confusion_matrix(cm, 'confusion_003.jpg')"
   ]
  },
  {
   "cell_type": "raw",
   "metadata": {},
   "source": [
    "# Final thoughts"
   ]
  },
  {
   "cell_type": "raw",
   "metadata": {},
   "source": [
    "If we invested in only 8000 of users of higher probability to answer to campaign, we would achieve 3000 positive cases. But if we tried to increase that number to 4000 (1/3 de aumento!), we would need to double the investment, in other words, surpass 16000!\n",
    "\n",
    "Therefore, I would suggest a threshold close to 0.1 (10%). With that, we get many true positives while avoiding a high cost that could reduce ROI, given the consideration that the marginal cost would be low.\n",
    "\n",
    "Beyond that, the teams which are interested in evaluating the most relevant variables can consult feature importances results. "
   ]
  },
  {
   "cell_type": "raw",
   "metadata": {},
   "source": [
    "# Business metrics and impact (ROI, loss reduction)\n",
    "The business metric we shall use depends on the business case, stakeholders, and the company's practices. Here, we must establish what would be the cost of False Positives and False Negatives. \n",
    "* A False Positive means that we classified a normal transaction as a positive case. That mistake can be easily fixed, but it might annoy users and incur opportunity costs. So we need to evaluate the cost here. The fastest way to infer that cost is by considering the median interest paid by normal users: 885\n",
    "* A False Negative means that we missed a default beforehand. It might bring huge losses for the company. A simple approach would be to consider the median lending per user: 3434."
   ]
  },
  {
   "cell_type": "code",
   "execution_count": null,
   "metadata": {},
   "outputs": [],
   "source": []
  }
 ],
 "metadata": {
  "kernelspec": {
   "display_name": "Python 3",
   "language": "python",
   "name": "python3"
  },
  "language_info": {
   "codemirror_mode": {
    "name": "ipython",
    "version": 3
   },
   "file_extension": ".py",
   "mimetype": "text/x-python",
   "name": "python",
   "nbconvert_exporter": "python",
   "pygments_lexer": "ipython3",
   "version": "3.7.5"
  }
 },
 "nbformat": 4,
 "nbformat_minor": 4
}
