{
 "cells": [
  {
   "cell_type": "code",
   "execution_count": 1,
   "metadata": {},
   "outputs": [],
   "source": [
    "import json\n",
    "import os\n",
    "import sys\n",
    "import warnings\n",
    "\n",
    "import numpy as np\n",
    "import pandas as pd\n",
    "from datetime import datetime\n",
    "from pprint import pprint\n",
    "from sklearn.preprocessing import StandardScaler\n",
    "from sklearn.impute import SimpleImputer as Imputer\n",
    "from sklearn.pipeline import Pipeline\n",
    "from sklearn.model_selection import GridSearchCV\n",
    "\n",
    "warnings.filterwarnings('ignore')"
   ]
  },
  {
   "cell_type": "code",
   "execution_count": 2,
   "metadata": {},
   "outputs": [],
   "source": [
    "sys.path.append(os.path.join('..', 'src'))"
   ]
  },
  {
   "cell_type": "code",
   "execution_count": 3,
   "metadata": {},
   "outputs": [],
   "source": [
    "import importlib\n",
    "import model\n",
    "importlib.reload(model)\n",
    "\n",
    "from model import get_model_params, timer, measure_prediction_time, apply_ml_model, save_model_parameters, save_model_metrics"
   ]
  },
  {
   "cell_type": "markdown",
   "metadata": {},
   "source": [
    "# set model parameters and capture data"
   ]
  },
  {
   "cell_type": "code",
   "execution_count": 4,
   "metadata": {},
   "outputs": [
    {
     "name": "stdout",
     "output_type": "stream",
     "text": [
      "(7000, 46)\n",
      "(7000, 158)\n",
      "(7000, 1)\n"
     ]
    }
   ],
   "source": [
    "# scoring = 'neg_mean_squared_error'\n",
    "scoring = 'f1'\n",
    "\n",
    "inputs = os.path.join('..', 'data', '03_processed')\n",
    "models_reports = os.path.join('..', 'data', '04_models')\n",
    "model_outputs = os.path.join('..', 'data', '05_model_output')\n",
    "reports = os.path.join('..', 'data', '06_reporting')\n",
    "\n",
    "X_train            = pd.read_csv(os.path.join(inputs, 'X_train.csv'), index_col='id')\n",
    "X_train_onehot         = pd.read_csv(os.path.join(inputs, 'X_train_onehot.csv'), index_col='id')\n",
    "y_train            = pd.read_csv(os.path.join(inputs, 'y_train.csv'), index_col='id')\n",
    "\n",
    "data_list = [X_train, X_train_onehot, y_train]\n",
    "\n",
    "for df in data_list:\n",
    "    print(df.shape)"
   ]
  },
  {
   "cell_type": "code",
   "execution_count": 5,
   "metadata": {
    "scrolled": true
   },
   "outputs": [
    {
     "data": {
      "text/html": [
       "<div>\n",
       "<style scoped>\n",
       "    .dataframe tbody tr th:only-of-type {\n",
       "        vertical-align: middle;\n",
       "    }\n",
       "\n",
       "    .dataframe tbody tr th {\n",
       "        vertical-align: top;\n",
       "    }\n",
       "\n",
       "    .dataframe thead th {\n",
       "        text-align: right;\n",
       "    }\n",
       "</style>\n",
       "<table border=\"1\" class=\"dataframe\">\n",
       "  <thead>\n",
       "    <tr style=\"text-align: right;\">\n",
       "      <th></th>\n",
       "      <th>addr1</th>\n",
       "      <th>addr2</th>\n",
       "      <th>c1</th>\n",
       "      <th>c10</th>\n",
       "      <th>c11</th>\n",
       "      <th>c12</th>\n",
       "      <th>c13</th>\n",
       "      <th>c14</th>\n",
       "      <th>c2</th>\n",
       "      <th>c3</th>\n",
       "      <th>...</th>\n",
       "      <th>m1</th>\n",
       "      <th>m2</th>\n",
       "      <th>m3</th>\n",
       "      <th>m5</th>\n",
       "      <th>m6</th>\n",
       "      <th>m7</th>\n",
       "      <th>m8</th>\n",
       "      <th>m9</th>\n",
       "      <th>transactionamt</th>\n",
       "      <th>transactiondt</th>\n",
       "    </tr>\n",
       "    <tr>\n",
       "      <th>id</th>\n",
       "      <th></th>\n",
       "      <th></th>\n",
       "      <th></th>\n",
       "      <th></th>\n",
       "      <th></th>\n",
       "      <th></th>\n",
       "      <th></th>\n",
       "      <th></th>\n",
       "      <th></th>\n",
       "      <th></th>\n",
       "      <th></th>\n",
       "      <th></th>\n",
       "      <th></th>\n",
       "      <th></th>\n",
       "      <th></th>\n",
       "      <th></th>\n",
       "      <th></th>\n",
       "      <th></th>\n",
       "      <th></th>\n",
       "      <th></th>\n",
       "      <th></th>\n",
       "    </tr>\n",
       "  </thead>\n",
       "  <tbody>\n",
       "    <tr>\n",
       "      <th>3486774</th>\n",
       "      <td>270.239972</td>\n",
       "      <td>86.995213</td>\n",
       "      <td>1.0</td>\n",
       "      <td>1.0</td>\n",
       "      <td>1.0</td>\n",
       "      <td>1.0</td>\n",
       "      <td>1.0</td>\n",
       "      <td>1.0</td>\n",
       "      <td>1.0</td>\n",
       "      <td>0.0</td>\n",
       "      <td>...</td>\n",
       "      <td>0.999962</td>\n",
       "      <td>0.900851</td>\n",
       "      <td>0.765759</td>\n",
       "      <td>0.520700</td>\n",
       "      <td>0.497537</td>\n",
       "      <td>0.124312</td>\n",
       "      <td>0.507226</td>\n",
       "      <td>0.965394</td>\n",
       "      <td>38.056</td>\n",
       "      <td>13107389.0</td>\n",
       "    </tr>\n",
       "    <tr>\n",
       "      <th>3062695</th>\n",
       "      <td>194.000000</td>\n",
       "      <td>87.000000</td>\n",
       "      <td>1.0</td>\n",
       "      <td>1.0</td>\n",
       "      <td>1.0</td>\n",
       "      <td>0.0</td>\n",
       "      <td>0.0</td>\n",
       "      <td>0.0</td>\n",
       "      <td>1.0</td>\n",
       "      <td>0.0</td>\n",
       "      <td>...</td>\n",
       "      <td>0.999808</td>\n",
       "      <td>0.918390</td>\n",
       "      <td>0.835247</td>\n",
       "      <td>0.491038</td>\n",
       "      <td>0.463338</td>\n",
       "      <td>0.110642</td>\n",
       "      <td>0.328999</td>\n",
       "      <td>0.869981</td>\n",
       "      <td>150.000</td>\n",
       "      <td>1650884.0</td>\n",
       "    </tr>\n",
       "    <tr>\n",
       "      <th>3273443</th>\n",
       "      <td>502.000000</td>\n",
       "      <td>87.000000</td>\n",
       "      <td>2.0</td>\n",
       "      <td>0.0</td>\n",
       "      <td>1.0</td>\n",
       "      <td>0.0</td>\n",
       "      <td>1.0</td>\n",
       "      <td>1.0</td>\n",
       "      <td>1.0</td>\n",
       "      <td>0.0</td>\n",
       "      <td>...</td>\n",
       "      <td>1.000000</td>\n",
       "      <td>1.000000</td>\n",
       "      <td>1.000000</td>\n",
       "      <td>0.000000</td>\n",
       "      <td>0.342737</td>\n",
       "      <td>0.000000</td>\n",
       "      <td>0.000000</td>\n",
       "      <td>1.000000</td>\n",
       "      <td>56.500</td>\n",
       "      <td>7048761.0</td>\n",
       "    </tr>\n",
       "    <tr>\n",
       "      <th>3384445</th>\n",
       "      <td>300.433901</td>\n",
       "      <td>86.977691</td>\n",
       "      <td>1.0</td>\n",
       "      <td>1.0</td>\n",
       "      <td>1.0</td>\n",
       "      <td>1.0</td>\n",
       "      <td>1.0</td>\n",
       "      <td>1.0</td>\n",
       "      <td>1.0</td>\n",
       "      <td>0.0</td>\n",
       "      <td>...</td>\n",
       "      <td>0.999945</td>\n",
       "      <td>0.833067</td>\n",
       "      <td>0.773382</td>\n",
       "      <td>0.533395</td>\n",
       "      <td>0.454835</td>\n",
       "      <td>0.116979</td>\n",
       "      <td>0.444016</td>\n",
       "      <td>0.857350</td>\n",
       "      <td>8.459</td>\n",
       "      <td>10011292.0</td>\n",
       "    </tr>\n",
       "    <tr>\n",
       "      <th>3489059</th>\n",
       "      <td>315.000000</td>\n",
       "      <td>87.000000</td>\n",
       "      <td>4.0</td>\n",
       "      <td>0.0</td>\n",
       "      <td>3.0</td>\n",
       "      <td>0.0</td>\n",
       "      <td>8.0</td>\n",
       "      <td>4.0</td>\n",
       "      <td>4.0</td>\n",
       "      <td>0.0</td>\n",
       "      <td>...</td>\n",
       "      <td>1.000000</td>\n",
       "      <td>0.000000</td>\n",
       "      <td>0.000000</td>\n",
       "      <td>0.345176</td>\n",
       "      <td>1.000000</td>\n",
       "      <td>0.000000</td>\n",
       "      <td>0.000000</td>\n",
       "      <td>0.000000</td>\n",
       "      <td>77.950</td>\n",
       "      <td>13159069.0</td>\n",
       "    </tr>\n",
       "  </tbody>\n",
       "</table>\n",
       "<p>5 rows × 158 columns</p>\n",
       "</div>"
      ],
      "text/plain": [
       "              addr1      addr2   c1  c10  c11  c12  c13  c14   c2   c3  ...  \\\n",
       "id                                                                      ...   \n",
       "3486774  270.239972  86.995213  1.0  1.0  1.0  1.0  1.0  1.0  1.0  0.0  ...   \n",
       "3062695  194.000000  87.000000  1.0  1.0  1.0  0.0  0.0  0.0  1.0  0.0  ...   \n",
       "3273443  502.000000  87.000000  2.0  0.0  1.0  0.0  1.0  1.0  1.0  0.0  ...   \n",
       "3384445  300.433901  86.977691  1.0  1.0  1.0  1.0  1.0  1.0  1.0  0.0  ...   \n",
       "3489059  315.000000  87.000000  4.0  0.0  3.0  0.0  8.0  4.0  4.0  0.0  ...   \n",
       "\n",
       "               m1        m2        m3        m5        m6        m7        m8  \\\n",
       "id                                                                              \n",
       "3486774  0.999962  0.900851  0.765759  0.520700  0.497537  0.124312  0.507226   \n",
       "3062695  0.999808  0.918390  0.835247  0.491038  0.463338  0.110642  0.328999   \n",
       "3273443  1.000000  1.000000  1.000000  0.000000  0.342737  0.000000  0.000000   \n",
       "3384445  0.999945  0.833067  0.773382  0.533395  0.454835  0.116979  0.444016   \n",
       "3489059  1.000000  0.000000  0.000000  0.345176  1.000000  0.000000  0.000000   \n",
       "\n",
       "               m9  transactionamt  transactiondt  \n",
       "id                                                \n",
       "3486774  0.965394          38.056     13107389.0  \n",
       "3062695  0.869981         150.000      1650884.0  \n",
       "3273443  1.000000          56.500      7048761.0  \n",
       "3384445  0.857350           8.459     10011292.0  \n",
       "3489059  0.000000          77.950     13159069.0  \n",
       "\n",
       "[5 rows x 158 columns]"
      ]
     },
     "execution_count": 5,
     "metadata": {},
     "output_type": "execute_result"
    }
   ],
   "source": [
    "X_train_onehot.head()"
   ]
  },
  {
   "cell_type": "markdown",
   "metadata": {},
   "source": [
    "# Machine Learning"
   ]
  },
  {
   "cell_type": "markdown",
   "metadata": {},
   "source": [
    "convergence warning: https://stackoverflow.com/questions/20681864/lasso-on-sklearn-does-not-converge"
   ]
  },
  {
   "cell_type": "code",
   "execution_count": 6,
   "metadata": {},
   "outputs": [],
   "source": [
    "from sklearn.linear_model import ElasticNet\n",
    "from sklearn.linear_model import LogisticRegression"
   ]
  },
  {
   "cell_type": "code",
   "execution_count": 7,
   "metadata": {},
   "outputs": [],
   "source": [
    "ml_dict = {}\n",
    "\n",
    "# Specify the hyperparameter space\n",
    "# if target_type == 'regression':\n",
    "#     parameters = {\n",
    "#     'model__alpha': np.linspace(0.2, 1, 5), \n",
    "#     'model__l1_ratio': np.linspace(0, 1, 5),\n",
    "#     'model__random_state':[42]\n",
    "#     }\n",
    "#     ml_model = ElasticNet()\n",
    "#     # set tol, default is 1e-4\n",
    "#     do_transform_label = 'log'\n",
    "# elif target_type == 'binary':\n",
    "c_space = np.logspace(-5, 1, 5)\n",
    "parameters = {\n",
    "'model__C': c_space, \n",
    "'model__penalty': ['l2'],\n",
    "'model__random_state':[42]\n",
    "}\n",
    "ml_model = LogisticRegression()\n",
    "do_transform_label = None\n",
    "\n",
    "# key = 'standard'"
   ]
  },
  {
   "cell_type": "markdown",
   "metadata": {},
   "source": [
    "## test with different preprocessing steps\n",
    "There are 2 different X_sets: On X_train_onehot, I applied one-hot encoding, while on X_train I applied Ordinal Encoding. The former is aimed at linear regression models, and the later is generally used for tree models.\n",
    "\n",
    "On 'column' parameter, I am able to choose column groups. For instance, I might exclude collinear variables obtained from the VIF function applied on notebook 5. That is useful for linear regression models."
   ]
  },
  {
   "cell_type": "markdown",
   "metadata": {},
   "source": [
    "```python\n",
    "treat_collinearity = False, do_build_polynomals=False, do_treat_skewness=False\n",
    "```"
   ]
  },
  {
   "cell_type": "code",
   "execution_count": 8,
   "metadata": {},
   "outputs": [
    {
     "name": "stdout",
     "output_type": "stream",
     "text": [
      "test type: False\n",
      "{'reg': {'best_params': {'model__C': 10.0,\n",
      "                         'model__penalty': 'l2',\n",
      "                         'model__random_state': 42},\n",
      "         'best_score': 0.12536338274396502,\n",
      "         'prediction_time': 0.0003,\n",
      "         'train_time': 6.464915}}\n"
     ]
    }
   ],
   "source": [
    "model_type = 'reg'\n",
    "ml_dict[model_type] = {}\n",
    "columns = X_train_onehot.columns\n",
    "\n",
    "clf, ml_dict[model_type]['train_time'], ml_dict[model_type]['prediction_time'] = apply_ml_model(\n",
    "    X_train_onehot, y_train, columns, ml_model, parameters, scoring,\n",
    "    do_build_polynomals=False, \n",
    "    do_treat_skewness=False,\n",
    "    imputation=Imputer(strategy='median'), scaler=StandardScaler(),\n",
    "    )\n",
    "ml_dict[model_type]['best_params'], ml_dict[model_type]['best_score']  = get_model_params(clf, scoring)\n",
    "pprint(ml_dict)\n",
    "\n",
    "save_model_parameters(models_reports, model_type, clf)\n",
    "save_model_metrics(model_outputs, model_type, ml_dict)"
   ]
  },
  {
   "cell_type": "markdown",
   "metadata": {},
   "source": [
    "```python\n",
    "treat_collinearity = True, do_build_polynomals=False, do_treat_skewness=False,\n",
    "```"
   ]
  },
  {
   "cell_type": "code",
   "execution_count": 9,
   "metadata": {},
   "outputs": [
    {
     "name": "stdout",
     "output_type": "stream",
     "text": [
      "test type: False\n",
      "{'reg': {'best_params': {'model__C': 10.0,\n",
      "                         'model__penalty': 'l2',\n",
      "                         'model__random_state': 42},\n",
      "         'best_score': 0.12536338274396502,\n",
      "         'prediction_time': 0.0003,\n",
      "         'train_time': 6.464915},\n",
      " 'reg_nocol': {'best_params': {'model__C': 10.0,\n",
      "                               'model__penalty': 'l2',\n",
      "                               'model__random_state': 42},\n",
      "               'best_score': 0.12536338274396502,\n",
      "               'prediction_time': 0.0003999,\n",
      "               'train_time': 5.743999}}\n"
     ]
    }
   ],
   "source": [
    "model_type = 'reg_nocol'\n",
    "ml_dict[model_type] = {}\n",
    "\n",
    "# columns_nocol = dfs_dict['X_train_oh_nocol'].columns.to_list()\n",
    "\n",
    "clf, ml_dict[model_type]['train_time'], ml_dict[model_type]['prediction_time'] = apply_ml_model(\n",
    "    X_train_onehot, y_train, columns, ml_model, parameters, scoring,\n",
    "    do_build_polynomals=False, \n",
    "    do_treat_skewness=False,\n",
    "    imputation=Imputer(strategy='median'), scaler=StandardScaler(),\n",
    "    )\n",
    "ml_dict[model_type]['best_params'], ml_dict[model_type]['best_score']  = get_model_params(clf, scoring)\n",
    "pprint(ml_dict)\n",
    "\n",
    "save_model_parameters(models_reports, model_type, clf)\n",
    "save_model_metrics(model_outputs, model_type, ml_dict)"
   ]
  },
  {
   "cell_type": "markdown",
   "metadata": {},
   "source": [
    "I might use the alternative encoding just to demonstrate the impact on the score."
   ]
  }
 ],
 "metadata": {
  "kernelspec": {
   "display_name": "Python 3",
   "language": "python",
   "name": "python3"
  },
  "language_info": {
   "codemirror_mode": {
    "name": "ipython",
    "version": 3
   },
   "file_extension": ".py",
   "mimetype": "text/x-python",
   "name": "python",
   "nbconvert_exporter": "python",
   "pygments_lexer": "ipython3",
   "version": "3.7.5"
  }
 },
 "nbformat": 4,
 "nbformat_minor": 4
}
